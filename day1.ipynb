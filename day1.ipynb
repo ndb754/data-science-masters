{
 "cells": [
  {
   "cell_type": "code",
   "execution_count": 2,
   "id": "379f1330-9b43-4cf8-8ac2-e1e681a10876",
   "metadata": {},
   "outputs": [],
   "source": [
    "a=10"
   ]
  },
  {
   "cell_type": "code",
   "execution_count": 3,
   "id": "f14f5435-8737-45f0-b27a-9580c96f57e4",
   "metadata": {},
   "outputs": [
    {
     "name": "stdout",
     "output_type": "stream",
     "text": [
      "10\n"
     ]
    }
   ],
   "source": [
    "print(a)"
   ]
  },
  {
   "cell_type": "code",
   "execution_count": 4,
   "id": "4a7dded0-16db-4796-9143-98fa3ea73260",
   "metadata": {},
   "outputs": [
    {
     "data": {
      "text/plain": [
       "10"
      ]
     },
     "execution_count": 4,
     "metadata": {},
     "output_type": "execute_result"
    }
   ],
   "source": [
    "a"
   ]
  },
  {
   "cell_type": "code",
   "execution_count": 9,
   "id": "0ddf043b-f6d1-409b-8d6c-e4ac44370b84",
   "metadata": {
    "tags": []
   },
   "outputs": [],
   "source": [
    "# for single line comments or\n",
    "## for single line comments\n",
    "a=10"
   ]
  },
  {
   "cell_type": "code",
   "execution_count": 6,
   "id": "cedd89d8-5d46-4c51-81f1-d1e9c10d2311",
   "metadata": {},
   "outputs": [
    {
     "data": {
      "text/plain": [
       "10"
      ]
     },
     "execution_count": 6,
     "metadata": {},
     "output_type": "execute_result"
    }
   ],
   "source": [
    "a"
   ]
  },
  {
   "cell_type": "code",
   "execution_count": 8,
   "id": "06402b9d-c346-4c03-b436-df7a7694b84f",
   "metadata": {},
   "outputs": [
    {
     "data": {
      "text/plain": [
       "10"
      ]
     },
     "execution_count": 8,
     "metadata": {},
     "output_type": "execute_result"
    }
   ],
   "source": [
    "\"\"\" for multiline comments\n",
    "such as these  more than one line\n",
    "hello this is example of python\"\"\"\n",
    "a"
   ]
  },
  {
   "cell_type": "code",
   "execution_count": 11,
   "id": "bbaf8c64-c1b1-4b61-978b-77682f70a1f8",
   "metadata": {},
   "outputs": [],
   "source": [
    "# now using markdown instead of code for headlines"
   ]
  },
  {
   "cell_type": "markdown",
   "id": "5d1da46c-0b11-4c46-b1fa-871b19009e30",
   "metadata": {},
   "source": [
    "# hello user\n",
    "## hello user 1\n",
    "## hello user 2\n",
    "1. hello guys how are you"
   ]
  },
  {
   "cell_type": "markdown",
   "id": "28c5eb2c-6318-4bef-81c3-ca35a50f70eb",
   "metadata": {},
   "source": [
    "## Numbers\n"
   ]
  },
  {
   "cell_type": "code",
   "execution_count": 1,
   "id": "5579e01f-7917-4566-b796-35ed8392c706",
   "metadata": {},
   "outputs": [
    {
     "data": {
      "text/plain": [
       "4"
      ]
     },
     "execution_count": 1,
     "metadata": {},
     "output_type": "execute_result"
    }
   ],
   "source": [
    "1+3"
   ]
  },
  {
   "cell_type": "code",
   "execution_count": 2,
   "id": "f2f9e3b4-5753-4670-9be2-2de73c5506cd",
   "metadata": {},
   "outputs": [
    {
     "name": "stdout",
     "output_type": "stream",
     "text": [
      "4\n"
     ]
    }
   ],
   "source": [
    "print(1+3)\n"
   ]
  },
  {
   "cell_type": "code",
   "execution_count": 3,
   "id": "87b0c237-098d-479c-bbf3-690f52eaa19c",
   "metadata": {},
   "outputs": [
    {
     "data": {
      "text/plain": [
       "5"
      ]
     },
     "execution_count": 3,
     "metadata": {},
     "output_type": "execute_result"
    }
   ],
   "source": [
    "a=5\n",
    "a"
   ]
  },
  {
   "cell_type": "code",
   "execution_count": 4,
   "id": "76a80427-a352-4896-b928-fd3d5f1ef5b7",
   "metadata": {},
   "outputs": [
    {
     "name": "stdout",
     "output_type": "stream",
     "text": [
      "5\n"
     ]
    }
   ],
   "source": [
    "print(a)"
   ]
  },
  {
   "cell_type": "code",
   "execution_count": 5,
   "id": "9f015187-80db-489e-b5f3-ccf3ec8c5674",
   "metadata": {},
   "outputs": [
    {
     "ename": "SyntaxError",
     "evalue": "unterminated string literal (detected at line 1) (3381189967.py, line 1)",
     "output_type": "error",
     "traceback": [
      "\u001b[0;36m  Cell \u001b[0;32mIn[5], line 1\u001b[0;36m\u001b[0m\n\u001b[0;31m    print(\"hello user\u001b[0m\n\u001b[0m          ^\u001b[0m\n\u001b[0;31mSyntaxError\u001b[0m\u001b[0;31m:\u001b[0m unterminated string literal (detected at line 1)\n"
     ]
    }
   ],
   "source": [
    "print(\"hello user \n",
    "      my name is nikhil\")\n",
    "      "
   ]
  },
  {
   "cell_type": "code",
   "execution_count": 6,
   "id": "df627f62-2b5c-405a-9779-bb93d8115e86",
   "metadata": {},
   "outputs": [
    {
     "name": "stdout",
     "output_type": "stream",
     "text": [
      "hello user \n",
      " my mame is nikhil\n"
     ]
    }
   ],
   "source": [
    "print(\"hello user \\n my mame is nikhil\")\n"
   ]
  },
  {
   "cell_type": "code",
   "execution_count": 1,
   "id": "9f194d2f-f215-4c15-b41c-b63401bf43cb",
   "metadata": {},
   "outputs": [],
   "source": [
    "# it should be in same line if strings used..for output in next line use \\n\n"
   ]
  },
  {
   "cell_type": "markdown",
   "id": "9c01e216-78e9-49be-a039-78479992fa7e",
   "metadata": {},
   "source": [
    "# variable declaration"
   ]
  },
  {
   "cell_type": "code",
   "execution_count": 2,
   "id": "dc0d4f76-4e70-4cec-8dea-556fae2c24d7",
   "metadata": {},
   "outputs": [],
   "source": [
    "name=\"nikhil\"\n",
    "profession=\"student\""
   ]
  },
  {
   "cell_type": "code",
   "execution_count": 3,
   "id": "43ad436b-7c1a-4aa8-8f5e-aea9222e613b",
   "metadata": {},
   "outputs": [
    {
     "name": "stdout",
     "output_type": "stream",
     "text": [
      "nikhil\n"
     ]
    }
   ],
   "source": [
    "print(name)"
   ]
  },
  {
   "cell_type": "code",
   "execution_count": 4,
   "id": "61560859-7083-4612-b036-34409857ae08",
   "metadata": {},
   "outputs": [],
   "source": [
    "name=\"smit\""
   ]
  },
  {
   "cell_type": "code",
   "execution_count": 5,
   "id": "72ae5885-2571-4237-ab5e-c76755ba1cc8",
   "metadata": {},
   "outputs": [
    {
     "name": "stdout",
     "output_type": "stream",
     "text": [
      "smit\n"
     ]
    }
   ],
   "source": [
    "print(name)"
   ]
  },
  {
   "cell_type": "code",
   "execution_count": 6,
   "id": "9d0aa013-8551-4ef0-98fb-48a1c2c5911c",
   "metadata": {},
   "outputs": [
    {
     "name": "stdout",
     "output_type": "stream",
     "text": [
      "20\n"
     ]
    }
   ],
   "source": [
    "number=10\n",
    "number=20\n",
    "print(number)"
   ]
  },
  {
   "cell_type": "code",
   "execution_count": 7,
   "id": "35302ccd-a36b-41d3-adcf-808603c76430",
   "metadata": {},
   "outputs": [],
   "source": [
    "#values overridden"
   ]
  },
  {
   "cell_type": "code",
   "execution_count": 8,
   "id": "ecc29944-c304-4292-a94e-50a8d6ab0036",
   "metadata": {},
   "outputs": [
    {
     "data": {
      "text/plain": [
       "str"
      ]
     },
     "execution_count": 8,
     "metadata": {},
     "output_type": "execute_result"
    }
   ],
   "source": [
    "type(\"\")"
   ]
  },
  {
   "cell_type": "code",
   "execution_count": 9,
   "id": "1b895511-52d0-47e7-b0ab-702d29bc055f",
   "metadata": {},
   "outputs": [],
   "source": [
    "#anything between \"\" is called string"
   ]
  },
  {
   "cell_type": "code",
   "execution_count": 10,
   "id": "c655f0f2-a058-42df-ad41-7fa87a3d0146",
   "metadata": {},
   "outputs": [
    {
     "data": {
      "text/plain": [
       "str"
      ]
     },
     "execution_count": 10,
     "metadata": {},
     "output_type": "execute_result"
    }
   ],
   "source": [
    "type(name)"
   ]
  },
  {
   "cell_type": "code",
   "execution_count": 11,
   "id": "e93b7518-6991-442e-a997-de774a21ea4d",
   "metadata": {},
   "outputs": [
    {
     "data": {
      "text/plain": [
       "int"
      ]
     },
     "execution_count": 11,
     "metadata": {},
     "output_type": "execute_result"
    }
   ],
   "source": [
    "type(number)"
   ]
  },
  {
   "cell_type": "code",
   "execution_count": 12,
   "id": "3a35ab73-32b8-4b5f-9fd3-21c44d990e48",
   "metadata": {},
   "outputs": [],
   "source": [
    "decimal_number=2.5"
   ]
  },
  {
   "cell_type": "code",
   "execution_count": 14,
   "id": "cffd51a3-9443-4800-97ed-4db6c672c4e6",
   "metadata": {},
   "outputs": [
    {
     "data": {
      "text/plain": [
       "float"
      ]
     },
     "execution_count": 14,
     "metadata": {},
     "output_type": "execute_result"
    }
   ],
   "source": [
    "type(decimal_number)"
   ]
  },
  {
   "cell_type": "code",
   "execution_count": 15,
   "id": "41089935-4fa9-4ef8-a5fe-e4655132bb6b",
   "metadata": {},
   "outputs": [
    {
     "name": "stdout",
     "output_type": "stream",
     "text": [
      "2.5\n"
     ]
    }
   ],
   "source": [
    "print(decimal_number)"
   ]
  },
  {
   "cell_type": "code",
   "execution_count": 16,
   "id": "3544af13-5e33-4c35-af2e-359387000489",
   "metadata": {},
   "outputs": [],
   "source": [
    "# use tab after dec for autotype"
   ]
  },
  {
   "cell_type": "code",
   "execution_count": 17,
   "id": "d20fb1f2-4347-4a16-86d3-8b0637862e2b",
   "metadata": {},
   "outputs": [
    {
     "data": {
      "text/plain": [
       "2.5"
      ]
     },
     "execution_count": 17,
     "metadata": {},
     "output_type": "execute_result"
    }
   ],
   "source": [
    "decimal_number"
   ]
  },
  {
   "cell_type": "code",
   "execution_count": 18,
   "id": "0b049004-062e-4b85-b719-23ae7727c221",
   "metadata": {},
   "outputs": [
    {
     "name": "stdout",
     "output_type": "stream",
     "text": [
      "hello\n"
     ]
    }
   ],
   "source": [
    "print(\"hello\")"
   ]
  },
  {
   "cell_type": "code",
   "execution_count": 19,
   "id": "b6225f18-a65a-4c2c-855b-f9dd829f5bb6",
   "metadata": {},
   "outputs": [
    {
     "name": "stdout",
     "output_type": "stream",
     "text": [
      "hello\n"
     ]
    }
   ],
   "source": [
    "print('hello')"
   ]
  },
  {
   "cell_type": "code",
   "execution_count": 20,
   "id": "80b93f73-1f6f-4367-9d2c-6862dde74459",
   "metadata": {},
   "outputs": [],
   "source": [
    "number1=23"
   ]
  },
  {
   "cell_type": "code",
   "execution_count": 21,
   "id": "2bc6974b-cc5c-46c0-acf5-d11a7e8a38ef",
   "metadata": {},
   "outputs": [
    {
     "name": "stdout",
     "output_type": "stream",
     "text": [
      "23\n"
     ]
    }
   ],
   "source": [
    "print(number1)"
   ]
  },
  {
   "cell_type": "code",
   "execution_count": 22,
   "id": "fac12808-c0e5-4e30-89ca-3461ed773d6b",
   "metadata": {},
   "outputs": [],
   "source": [
    "number2=35"
   ]
  },
  {
   "cell_type": "code",
   "execution_count": 23,
   "id": "ec33cfdd-3e9c-4d08-8b09-2662628d4ee7",
   "metadata": {},
   "outputs": [
    {
     "data": {
      "text/plain": [
       "35"
      ]
     },
     "execution_count": 23,
     "metadata": {},
     "output_type": "execute_result"
    }
   ],
   "source": [
    "number2"
   ]
  },
  {
   "cell_type": "code",
   "execution_count": 24,
   "id": "c1f45690-d037-431a-8974-cab680856aee",
   "metadata": {},
   "outputs": [],
   "source": [
    "# variable names are case sensitive"
   ]
  },
  {
   "cell_type": "code",
   "execution_count": 25,
   "id": "7364ea20-efc8-4bf1-bdd7-2d4f7e5e0bca",
   "metadata": {},
   "outputs": [],
   "source": [
    "company=\"ineuron\"\n",
    "Company=\"pwskills\""
   ]
  },
  {
   "cell_type": "code",
   "execution_count": 26,
   "id": "d7c3d753-167b-49ea-a691-7d83568852e5",
   "metadata": {},
   "outputs": [
    {
     "name": "stdout",
     "output_type": "stream",
     "text": [
      "ineuron\n"
     ]
    }
   ],
   "source": [
    "print(company)"
   ]
  },
  {
   "cell_type": "code",
   "execution_count": 27,
   "id": "0f412559-5b6f-42a6-a95d-8e20d094805b",
   "metadata": {},
   "outputs": [
    {
     "name": "stdout",
     "output_type": "stream",
     "text": [
      "pwskills\n"
     ]
    }
   ],
   "source": [
    "print(Company)"
   ]
  },
  {
   "cell_type": "code",
   "execution_count": 28,
   "id": "d49e63c8-e74a-4810-94f4-81b2a03aa90f",
   "metadata": {},
   "outputs": [
    {
     "data": {
      "text/plain": [
       "' float int len bool \\nyield return str '"
      ]
     },
     "execution_count": 28,
     "metadata": {},
     "output_type": "execute_result"
    }
   ],
   "source": [
    "# reserved keywords\n",
    "\"\"\" float int len bool \n",
    "yield return str \"\"\""
   ]
  },
  {
   "cell_type": "code",
   "execution_count": null,
   "id": "9f0275ba-ce17-497e-8a68-348a2a76a785",
   "metadata": {},
   "outputs": [],
   "source": [
    "\"\"\" float,int,len,bool\n",
    "yield,return,str\"\"\""
   ]
  },
  {
   "cell_type": "markdown",
   "id": "d0561e33-3342-4473-a8b3-0c4d0cf4280e",
   "metadata": {},
   "source": [
    "# boolean variables"
   ]
  },
  {
   "cell_type": "code",
   "execution_count": 30,
   "id": "80eefb0b-e726-4970-a2fa-241b9de179a3",
   "metadata": {},
   "outputs": [
    {
     "data": {
      "text/plain": [
       "True"
      ]
     },
     "execution_count": 30,
     "metadata": {},
     "output_type": "execute_result"
    }
   ],
   "source": [
    "True"
   ]
  },
  {
   "cell_type": "code",
   "execution_count": 31,
   "id": "69f83447-780d-47a2-a053-0902df287c36",
   "metadata": {},
   "outputs": [
    {
     "data": {
      "text/plain": [
       "False"
      ]
     },
     "execution_count": 31,
     "metadata": {},
     "output_type": "execute_result"
    }
   ],
   "source": [
    "False"
   ]
  },
  {
   "cell_type": "code",
   "execution_count": 32,
   "id": "de983cf6-0785-4c40-a5cd-1e5b07f4640d",
   "metadata": {},
   "outputs": [
    {
     "data": {
      "text/plain": [
       "False"
      ]
     },
     "execution_count": 32,
     "metadata": {},
     "output_type": "execute_result"
    }
   ],
   "source": [
    "True and False"
   ]
  },
  {
   "cell_type": "code",
   "execution_count": 33,
   "id": "83953ad1-7c7a-4dc5-8fb3-d4ec20cdf454",
   "metadata": {},
   "outputs": [
    {
     "data": {
      "text/plain": [
       "True"
      ]
     },
     "execution_count": 33,
     "metadata": {},
     "output_type": "execute_result"
    }
   ],
   "source": [
    "True or False"
   ]
  },
  {
   "cell_type": "code",
   "execution_count": 35,
   "id": "e836598e-6d3e-45d0-8cd9-e8faee68786e",
   "metadata": {},
   "outputs": [],
   "source": [
    "# logic gates operation"
   ]
  },
  {
   "cell_type": "code",
   "execution_count": 36,
   "id": "5582ee16-fc41-435a-b5ca-d1bb79574f39",
   "metadata": {},
   "outputs": [
    {
     "data": {
      "text/plain": [
       "False"
      ]
     },
     "execution_count": 36,
     "metadata": {},
     "output_type": "execute_result"
    }
   ],
   "source": [
    "not True"
   ]
  },
  {
   "cell_type": "code",
   "execution_count": 37,
   "id": "c416de1e-24ef-4083-a3ae-156d92b9db6d",
   "metadata": {},
   "outputs": [
    {
     "data": {
      "text/plain": [
       "True"
      ]
     },
     "execution_count": 37,
     "metadata": {},
     "output_type": "execute_result"
    }
   ],
   "source": [
    "not False"
   ]
  },
  {
   "cell_type": "code",
   "execution_count": 39,
   "id": "37eb3c78-3741-4d25-99ca-363be739c45e",
   "metadata": {},
   "outputs": [
    {
     "data": {
      "text/plain": [
       "bool"
      ]
     },
     "execution_count": 39,
     "metadata": {},
     "output_type": "execute_result"
    }
   ],
   "source": [
    "type(True)"
   ]
  },
  {
   "cell_type": "code",
   "execution_count": 41,
   "id": "bd5ded8f-a4e0-451d-a422-d0bc8a26bb3b",
   "metadata": {},
   "outputs": [
    {
     "data": {
      "text/plain": [
       "bool"
      ]
     },
     "execution_count": 41,
     "metadata": {},
     "output_type": "execute_result"
    }
   ],
   "source": [
    "type (not True)"
   ]
  },
  {
   "cell_type": "code",
   "execution_count": null,
   "id": "320822f7-2ff1-4bda-bd56-8ab03edb6cd9",
   "metadata": {},
   "outputs": [],
   "source": [
    "# typecasting boolean 0 and 1 into true or false\n",
    "\n",
    "bool(0)\n",
    "#output will be False\n"
   ]
  },
  {
   "cell_type": "code",
   "execution_count": null,
   "id": "e58b57b1-6649-493a-9cad-b5cdfb88209b",
   "metadata": {},
   "outputs": [],
   "source": [
    "bool(1)\n",
    "#output will be True"
   ]
  },
  {
   "cell_type": "code",
   "execution_count": 3,
   "id": "fdb5a554-6d15-450e-be84-b7cadc4a17f4",
   "metadata": {},
   "outputs": [],
   "source": [
    "a=1\n"
   ]
  },
  {
   "cell_type": "code",
   "execution_count": 23,
   "id": "2b86f3f1-4b4a-40d6-a4be-a591c56ddaca",
   "metadata": {},
   "outputs": [
    {
     "name": "stdout",
     "output_type": "stream",
     "text": [
      "hello nikhil\n"
     ]
    }
   ],
   "source": [
    "if bool(a)==True:\n",
    "    print(\"hello nikhil\")"
   ]
  },
  {
   "cell_type": "code",
   "execution_count": 27,
   "id": "5e0f3284-fb4d-4745-8154-665e56c2346d",
   "metadata": {},
   "outputs": [
    {
     "data": {
      "text/plain": [
       "'23'"
      ]
     },
     "execution_count": 27,
     "metadata": {},
     "output_type": "execute_result"
    }
   ],
   "source": [
    "str(23)"
   ]
  },
  {
   "cell_type": "code",
   "execution_count": null,
   "id": "690f9e7c-c716-4034-a7df-8efb84c4f248",
   "metadata": {},
   "outputs": [],
   "source": [
    "# press shift+tab for explaination of any function"
   ]
  },
  {
   "cell_type": "code",
   "execution_count": 26,
   "id": "2540c6f7-fe2d-4843-b25a-1357301283d9",
   "metadata": {},
   "outputs": [
    {
     "name": "stdout",
     "output_type": "stream",
     "text": [
      "hello nikhil\n"
     ]
    }
   ],
   "source": [
    "a=1\n",
    "if bool(a)!=False:\n",
    "    print(\"hello nikhil\")"
   ]
  },
  {
   "cell_type": "markdown",
   "id": "b7a097e1-3c7a-4c55-9c27-8051db3290de",
   "metadata": {},
   "source": [
    "# dynamic typing"
   ]
  },
  {
   "cell_type": "code",
   "execution_count": 29,
   "id": "ae0c0d0f-7d3c-4f01-bbcb-87e11333ae2f",
   "metadata": {},
   "outputs": [],
   "source": [
    "a=10"
   ]
  },
  {
   "cell_type": "code",
   "execution_count": 30,
   "id": "14125478-88ae-4d6f-a9c1-30d9b24cfeb4",
   "metadata": {},
   "outputs": [
    {
     "data": {
      "text/plain": [
       "str"
      ]
     },
     "execution_count": 30,
     "metadata": {},
     "output_type": "execute_result"
    }
   ],
   "source": [
    "a='nikhil'\n",
    "type(a)"
   ]
  },
  {
   "cell_type": "markdown",
   "id": "9925615e-4b90-420d-8120-c5b8571dcb41",
   "metadata": {},
   "source": [
    "# concatenation"
   ]
  },
  {
   "cell_type": "code",
   "execution_count": 35,
   "id": "02c680a4-a86d-4a7f-8292-a21eb4de040c",
   "metadata": {},
   "outputs": [
    {
     "data": {
      "text/plain": [
       "'11'"
      ]
     },
     "execution_count": 35,
     "metadata": {},
     "output_type": "execute_result"
    }
   ],
   "source": [
    "str('1')+str('1')"
   ]
  },
  {
   "cell_type": "code",
   "execution_count": 33,
   "id": "dbe5576d-c0fb-4153-acf7-1550560fe316",
   "metadata": {},
   "outputs": [
    {
     "data": {
      "text/plain": [
       "2"
      ]
     },
     "execution_count": 33,
     "metadata": {},
     "output_type": "execute_result"
    }
   ],
   "source": [
    "int('1')+int('1')"
   ]
  },
  {
   "cell_type": "code",
   "execution_count": 34,
   "id": "8d630156-98e8-4b2f-9d58-b74c6aa1dca2",
   "metadata": {},
   "outputs": [
    {
     "data": {
      "text/plain": [
       "2"
      ]
     },
     "execution_count": 34,
     "metadata": {},
     "output_type": "execute_result"
    }
   ],
   "source": [
    "int(1)+int(1)"
   ]
  },
  {
   "cell_type": "code",
   "execution_count": 36,
   "id": "ab2167ab-649e-40b4-a003-18f0e6be5924",
   "metadata": {},
   "outputs": [
    {
     "data": {
      "text/plain": [
       "1"
      ]
     },
     "execution_count": 36,
     "metadata": {},
     "output_type": "execute_result"
    }
   ],
   "source": [
    "int(1.54)"
   ]
  },
  {
   "cell_type": "code",
   "execution_count": 37,
   "id": "bc4b257f-0e45-4306-85bd-2bb27fa4d0de",
   "metadata": {},
   "outputs": [
    {
     "data": {
      "text/plain": [
       "'1111111111111111111111111111111111111111111111111111111111111111111111111111111111111111111111111111'"
      ]
     },
     "execution_count": 37,
     "metadata": {},
     "output_type": "execute_result"
    }
   ],
   "source": [
    "str(\"1\")*100"
   ]
  },
  {
   "cell_type": "code",
   "execution_count": 38,
   "id": "32604fc4-0911-4ea1-8dc2-5398f2c4e310",
   "metadata": {},
   "outputs": [
    {
     "data": {
      "text/plain": [
       "'2222222222222222222222222222222222222222222222222222222222222222222222222222222222222222222222222222'"
      ]
     },
     "execution_count": 38,
     "metadata": {},
     "output_type": "execute_result"
    }
   ],
   "source": [
    "str(\"2\")*100"
   ]
  },
  {
   "cell_type": "code",
   "execution_count": 39,
   "id": "2838e6cc-3329-48ef-a353-73c48c320c95",
   "metadata": {},
   "outputs": [
    {
     "data": {
      "text/plain": [
       "200"
      ]
     },
     "execution_count": 39,
     "metadata": {},
     "output_type": "execute_result"
    }
   ],
   "source": [
    "int(2)*100"
   ]
  },
  {
   "cell_type": "code",
   "execution_count": 40,
   "id": "fdbc4dd0-860b-4104-af0e-fd7dd6c9c0ec",
   "metadata": {},
   "outputs": [
    {
     "data": {
      "text/plain": [
       "'2222222222222222222222222222222222222222222222222222222222222222222222222222222222222222222222222222'"
      ]
     },
     "execution_count": 40,
     "metadata": {},
     "output_type": "execute_result"
    }
   ],
   "source": [
    "'2'*100\n",
    "#here '2' considered auto as string"
   ]
  },
  {
   "cell_type": "code",
   "execution_count": 41,
   "id": "ea2e84b2-8680-4245-b475-bd78331464c3",
   "metadata": {},
   "outputs": [
    {
     "data": {
      "text/plain": [
       "100.0"
      ]
     },
     "execution_count": 41,
     "metadata": {},
     "output_type": "execute_result"
    }
   ],
   "source": [
    "float(100)"
   ]
  },
  {
   "cell_type": "code",
   "execution_count": null,
   "id": "961d3eb4-1242-43a8-a862-067fd77b2d90",
   "metadata": {},
   "outputs": [],
   "source": []
  }
 ],
 "metadata": {
  "kernelspec": {
   "display_name": "Python 3 (ipykernel)",
   "language": "python",
   "name": "python3"
  },
  "language_info": {
   "codemirror_mode": {
    "name": "ipython",
    "version": 3
   },
   "file_extension": ".py",
   "mimetype": "text/x-python",
   "name": "python",
   "nbconvert_exporter": "python",
   "pygments_lexer": "ipython3",
   "version": "3.10.8"
  }
 },
 "nbformat": 4,
 "nbformat_minor": 5
}
