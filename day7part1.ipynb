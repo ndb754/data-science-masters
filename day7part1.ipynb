{
 "cells": [
  {
   "cell_type": "markdown",
   "id": "fd9e09ee-0f48-4db6-8359-dacb39037135",
   "metadata": {},
   "source": [
    "# lambda function"
   ]
  },
  {
   "cell_type": "code",
   "execution_count": 1,
   "id": "a01408cd-7426-4104-ad75-6a3d96c2a05f",
   "metadata": {},
   "outputs": [],
   "source": [
    "\n",
    "def test(n,p):\n",
    "    return n**p"
   ]
  },
  {
   "cell_type": "code",
   "execution_count": 3,
   "id": "f09c5044-f3c7-491c-b79b-8e2b93d87025",
   "metadata": {},
   "outputs": [
    {
     "data": {
      "text/plain": [
       "9"
      ]
     },
     "execution_count": 3,
     "metadata": {},
     "output_type": "execute_result"
    }
   ],
   "source": [
    "test(3,2)"
   ]
  },
  {
   "cell_type": "code",
   "execution_count": 4,
   "id": "b8e7cb98-073c-410a-a954-63398a352229",
   "metadata": {},
   "outputs": [
    {
     "data": {
      "text/plain": [
       "<function __main__.<lambda>(n, p)>"
      ]
     },
     "execution_count": 4,
     "metadata": {},
     "output_type": "execute_result"
    }
   ],
   "source": [
    "lambda n,p:n**p"
   ]
  },
  {
   "cell_type": "code",
   "execution_count": 5,
   "id": "19929e68-eb0e-4873-bee7-fd24c87b560e",
   "metadata": {},
   "outputs": [],
   "source": [
    "x=lambda n,p:n**p"
   ]
  },
  {
   "cell_type": "code",
   "execution_count": 6,
   "id": "b7bd63bf-2376-4b12-8353-74290eaf7fb9",
   "metadata": {},
   "outputs": [
    {
     "data": {
      "text/plain": [
       "9"
      ]
     },
     "execution_count": 6,
     "metadata": {},
     "output_type": "execute_result"
    }
   ],
   "source": [
    "x(3,2)"
   ]
  },
  {
   "cell_type": "code",
   "execution_count": 7,
   "id": "1ad36964-28be-4975-82bd-1d708c646561",
   "metadata": {},
   "outputs": [],
   "source": [
    "add=lambda a,b:a+b"
   ]
  },
  {
   "cell_type": "code",
   "execution_count": 8,
   "id": "e016d76c-de9c-41f4-bc4c-4df0c5695456",
   "metadata": {},
   "outputs": [
    {
     "data": {
      "text/plain": [
       "5"
      ]
     },
     "execution_count": 8,
     "metadata": {},
     "output_type": "execute_result"
    }
   ],
   "source": [
    "add(3,2)"
   ]
  },
  {
   "cell_type": "code",
   "execution_count": 10,
   "id": "4ab8fd7c-391a-4449-876f-20a741b5fdab",
   "metadata": {},
   "outputs": [],
   "source": [
    "# celsius to farheneit\n",
    "fh=lambda c:9/5*c+32"
   ]
  },
  {
   "cell_type": "code",
   "execution_count": 11,
   "id": "285edb5c-5238-42bb-9356-c95eddcd8982",
   "metadata": {},
   "outputs": [
    {
     "data": {
      "text/plain": [
       "95.0"
      ]
     },
     "execution_count": 11,
     "metadata": {},
     "output_type": "execute_result"
    }
   ],
   "source": [
    "fh(35)"
   ]
  },
  {
   "cell_type": "code",
   "execution_count": 12,
   "id": "a15f801a-c437-4789-8dd7-5275f2dc1088",
   "metadata": {},
   "outputs": [],
   "source": [
    "# maximum of 2 numbers\n",
    "max=lambda x,y:x if x>y else y"
   ]
  },
  {
   "cell_type": "code",
   "execution_count": 13,
   "id": "c420277e-b9b8-45a5-bd16-e425303d227b",
   "metadata": {},
   "outputs": [
    {
     "data": {
      "text/plain": [
       "50"
      ]
     },
     "execution_count": 13,
     "metadata": {},
     "output_type": "execute_result"
    }
   ],
   "source": [
    "max(25,50)"
   ]
  },
  {
   "cell_type": "code",
   "execution_count": 14,
   "id": "ba3ce0dd-a651-46d3-9952-a91de32fdafe",
   "metadata": {},
   "outputs": [],
   "source": [
    "# to find length of string\n",
    "string='pwskills'\n",
    "length=lambda s:len(s)"
   ]
  },
  {
   "cell_type": "code",
   "execution_count": 15,
   "id": "7f916444-d1cd-4d50-93d6-c43336e439a9",
   "metadata": {},
   "outputs": [
    {
     "data": {
      "text/plain": [
       "8"
      ]
     },
     "execution_count": 15,
     "metadata": {},
     "output_type": "execute_result"
    }
   ],
   "source": [
    "length(string)"
   ]
  }
 ],
 "metadata": {
  "kernelspec": {
   "display_name": "Python 3 (ipykernel)",
   "language": "python",
   "name": "python3"
  },
  "language_info": {
   "codemirror_mode": {
    "name": "ipython",
    "version": 3
   },
   "file_extension": ".py",
   "mimetype": "text/x-python",
   "name": "python",
   "nbconvert_exporter": "python",
   "pygments_lexer": "ipython3",
   "version": "3.10.8"
  }
 },
 "nbformat": 4,
 "nbformat_minor": 5
}
