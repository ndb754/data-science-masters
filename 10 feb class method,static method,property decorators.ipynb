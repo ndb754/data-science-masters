{
 "cells": [
  {
   "cell_type": "markdown",
   "id": "b3622f32-b334-4be4-8489-6a938b9fc8e0",
   "metadata": {},
   "source": [
    "# decorator"
   ]
  },
  {
   "cell_type": "code",
   "execution_count": 2,
   "id": "8dace2b4-c499-424e-8b2b-61053a864d60",
   "metadata": {},
   "outputs": [],
   "source": [
    "def test():\n",
    "    print('this is start')\n",
    "    print(4+5)\n",
    "    print('this is end')"
   ]
  },
  {
   "cell_type": "code",
   "execution_count": 3,
   "id": "e1928b6f-9b3e-40f3-8983-06734a98853b",
   "metadata": {},
   "outputs": [
    {
     "name": "stdout",
     "output_type": "stream",
     "text": [
      "this is start\n",
      "9\n",
      "this is end\n"
     ]
    }
   ],
   "source": [
    "test()"
   ]
  },
  {
   "cell_type": "code",
   "execution_count": 5,
   "id": "d0368781-ff49-459e-811e-3c57762314a6",
   "metadata": {},
   "outputs": [],
   "source": [
    "# if i want to print start and end statement multiple times then decorator function used to remove repeatedness\n",
    "def deco(func): # decorator function will use function as argument..deco is not reserved keyword\n",
    "    def innerdeco():\n",
    "        print('this is start')\n",
    "        func()\n",
    "        print('this is end')\n",
    "    return innerdeco "
   ]
  },
  {
   "cell_type": "code",
   "execution_count": 10,
   "id": "999980cc-7aa0-42b3-b204-75799f79e48d",
   "metadata": {},
   "outputs": [],
   "source": [
    "@deco                       # @sign is used for decorator\n",
    "def test1():\n",
    "    print(4+5)"
   ]
  },
  {
   "cell_type": "code",
   "execution_count": 13,
   "id": "2fd2e3e0-b705-47c3-9c3f-55ddabc8eea7",
   "metadata": {},
   "outputs": [
    {
     "name": "stdout",
     "output_type": "stream",
     "text": [
      "this is start\n",
      "9\n",
      "this is end\n"
     ]
    }
   ],
   "source": [
    "test1()"
   ]
  },
  {
   "cell_type": "code",
   "execution_count": 23,
   "id": "6ace192b-baff-4b89-99a3-3098df8095da",
   "metadata": {},
   "outputs": [],
   "source": [
    "# to know time taken by function to execute(timer decorator function)\n",
    "import time\n",
    "def timer_test(func):\n",
    "    def timer_test_inner():\n",
    "        start=time.time()\n",
    "        func()\n",
    "        end=time.time()\n",
    "        print(end-start)\n",
    "    return timer_test_inner"
   ]
  },
  {
   "cell_type": "code",
   "execution_count": 24,
   "id": "c6f5ddf5-97a2-453e-9e9b-8a8f4d44b881",
   "metadata": {},
   "outputs": [],
   "source": [
    "@timer_test\n",
    "def test():\n",
    "    print(4+5)"
   ]
  },
  {
   "cell_type": "code",
   "execution_count": 25,
   "id": "84b7ff8e-a240-46e1-be7a-3b312939e064",
   "metadata": {},
   "outputs": [
    {
     "name": "stdout",
     "output_type": "stream",
     "text": [
      "9\n",
      "4.220008850097656e-05\n"
     ]
    }
   ],
   "source": [
    "test()"
   ]
  },
  {
   "cell_type": "code",
   "execution_count": 26,
   "id": "8e8f32d3-b59d-4709-8663-f05386bdc03e",
   "metadata": {},
   "outputs": [],
   "source": [
    "@timer_test\n",
    "def test2():\n",
    "    for i in range(1000000):\n",
    "        pass"
   ]
  },
  {
   "cell_type": "code",
   "execution_count": 27,
   "id": "aa720e2b-8d3a-4c83-9165-78040c274186",
   "metadata": {},
   "outputs": [
    {
     "name": "stdout",
     "output_type": "stream",
     "text": [
      "0.020521879196166992\n"
     ]
    }
   ],
   "source": [
    "test2()"
   ]
  },
  {
   "cell_type": "markdown",
   "id": "52fb3b22-62b8-4127-af9a-c4f980ead6a6",
   "metadata": {},
   "source": [
    "# class method decorator"
   ]
  },
  {
   "cell_type": "code",
   "execution_count": 5,
   "id": "13427484-7afa-434c-ab81-cc7175d4717e",
   "metadata": {},
   "outputs": [],
   "source": [
    "class pwskills:\n",
    "    def __init__(self,name,email):\n",
    "        self.name=name\n",
    "        self.email=email\n",
    "    def studentdetails(self):\n",
    "        return self.name,self.email"
   ]
  },
  {
   "cell_type": "code",
   "execution_count": 6,
   "id": "16033f59-e211-4a1a-990c-b9c7159a2ed6",
   "metadata": {},
   "outputs": [
    {
     "data": {
      "text/plain": [
       "'nikhil'"
      ]
     },
     "execution_count": 6,
     "metadata": {},
     "output_type": "execute_result"
    }
   ],
   "source": [
    "pw=pwskills('nikhil','ndb@gmail.com')\n",
    "pw.name"
   ]
  },
  {
   "cell_type": "code",
   "execution_count": 7,
   "id": "8f67595a-3abc-4401-a344-3ee4c3f5114e",
   "metadata": {},
   "outputs": [
    {
     "data": {
      "text/plain": [
       "('nikhil', 'ndb@gmail.com')"
      ]
     },
     "execution_count": 7,
     "metadata": {},
     "output_type": "execute_result"
    }
   ],
   "source": [
    "pw.studentdetails()"
   ]
  },
  {
   "cell_type": "code",
   "execution_count": 21,
   "id": "346c0503-0034-42a9-a3da-64e99f1e0561",
   "metadata": {},
   "outputs": [],
   "source": [
    "class pwskills1:\n",
    "    def __init__(self,name,email):\n",
    "        self.name=name\n",
    "        self.email=email\n",
    "    def studentdetails(self): #instance method\n",
    "        return self.name,self.email\n",
    "    \n",
    "    @classmethod   #Equivalent to constructor type method....automatically assigning values to instance variables in init function even though names of variables in detail function is different\n",
    "    def details(cls,name1,email1): # therefore classmethod overloads init method\n",
    "        return cls(name1,email1)"
   ]
  },
  {
   "cell_type": "code",
   "execution_count": 22,
   "id": "7d66e9d1-743e-4588-8104-839b5be1c2e9",
   "metadata": {},
   "outputs": [],
   "source": [
    "pw1=pwskills1.details('mohan','mohan@gmail.com') #classname directly used to call class method"
   ]
  },
  {
   "cell_type": "code",
   "execution_count": 23,
   "id": "438c351a-7f9d-4513-a761-1370b64ed298",
   "metadata": {},
   "outputs": [
    {
     "data": {
      "text/plain": [
       "'mohan'"
      ]
     },
     "execution_count": 23,
     "metadata": {},
     "output_type": "execute_result"
    }
   ],
   "source": [
    "pw1.name"
   ]
  },
  {
   "cell_type": "code",
   "execution_count": 24,
   "id": "9e1b0fbd-683f-4b0a-b9a3-6fb8e8eff043",
   "metadata": {},
   "outputs": [
    {
     "data": {
      "text/plain": [
       "('mohan', 'mohan@gmail.com')"
      ]
     },
     "execution_count": 24,
     "metadata": {},
     "output_type": "execute_result"
    }
   ],
   "source": [
    "pw1.studentdetails() #will show same values passed through class method"
   ]
  },
  {
   "cell_type": "code",
   "execution_count": 32,
   "id": "be717142-2d09-46ba-a390-38d3340b2195",
   "metadata": {},
   "outputs": [],
   "source": [
    "class pwskills2:\n",
    "    \n",
    "    mobileno=989786\n",
    "    \n",
    "    def __init__(self,name,email):\n",
    "        self.name=name\n",
    "        self.email=email\n",
    "        \n",
    "    @classmethod\n",
    "    def details(cls,name,email):\n",
    "        return cls(name,email)\n",
    "    \n",
    "    def studentdetails(self):\n",
    "        return self.name,self.email,pwskills2.mobileno #for classvariable classname is used"
   ]
  },
  {
   "cell_type": "code",
   "execution_count": 33,
   "id": "778719c1-701b-4dea-88b2-b51a12582212",
   "metadata": {},
   "outputs": [
    {
     "data": {
      "text/plain": [
       "989786"
      ]
     },
     "execution_count": 33,
     "metadata": {},
     "output_type": "execute_result"
    }
   ],
   "source": [
    "pwskills2.mobileno # class variables can be accessed directly through classmame"
   ]
  },
  {
   "cell_type": "code",
   "execution_count": 37,
   "id": "ac92c57a-f553-4807-b512-c84ed58fabd9",
   "metadata": {},
   "outputs": [],
   "source": [
    "pw2=pwskills2.details('sohan','sohan@gmail.com') #TYPE1"
   ]
  },
  {
   "cell_type": "code",
   "execution_count": 38,
   "id": "dfcbd5b4-5a58-4d5e-860e-8e9f984aa1e5",
   "metadata": {},
   "outputs": [
    {
     "data": {
      "text/plain": [
       "('sohan', 'sohan@gmail.com', 989786)"
      ]
     },
     "execution_count": 38,
     "metadata": {},
     "output_type": "execute_result"
    }
   ],
   "source": [
    "pw2.studentdetails()"
   ]
  },
  {
   "cell_type": "code",
   "execution_count": 39,
   "id": "41528f2b-a08d-4e58-ba06-8dec3105dbfb",
   "metadata": {},
   "outputs": [],
   "source": [
    "pw3=pwskills2('rohan','rohan@gmail.com') #TYPE2"
   ]
  },
  {
   "cell_type": "code",
   "execution_count": 40,
   "id": "ad8ee9d7-6ca5-4769-8941-3077a88a1ec9",
   "metadata": {},
   "outputs": [
    {
     "data": {
      "text/plain": [
       "('rohan', 'rohan@gmail.com', 989786)"
      ]
     },
     "execution_count": 40,
     "metadata": {},
     "output_type": "execute_result"
    }
   ],
   "source": [
    "pw3.studentdetails()"
   ]
  },
  {
   "cell_type": "code",
   "execution_count": 13,
   "id": "840f39b6-0acb-436e-b920-be464f26bb54",
   "metadata": {},
   "outputs": [],
   "source": [
    "# modify mobileno through class method\n",
    "class pwskills3:\n",
    "    \n",
    "    mobileno=989786\n",
    "    \n",
    "    def __init__(self,name,email):\n",
    "        self.name=name\n",
    "        self.email=email\n",
    "    \n",
    "    @classmethod\n",
    "    def change_mobileno(cls,mobileno):\n",
    "        pwskills3.mobileno=mobileno\n",
    "        \n",
    "        \n",
    "    @classmethod\n",
    "    def details(cls,name,email):\n",
    "        return cls(name,email)\n",
    "    \n",
    "    def studentdetails(self):\n",
    "        return self.name,self.email,pwskills3.mobileno\n"
   ]
  },
  {
   "cell_type": "code",
   "execution_count": 14,
   "id": "859cde65-a4ce-4134-9584-72f141dc276a",
   "metadata": {},
   "outputs": [],
   "source": [
    "pwskills3.change_mobileno(8932723)"
   ]
  },
  {
   "cell_type": "code",
   "execution_count": 15,
   "id": "063fbeb7-841c-453f-8172-1e262a1d0e2f",
   "metadata": {},
   "outputs": [
    {
     "data": {
      "text/plain": [
       "8932723"
      ]
     },
     "execution_count": 15,
     "metadata": {},
     "output_type": "execute_result"
    }
   ],
   "source": [
    "pwskills3.mobileno"
   ]
  },
  {
   "cell_type": "code",
   "execution_count": 16,
   "id": "dd6028c8-5881-41c1-a1df-fc49b6625ec6",
   "metadata": {},
   "outputs": [],
   "source": [
    "pw3=pwskills3('mohan','mohan@gmail.com')"
   ]
  },
  {
   "cell_type": "code",
   "execution_count": 19,
   "id": "90db48a0-12b7-4918-b717-4b319afedb88",
   "metadata": {},
   "outputs": [
    {
     "data": {
      "text/plain": [
       "<__main__.pwskills3 at 0x7f787cc2ed40>"
      ]
     },
     "execution_count": 19,
     "metadata": {},
     "output_type": "execute_result"
    }
   ],
   "source": [
    "pw3.details('shubham','shubham@gmail.com')"
   ]
  },
  {
   "cell_type": "code",
   "execution_count": 21,
   "id": "aac6aed9-487e-467a-a93f-931ca0f562d0",
   "metadata": {},
   "outputs": [
    {
     "data": {
      "text/plain": [
       "'mohan'"
      ]
     },
     "execution_count": 21,
     "metadata": {},
     "output_type": "execute_result"
    }
   ],
   "source": [
    "pw3.name # it will show the old data and not new data through details function"
   ]
  },
  {
   "cell_type": "code",
   "execution_count": 24,
   "id": "e96d5946-6c0b-442b-b3f2-b51e590d02d1",
   "metadata": {},
   "outputs": [],
   "source": [
    "pw4=pwskills3.details('shubham','shubham@gmail.com') # to show new data new object needs to be created"
   ]
  },
  {
   "cell_type": "code",
   "execution_count": 25,
   "id": "7254c21d-d391-4167-aab2-f1d5a81fb27a",
   "metadata": {},
   "outputs": [
    {
     "data": {
      "text/plain": [
       "('shubham', 'shubham@gmail.com', 6546413216)"
      ]
     },
     "execution_count": 25,
     "metadata": {},
     "output_type": "execute_result"
    }
   ],
   "source": [
    "pw4.studentdetails()"
   ]
  },
  {
   "cell_type": "code",
   "execution_count": 26,
   "id": "9479b622-456c-4421-bc8c-0bbb4df6f0ad",
   "metadata": {},
   "outputs": [],
   "source": [
    "pw5=pwskills3.details('rhubham','rhubham@gmail.com')"
   ]
  },
  {
   "cell_type": "code",
   "execution_count": 27,
   "id": "b003a954-73f2-441d-b428-f82b9102dc91",
   "metadata": {},
   "outputs": [
    {
     "data": {
      "text/plain": [
       "'rhubham'"
      ]
     },
     "execution_count": 27,
     "metadata": {},
     "output_type": "execute_result"
    }
   ],
   "source": [
    "pw5.name"
   ]
  },
  {
   "cell_type": "code",
   "execution_count": 22,
   "id": "3a174ca4-c666-48a8-a9ca-05402ba68ee9",
   "metadata": {},
   "outputs": [],
   "source": [
    "pw3.change_mobileno(6546413216)"
   ]
  },
  {
   "cell_type": "code",
   "execution_count": 23,
   "id": "29f8bd48-9b04-423f-b855-9081ab6a544a",
   "metadata": {},
   "outputs": [
    {
     "data": {
      "text/plain": [
       "6546413216"
      ]
     },
     "execution_count": 23,
     "metadata": {},
     "output_type": "execute_result"
    }
   ],
   "source": [
    "pw3.mobileno"
   ]
  },
  {
   "cell_type": "code",
   "execution_count": 39,
   "id": "381a2284-ec7b-4626-840b-2f021f24547d",
   "metadata": {},
   "outputs": [],
   "source": [
    "class pwskills4:\n",
    "    \n",
    "    mobileno=989786\n",
    "    \n",
    "    def __init__(self,name,email):\n",
    "        self.name=name\n",
    "        self.email=email\n",
    "    \n",
    "    @classmethod\n",
    "    def change_mobileno(cls,mobileno):\n",
    "        pwskills3.mobileno=mobileno\n",
    "        \n",
    "        \n",
    "    @classmethod\n",
    "    def details(cls,name,email):\n",
    "        return cls(name,email)\n",
    "    \n",
    "    def studentdetails(self):\n",
    "        return self.name,self.email,pwskills4.mobileno"
   ]
  },
  {
   "cell_type": "code",
   "execution_count": 40,
   "id": "5ef554f7-3fb9-44e6-9737-1abb39d61a62",
   "metadata": {},
   "outputs": [],
   "source": [
    "# add external method to class through class method\n",
    "def course_details(cls,coursename):\n",
    "    print(\"course name:\",coursename)\n",
    "    "
   ]
  },
  {
   "cell_type": "code",
   "execution_count": 41,
   "id": "1cf1e6e5-4205-45d1-8a24-f4a055b4f99d",
   "metadata": {},
   "outputs": [],
   "source": [
    "pwskills4.course_details=classmethod(course_details)"
   ]
  },
  {
   "cell_type": "code",
   "execution_count": 42,
   "id": "78d6900e-25a5-4e3a-b330-3c33635611fe",
   "metadata": {},
   "outputs": [
    {
     "name": "stdout",
     "output_type": "stream",
     "text": [
      "course name: data science\n"
     ]
    }
   ],
   "source": [
    "pwskills4.course_details('data science')"
   ]
  },
  {
   "cell_type": "code",
   "execution_count": 43,
   "id": "ac472423-9dd2-448c-a0b8-3eff572ce4cc",
   "metadata": {},
   "outputs": [],
   "source": [
    "pw4=pwskills4('shivam','shivam@gmail.com')"
   ]
  },
  {
   "cell_type": "code",
   "execution_count": 44,
   "id": "f600b1b5-61e0-464f-bbab-8e94fe1da265",
   "metadata": {},
   "outputs": [
    {
     "name": "stdout",
     "output_type": "stream",
     "text": [
      "course name: webdevelopment\n"
     ]
    }
   ],
   "source": [
    "pw4.course_details('webdevelopment')"
   ]
  },
  {
   "cell_type": "code",
   "execution_count": 46,
   "id": "678e783a-2fb3-4b3d-ab09-b679f7e46527",
   "metadata": {},
   "outputs": [
    {
     "ename": "AttributeError",
     "evalue": "'pwskills4' object has no attribute 'coursename'",
     "output_type": "error",
     "traceback": [
      "\u001b[0;31m---------------------------------------------------------------------------\u001b[0m",
      "\u001b[0;31mAttributeError\u001b[0m                            Traceback (most recent call last)",
      "Cell \u001b[0;32mIn[46], line 1\u001b[0m\n\u001b[0;32m----> 1\u001b[0m \u001b[43mpw4\u001b[49m\u001b[38;5;241;43m.\u001b[39;49m\u001b[43mcoursename\u001b[49m\n",
      "\u001b[0;31mAttributeError\u001b[0m: 'pwskills4' object has no attribute 'coursename'"
     ]
    }
   ],
   "source": [
    "pw4.coursename"
   ]
  },
  {
   "cell_type": "code",
   "execution_count": 47,
   "id": "b2aa3ef2-6bf9-4a72-a435-79f7a58e3040",
   "metadata": {},
   "outputs": [],
   "source": [
    "# delete function from class\n",
    "class pwskills5:\n",
    "    \n",
    "    mobileno=989786\n",
    "    \n",
    "    def __init__(self,name,email):\n",
    "        self.name=name\n",
    "        self.email=email\n",
    "    \n",
    "    @classmethod\n",
    "    def change_mobileno(cls,mobileno):\n",
    "        pwskills3.mobileno=mobileno\n",
    "        \n",
    "        \n",
    "    @classmethod\n",
    "    def details(cls,name,email):\n",
    "        return cls(name,email)\n",
    "    \n",
    "    def studentdetails(self):\n",
    "        return self.name,self.email,pwskills5.mobileno"
   ]
  },
  {
   "cell_type": "code",
   "execution_count": 48,
   "id": "0c0e65cc-d409-431e-9018-2fe0a935703e",
   "metadata": {},
   "outputs": [],
   "source": [
    "del pwskills5.change_mobileno"
   ]
  },
  {
   "cell_type": "code",
   "execution_count": 49,
   "id": "4a6d6288-eac6-4889-b148-1cbe21567521",
   "metadata": {},
   "outputs": [
    {
     "ename": "AttributeError",
     "evalue": "type object 'pwskills5' has no attribute 'change_mobileno'",
     "output_type": "error",
     "traceback": [
      "\u001b[0;31m---------------------------------------------------------------------------\u001b[0m",
      "\u001b[0;31mAttributeError\u001b[0m                            Traceback (most recent call last)",
      "Cell \u001b[0;32mIn[49], line 1\u001b[0m\n\u001b[0;32m----> 1\u001b[0m \u001b[43mpwskills5\u001b[49m\u001b[38;5;241;43m.\u001b[39;49m\u001b[43mchange_mobileno\u001b[49m(\u001b[38;5;241m782362836\u001b[39m)\n",
      "\u001b[0;31mAttributeError\u001b[0m: type object 'pwskills5' has no attribute 'change_mobileno'"
     ]
    }
   ],
   "source": [
    "pwskills5.change_mobileno(782362836)"
   ]
  },
  {
   "cell_type": "code",
   "execution_count": 50,
   "id": "b2b9b1c8-4da5-43ea-8a10-efa297b8e6e7",
   "metadata": {},
   "outputs": [],
   "source": [
    "# can also use delete attribute function to delete function and variable\n",
    "delattr(pwskills5,'studentdetails')"
   ]
  },
  {
   "cell_type": "code",
   "execution_count": 51,
   "id": "76458e75-e261-4ea0-8342-d39bef0dc1a3",
   "metadata": {},
   "outputs": [],
   "source": [
    "delattr(pwskills5,'mobileno') # deleting variable"
   ]
  },
  {
   "cell_type": "code",
   "execution_count": null,
   "id": "652d83c3-6d04-492b-acbc-79f38cb54735",
   "metadata": {},
   "outputs": [],
   "source": [
    "pwskills5.studentdetails()"
   ]
  },
  {
   "cell_type": "markdown",
   "id": "f0e8e808-6e46-4fc3-9122-eccd46ddcc9f",
   "metadata": {},
   "source": [
    "# static method"
   ]
  },
  {
   "cell_type": "code",
   "execution_count": 4,
   "id": "6cabd173-132f-4231-82f0-494ea1ba4326",
   "metadata": {},
   "outputs": [],
   "source": [
    "class pwskills:\n",
    "    def studentdetails(self,name,email):\n",
    "        print(name,email)"
   ]
  },
  {
   "cell_type": "code",
   "execution_count": 5,
   "id": "849db56b-3993-4bde-a7e0-7975826aa993",
   "metadata": {},
   "outputs": [],
   "source": [
    "pw=pwskills()"
   ]
  },
  {
   "cell_type": "code",
   "execution_count": 6,
   "id": "06071e02-774e-4a64-b098-0344b7c084d0",
   "metadata": {},
   "outputs": [
    {
     "name": "stdout",
     "output_type": "stream",
     "text": [
      "nikhil nikhil@gmail.com\n"
     ]
    }
   ],
   "source": [
    "pw.studentdetails('nikhil','nikhil@gmail.com') #for storing data of every individual seperate object created and function called which uses lot of memory space"
   ]
  },
  {
   "cell_type": "code",
   "execution_count": 12,
   "id": "633a1cfd-642f-4ae3-8a16-a934c17874f0",
   "metadata": {},
   "outputs": [],
   "source": [
    "class pwskills:\n",
    "    def studentdetails(self,name,email):\n",
    "        print(name,email)\n",
    "    def mentorclass(self,mentorlist): #instance method\n",
    "        print(mentorlist)\n",
    "    @staticmethod\n",
    "    def mentor(list_mentor): #in static method self,cls not used like instance and class method\n",
    "        print(list_mentor) # static method create only single instance of function in memory and use it for different class object\n",
    "        #therefore only objective of static method is to prevent memory consumption"
   ]
  },
  {
   "cell_type": "code",
   "execution_count": 13,
   "id": "ae246cdd-dc3b-4052-a664-96e44b7a176c",
   "metadata": {},
   "outputs": [],
   "source": [
    "pw=pwskills()"
   ]
  },
  {
   "cell_type": "code",
   "execution_count": 14,
   "id": "8570a21d-84c4-48c3-9693-e100a6352599",
   "metadata": {},
   "outputs": [
    {
     "name": "stdout",
     "output_type": "stream",
     "text": [
      "['krish', 'sudhanshu', 'abc']\n"
     ]
    }
   ],
   "source": [
    "pw.mentorclass(['krish','sudhanshu','abc']) # for different class object different instances of function will be created which overburdens memory"
   ]
  },
  {
   "cell_type": "code",
   "execution_count": 15,
   "id": "90f0287a-7181-4182-8002-f5e183926543",
   "metadata": {},
   "outputs": [
    {
     "name": "stdout",
     "output_type": "stream",
     "text": [
      "['krish', 'sudhanshu', 'abc']\n"
     ]
    }
   ],
   "source": [
    "pw.mentor(['krish','sudhanshu','abc']) #static method through class object"
   ]
  },
  {
   "cell_type": "code",
   "execution_count": 8,
   "id": "23133313-9215-4f62-b7bf-1f767f302db6",
   "metadata": {},
   "outputs": [
    {
     "name": "stdout",
     "output_type": "stream",
     "text": [
      "['krish', 'sudhanshu', 'abc']\n"
     ]
    }
   ],
   "source": [
    "pwskills.mentor(['krish','sudhanshu','abc']) # statuc method through class name"
   ]
  },
  {
   "cell_type": "code",
   "execution_count": null,
   "id": "643149ca-00a6-4536-ac83-3771bc43feed",
   "metadata": {},
   "outputs": [],
   "source": [
    "class pwskills:\n",
    "    def studentdetails(self,name,email):\n",
    "        print(name,email)\n",
    "        # self.  will not be able to access class method through tab button as class method return aftr it\n",
    "    \n",
    " \n",
    "    @staticmethod\n",
    "    def mentor(list_mentor): #in static method self,cls not used like instance and class method\n",
    "        print(list_mentor)\n",
    "        \n",
    "    def mentorclass(self,mentorlist): #instance method\n",
    "        print(mentorlist)\n",
    "        self.mentor(['krish','sudh']) # # will be able to access class method through tab button as class method return before it\n",
    "   \n",
    "    @classmethod\n",
    "    def class_name(cls,classname):\n",
    "        cls.mentor(['krish','sudh']) # even classmethod written after static method is able to access it through tab button\n",
    "        \n",
    "    @staticmethod\n",
    "    def mentoremail(email):\n",
    "        print(email)\n",
    "        pwskills.mentor(['krish','sudh']) # even static method able to access previous static method through tab"
   ]
  },
  {
   "cell_type": "markdown",
   "id": "f8a3436f-0f4b-4b64-9581-793d96d913c3",
   "metadata": {},
   "source": [
    "# dunder or magic methods"
   ]
  },
  {
   "cell_type": "code",
   "execution_count": 1,
   "id": "31cd15a2-db21-4557-bb5a-99909bd84d81",
   "metadata": {},
   "outputs": [
    {
     "data": {
      "text/plain": [
       "['__abs__',\n",
       " '__add__',\n",
       " '__and__',\n",
       " '__bool__',\n",
       " '__ceil__',\n",
       " '__class__',\n",
       " '__delattr__',\n",
       " '__dir__',\n",
       " '__divmod__',\n",
       " '__doc__',\n",
       " '__eq__',\n",
       " '__float__',\n",
       " '__floor__',\n",
       " '__floordiv__',\n",
       " '__format__',\n",
       " '__ge__',\n",
       " '__getattribute__',\n",
       " '__getnewargs__',\n",
       " '__gt__',\n",
       " '__hash__',\n",
       " '__index__',\n",
       " '__init__',\n",
       " '__init_subclass__',\n",
       " '__int__',\n",
       " '__invert__',\n",
       " '__le__',\n",
       " '__lshift__',\n",
       " '__lt__',\n",
       " '__mod__',\n",
       " '__mul__',\n",
       " '__ne__',\n",
       " '__neg__',\n",
       " '__new__',\n",
       " '__or__',\n",
       " '__pos__',\n",
       " '__pow__',\n",
       " '__radd__',\n",
       " '__rand__',\n",
       " '__rdivmod__',\n",
       " '__reduce__',\n",
       " '__reduce_ex__',\n",
       " '__repr__',\n",
       " '__rfloordiv__',\n",
       " '__rlshift__',\n",
       " '__rmod__',\n",
       " '__rmul__',\n",
       " '__ror__',\n",
       " '__round__',\n",
       " '__rpow__',\n",
       " '__rrshift__',\n",
       " '__rshift__',\n",
       " '__rsub__',\n",
       " '__rtruediv__',\n",
       " '__rxor__',\n",
       " '__setattr__',\n",
       " '__sizeof__',\n",
       " '__str__',\n",
       " '__sub__',\n",
       " '__subclasshook__',\n",
       " '__truediv__',\n",
       " '__trunc__',\n",
       " '__xor__',\n",
       " 'as_integer_ratio',\n",
       " 'bit_count',\n",
       " 'bit_length',\n",
       " 'conjugate',\n",
       " 'denominator',\n",
       " 'from_bytes',\n",
       " 'imag',\n",
       " 'numerator',\n",
       " 'real',\n",
       " 'to_bytes']"
      ]
     },
     "execution_count": 1,
     "metadata": {},
     "output_type": "execute_result"
    }
   ],
   "source": [
    "dir(int) # dunder or magic methods are methods with double underscore in start and end"
   ]
  },
  {
   "cell_type": "code",
   "execution_count": 2,
   "id": "23b3444d-921c-491c-9740-22ec96e3b775",
   "metadata": {},
   "outputs": [],
   "source": [
    "a=10"
   ]
  },
  {
   "cell_type": "code",
   "execution_count": 3,
   "id": "aae5e1e9-8f02-4f10-8a85-43916337a0da",
   "metadata": {},
   "outputs": [
    {
     "data": {
      "text/plain": [
       "16"
      ]
     },
     "execution_count": 3,
     "metadata": {},
     "output_type": "execute_result"
    }
   ],
   "source": [
    "a+6"
   ]
  },
  {
   "cell_type": "code",
   "execution_count": 4,
   "id": "7aa1bab3-78da-4bfd-9cb5-2d569ee106ea",
   "metadata": {},
   "outputs": [
    {
     "data": {
      "text/plain": [
       "16"
      ]
     },
     "execution_count": 4,
     "metadata": {},
     "output_type": "execute_result"
    }
   ],
   "source": [
    "a.__add__(6) #perform same function"
   ]
  },
  {
   "cell_type": "code",
   "execution_count": 5,
   "id": "3cceaac4-e4cd-4ace-ac88-3fbe5daa0fd0",
   "metadata": {},
   "outputs": [
    {
     "data": {
      "text/plain": [
       "['__add__',\n",
       " '__class__',\n",
       " '__contains__',\n",
       " '__delattr__',\n",
       " '__dir__',\n",
       " '__doc__',\n",
       " '__eq__',\n",
       " '__format__',\n",
       " '__ge__',\n",
       " '__getattribute__',\n",
       " '__getitem__',\n",
       " '__getnewargs__',\n",
       " '__gt__',\n",
       " '__hash__',\n",
       " '__init__',\n",
       " '__init_subclass__',\n",
       " '__iter__',\n",
       " '__le__',\n",
       " '__len__',\n",
       " '__lt__',\n",
       " '__mod__',\n",
       " '__mul__',\n",
       " '__ne__',\n",
       " '__new__',\n",
       " '__reduce__',\n",
       " '__reduce_ex__',\n",
       " '__repr__',\n",
       " '__rmod__',\n",
       " '__rmul__',\n",
       " '__setattr__',\n",
       " '__sizeof__',\n",
       " '__str__',\n",
       " '__subclasshook__',\n",
       " 'capitalize',\n",
       " 'casefold',\n",
       " 'center',\n",
       " 'count',\n",
       " 'encode',\n",
       " 'endswith',\n",
       " 'expandtabs',\n",
       " 'find',\n",
       " 'format',\n",
       " 'format_map',\n",
       " 'index',\n",
       " 'isalnum',\n",
       " 'isalpha',\n",
       " 'isascii',\n",
       " 'isdecimal',\n",
       " 'isdigit',\n",
       " 'isidentifier',\n",
       " 'islower',\n",
       " 'isnumeric',\n",
       " 'isprintable',\n",
       " 'isspace',\n",
       " 'istitle',\n",
       " 'isupper',\n",
       " 'join',\n",
       " 'ljust',\n",
       " 'lower',\n",
       " 'lstrip',\n",
       " 'maketrans',\n",
       " 'partition',\n",
       " 'removeprefix',\n",
       " 'removesuffix',\n",
       " 'replace',\n",
       " 'rfind',\n",
       " 'rindex',\n",
       " 'rjust',\n",
       " 'rpartition',\n",
       " 'rsplit',\n",
       " 'rstrip',\n",
       " 'split',\n",
       " 'splitlines',\n",
       " 'startswith',\n",
       " 'strip',\n",
       " 'swapcase',\n",
       " 'title',\n",
       " 'translate',\n",
       " 'upper',\n",
       " 'zfill']"
      ]
     },
     "execution_count": 5,
     "metadata": {},
     "output_type": "execute_result"
    }
   ],
   "source": [
    "dir(str)"
   ]
  },
  {
   "cell_type": "code",
   "execution_count": 6,
   "id": "ff1c0c79-dbb1-44c7-a9b8-bcf72bbbdb26",
   "metadata": {},
   "outputs": [],
   "source": [
    "class pwskills:\n",
    "    def __init__(self):\n",
    "        print(\"this is my init\")"
   ]
  },
  {
   "cell_type": "code",
   "execution_count": 7,
   "id": "3cef2679-ea3c-409b-981e-6c58311c7de0",
   "metadata": {},
   "outputs": [
    {
     "name": "stdout",
     "output_type": "stream",
     "text": [
      "this is my init\n"
     ]
    }
   ],
   "source": [
    "pw=pwskills() # init function will be called by default..but before init machine will internally call __new__ whenevr new object of class is created"
   ]
  },
  {
   "cell_type": "code",
   "execution_count": 10,
   "id": "61adca59-71d9-4368-976a-c63e5bea1326",
   "metadata": {},
   "outputs": [],
   "source": [
    "class pwskills:\n",
    "    def __new__(cls):\n",
    "        print(\"this is my new\")\n",
    "    def __init__(self):\n",
    "        print(\"this is my init\")"
   ]
  },
  {
   "cell_type": "code",
   "execution_count": 11,
   "id": "83c86bce-5407-4705-9780-b8e57d8b4bf4",
   "metadata": {},
   "outputs": [
    {
     "name": "stdout",
     "output_type": "stream",
     "text": [
      "this is my new\n"
     ]
    }
   ],
   "source": [
    "pw=pwskills() # this time it will print under new() as it is called before init"
   ]
  },
  {
   "cell_type": "code",
   "execution_count": 20,
   "id": "79746483-a3a7-4915-81f0-8347dc93c73c",
   "metadata": {},
   "outputs": [],
   "source": [
    "class pwskills:\n",
    "    def __init__(self):\n",
    "        self.mobileno=65543131\n",
    "        "
   ]
  },
  {
   "cell_type": "code",
   "execution_count": 21,
   "id": "5d45a624-89f9-4c09-92cb-1fb6e7ffea1e",
   "metadata": {},
   "outputs": [],
   "source": [
    "pw=pwskills()"
   ]
  },
  {
   "cell_type": "code",
   "execution_count": 22,
   "id": "7e0dc87e-86a9-470e-960d-c9bfe3fdb58e",
   "metadata": {},
   "outputs": [
    {
     "name": "stdout",
     "output_type": "stream",
     "text": [
      "<__main__.pwskills object at 0x7f51d01b2680>\n"
     ]
    }
   ],
   "source": [
    "pw"
   ]
  },
  {
   "cell_type": "code",
   "execution_count": 15,
   "id": "34f56e24-c9ee-4d2b-87fb-683976e6cbb4",
   "metadata": {},
   "outputs": [],
   "source": [
    "# if we want to print meaningful sentence instead of above hexadeicmal code..use __str__()"
   ]
  },
  {
   "cell_type": "code",
   "execution_count": 16,
   "id": "5a38bfcf-915f-4eb4-9b10-ab94fce49ae6",
   "metadata": {},
   "outputs": [],
   "source": [
    "class pwskills:\n",
    "    def __init__(self):\n",
    "        self.mobileno=65543131\n",
    "    def __str__(self):\n",
    "        return \"this is meaningful\""
   ]
  },
  {
   "cell_type": "code",
   "execution_count": 17,
   "id": "5db095d5-5288-4420-9fea-e8ca4f1bca09",
   "metadata": {},
   "outputs": [],
   "source": [
    "pw=pwskills()"
   ]
  },
  {
   "cell_type": "code",
   "execution_count": 19,
   "id": "e8bfc05a-8367-461e-b618-35610640f3a8",
   "metadata": {},
   "outputs": [
    {
     "name": "stdout",
     "output_type": "stream",
     "text": [
      "this is meaningful\n"
     ]
    }
   ],
   "source": [
    "print(pw)"
   ]
  },
  {
   "cell_type": "code",
   "execution_count": 23,
   "id": "f5b8a379-f8a9-4cae-b35c-368843a4fc93",
   "metadata": {},
   "outputs": [
    {
     "data": {
      "text/plain": [
       "['__class__',\n",
       " '__class_getitem__',\n",
       " '__contains__',\n",
       " '__delattr__',\n",
       " '__delitem__',\n",
       " '__dir__',\n",
       " '__doc__',\n",
       " '__eq__',\n",
       " '__format__',\n",
       " '__ge__',\n",
       " '__getattribute__',\n",
       " '__getitem__',\n",
       " '__gt__',\n",
       " '__hash__',\n",
       " '__init__',\n",
       " '__init_subclass__',\n",
       " '__ior__',\n",
       " '__iter__',\n",
       " '__le__',\n",
       " '__len__',\n",
       " '__lt__',\n",
       " '__ne__',\n",
       " '__new__',\n",
       " '__or__',\n",
       " '__reduce__',\n",
       " '__reduce_ex__',\n",
       " '__repr__',\n",
       " '__reversed__',\n",
       " '__ror__',\n",
       " '__setattr__',\n",
       " '__setitem__',\n",
       " '__sizeof__',\n",
       " '__str__',\n",
       " '__subclasshook__',\n",
       " 'clear',\n",
       " 'copy',\n",
       " 'fromkeys',\n",
       " 'get',\n",
       " 'items',\n",
       " 'keys',\n",
       " 'pop',\n",
       " 'popitem',\n",
       " 'setdefault',\n",
       " 'update',\n",
       " 'values']"
      ]
     },
     "execution_count": 23,
     "metadata": {},
     "output_type": "execute_result"
    }
   ],
   "source": [
    "dir(dict)"
   ]
  },
  {
   "cell_type": "code",
   "execution_count": 24,
   "id": "84812e8b-7758-4c22-80ee-69a2d443fe25",
   "metadata": {},
   "outputs": [
    {
     "data": {
      "text/plain": [
       "['__add__',\n",
       " '__class__',\n",
       " '__class_getitem__',\n",
       " '__contains__',\n",
       " '__delattr__',\n",
       " '__dir__',\n",
       " '__doc__',\n",
       " '__eq__',\n",
       " '__format__',\n",
       " '__ge__',\n",
       " '__getattribute__',\n",
       " '__getitem__',\n",
       " '__getnewargs__',\n",
       " '__gt__',\n",
       " '__hash__',\n",
       " '__init__',\n",
       " '__init_subclass__',\n",
       " '__iter__',\n",
       " '__le__',\n",
       " '__len__',\n",
       " '__lt__',\n",
       " '__mul__',\n",
       " '__ne__',\n",
       " '__new__',\n",
       " '__reduce__',\n",
       " '__reduce_ex__',\n",
       " '__repr__',\n",
       " '__rmul__',\n",
       " '__setattr__',\n",
       " '__sizeof__',\n",
       " '__str__',\n",
       " '__subclasshook__',\n",
       " 'count',\n",
       " 'index']"
      ]
     },
     "execution_count": 24,
     "metadata": {},
     "output_type": "execute_result"
    }
   ],
   "source": [
    "dir(tuple)"
   ]
  },
  {
   "cell_type": "markdown",
   "id": "2f42e324-b2c5-4ab0-bf39-9f12cee8a755",
   "metadata": {},
   "source": [
    "# property decorators"
   ]
  },
  {
   "cell_type": "code",
   "execution_count": 25,
   "id": "34c7cc62-0b45-4b01-8436-f33a2436c8f1",
   "metadata": {},
   "outputs": [],
   "source": [
    "class pwskills:\n",
    "    def __init__(self,price,coursename):\n",
    "        self.__price=price\n",
    "        self.coursename=coursename"
   ]
  },
  {
   "cell_type": "code",
   "execution_count": 27,
   "id": "76470459-ff90-4107-8597-849300865ec6",
   "metadata": {},
   "outputs": [],
   "source": [
    "pw=pwskills(3500,'data science masters')"
   ]
  },
  {
   "cell_type": "code",
   "execution_count": 28,
   "id": "ba89e57c-b11a-437a-9263-075823aa4d8a",
   "metadata": {},
   "outputs": [
    {
     "data": {
      "text/plain": [
       "'data science masters'"
      ]
     },
     "execution_count": 28,
     "metadata": {},
     "output_type": "execute_result"
    }
   ],
   "source": [
    "pw.coursename"
   ]
  },
  {
   "cell_type": "code",
   "execution_count": 33,
   "id": "b0c443d7-c22a-4358-947f-1db695524bbc",
   "metadata": {},
   "outputs": [
    {
     "data": {
      "text/plain": [
       "3500"
      ]
     },
     "execution_count": 33,
     "metadata": {},
     "output_type": "execute_result"
    }
   ],
   "source": [
    "pw._pwskills__price"
   ]
  },
  {
   "cell_type": "code",
   "execution_count": 35,
   "id": "f5b9d42e-494d-4fe7-a494-bebc1f8b496f",
   "metadata": {},
   "outputs": [],
   "source": [
    "class pwskills:\n",
    "    def __init__(self,price,coursename):\n",
    "        self.__price=price\n",
    "        self.coursename=coursename\n",
    "    \n",
    "    @property #to expose class property to external user..in this case it is price\n",
    "    def price_access(self):\n",
    "        return self.__price"
   ]
  },
  {
   "cell_type": "code",
   "execution_count": 36,
   "id": "5912c773-6215-4eeb-b188-08aeb06acca0",
   "metadata": {},
   "outputs": [],
   "source": [
    "pw=pwskills(3500,'data science masters')"
   ]
  },
  {
   "cell_type": "code",
   "execution_count": 39,
   "id": "2b9013dd-50d3-40b5-80ce-4af6993298a8",
   "metadata": {},
   "outputs": [
    {
     "ename": "AttributeError",
     "evalue": "'pwskills' object has no attribute '__price'",
     "output_type": "error",
     "traceback": [
      "\u001b[0;31m---------------------------------------------------------------------------\u001b[0m",
      "\u001b[0;31mAttributeError\u001b[0m                            Traceback (most recent call last)",
      "Cell \u001b[0;32mIn[39], line 1\u001b[0m\n\u001b[0;32m----> 1\u001b[0m \u001b[43mpw\u001b[49m\u001b[38;5;241;43m.\u001b[39;49m\u001b[43m__price\u001b[49m\n",
      "\u001b[0;31mAttributeError\u001b[0m: 'pwskills' object has no attribute '__price'"
     ]
    }
   ],
   "source": [
    "pw.__price"
   ]
  },
  {
   "cell_type": "code",
   "execution_count": 38,
   "id": "389af40d-2edf-4cbd-bebe-b68548050a39",
   "metadata": {},
   "outputs": [
    {
     "data": {
      "text/plain": [
       "3500"
      ]
     },
     "execution_count": 38,
     "metadata": {},
     "output_type": "execute_result"
    }
   ],
   "source": [
    "pw.price_access #price will be displayed"
   ]
  },
  {
   "cell_type": "code",
   "execution_count": 44,
   "id": "04170234-8811-4ddc-a259-2ff24d04d039",
   "metadata": {},
   "outputs": [],
   "source": [
    "# give access to external user to modify private variable..use setter decorator\n",
    "class pwskills:\n",
    "    def __init__(self,price,coursename):\n",
    "        self.__price=price\n",
    "        self.coursename=coursename\n",
    "    \n",
    "    @property #to expose class property to external user..in this case it is price # this is is the getter\n",
    "    def price_access(self):\n",
    "        return self.__price\n",
    "    \n",
    "    @price_access.setter\n",
    "    def price_set(self,price):\n",
    "        self.__price=price"
   ]
  },
  {
   "cell_type": "code",
   "execution_count": 45,
   "id": "f992c9c9-52bc-4c9d-9e79-34fadafacc31",
   "metadata": {},
   "outputs": [],
   "source": [
    "pw=pwskills(3500,'data science master')"
   ]
  },
  {
   "cell_type": "code",
   "execution_count": 47,
   "id": "20406a5e-3565-488a-83d6-df515f0953a6",
   "metadata": {},
   "outputs": [],
   "source": [
    "pw.price_set=4000"
   ]
  },
  {
   "cell_type": "code",
   "execution_count": 48,
   "id": "3777f9fc-429b-459b-93d9-74c5d2d36e90",
   "metadata": {},
   "outputs": [
    {
     "data": {
      "text/plain": [
       "4000"
      ]
     },
     "execution_count": 48,
     "metadata": {},
     "output_type": "execute_result"
    }
   ],
   "source": [
    "pw.price_access"
   ]
  },
  {
   "cell_type": "code",
   "execution_count": 49,
   "id": "7649902c-ce51-4c41-9ed9-68dfbd9f094a",
   "metadata": {},
   "outputs": [],
   "source": [
    "class pwskills:\n",
    "    def __init__(self,price,coursename):\n",
    "        self.__price=price            #single underscore used for protected variable and double underscore for private variable\n",
    "        self.coursename=coursename\n",
    "    \n",
    "    @property #to expose class property to external user..in this case it is price\n",
    "    def price_access(self):\n",
    "        return self.__price\n",
    "    \n",
    "    @price_access.setter\n",
    "    def price_set(self,price):\n",
    "        self.__price=price\n",
    "    \n",
    "    @price_access.deleter #to delete private variable\n",
    "    def price_delete(self):\n",
    "        del self.__price\n",
    "    "
   ]
  },
  {
   "cell_type": "code",
   "execution_count": 50,
   "id": "71900883-eebe-4294-b005-a6442155b0de",
   "metadata": {},
   "outputs": [],
   "source": [
    "pw=pwskills(3500,'data science master')"
   ]
  },
  {
   "cell_type": "code",
   "execution_count": 52,
   "id": "f8c6846c-6908-4e61-88fa-1f6ba7d826d2",
   "metadata": {},
   "outputs": [],
   "source": [
    "del pw.price_delete"
   ]
  },
  {
   "cell_type": "code",
   "execution_count": 53,
   "id": "56e29674-6daa-464d-b939-e9bbbdaafc98",
   "metadata": {},
   "outputs": [
    {
     "ename": "AttributeError",
     "evalue": "'pwskills' object has no attribute '_pwskills__price'",
     "output_type": "error",
     "traceback": [
      "\u001b[0;31m---------------------------------------------------------------------------\u001b[0m",
      "\u001b[0;31mAttributeError\u001b[0m                            Traceback (most recent call last)",
      "Cell \u001b[0;32mIn[53], line 1\u001b[0m\n\u001b[0;32m----> 1\u001b[0m \u001b[43mpw\u001b[49m\u001b[38;5;241;43m.\u001b[39;49m\u001b[43mprice_access\u001b[49m\n",
      "Cell \u001b[0;32mIn[49], line 8\u001b[0m, in \u001b[0;36mpwskills.price_access\u001b[0;34m(self)\u001b[0m\n\u001b[1;32m      6\u001b[0m \u001b[38;5;129m@property\u001b[39m \u001b[38;5;66;03m#to expose class property to external user..in this case it is price\u001b[39;00m\n\u001b[1;32m      7\u001b[0m \u001b[38;5;28;01mdef\u001b[39;00m \u001b[38;5;21mprice_access\u001b[39m(\u001b[38;5;28mself\u001b[39m):\n\u001b[0;32m----> 8\u001b[0m     \u001b[38;5;28;01mreturn\u001b[39;00m \u001b[38;5;28;43mself\u001b[39;49m\u001b[38;5;241;43m.\u001b[39;49m\u001b[43m__price\u001b[49m\n",
      "\u001b[0;31mAttributeError\u001b[0m: 'pwskills' object has no attribute '_pwskills__price'"
     ]
    }
   ],
   "source": [
    "pw.price_access"
   ]
  }
 ],
 "metadata": {
  "kernelspec": {
   "display_name": "Python 3 (ipykernel)",
   "language": "python",
   "name": "python3"
  },
  "language_info": {
   "codemirror_mode": {
    "name": "ipython",
    "version": 3
   },
   "file_extension": ".py",
   "mimetype": "text/x-python",
   "name": "python",
   "nbconvert_exporter": "python",
   "pygments_lexer": "ipython3",
   "version": "3.10.8"
  }
 },
 "nbformat": 4,
 "nbformat_minor": 5
}
