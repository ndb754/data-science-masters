{
 "cells": [
  {
   "cell_type": "code",
   "execution_count": 1,
   "id": "2a09f1a5-4536-46a7-a90b-e8f5064fc3e6",
   "metadata": {},
   "outputs": [],
   "source": [
    "#Q1. Which function is used to open a file? What are the different modes of opening a file? Explain each mode\n",
    "#of file opening.\n",
    " # open() is used to open a file.\n",
    "# different modes of opening file are read,write,append,binary mode\n",
    "f=open(\"test.txt\",'w') # this will open the file named test.txt in current directory in write mode"
   ]
  },
  {
   "cell_type": "code",
   "execution_count": 3,
   "id": "c4d1e2bf-7a84-47a8-ba17-d67843998be8",
   "metadata": {},
   "outputs": [
    {
     "data": {
      "text/plain": [
       "46"
      ]
     },
     "execution_count": 3,
     "metadata": {},
     "output_type": "execute_result"
    }
   ],
   "source": [
    "f.write('hello user this is a data science master class')"
   ]
  },
  {
   "cell_type": "code",
   "execution_count": 8,
   "id": "c2cf5065-4649-4b10-bc69-2e3c573f56eb",
   "metadata": {},
   "outputs": [],
   "source": [
    "data=open(\"test.txt\",'r') # opens file in read mode"
   ]
  },
  {
   "cell_type": "code",
   "execution_count": 9,
   "id": "89ae9175-cd13-4a81-87a9-53dd429d5378",
   "metadata": {},
   "outputs": [
    {
     "data": {
      "text/plain": [
       "'hello user this is a data science master class'"
      ]
     },
     "execution_count": 9,
     "metadata": {},
     "output_type": "execute_result"
    }
   ],
   "source": [
    "data.read()"
   ]
  },
  {
   "cell_type": "code",
   "execution_count": 18,
   "id": "907e68c4-c271-473f-8b9d-4c9d6f318b4b",
   "metadata": {},
   "outputs": [],
   "source": [
    "f=open(\"test.txt\",'a') # this will open file in append mode..anything written through write() will be appended to existing data"
   ]
  },
  {
   "cell_type": "code",
   "execution_count": 19,
   "id": "59be01f0-df36-48fb-a9ab-363a2a204122",
   "metadata": {},
   "outputs": [
    {
     "data": {
      "text/plain": [
       "26"
      ]
     },
     "execution_count": 19,
     "metadata": {},
     "output_type": "execute_result"
    }
   ],
   "source": [
    "f.write(' pleasure to have you here')"
   ]
  },
  {
   "cell_type": "code",
   "execution_count": 20,
   "id": "a6e7a865-0adf-4cee-b2e6-a4e3be9e8ad2",
   "metadata": {},
   "outputs": [],
   "source": [
    "f.close()\n",
    "data.seek(0)\n",
    "data=open(\"test.txt\",'r')"
   ]
  },
  {
   "cell_type": "code",
   "execution_count": 21,
   "id": "d211a259-649f-456e-b3ea-eb8b27b98bf0",
   "metadata": {},
   "outputs": [
    {
     "data": {
      "text/plain": [
       "'hello user this is a data science master classpleasure to have you here pleasure to have you here'"
      ]
     },
     "execution_count": 21,
     "metadata": {},
     "output_type": "execute_result"
    }
   ],
   "source": [
    "data.read()"
   ]
  },
  {
   "cell_type": "code",
   "execution_count": 27,
   "id": "5bf487db-fb6f-433d-9857-e98ac26b83aa",
   "metadata": {},
   "outputs": [],
   "source": [
    "f=open('test.bin','wb') #opens file in 'binary mode'"
   ]
  },
  {
   "cell_type": "code",
   "execution_count": 28,
   "id": "b831cf23-13b0-4bda-bd32-e3ef13cb3d17",
   "metadata": {},
   "outputs": [
    {
     "data": {
      "text/plain": [
       "3"
      ]
     },
     "execution_count": 28,
     "metadata": {},
     "output_type": "execute_result"
    }
   ],
   "source": [
    "f.write(b\"\\x01\\x02\\x03\")"
   ]
  },
  {
   "cell_type": "code",
   "execution_count": 29,
   "id": "761dba72-585c-4833-9ff9-b34ea76802ee",
   "metadata": {},
   "outputs": [],
   "source": [
    "f=open('test.bin','rb')"
   ]
  },
  {
   "cell_type": "code",
   "execution_count": 30,
   "id": "f908f969-8dd3-45bb-92ac-1fef84954c0f",
   "metadata": {},
   "outputs": [
    {
     "data": {
      "text/plain": [
       "b'\\x01\\x02\\x03'"
      ]
     },
     "execution_count": 30,
     "metadata": {},
     "output_type": "execute_result"
    }
   ],
   "source": [
    "f.read()"
   ]
  },
  {
   "cell_type": "code",
   "execution_count": 31,
   "id": "06fc270f-05c8-4b81-941a-12059f3c01b5",
   "metadata": {},
   "outputs": [],
   "source": [
    "#Q2. Why close() function is used? Why is it important to close a file?\n",
    "# close function is used to to close the file opened after read and write operations\n",
    "# it is important to close file  as we have limited resources that are being managed by the operating system. Hence, closing the files properly helps to protect against hard-to-debug errors like file handles running out or experiencing corrupted data.\n",
    "# and also files are closed to prevent the modification of data as it raises error after close() is we try to do write()"
   ]
  },
  {
   "cell_type": "code",
   "execution_count": 33,
   "id": "46d6e001-d790-4399-a6eb-e5af9c0e9906",
   "metadata": {},
   "outputs": [],
   "source": [
    "#Q3. Write a python program to create a text file. Write ‘I want to become a Data Scientist’ in that file. Then\n",
    "#close the file. Open this file and read the content of the file.\n",
    "f=open('test5.txt','w')"
   ]
  },
  {
   "cell_type": "code",
   "execution_count": 34,
   "id": "cdd9e6d0-9d24-4e50-b9a3-788c4d8773be",
   "metadata": {},
   "outputs": [
    {
     "data": {
      "text/plain": [
       "33"
      ]
     },
     "execution_count": 34,
     "metadata": {},
     "output_type": "execute_result"
    }
   ],
   "source": [
    "f.write('i want to become a data scientist')"
   ]
  },
  {
   "cell_type": "code",
   "execution_count": 35,
   "id": "bbb2983a-d289-4c53-9736-02f03a5ff4f8",
   "metadata": {},
   "outputs": [],
   "source": [
    "f.close()"
   ]
  },
  {
   "cell_type": "code",
   "execution_count": 36,
   "id": "1678d853-a021-4949-8fa3-19468d366f34",
   "metadata": {},
   "outputs": [
    {
     "data": {
      "text/plain": [
       "'i want to become a data scientist'"
      ]
     },
     "execution_count": 36,
     "metadata": {},
     "output_type": "execute_result"
    }
   ],
   "source": [
    "f=open('test5.txt','r')\n",
    "f.read()"
   ]
  },
  {
   "cell_type": "code",
   "execution_count": 1,
   "id": "e31cf0ad-db2f-4887-a02a-8cb97d895996",
   "metadata": {},
   "outputs": [],
   "source": [
    "#Q5. Explain why with statement is used with open(). What is the advantage of using with statement and\n",
    "#open() together?\n",
    "# using with statement with open() doesnt require the closing of file through close().Hence with statement is used for exception handling and management of resources and avoiding bugs by releasing resources."
   ]
  },
  {
   "cell_type": "code",
   "execution_count": 30,
   "id": "deac1aa9-7813-4ba9-9ab1-1b6981456620",
   "metadata": {},
   "outputs": [],
   "source": [
    "#Q6. Explain the write() and writelines() functions. Give a suitable example.\n",
    "#The write() method accepts a string as an argument and writes this string to the text file. \n",
    "#Whereas, the writelines() method accepts an iterable i.e. a string or the list of strings as an argument and writes these strings to the text file\n",
    "with open('test.txt','w') as f:\n",
    "    f.write('hello user this is data science master class')\n",
    "    f.writelines(['\\n hello user','\\n this is data science master class'])\n"
   ]
  },
  {
   "cell_type": "code",
   "execution_count": 31,
   "id": "9c6b877c-74bd-4e72-aede-0fc774f5ee7f",
   "metadata": {},
   "outputs": [
    {
     "name": "stdout",
     "output_type": "stream",
     "text": [
      "hello user this is data science master class\n",
      " hello user\n",
      " this is data science master class\n"
     ]
    }
   ],
   "source": [
    "f=open('test.txt','r')\n",
    "print(f.read())"
   ]
  },
  {
   "cell_type": "code",
   "execution_count": null,
   "id": "ff0b3417-6263-45c5-9b6d-67f8920a5a1b",
   "metadata": {},
   "outputs": [],
   "source": []
  }
 ],
 "metadata": {
  "kernelspec": {
   "display_name": "Python 3 (ipykernel)",
   "language": "python",
   "name": "python3"
  },
  "language_info": {
   "codemirror_mode": {
    "name": "ipython",
    "version": 3
   },
   "file_extension": ".py",
   "mimetype": "text/x-python",
   "name": "python",
   "nbconvert_exporter": "python",
   "pygments_lexer": "ipython3",
   "version": "3.10.8"
  }
 },
 "nbformat": 4,
 "nbformat_minor": 5
}
