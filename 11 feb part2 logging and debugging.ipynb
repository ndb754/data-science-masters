{
 "cells": [
  {
   "cell_type": "markdown",
   "id": "9450864f-7369-4b59-99a5-0867b7b48912",
   "metadata": {},
   "source": [
    "# logging and debugging"
   ]
  },
  {
   "cell_type": "code",
   "execution_count": 18,
   "id": "83155731-fe54-4726-8022-3d92a565f8c4",
   "metadata": {},
   "outputs": [],
   "source": [
    "#creating a log for storing information...used in place of print statement in industry\n",
    "import logging"
   ]
  },
  {
   "cell_type": "code",
   "execution_count": 3,
   "id": "d02db372-498b-44d4-9505-511ca1c23fa3",
   "metadata": {},
   "outputs": [],
   "source": [
    "logging.basicConfig(filename='test1.log',level = logging.INFO)"
   ]
  },
  {
   "cell_type": "code",
   "execution_count": 4,
   "id": "be446fbe-0bb7-40c4-8ede-fee030d128f5",
   "metadata": {},
   "outputs": [],
   "source": [
    "logging.info('this is my line of execution ')"
   ]
  },
  {
   "cell_type": "code",
   "execution_count": 5,
   "id": "8ef6823a-19b1-4215-9ba5-98c0b5649b77",
   "metadata": {},
   "outputs": [],
   "source": [
    "logging.error('this is my error') # info error and critical are labels in log"
   ]
  },
  {
   "cell_type": "code",
   "execution_count": 6,
   "id": "9c2b9510-c8c4-4f1b-9967-9cc1297523ce",
   "metadata": {},
   "outputs": [],
   "source": [
    "logging.critical('this is my critical')"
   ]
  },
  {
   "cell_type": "code",
   "execution_count": 7,
   "id": "7b90c28f-9592-4919-b60a-0803dbccc770",
   "metadata": {},
   "outputs": [],
   "source": [
    "logging.info('this is my line of execution')"
   ]
  },
  {
   "cell_type": "code",
   "execution_count": 8,
   "id": "9fedc92a-eecd-4525-99bb-5cba46bda8d9",
   "metadata": {},
   "outputs": [],
   "source": [
    "logging.warning('this is my warning')"
   ]
  },
  {
   "cell_type": "code",
   "execution_count": 9,
   "id": "2186cb1e-146b-4432-aa4a-0e8992668828",
   "metadata": {},
   "outputs": [],
   "source": [
    "# hierachy in logging\n",
    "# 1. NOSET\n",
    "# 2. DEBUG\n",
    "# 3. INFO\n",
    "# 4. WARNING\n",
    "# 5.ERROR\n",
    "# 6.CRITICAL"
   ]
  },
  {
   "cell_type": "code",
   "execution_count": 10,
   "id": "4caace58-1e79-43fd-9a9d-5791df2cc075",
   "metadata": {},
   "outputs": [],
   "source": [
    "logging.debug('this is my debug') # will not show in log as its hierarchy is high compared to 'info' which is set as level"
   ]
  },
  {
   "cell_type": "code",
   "execution_count": 11,
   "id": "4b838302-13c0-4c71-b544-1867b5919db7",
   "metadata": {},
   "outputs": [],
   "source": [
    "logging.shutdown()"
   ]
  },
  {
   "cell_type": "code",
   "execution_count": 4,
   "id": "a6085b70-f8d0-4126-8480-90fab24e3da2",
   "metadata": {},
   "outputs": [],
   "source": [
    "logging.basicConfig(filename=\"test2.log\",level=logging.debug,format='%(asctime)s %(message)s') # will do timestamp in log"
   ]
  },
  {
   "cell_type": "code",
   "execution_count": 5,
   "id": "781f610f-c26d-439d-b92b-23f4d6f3c54a",
   "metadata": {},
   "outputs": [],
   "source": [
    "logging.info(\"this is my info\")"
   ]
  },
  {
   "cell_type": "code",
   "execution_count": 6,
   "id": "d6e3f1e7-b7d3-4ebf-82be-09ec305bfc16",
   "metadata": {},
   "outputs": [],
   "source": [
    "logging.debug(\"this is my debug\")"
   ]
  },
  {
   "cell_type": "code",
   "execution_count": 7,
   "id": "c5a20ec1-2ed5-4978-ab28-9230ab39d10f",
   "metadata": {},
   "outputs": [],
   "source": [
    "logging.shutdown()"
   ]
  },
  {
   "cell_type": "code",
   "execution_count": 9,
   "id": "aef2de03-2881-496b-ab27-ff9e0ef3588e",
   "metadata": {},
   "outputs": [],
   "source": [
    "logging.basicConfig(filename='test3.log',level=logging.debug,format='%(asctime) %(name)s %(levelname)s %(messaage)s') #this will print several other things like timestamp,levelname,message etc in log file...'s' after bracketis for string"
   ]
  },
  {
   "cell_type": "code",
   "execution_count": 4,
   "id": "734f8de8-3a97-4e57-bef0-bbd03ac57ee5",
   "metadata": {},
   "outputs": [],
   "source": [
    "logging.info('this is my info')"
   ]
  },
  {
   "cell_type": "code",
   "execution_count": 16,
   "id": "77f36a9d-4544-4576-8ee7-783850ac4ddc",
   "metadata": {},
   "outputs": [],
   "source": [
    "# implementation of logging in python program\n",
    "l=[1,2,3,4,[4,5,6],'nikhil','bhanushali']"
   ]
  },
  {
   "cell_type": "code",
   "execution_count": 20,
   "id": "0a9d096b-0828-41bc-905e-858a33536f7d",
   "metadata": {},
   "outputs": [],
   "source": [
    "import logging\n",
    "l_int=[]\n",
    "l_str=[]\n",
    "for i in l:\n",
    "    logging.info('this is start of my first for loop {}'.format(l))\n",
    "    logging.info('this is the value of my i {}'.format(i))\n",
    "    if type(i)==int:\n",
    "        l_int.append(i)\n",
    "    elif type(i)==list:\n",
    "        for j in i:\n",
    "            logging.info(\"logging my j {j} and i is {i} \".format(i=i,j=j))\n",
    "            if type(j)==int:\n",
    "                l_int.append(j)\n",
    "            elif type(j)==str:\n",
    "                l_str.append(j)\n",
    "                \n",
    "        \n",
    "    else:\n",
    "        if type(i)==str:\n",
    "            l_str.append(i)\n",
    "    logging.info(\"this is my final result with all int {l1} and all string {l2}\".format(l1=l_int,l2=l_str))\n"
   ]
  },
  {
   "cell_type": "code",
   "execution_count": 5,
   "id": "5dc5330b-c24e-495b-b490-9577ccc474f8",
   "metadata": {},
   "outputs": [
    {
     "data": {
      "text/plain": [
       "[1, 2, 3, 4, 4, 5, 6]"
      ]
     },
     "execution_count": 5,
     "metadata": {},
     "output_type": "execute_result"
    }
   ],
   "source": [
    "l_int"
   ]
  },
  {
   "cell_type": "code",
   "execution_count": 7,
   "id": "c606c67d-abf2-460b-a644-829d7ed48bc3",
   "metadata": {},
   "outputs": [
    {
     "data": {
      "text/plain": [
       "['nikhil', 'bhanushali']"
      ]
     },
     "execution_count": 7,
     "metadata": {},
     "output_type": "execute_result"
    }
   ],
   "source": [
    "l_string"
   ]
  },
  {
   "cell_type": "code",
   "execution_count": null,
   "id": "20c3f39d-4a4d-42ba-90fa-597409a93587",
   "metadata": {},
   "outputs": [],
   "source": []
  }
 ],
 "metadata": {
  "kernelspec": {
   "display_name": "Python 3 (ipykernel)",
   "language": "python",
   "name": "python3"
  },
  "language_info": {
   "codemirror_mode": {
    "name": "ipython",
    "version": 3
   },
   "file_extension": ".py",
   "mimetype": "text/x-python",
   "name": "python",
   "nbconvert_exporter": "python",
   "pygments_lexer": "ipython3",
   "version": "3.10.8"
  }
 },
 "nbformat": 4,
 "nbformat_minor": 5
}
