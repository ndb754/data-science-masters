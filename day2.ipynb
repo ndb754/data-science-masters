{
 "cells": [
  {
   "cell_type": "code",
   "execution_count": 1,
   "id": "2e41237c-32c4-426a-a2cc-8c585b69f816",
   "metadata": {},
   "outputs": [
    {
     "data": {
      "text/plain": [
       "123"
      ]
     },
     "execution_count": 1,
     "metadata": {},
     "output_type": "execute_result"
    }
   ],
   "source": [
    "int(123)"
   ]
  },
  {
   "cell_type": "code",
   "execution_count": 2,
   "id": "ebcb73d3-0c9e-4437-8631-4ff51cdd736e",
   "metadata": {},
   "outputs": [
    {
     "data": {
      "text/plain": [
       "0"
      ]
     },
     "execution_count": 2,
     "metadata": {},
     "output_type": "execute_result"
    }
   ],
   "source": [
    "int()"
   ]
  },
  {
   "cell_type": "code",
   "execution_count": 3,
   "id": "d7a0dfb2-efaa-421b-8de3-6f697ca54012",
   "metadata": {},
   "outputs": [
    {
     "ename": "ValueError",
     "evalue": "invalid literal for int() with base 10: 'abcd'",
     "output_type": "error",
     "traceback": [
      "\u001b[0;31m---------------------------------------------------------------------------\u001b[0m",
      "\u001b[0;31mValueError\u001b[0m                                Traceback (most recent call last)",
      "Cell \u001b[0;32mIn[3], line 1\u001b[0m\n\u001b[0;32m----> 1\u001b[0m \u001b[38;5;28;43mint\u001b[39;49m\u001b[43m(\u001b[49m\u001b[38;5;124;43m'\u001b[39;49m\u001b[38;5;124;43mabcd\u001b[39;49m\u001b[38;5;124;43m'\u001b[39;49m\u001b[43m)\u001b[49m\n",
      "\u001b[0;31mValueError\u001b[0m: invalid literal for int() with base 10: 'abcd'"
     ]
    }
   ],
   "source": [
    "int('abcd')"
   ]
  },
  {
   "cell_type": "code",
   "execution_count": 4,
   "id": "a3551536-2539-44c4-847e-17e9943b603a",
   "metadata": {},
   "outputs": [
    {
     "data": {
      "text/plain": [
       "'abcd'"
      ]
     },
     "execution_count": 4,
     "metadata": {},
     "output_type": "execute_result"
    }
   ],
   "source": [
    "str(\"abcd\")"
   ]
  },
  {
   "cell_type": "code",
   "execution_count": 5,
   "id": "d78d143a-789b-419e-8f4e-87a157d9cac6",
   "metadata": {},
   "outputs": [
    {
     "name": "stdout",
     "output_type": "stream",
     "text": [
      "hello world\n"
     ]
    }
   ],
   "source": [
    "print(\"hello world\")"
   ]
  },
  {
   "cell_type": "code",
   "execution_count": 6,
   "id": "797c67cb-ce5e-49ef-a097-9566031b00dc",
   "metadata": {},
   "outputs": [
    {
     "ename": "SyntaxError",
     "evalue": "invalid syntax. Perhaps you forgot a comma? (2497053111.py, line 1)",
     "output_type": "error",
     "traceback": [
      "\u001b[0;36m  Cell \u001b[0;32mIn[6], line 1\u001b[0;36m\u001b[0m\n\u001b[0;31m    print(hello world)\u001b[0m\n\u001b[0m          ^\u001b[0m\n\u001b[0;31mSyntaxError\u001b[0m\u001b[0;31m:\u001b[0m invalid syntax. Perhaps you forgot a comma?\n"
     ]
    }
   ],
   "source": [
    "print(hello world)"
   ]
  },
  {
   "cell_type": "code",
   "execution_count": 7,
   "id": "de2c8ba6-1b38-4dfd-8323-9faacc57e1aa",
   "metadata": {},
   "outputs": [
    {
     "name": "stdout",
     "output_type": "stream",
     "text": [
      "my age is : 32\n"
     ]
    }
   ],
   "source": [
    "age=32\n",
    "print(\"my age is :\",age)"
   ]
  },
  {
   "cell_type": "code",
   "execution_count": 9,
   "id": "f5f3e2a3-fdbd-439b-93ee-d90cfd74e1e8",
   "metadata": {},
   "outputs": [
    {
     "name": "stdout",
     "output_type": "stream",
     "text": [
      "my age is:{age}\n"
     ]
    }
   ],
   "source": [
    "print(\"my age is:{age}\")"
   ]
  },
  {
   "cell_type": "code",
   "execution_count": 11,
   "id": "c98cb853-99bd-4f5a-a323-350b4fa1c327",
   "metadata": {},
   "outputs": [
    {
     "name": "stdout",
     "output_type": "stream",
     "text": [
      "my age is:32\n"
     ]
    }
   ],
   "source": [
    "# f string for formatting\n",
    "print(f\"my age is:{age}\")"
   ]
  },
  {
   "cell_type": "code",
   "execution_count": 12,
   "id": "ebb732a4-f395-4693-8662-273b428e9b83",
   "metadata": {},
   "outputs": [],
   "source": [
    "# format()"
   ]
  },
  {
   "cell_type": "code",
   "execution_count": 13,
   "id": "be3f89e1-4673-46e7-a3b0-a3381d91a006",
   "metadata": {},
   "outputs": [
    {
     "name": "stdout",
     "output_type": "stream",
     "text": [
      "my name is nikhil and my age is 32\n"
     ]
    }
   ],
   "source": [
    "name=\"nikhil\"\n",
    "age=32\n",
    "print(\"my name is {} and my age is {}\".format(name,age))"
   ]
  },
  {
   "cell_type": "code",
   "execution_count": 14,
   "id": "1d80b417-8db3-45ec-8392-c8db663678b4",
   "metadata": {},
   "outputs": [
    {
     "name": "stdout",
     "output_type": "stream",
     "text": [
      "my name is nikhil and my age is 32\n"
     ]
    }
   ],
   "source": [
    "# placeholder\n",
    "print(\"my name is {firstname} and my age is {firstage}\".format(firstname=name,firstage=age))"
   ]
  },
  {
   "cell_type": "code",
   "execution_count": 19,
   "id": "fcdcc9d5-96b8-4bc2-b354-7a254be5c6de",
   "metadata": {},
   "outputs": [
    {
     "name": "stdout",
     "output_type": "stream",
     "text": [
      "my age is 32 and i have completed my BE with name nikhil\n"
     ]
    }
   ],
   "source": [
    "age=32\n",
    "name=\"nikhil\"\n",
    "degree=\"BE\"\n",
    "print(\"my age is {} and i have completed my {} with name {}\".format(age,degree,name))"
   ]
  },
  {
   "cell_type": "code",
   "execution_count": 20,
   "id": "e1efe88b-aeaf-44bc-9ee2-980bbaed37a5",
   "metadata": {},
   "outputs": [
    {
     "name": "stdout",
     "output_type": "stream",
     "text": [
      "my age is 32 and i have completed my BE with name nikhil\n"
     ]
    }
   ],
   "source": [
    "print(f\"my age is {age} and i have completed my {degree} with name {name}\")"
   ]
  },
  {
   "cell_type": "markdown",
   "id": "bc1a434d-afa3-4dcb-b57d-f544fa4360da",
   "metadata": {},
   "source": [
    "# control flow\n",
    "## decision making statements"
   ]
  },
  {
   "cell_type": "code",
   "execution_count": 21,
   "id": "e115a7ca-3dd2-48f3-bef5-bd5eb9a5f441",
   "metadata": {},
   "outputs": [],
   "source": [
    "# if statements"
   ]
  },
  {
   "cell_type": "code",
   "execution_count": 26,
   "id": "6f98c9ff-7411-4385-8dcb-f0dccfa5f76a",
   "metadata": {},
   "outputs": [
    {
     "name": "stdout",
     "output_type": "stream",
     "text": [
      "you are eligible to vote\n"
     ]
    }
   ],
   "source": [
    "age=18\n",
    "if (age>=18):\n",
    "    print(\"you are eligible to vote\")"
   ]
  },
  {
   "cell_type": "code",
   "execution_count": 27,
   "id": "24c4739e-828e-4b47-967a-915ab1f4109e",
   "metadata": {},
   "outputs": [
    {
     "name": "stdout",
     "output_type": "stream",
     "text": [
      "you are eligible to vote\n"
     ]
    }
   ],
   "source": [
    "if age>=18:\n",
    "    print(\"you are eligible to vote\")"
   ]
  },
  {
   "cell_type": "code",
   "execution_count": 29,
   "id": "f6a2647a-1476-4910-ab2f-65c9da2ec1ea",
   "metadata": {},
   "outputs": [],
   "source": [
    "# since age is greater than 18 it will not go into if block therefore no output\n",
    "if age<18:\n",
    "    print(\"you are eligible to vote\")"
   ]
  },
  {
   "cell_type": "code",
   "execution_count": 31,
   "id": "4cf4025b-f17f-47ea-a5ea-dd936051b8f9",
   "metadata": {},
   "outputs": [
    {
     "name": "stdin",
     "output_type": "stream",
     "text": [
      "enter the name nikhil\n"
     ]
    }
   ],
   "source": [
    "# input function for accepting input from user\n",
    "name=input(\"enter the name\")"
   ]
  },
  {
   "cell_type": "code",
   "execution_count": 32,
   "id": "a68e1d7b-5ad9-4c7f-8621-ea6f4f06a7b8",
   "metadata": {},
   "outputs": [
    {
     "name": "stdout",
     "output_type": "stream",
     "text": [
      "nikhil\n"
     ]
    }
   ],
   "source": [
    "print(name)"
   ]
  },
  {
   "cell_type": "code",
   "execution_count": 33,
   "id": "41c1e633-ed77-4aa7-adc3-a133677c79ab",
   "metadata": {},
   "outputs": [
    {
     "name": "stdin",
     "output_type": "stream",
     "text": [
      "enter your age 18\n"
     ]
    }
   ],
   "source": [
    "age=input(\"enter your age\")"
   ]
  },
  {
   "cell_type": "code",
   "execution_count": 34,
   "id": "3e29dc45-eb0b-4b6e-a90a-fc7ea3a839e7",
   "metadata": {},
   "outputs": [
    {
     "name": "stdout",
     "output_type": "stream",
     "text": [
      "18\n"
     ]
    }
   ],
   "source": [
    "print(age)"
   ]
  },
  {
   "cell_type": "code",
   "execution_count": 36,
   "id": "87d1ded6-22f4-46b0-bb99-fbf993c30f33",
   "metadata": {},
   "outputs": [
    {
     "data": {
      "text/plain": [
       "int"
      ]
     },
     "execution_count": 36,
     "metadata": {},
     "output_type": "execute_result"
    }
   ],
   "source": [
    "type(age)"
   ]
  },
  {
   "cell_type": "code",
   "execution_count": 37,
   "id": "4c288390-52cc-4df6-bcad-190d56b81c12",
   "metadata": {},
   "outputs": [
    {
     "name": "stdin",
     "output_type": "stream",
     "text": [
      "enter your age 18\n"
     ]
    }
   ],
   "source": [
    "# typecasting\n",
    "age=int(input(\"enter your age\"))"
   ]
  },
  {
   "cell_type": "code",
   "execution_count": 38,
   "id": "829775bd-ca3f-4345-8756-d41f390044de",
   "metadata": {},
   "outputs": [
    {
     "name": "stdout",
     "output_type": "stream",
     "text": [
      "18\n"
     ]
    }
   ],
   "source": [
    "print(age)"
   ]
  },
  {
   "cell_type": "code",
   "execution_count": 43,
   "id": "a5e9678a-7429-4158-af1e-a96bedd8dcf2",
   "metadata": {},
   "outputs": [
    {
     "name": "stdin",
     "output_type": "stream",
     "text": [
      "enter the age 25\n"
     ]
    },
    {
     "ename": "TypeError",
     "evalue": "'>=' not supported between instances of 'str' and 'int'",
     "output_type": "error",
     "traceback": [
      "\u001b[0;31m---------------------------------------------------------------------------\u001b[0m",
      "\u001b[0;31mTypeError\u001b[0m                                 Traceback (most recent call last)",
      "Cell \u001b[0;32mIn[43], line 2\u001b[0m\n\u001b[1;32m      1\u001b[0m age\u001b[38;5;241m=\u001b[39m\u001b[38;5;28minput\u001b[39m(\u001b[38;5;124m\"\u001b[39m\u001b[38;5;124menter the age\u001b[39m\u001b[38;5;124m\"\u001b[39m)\n\u001b[0;32m----> 2\u001b[0m \u001b[38;5;28;01mif\u001b[39;00m (\u001b[43mage\u001b[49m\u001b[38;5;241;43m>\u001b[39;49m\u001b[38;5;241;43m=\u001b[39;49m\u001b[38;5;241;43m18\u001b[39;49m \u001b[38;5;129;01mor\u001b[39;00m age\u001b[38;5;241m<\u001b[39m\u001b[38;5;241m=\u001b[39m\u001b[38;5;241m45\u001b[39m):\n\u001b[1;32m      3\u001b[0m     \u001b[38;5;28mprint\u001b[39m(\u001b[38;5;124m\"\u001b[39m\u001b[38;5;124myou are eligible to vote\u001b[39m\u001b[38;5;124m\"\u001b[39m)\n",
      "\u001b[0;31mTypeError\u001b[0m: '>=' not supported between instances of 'str' and 'int'"
     ]
    }
   ],
   "source": [
    "age=input(\"enter the age\")\n",
    "if (age>=18 and age<=45):\n",
    "    print(\"you are eligible to vote\")"
   ]
  },
  {
   "cell_type": "code",
   "execution_count": 44,
   "id": "6c3285f5-9306-4e4e-9c03-c8fb50afbe4f",
   "metadata": {},
   "outputs": [
    {
     "name": "stdin",
     "output_type": "stream",
     "text": [
      "enter the age 25\n"
     ]
    },
    {
     "name": "stdout",
     "output_type": "stream",
     "text": [
      "you are eligible to vote\n"
     ]
    }
   ],
   "source": [
    "#  using typecasting\n",
    "age=int(input(\"enter the age\"))\n",
    "if (age>=18 and age<=45):\n",
    "    print(\"you are eligible to vote\")\n"
   ]
  },
  {
   "cell_type": "code",
   "execution_count": 5,
   "id": "9c51f684-fef3-4f56-a1be-ce885c099708",
   "metadata": {},
   "outputs": [
    {
     "name": "stdin",
     "output_type": "stream",
     "text": [
      "enter the age 55\n"
     ]
    },
    {
     "name": "stdout",
     "output_type": "stream",
     "text": [
      "you are not eligible\n"
     ]
    }
   ],
   "source": [
    "# if else loopage=int(input(\"enter the age\"))\n",
    "age=int(input(\"enter the age\"))\n",
    "if (age>=18 and age<=45):\n",
    "    print(\"you are eligible to vote\")\n",
    "else:\n",
    "    print(\"you are not eligible\")"
   ]
  },
  {
   "cell_type": "code",
   "execution_count": 11,
   "id": "09dc0354-5da2-4774-a4dd-4fe86e429176",
   "metadata": {},
   "outputs": [
    {
     "name": "stdin",
     "output_type": "stream",
     "text": [
      "enter the product price 900\n"
     ]
    },
    {
     "name": "stdout",
     "output_type": "stream",
     "text": [
      "you get discount of 30% and so the final price is 630.0\n"
     ]
    }
   ],
   "source": [
    "# assignment\n",
    "product_price=int(input(\"enter the product price\"))\n",
    "if product_price>=1000:\n",
    "    print(\"you get discount of 20% and so final price of product is\",product_price*80/100)\n",
    "else:\n",
    "        print(\"you get discount of 30% and so the final price is\",product_price*70/100)"
   ]
  },
  {
   "cell_type": "code",
   "execution_count": 12,
   "id": "28a35196-49c6-44a8-9b04-0eb10a3e6295",
   "metadata": {},
   "outputs": [
    {
     "name": "stdin",
     "output_type": "stream",
     "text": [
      "enter the product price 750\n"
     ]
    },
    {
     "name": "stdout",
     "output_type": "stream",
     "text": [
      "you get discount of 30% and so the final price is525.0\n"
     ]
    }
   ],
   "source": [
    "\n",
    "product_price=int(input(\"enter the product price\"))\n",
    "if product_price>=1000:\n",
    "    print(f\"you get discount of 20% and so final price of product is {product_price*80/100}\")\n",
    "else:\n",
    "        print(f\"you get discount of 30% and so the final price is {product_price*70/100}\")"
   ]
  },
  {
   "cell_type": "code",
   "execution_count": 13,
   "id": "909ecaec-1544-4818-b12b-5eb71f1ab068",
   "metadata": {},
   "outputs": [
    {
     "name": "stdin",
     "output_type": "stream",
     "text": [
      "enter the product price 850\n"
     ]
    },
    {
     "name": "stdout",
     "output_type": "stream",
     "text": [
      "you get discount of 30% and so the final price is 595.0\n"
     ]
    }
   ],
   "source": [
    "product_price=int(input(\"enter the product price\"))\n",
    "if product_price>=1000:\n",
    "    print(\"you get discount of 20% and so final price of product is {}\".format(product_price*80/100))\n",
    "else:\n",
    "        print(\"you get discount of 30% and so the final price is {}\".format(product_price*70/100))"
   ]
  },
  {
   "cell_type": "code",
   "execution_count": 26,
   "id": "d09a3e75-149e-47ac-a3a9-3975f851e601",
   "metadata": {},
   "outputs": [
    {
     "name": "stdin",
     "output_type": "stream",
     "text": [
      "enter the product price 2999\n"
     ]
    },
    {
     "name": "stdout",
     "output_type": "stream",
     "text": [
      "you will get special gift\n",
      "you get discount of 30% and so the final price is 2099.3\n"
     ]
    }
   ],
   "source": [
    "product_price=int(input(\"enter the product price\"))\n",
    "if product_price>3000:\n",
    "    print(\"you get discount of 20% and so final price of product is\",product_price*80/100)\n",
    "elif (product_price>=2000 and product_price<=3000):\n",
    "    if(product_price==2999): #nested if\n",
    "        print(\"you will get special gift\")\n",
    "        print(\"you get discount of 30% and so the final price is\",product_price*70/100)\n",
    "elif (product_price>=1000 and product_price<2000):\n",
    "    print(\"you get discount of 40% and so the final price is\",product_price*60/100)\n",
    "else:\n",
    "    print(\"you get discount of 50% and so the final price is\",product_price*50/100)"
   ]
  },
  {
   "cell_type": "markdown",
   "id": "13cc1b27-4441-45ff-b642-e90adb692abc",
   "metadata": {},
   "source": [
    "# loops\n",
    "1. while loop\n",
    "2. for loop\n",
    "3. nested loop\n",
    "4. loop controls(break,continue,pass)"
   ]
  },
  {
   "cell_type": "markdown",
   "id": "4c5c0e1f-49e7-4319-a4c7-8b95db470c84",
   "metadata": {},
   "source": [
    "# while statement "
   ]
  },
  {
   "cell_type": "code",
   "execution_count": null,
   "id": "9cb3b5bf-d5b9-487a-9800-1ef2a6f1c07d",
   "metadata": {},
   "outputs": [],
   "source": [
    "# while statement\n",
    "joining_age=int(input(\"enter joining age\"))\n",
    "while joining_age<=60:\n",
    "    print(joining_age)\n",
    "    joining_age=joining_age+1\n",
    "else:\n",
    "    print(\"its time to retire\")"
   ]
  },
  {
   "cell_type": "code",
   "execution_count": 40,
   "id": "d0ad874c-0f7e-4791-b0f5-28cad18baa36",
   "metadata": {},
   "outputs": [
    {
     "name": "stdin",
     "output_type": "stream",
     "text": [
      "enter total balance 1000\n"
     ]
    },
    {
     "name": "stdout",
     "output_type": "stream",
     "text": [
      "1000\n",
      "900\n",
      "800\n",
      "700\n",
      "600\n",
      "500\n",
      "400\n",
      "300\n",
      "200\n",
      "100\n",
      "put more money\n"
     ]
    }
   ],
   "source": [
    "# atm machine with 1000rs\n",
    "amount=int(input(\"enter total balance\"))\n",
    "while amount!=0:\n",
    "    print(amount)\n",
    "    amount=amount-100\n",
    "else:\n",
    "    print(\"put more money\")"
   ]
  },
  {
   "cell_type": "markdown",
   "id": "9e7fad13-35d8-40f2-8f2b-a3f0205f4305",
   "metadata": {},
   "source": [
    "# for loop"
   ]
  },
  {
   "cell_type": "code",
   "execution_count": 43,
   "id": "2d8d9fff-3205-4cc3-8a9b-2a33697beea4",
   "metadata": {},
   "outputs": [
    {
     "data": {
      "text/plain": [
       "list"
      ]
     },
     "execution_count": 43,
     "metadata": {},
     "output_type": "execute_result"
    }
   ],
   "source": [
    "# list(data structure)\n",
    "lst=[\"nikhil\",1,2,3,4,5,\"apple\",\"mango\"]\n",
    "type(lst)"
   ]
  },
  {
   "cell_type": "code",
   "execution_count": 44,
   "id": "4db3fe3a-853e-41fc-aadd-ecd09ff4f752",
   "metadata": {},
   "outputs": [
    {
     "data": {
      "text/plain": [
       "'nikhil'"
      ]
     },
     "execution_count": 44,
     "metadata": {},
     "output_type": "execute_result"
    }
   ],
   "source": [
    "lst[0]"
   ]
  },
  {
   "cell_type": "code",
   "execution_count": 45,
   "id": "63ec5b7b-e9b2-4c95-b5d4-bbe49aac054c",
   "metadata": {},
   "outputs": [
    {
     "data": {
      "text/plain": [
       "'mango'"
      ]
     },
     "execution_count": 45,
     "metadata": {},
     "output_type": "execute_result"
    }
   ],
   "source": [
    "lst[7]"
   ]
  },
  {
   "cell_type": "code",
   "execution_count": 52,
   "id": "1d72761b-058a-4ff4-87c7-8ad7ee7307d4",
   "metadata": {},
   "outputs": [
    {
     "name": "stdout",
     "output_type": "stream",
     "text": [
      "nikhil\n",
      "1\n",
      "2\n",
      "3\n",
      "4\n",
      "5\n",
      "apple\n",
      "mango\n"
     ]
    }
   ],
   "source": [
    "# for loop is used for iteration within list\n",
    "for x in lst:             # x is temporary variable\n",
    "    print(x)"
   ]
  },
  {
   "cell_type": "code",
   "execution_count": 51,
   "id": "bd24d81b-7d91-4ecd-9c55-bc29d669b25f",
   "metadata": {},
   "outputs": [
    {
     "name": "stdout",
     "output_type": "stream",
     "text": [
      "apple\n",
      "mango\n",
      "banana\n",
      "the fruit is banana\n",
      "cherry\n"
     ]
    }
   ],
   "source": [
    "fruits_list=[\"apple\",\"mango\",\"banana\",\"cherry\"]\n",
    "for a in fruits_list:\n",
    "    print(a)\n",
    "    if a==\"banana\":\n",
    "        print(\"the fruit is banana\")"
   ]
  },
  {
   "cell_type": "code",
   "execution_count": 7,
   "id": "f5a06ac8-321a-4aa8-92a5-ef10d7a986ea",
   "metadata": {},
   "outputs": [
    {
     "name": "stdout",
     "output_type": "stream",
     "text": [
      "m\n",
      "a\n",
      "n\n",
      "g\n",
      "o\n"
     ]
    }
   ],
   "source": [
    "fruit=\"mango\"\n",
    "for a in fruit:\n",
    "    print(a)"
   ]
  },
  {
   "cell_type": "code",
   "execution_count": 3,
   "id": "4b86a1e4-44bc-489b-b747-664bed61543b",
   "metadata": {},
   "outputs": [
    {
     "data": {
      "text/plain": [
       "'g'"
      ]
     },
     "execution_count": 3,
     "metadata": {},
     "output_type": "execute_result"
    }
   ],
   "source": [
    "fruit[3]"
   ]
  },
  {
   "cell_type": "code",
   "execution_count": 5,
   "id": "11b28b8d-75fa-429f-9a9a-fe693029f89d",
   "metadata": {},
   "outputs": [
    {
     "name": "stdout",
     "output_type": "stream",
     "text": [
      "o"
     ]
    }
   ],
   "source": [
    "print(a,end='')"
   ]
  },
  {
   "cell_type": "code",
   "execution_count": 8,
   "id": "361bc09f-9e72-4cdc-8310-7e1a5111dad6",
   "metadata": {},
   "outputs": [
    {
     "name": "stdout",
     "output_type": "stream",
     "text": [
      "mango"
     ]
    }
   ],
   "source": [
    "fruit=\"mango\"\n",
    "for a in fruit:\n",
    "    print(a,end='') # to print mango in same line"
   ]
  },
  {
   "cell_type": "code",
   "execution_count": 16,
   "id": "406e08b7-5e79-45e8-b1e1-8e39b6d4b89b",
   "metadata": {},
   "outputs": [
    {
     "name": "stdout",
     "output_type": "stream",
     "text": [
      "1\n",
      "2\n",
      "3\n",
      "4\n",
      "5\n",
      "6\n",
      "7\n",
      "8\n",
      "9\n"
     ]
    }
   ],
   "source": [
    "# range function\n",
    "for i in range(1,10):\n",
    "    print(i)"
   ]
  },
  {
   "cell_type": "code",
   "execution_count": 17,
   "id": "77fd1b62-4d33-4f1d-8dfb-42dc4f87654f",
   "metadata": {},
   "outputs": [
    {
     "name": "stdout",
     "output_type": "stream",
     "text": [
      "1\n",
      "3\n",
      "5\n",
      "7\n",
      "9\n"
     ]
    }
   ],
   "source": [
    "for i in range(1,10,2):\n",
    "    print(i)"
   ]
  },
  {
   "cell_type": "markdown",
   "id": "64395d80-f773-48b4-892b-1781314d8460",
   "metadata": {},
   "source": [
    "# nested loop"
   ]
  },
  {
   "cell_type": "code",
   "execution_count": 41,
   "id": "24282108-6cd5-4fb7-9fc6-e0f8ad52ce45",
   "metadata": {},
   "outputs": [
    {
     "name": "stdout",
     "output_type": "stream",
     "text": [
      "0\n",
      "01\n",
      "012\n",
      "0123\n",
      "01234\n",
      "012345\n",
      "0123456\n"
     ]
    }
   ],
   "source": [
    "n=7\n",
    "for i in range(0,n):\n",
    "    for j in range(0,i+1):\n",
    "        print(j,end=\"\")\n",
    "    print(\"\\r\")"
   ]
  },
  {
   "cell_type": "code",
   "execution_count": 37,
   "id": "a344fb75-e854-4a98-a2a2-372624f3062f",
   "metadata": {},
   "outputs": [
    {
     "name": "stdout",
     "output_type": "stream",
     "text": [
      "*\n",
      "**\n",
      "***\n",
      "****\n",
      "*****\n",
      "******\n",
      "*******\n"
     ]
    }
   ],
   "source": [
    "n=7\n",
    "for i in range(0,n):\n",
    "    for j in range(0,i+1):\n",
    "        print(\"*\",end=\"\")\n",
    "    print(\"\\r\")"
   ]
  },
  {
   "cell_type": "code",
   "execution_count": 42,
   "id": "55df5f58-14ed-4af2-8b51-10cbbdf2773a",
   "metadata": {},
   "outputs": [
    {
     "name": "stdout",
     "output_type": "stream",
     "text": [
      "*\n",
      "\n",
      "**\n",
      "\n",
      "***\n",
      "\n",
      "****\n",
      "\n",
      "*****\n",
      "\n",
      "******\n",
      "\n",
      "*******\n",
      "\n"
     ]
    }
   ],
   "source": [
    "n=7\n",
    "for i in range(0,n):\n",
    "    for j in range(0,i+1):\n",
    "        print(\"*\",end=\"\")\n",
    "    print(\"\\n\")"
   ]
  },
  {
   "cell_type": "markdown",
   "id": "ffa0ac55-9105-4616-a88d-38a8024ed1b3",
   "metadata": {},
   "source": [
    "# loop controls\n",
    "## break and continue"
   ]
  },
  {
   "cell_type": "code",
   "execution_count": 43,
   "id": "0a2a52b0-a121-4d88-a37b-c94aec27aa01",
   "metadata": {},
   "outputs": [
    {
     "name": "stdout",
     "output_type": "stream",
     "text": [
      "apple\n",
      "mango\n",
      "banana\n",
      "cherry\n",
      "papaya\n"
     ]
    }
   ],
   "source": [
    "fruit_list=[\"apple\",\"mango\",\"banana\",\"cherry\",\"papaya\"]\n",
    "for i in fruit_list:\n",
    "    print(i)"
   ]
  },
  {
   "cell_type": "code",
   "execution_count": 59,
   "id": "276f37b8-a4e6-47cc-94cb-956522c7cbdc",
   "metadata": {},
   "outputs": [
    {
     "name": "stdout",
     "output_type": "stream",
     "text": [
      "apple\n",
      "mango\n",
      "the fruit is banana\n",
      "banana\n",
      "cherry\n",
      "papaya\n"
     ]
    }
   ],
   "source": [
    "fruit_list=[\"apple\",\"mango\",\"banana\",\"cherry\",\"papaya\"]\n",
    "for i in fruit_list:\n",
    "    if i==\"banana\":\n",
    "        print(\"the fruit is banana\")\n",
    "    print(i)"
   ]
  },
  {
   "cell_type": "code",
   "execution_count": 61,
   "id": "c7f2c88e-b5a3-4659-a3a7-90586741d3c4",
   "metadata": {},
   "outputs": [
    {
     "name": "stdout",
     "output_type": "stream",
     "text": [
      "apple\n",
      "mango\n",
      "the fruit is banana\n"
     ]
    }
   ],
   "source": [
    "fruit_list=[\"apple\",\"mango\",\"banana\",\"cherry\",\"papaya\"]\n",
    "for i in fruit_list:\n",
    "    if i==\"banana\":\n",
    "        print(\"the fruit is banana\")\n",
    "        break                               # break statement\n",
    "    print(i)"
   ]
  },
  {
   "cell_type": "code",
   "execution_count": 65,
   "id": "2767e92f-6024-4140-90be-f26c447ccdbc",
   "metadata": {},
   "outputs": [
    {
     "name": "stdout",
     "output_type": "stream",
     "text": [
      "apple\n",
      "mango\n",
      "banana\n",
      "the fruit is banana\n"
     ]
    }
   ],
   "source": [
    "fruit_list=[\"apple\",\"mango\",\"banana\",\"cherry\",\"papaya\"]\n",
    "for i in fruit_list:\n",
    "    print(i)\n",
    "    if i==\"banana\":\n",
    "        print(\"the fruit is banana\")\n",
    "        break                               # break statement"
   ]
  },
  {
   "cell_type": "code",
   "execution_count": 62,
   "id": "7fe529fe-d0dd-4119-8e32-0259dbd29afa",
   "metadata": {},
   "outputs": [
    {
     "name": "stdout",
     "output_type": "stream",
     "text": [
      "apple\n",
      "mango\n",
      "the fruit is banana\n",
      "banana\n",
      "cherry\n",
      "papaya\n"
     ]
    }
   ],
   "source": [
    "fruit_list=[\"apple\",\"mango\",\"banana\",\"cherry\",\"papaya\"]\n",
    "for i in fruit_list:\n",
    "    if i==\"banana\":\n",
    "        print(\"the fruit is banana\")\n",
    "        pass                              # pass statement\n",
    "    print(i)"
   ]
  },
  {
   "cell_type": "code",
   "execution_count": 63,
   "id": "a319672b-62bd-4fec-a97d-69cfe3846757",
   "metadata": {},
   "outputs": [
    {
     "name": "stdout",
     "output_type": "stream",
     "text": [
      "apple\n",
      "mango\n",
      "the fruit is banana\n",
      "cherry\n",
      "papaya\n"
     ]
    }
   ],
   "source": [
    "fruit_list=[\"apple\",\"mango\",\"banana\",\"cherry\",\"papaya\"]\n",
    "for i in fruit_list:\n",
    "    if i==\"banana\":\n",
    "        print(\"the fruit is banana\")\n",
    "        continue                             # continue statement\n",
    "    print(i)"
   ]
  },
  {
   "cell_type": "code",
   "execution_count": null,
   "id": "67154ea3-f061-47d6-92c1-9b12a85e2ded",
   "metadata": {},
   "outputs": [],
   "source": []
  }
 ],
 "metadata": {
  "kernelspec": {
   "display_name": "Python 3 (ipykernel)",
   "language": "python",
   "name": "python3"
  },
  "language_info": {
   "codemirror_mode": {
    "name": "ipython",
    "version": 3
   },
   "file_extension": ".py",
   "mimetype": "text/x-python",
   "name": "python",
   "nbconvert_exporter": "python",
   "pygments_lexer": "ipython3",
   "version": "3.10.8"
  }
 },
 "nbformat": 4,
 "nbformat_minor": 5
}
