{
 "cells": [
  {
   "cell_type": "code",
   "execution_count": null,
   "id": "e8ba87f7-74d2-48d6-80e8-dc4c2daa5d7e",
   "metadata": {},
   "outputs": [],
   "source": [
    "#Q1. What is multiprocessing in python? Why is it useful?\n",
    "#Multiprocessing in Python is a built-in package that allows the system to run multiple processes simultaneously. It will enable the breaking of applications into smaller processes that can run independently. The operating system can then allocate all these processes to the processor to run them parallelly, thus improving the overall performance and efficiency.\n",
    "#Consider a computer system with a single processor. If it is assigned several processes at the same time, it will have to interrupt each task and switch briefly to another, to keep all of the processes going.\n",
    "'''The more tasks you must do at once, the more difficult it gets to keep track of them all, and keeping the timing right becomes more of a challenge.\n",
    "This is where the concept of multiprocessing arises!\n",
    "A multiprocessing system can have:\n",
    "\n",
    "multiprocessor, i.e. a computer with more than one central processor.\n",
    "multi-core processor, i.e. a single computing component with two or more independent actual processing units (called “cores”).\n",
    "Here, the CPU can easily executes several tasks at once, with each task using its own processor.'''\n"
   ]
  },
  {
   "cell_type": "code",
   "execution_count": null,
   "id": "1296d0b6-3332-48b6-8977-2bf245c92b88",
   "metadata": {},
   "outputs": [],
   "source": [
    "'''Q2. What are the differences between multiprocessing and multithreading?\n",
    "1.  In Multiprocessing, CPUs are added for increasing computing power.\tWhile In Multithreading, many threads are created of a single process for increasing computing power.\n",
    "2.\tIn Multiprocessing, Many processes are executed simultaneously.\t    While in multithreading, many threads of a process are executed simultaneously.\n",
    "3.\tMultiprocessing are classified into Symmetric and Asymmetric.\t    While Multithreading is not classified in any categories.\n",
    "4.\tIn Multiprocessing, Process creation is a time-consuming process.\tWhile in Multithreading, process creation is according to economical.\n",
    "5.\tIn Multiprocessing, every process owned a separate address space.\tWhile in Multithreading, a common address space is shared by all the threads."
   ]
  },
  {
   "cell_type": "code",
   "execution_count": 2,
   "id": "c1cc9f09-3de3-436c-84f0-5914aae2d1c3",
   "metadata": {},
   "outputs": [
    {
     "name": "stdout",
     "output_type": "stream",
     "text": [
      "this is my main program\n",
      "this is my multiprocessing program\n"
     ]
    }
   ],
   "source": [
    "#Q3. Write a python code to create a process using the multiprocessing module.\n",
    "import multiprocessing\n",
    "def test():\n",
    "    print('this is my multiprocessing program')\n",
    "    \n",
    "if __name__==\"__main__\": # main method in python\n",
    "    m=multiprocessing.Process(target=test)\n",
    "    print('this is my main program')\n",
    "    m.start()\n",
    "    m.join()"
   ]
  },
  {
   "cell_type": "code",
   "execution_count": 3,
   "id": "4d672ccd-5f53-44a9-9d41-eb78398c8d09",
   "metadata": {},
   "outputs": [
    {
     "name": "stdout",
     "output_type": "stream",
     "text": [
      "[9, 4, 16, 25, 36, 2025, 4489, 7744]\n"
     ]
    }
   ],
   "source": [
    "#Q4. What is a multiprocessing pool in python? Why is it used?\n",
    "#pool is used to create multiple instances of function to execute a set of data through multiprocessing\n",
    "#distributing data to different instances of same function for multiprocessing\n",
    "#Q5. How can we create a pool of worker processes in python using the multiprocessing module?\n",
    "#through multiprocessin.pool()\n",
    "#Q6. Write a python program to create 4 processes, each process should print a different number using the\n",
    "multiprocessing module in python.\n",
    "def square(n):\n",
    "    return n**2\n",
    "if __name__=='__main__':\n",
    "    with multiprocessing.Pool(processes=5) as pool: #pool() create 5 instances of square method and will give different values of list given to these 5 different methods and compile it\n",
    "        out=pool.map(square,[3,2,4,5,6,45,67,88]) # map,reduce and filter function already taught before...takes function as first input and iterables as second input\n",
    "        print(out)"
   ]
  },
  {
   "cell_type": "code",
   "execution_count": null,
   "id": "998ba196-636c-4bc9-b492-28de64c2ef46",
   "metadata": {},
   "outputs": [],
   "source": []
  }
 ],
 "metadata": {
  "kernelspec": {
   "display_name": "Python 3 (ipykernel)",
   "language": "python",
   "name": "python3"
  },
  "language_info": {
   "codemirror_mode": {
    "name": "ipython",
    "version": 3
   },
   "file_extension": ".py",
   "mimetype": "text/x-python",
   "name": "python",
   "nbconvert_exporter": "python",
   "pygments_lexer": "ipython3",
   "version": "3.10.8"
  }
 },
 "nbformat": 4,
 "nbformat_minor": 5
}
