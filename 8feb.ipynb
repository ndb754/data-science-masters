{
 "cells": [
  {
   "cell_type": "markdown",
   "id": "5cab3cf4-2883-4754-a163-8d748f527b7b",
   "metadata": {},
   "source": [
    "# oops \n",
    "## polymorphism"
   ]
  },
  {
   "cell_type": "code",
   "execution_count": 2,
   "id": "0f781d6c-d8c0-4cdc-ae95-4cb8e5eedd4f",
   "metadata": {},
   "outputs": [],
   "source": [
    "def test(x,y):\n",
    "    return x+y"
   ]
  },
  {
   "cell_type": "code",
   "execution_count": 3,
   "id": "b2c384be-7c9b-4773-be76-50cffd7ecb4f",
   "metadata": {},
   "outputs": [
    {
     "data": {
      "text/plain": [
       "9"
      ]
     },
     "execution_count": 3,
     "metadata": {},
     "output_type": "execute_result"
    }
   ],
   "source": [
    "test(5,4)"
   ]
  },
  {
   "cell_type": "code",
   "execution_count": 6,
   "id": "4300fd78-512d-4920-bd5f-5be29bb5cf14",
   "metadata": {},
   "outputs": [
    {
     "data": {
      "text/plain": [
       "'nikhilbhanushali'"
      ]
     },
     "execution_count": 6,
     "metadata": {},
     "output_type": "execute_result"
    }
   ],
   "source": [
    "test('nikhil','bhanushali') # above function performing both addition and concatenation.\n",
    "#so behaviour of function changing depending on type of data provide"
   ]
  },
  {
   "cell_type": "code",
   "execution_count": 7,
   "id": "e2f75641-a908-43e9-be4b-7d9b10438975",
   "metadata": {},
   "outputs": [
    {
     "data": {
      "text/plain": [
       "[1, 2, 3, 4, 5, 6]"
      ]
     },
     "execution_count": 7,
     "metadata": {},
     "output_type": "execute_result"
    }
   ],
   "source": [
    "test([1,2,3],[4,5,6])"
   ]
  },
  {
   "cell_type": "code",
   "execution_count": 20,
   "id": "3bc0c678-bc10-4498-8ca7-e1333095761f",
   "metadata": {},
   "outputs": [],
   "source": [
    "class datascience:\n",
    "    def syllabus(self):\n",
    "        print('this is my method for data science')"
   ]
  },
  {
   "cell_type": "code",
   "execution_count": 23,
   "id": "7de0ff17-e3a8-496f-9b64-0f2cdb71f27c",
   "metadata": {},
   "outputs": [],
   "source": [
    "class webdev:\n",
    "    def syllabus(self):\n",
    "        print('this is my method for web development')"
   ]
  },
  {
   "cell_type": "code",
   "execution_count": 24,
   "id": "d04ce2f9-748f-40ab-b868-4554f09427c4",
   "metadata": {},
   "outputs": [],
   "source": [
    "obj_datascience=datascience()"
   ]
  },
  {
   "cell_type": "code",
   "execution_count": 25,
   "id": "b7170ab8-3041-41dd-aac2-4f0fb0f392fc",
   "metadata": {},
   "outputs": [],
   "source": [
    "obj_webdev=webdev()"
   ]
  },
  {
   "cell_type": "code",
   "execution_count": 26,
   "id": "dde218d3-35d2-4ac1-a485-5561137ef65a",
   "metadata": {},
   "outputs": [],
   "source": [
    "l=[obj_datascience,obj_webdev]"
   ]
  },
  {
   "cell_type": "code",
   "execution_count": 1,
   "id": "99966b07-f7ef-4ba8-a933-3047a9a88ea0",
   "metadata": {},
   "outputs": [],
   "source": [
    "def class_parcer(l): # here i is using thee concept of polymorphism and changing its behaviour\n",
    "    for i in l:\n",
    "        i.syllabus()"
   ]
  },
  {
   "cell_type": "code",
   "execution_count": 28,
   "id": "fadb222c-7756-4b39-bebf-dfed40e75f56",
   "metadata": {},
   "outputs": [
    {
     "name": "stdout",
     "output_type": "stream",
     "text": [
      "this is my method for data science\n",
      "this is my method for web development\n"
     ]
    }
   ],
   "source": [
    "class_parcer(l)"
   ]
  },
  {
   "cell_type": "markdown",
   "id": "14591fc8-2e23-46e7-bdbb-6a4b1260a840",
   "metadata": {},
   "source": [
    "# encapsulation"
   ]
  },
  {
   "cell_type": "code",
   "execution_count": 2,
   "id": "92693be9-73e5-462c-ba4b-5422f767b6e6",
   "metadata": {},
   "outputs": [],
   "source": [
    "class test:\n",
    "    def __init__(self,a,b):\n",
    "        self.a=a\n",
    "        self.b=b\n",
    "        "
   ]
  },
  {
   "cell_type": "code",
   "execution_count": 4,
   "id": "b6750c0b-1d76-4551-9746-34a48eb8cc0d",
   "metadata": {},
   "outputs": [],
   "source": [
    "t=test(4,5)"
   ]
  },
  {
   "cell_type": "code",
   "execution_count": 5,
   "id": "fb3ac95c-5239-4f9d-8130-a21163a45be6",
   "metadata": {},
   "outputs": [
    {
     "data": {
      "text/plain": [
       "4"
      ]
     },
     "execution_count": 5,
     "metadata": {},
     "output_type": "execute_result"
    }
   ],
   "source": [
    "t.a"
   ]
  },
  {
   "cell_type": "code",
   "execution_count": 6,
   "id": "65cddccf-d54e-4615-a0be-9fcfdb35b7dd",
   "metadata": {},
   "outputs": [],
   "source": [
    "t.a=65"
   ]
  },
  {
   "cell_type": "code",
   "execution_count": 7,
   "id": "5cbb0bdf-e6a1-4f6c-b0a7-336608618d11",
   "metadata": {},
   "outputs": [
    {
     "data": {
      "text/plain": [
       "65"
      ]
     },
     "execution_count": 7,
     "metadata": {},
     "output_type": "execute_result"
    }
   ],
   "source": [
    "t.a #  it is possible to access and modify class variable directly.so it is risky.to prevent this encapsulation is done"
   ]
  },
  {
   "cell_type": "code",
   "execution_count": 12,
   "id": "cb0fa500-8130-406c-a7e6-8db055159d90",
   "metadata": {},
   "outputs": [],
   "source": [
    " class car:\n",
    "        def __init__(self,year,make,model,speed):\n",
    "            self.__year=year # __ is used fpr encapsulation\n",
    "            self.__make=make #encapsulation makes variable private\n",
    "            self.__model=model\n",
    "            self.__speed=speed\n",
    "        "
   ]
  },
  {
   "cell_type": "code",
   "execution_count": 13,
   "id": "a8600583-5f25-45d6-9eae-aba49c78155a",
   "metadata": {},
   "outputs": [],
   "source": [
    "t=car(2002,'india','petrol',200)"
   ]
  },
  {
   "cell_type": "code",
   "execution_count": 11,
   "id": "06621990-8d8f-4bcf-9bdc-2bc7caf6197e",
   "metadata": {},
   "outputs": [
    {
     "ename": "AttributeError",
     "evalue": "'car' object has no attribute 'year'",
     "output_type": "error",
     "traceback": [
      "\u001b[0;31m---------------------------------------------------------------------------\u001b[0m",
      "\u001b[0;31mAttributeError\u001b[0m                            Traceback (most recent call last)",
      "Cell \u001b[0;32mIn[11], line 1\u001b[0m\n\u001b[0;32m----> 1\u001b[0m \u001b[43mt\u001b[49m\u001b[38;5;241;43m.\u001b[39;49m\u001b[43myear\u001b[49m\n",
      "\u001b[0;31mAttributeError\u001b[0m: 'car' object has no attribute 'year'"
     ]
    }
   ],
   "source": [
    "t.year"
   ]
  },
  {
   "cell_type": "code",
   "execution_count": 14,
   "id": "72b4ba29-3d54-4708-8311-0107200a714a",
   "metadata": {},
   "outputs": [
    {
     "data": {
      "text/plain": [
       "2002"
      ]
     },
     "execution_count": 14,
     "metadata": {},
     "output_type": "execute_result"
    }
   ],
   "source": [
    "t._car__year #now i will be able to access it"
   ]
  },
  {
   "cell_type": "code",
   "execution_count": 15,
   "id": "e39ab5d0-96d9-4131-99e5-5f0792b474b6",
   "metadata": {},
   "outputs": [],
   "source": [
    "t._car__year=2023 # only creator can access and modify it if he knows class name"
   ]
  },
  {
   "cell_type": "code",
   "execution_count": 16,
   "id": "c518f36f-2272-4f8a-8bab-6a048052444a",
   "metadata": {},
   "outputs": [
    {
     "data": {
      "text/plain": [
       "2023"
      ]
     },
     "execution_count": 16,
     "metadata": {},
     "output_type": "execute_result"
    }
   ],
   "source": [
    "t._car__year "
   ]
  },
  {
   "cell_type": "code",
   "execution_count": 37,
   "id": "ef694d1e-af71-47a1-8bca-9a6edfef8b2b",
   "metadata": {},
   "outputs": [],
   "source": [
    "# to give access to external users\n",
    "class car:\n",
    "        def __init__(self,year,make,model,speed):\n",
    "            self.__year=year # __ is used fpr encapsulation\n",
    "            self.__make=make #encapsulation makes variable private\n",
    "            self.__model=model\n",
    "            self.__speed=speed\n",
    "        def setspeed(self,speed):\n",
    "            self.__speed=0 if speed<0 else speed# this function will only modify speed but not allow to see\n",
    "        def getspeed(self): # will allow to see the speed after modification\n",
    "            return self.__speed"
   ]
  },
  {
   "cell_type": "code",
   "execution_count": 38,
   "id": "b056dbec-6e5b-4fa0-a9f0-954db71c3de8",
   "metadata": {},
   "outputs": [],
   "source": [
    "t1=car(2002,'india','petrol',200)"
   ]
  },
  {
   "cell_type": "code",
   "execution_count": 39,
   "id": "16131eb5-307c-424c-a557-011524c0733c",
   "metadata": {},
   "outputs": [],
   "source": [
    "t1.setspeed(-230)"
   ]
  },
  {
   "cell_type": "code",
   "execution_count": 40,
   "id": "48c00df6-c72d-4bd6-bfbc-4c624d5fcc3f",
   "metadata": {},
   "outputs": [
    {
     "ename": "AttributeError",
     "evalue": "'car' object has no attribute '__speed'",
     "output_type": "error",
     "traceback": [
      "\u001b[0;31m---------------------------------------------------------------------------\u001b[0m",
      "\u001b[0;31mAttributeError\u001b[0m                            Traceback (most recent call last)",
      "Cell \u001b[0;32mIn[40], line 1\u001b[0m\n\u001b[0;32m----> 1\u001b[0m \u001b[43mt1\u001b[49m\u001b[38;5;241;43m.\u001b[39;49m\u001b[43m__speed\u001b[49m\n",
      "\u001b[0;31mAttributeError\u001b[0m: 'car' object has no attribute '__speed'"
     ]
    }
   ],
   "source": [
    "t1.__speed"
   ]
  },
  {
   "cell_type": "code",
   "execution_count": 41,
   "id": "c25b1f9c-52f4-4526-8664-5a1bb76d7ce5",
   "metadata": {},
   "outputs": [
    {
     "data": {
      "text/plain": [
       "0"
      ]
     },
     "execution_count": 41,
     "metadata": {},
     "output_type": "execute_result"
    }
   ],
   "source": [
    "t1.getspeed()"
   ]
  },
  {
   "cell_type": "code",
   "execution_count": 42,
   "id": "c805b157-21ac-44ad-b992-f916289457ae",
   "metadata": {},
   "outputs": [],
   "source": [
    "t1.setspeed(220)"
   ]
  },
  {
   "cell_type": "code",
   "execution_count": 43,
   "id": "887562d5-0769-40a4-8b10-eb3413f02199",
   "metadata": {},
   "outputs": [
    {
     "data": {
      "text/plain": [
       "220"
      ]
     },
     "execution_count": 43,
     "metadata": {},
     "output_type": "execute_result"
    }
   ],
   "source": [
    "t1.getspeed()"
   ]
  },
  {
   "cell_type": "code",
   "execution_count": 61,
   "id": "2790e29e-587a-4568-944c-fb532c762477",
   "metadata": {},
   "outputs": [],
   "source": [
    " # another example\n",
    "class bankaccount:\n",
    "    def __init__(self,balance):\n",
    "            self.__balance=balance\n",
    "    def deposit(self,amount):\n",
    "            self.__balance+=amount\n",
    "    def withdrawal(self,amount):\n",
    "        if self.__balance>=amount:\n",
    "            self.__balance-=amount\n",
    "            return True\n",
    "        else:\n",
    "            return False\n",
    "    def checkbalance(self):\n",
    "        return self.__balance\n",
    "                \n",
    "            \n",
    "            "
   ]
  },
  {
   "cell_type": "code",
   "execution_count": 62,
   "id": "bd032930-41f8-4338-b512-fd9cfd698f01",
   "metadata": {},
   "outputs": [],
   "source": [
    "obj=bankaccount(2500)"
   ]
  },
  {
   "cell_type": "code",
   "execution_count": 63,
   "id": "640f0bd0-1b04-4f70-8bf6-c4001dc094ca",
   "metadata": {},
   "outputs": [],
   "source": [
    "obj.deposit(2500)"
   ]
  },
  {
   "cell_type": "code",
   "execution_count": 64,
   "id": "abc5425e-633c-4fa1-86fa-5ddf0cde06f4",
   "metadata": {},
   "outputs": [
    {
     "data": {
      "text/plain": [
       "5000"
      ]
     },
     "execution_count": 64,
     "metadata": {},
     "output_type": "execute_result"
    }
   ],
   "source": [
    "obj.checkbalance()"
   ]
  },
  {
   "cell_type": "code",
   "execution_count": 65,
   "id": "93ed1850-d5db-42c4-96ae-4c804ef9cc87",
   "metadata": {},
   "outputs": [
    {
     "data": {
      "text/plain": [
       "True"
      ]
     },
     "execution_count": 65,
     "metadata": {},
     "output_type": "execute_result"
    }
   ],
   "source": [
    "obj.withdrawal(500)"
   ]
  },
  {
   "cell_type": "code",
   "execution_count": 58,
   "id": "1d683c51-2ad0-42b5-86bc-216575579b0e",
   "metadata": {},
   "outputs": [
    {
     "data": {
      "text/plain": [
       "4000"
      ]
     },
     "execution_count": 58,
     "metadata": {},
     "output_type": "execute_result"
    }
   ],
   "source": [
    "obj.checkbalance()"
   ]
  },
  {
   "cell_type": "markdown",
   "id": "31da88b6-749e-4cfc-8f1b-2440e6bbb1e5",
   "metadata": {},
   "source": [
    "# inheritance"
   ]
  },
  {
   "cell_type": "code",
   "execution_count": 1,
   "id": "05aafdb0-51ab-487d-863f-ac60380bfea5",
   "metadata": {},
   "outputs": [],
   "source": [
    "# inherits the properties and functions of parent classs"
   ]
  },
  {
   "cell_type": "code",
   "execution_count": 3,
   "id": "758ce89e-25ac-42ce-b1fd-89a15dcfb890",
   "metadata": {},
   "outputs": [],
   "source": [
    "class parent:\n",
    "    def test_parent(self):\n",
    "        print(\"this is parent class\")\n",
    "class child(parent):\n",
    "    pass"
   ]
  },
  {
   "cell_type": "code",
   "execution_count": 4,
   "id": "e02aac9a-e2e5-4a36-a3b0-9a3c94164fb2",
   "metadata": {},
   "outputs": [],
   "source": [
    "obj_child=child()"
   ]
  },
  {
   "cell_type": "code",
   "execution_count": 6,
   "id": "d139263e-5db1-4f37-bbea-eda149200433",
   "metadata": {},
   "outputs": [
    {
     "name": "stdout",
     "output_type": "stream",
     "text": [
      "this is parent class\n"
     ]
    }
   ],
   "source": [
    "obj_child.test_parent() #child class object can call parent class function"
   ]
  },
  {
   "cell_type": "code",
   "execution_count": 9,
   "id": "91832490-6890-4496-996d-490c364aa9b6",
   "metadata": {},
   "outputs": [],
   "source": [
    "# multilevel inheritance\n",
    "# class 2 will inherit class1 and class3 will inherit class2...\n",
    "# class3 object will be able to access both class 2 and class 1\n",
    "\n",
    "class parent:\n",
    "    def test_parent(self):\n",
    "        print(\"this is parent class\")\n",
    "class child1(parent):\n",
    "    def test_child1(self):\n",
    "        print('this is child1 class')\n",
    "class child2(child1):\n",
    "    pass"
   ]
  },
  {
   "cell_type": "code",
   "execution_count": 10,
   "id": "18c7259a-9263-47ae-9641-a8f611d80626",
   "metadata": {},
   "outputs": [],
   "source": [
    "c2=child2()"
   ]
  },
  {
   "cell_type": "code",
   "execution_count": 11,
   "id": "01bfeee4-c333-45b4-812f-e3a2d22c50d4",
   "metadata": {},
   "outputs": [
    {
     "name": "stdout",
     "output_type": "stream",
     "text": [
      "this is child1 class\n"
     ]
    }
   ],
   "source": [
    "c2.test_child1()"
   ]
  },
  {
   "cell_type": "code",
   "execution_count": 12,
   "id": "766c2863-7bbe-4cfc-b3d6-fa7e7891e136",
   "metadata": {},
   "outputs": [
    {
     "name": "stdout",
     "output_type": "stream",
     "text": [
      "this is parent class\n"
     ]
    }
   ],
   "source": [
    "c2.test_parent()"
   ]
  },
  {
   "cell_type": "code",
   "execution_count": 13,
   "id": "3be8fb5b-e481-40b9-b39d-c414362fb511",
   "metadata": {},
   "outputs": [],
   "source": [
    "# multiple inheritance\n",
    "#class 3 will inherit 2 parent class at the same time\n",
    "class parent1:\n",
    "    def test_parent1(self):\n",
    "        print(\"this is parent1 class\")\n",
    "class parent2:\n",
    "    def test_parent2(self):\n",
    "        print('this is parent2 class')\n",
    "class child(parent1,parent2):\n",
    "    pass"
   ]
  },
  {
   "cell_type": "code",
   "execution_count": 14,
   "id": "f8ad5280-d86b-4e18-977f-fd7076f4c449",
   "metadata": {},
   "outputs": [],
   "source": [
    "c=child()"
   ]
  },
  {
   "cell_type": "code",
   "execution_count": 15,
   "id": "cac80ddf-153c-4474-b78b-474fcae21b5a",
   "metadata": {},
   "outputs": [
    {
     "name": "stdout",
     "output_type": "stream",
     "text": [
      "this is parent1 class\n"
     ]
    }
   ],
   "source": [
    "c.test_parent1()"
   ]
  },
  {
   "cell_type": "code",
   "execution_count": 17,
   "id": "d5c99114-889b-40a9-85c1-41d8ee34fdd5",
   "metadata": {},
   "outputs": [
    {
     "name": "stdout",
     "output_type": "stream",
     "text": [
      "this is parent2 class\n"
     ]
    }
   ],
   "source": [
    "c.test_parent2()"
   ]
  },
  {
   "cell_type": "markdown",
   "id": "bb309351-45fa-474f-b87f-6b9ac215b5e2",
   "metadata": {},
   "source": [
    "# abstraction"
   ]
  },
  {
   "cell_type": "code",
   "execution_count": 1,
   "id": "f598b709-9461-474d-905a-91406b5cba35",
   "metadata": {},
   "outputs": [],
   "source": [
    "#Abstraction is used to hide the internal functionality of the function from the users. \n",
    "#The users only interact with the basic implementation of the function, but inner working is hidden.\n",
    "#User is familiar with that \"what function does\" but they don't know \"how it does.\""
   ]
  },
  {
   "cell_type": "code",
   "execution_count": 3,
   "id": "1c726937-b632-4b35-9eda-6be1bd7bbe67",
   "metadata": {},
   "outputs": [],
   "source": [
    "#In Python, abstraction can be achieved by using abstract classes and interfaces.\n",
    "#A class that consists of one or more abstract method is called the abstract class. \n",
    "#Abstract methods do not contain their implementation. \n",
    "#Abstract class can be inherited by the subclass and abstract method gets its definition in the subclass"
   ]
  },
  {
   "cell_type": "code",
   "execution_count": 4,
   "id": "b6258fa6-4c98-4e3f-9ce7-4a0f227c6aaa",
   "metadata": {},
   "outputs": [],
   "source": [
    "#Python provides the abc module to use the abstraction in the Python program. "
   ]
  },
  {
   "cell_type": "code",
   "execution_count": 6,
   "id": "7baf9ec0-f64c-4d5d-8f62-069608c6e7f2",
   "metadata": {},
   "outputs": [],
   "source": [
    "from abc import ABC \n",
    "class Car(ABC):   # abstract parent class\n",
    "    def mileage(self): #abstract method. \n",
    "        pass  \n",
    "class Tesla(Car):   \n",
    "    def mileage(self):   # abstract method of abstract parent class having \n",
    "                                          # different functionality in  different child classes\n",
    "        print(\"The mileage is 30kmph\")   \n",
    "class Suzuki(Car):   \n",
    "    def mileage(self):   \n",
    "        print(\"The mileage is 25kmph \")   \n",
    "class Duster(Car):   \n",
    "     def mileage(self):\n",
    "            print(\"The mileage is 24kmph \") "
   ]
  },
  {
   "cell_type": "code",
   "execution_count": 7,
   "id": "d68ab83c-b8f3-482d-b394-ed9bf59d973f",
   "metadata": {},
   "outputs": [],
   "source": [
    "t=Tesla()"
   ]
  },
  {
   "cell_type": "code",
   "execution_count": 8,
   "id": "a0538ccf-64bb-4d46-b11e-9b925cbe6552",
   "metadata": {},
   "outputs": [
    {
     "name": "stdout",
     "output_type": "stream",
     "text": [
      "The mileage is 30kmph\n"
     ]
    }
   ],
   "source": [
    "t.mileage()"
   ]
  },
  {
   "cell_type": "code",
   "execution_count": 9,
   "id": "45c7614e-3c63-420a-b904-24ce00497c19",
   "metadata": {},
   "outputs": [],
   "source": [
    "s=Suzuki()"
   ]
  },
  {
   "cell_type": "code",
   "execution_count": 10,
   "id": "cac4e31f-2a2c-407b-b7c5-0519f8d10e03",
   "metadata": {},
   "outputs": [
    {
     "name": "stdout",
     "output_type": "stream",
     "text": [
      "The mileage is 25kmph \n"
     ]
    }
   ],
   "source": [
    "s.mileage()"
   ]
  },
  {
   "cell_type": "code",
   "execution_count": null,
   "id": "8e892fd8-9d59-406d-b15b-b2b19207f95d",
   "metadata": {},
   "outputs": [],
   "source": []
  }
 ],
 "metadata": {
  "kernelspec": {
   "display_name": "Python 3 (ipykernel)",
   "language": "python",
   "name": "python3"
  },
  "language_info": {
   "codemirror_mode": {
    "name": "ipython",
    "version": 3
   },
   "file_extension": ".py",
   "mimetype": "text/x-python",
   "name": "python",
   "nbconvert_exporter": "python",
   "pygments_lexer": "ipython3",
   "version": "3.10.8"
  }
 },
 "nbformat": 4,
 "nbformat_minor": 5
}
