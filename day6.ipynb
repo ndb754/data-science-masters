{
 "cells": [
  {
   "cell_type": "markdown",
   "id": "3479ac41-4c9d-45de-b5e8-d4b0dc6fb1ec",
   "metadata": {},
   "source": [
    "# functions"
   ]
  },
  {
   "cell_type": "code",
   "execution_count": 6,
   "id": "877d486f-be94-403c-b670-8863408b3f82",
   "metadata": {},
   "outputs": [
    {
     "ename": "SyntaxError",
     "evalue": "incomplete input (385080566.py, line 3)",
     "output_type": "error",
     "traceback": [
      "\u001b[0;36m  Cell \u001b[0;32mIn[6], line 3\u001b[0;36m\u001b[0m\n\u001b[0;31m    \u001b[0m\n\u001b[0m    ^\u001b[0m\n\u001b[0;31mSyntaxError\u001b[0m\u001b[0;31m:\u001b[0m incomplete input\n"
     ]
    }
   ],
   "source": [
    "def test(): # creating function named test def keyword is used to initialise function\n",
    "    \n",
    "    "
   ]
  },
  {
   "cell_type": "code",
   "execution_count": 7,
   "id": "f63bfd04-d4f4-4a77-9cb4-444089ed2689",
   "metadata": {},
   "outputs": [],
   "source": [
    "def test():\n",
    "    pass # to create empty function"
   ]
  },
  {
   "cell_type": "code",
   "execution_count": 8,
   "id": "c3166998-3bca-4dcd-829b-32b9d5eee736",
   "metadata": {},
   "outputs": [],
   "source": [
    "def test():\n",
    "    print('this is my first function')"
   ]
  },
  {
   "cell_type": "code",
   "execution_count": 9,
   "id": "7469277b-d9c1-4a1f-b0fb-2517440fa255",
   "metadata": {},
   "outputs": [
    {
     "name": "stdout",
     "output_type": "stream",
     "text": [
      "this is my first function\n"
     ]
    }
   ],
   "source": [
    "test()"
   ]
  },
  {
   "cell_type": "code",
   "execution_count": 11,
   "id": "73bab630-28b7-41b0-852a-dffd522fb330",
   "metadata": {},
   "outputs": [
    {
     "name": "stdout",
     "output_type": "stream",
     "text": [
      "this is my first function\n"
     ]
    },
    {
     "ename": "TypeError",
     "evalue": "unsupported operand type(s) for +: 'NoneType' and 'str'",
     "output_type": "error",
     "traceback": [
      "\u001b[0;31m---------------------------------------------------------------------------\u001b[0m",
      "\u001b[0;31mTypeError\u001b[0m                                 Traceback (most recent call last)",
      "Cell \u001b[0;32mIn[11], line 1\u001b[0m\n\u001b[0;32m----> 1\u001b[0m \u001b[43mtest\u001b[49m\u001b[43m(\u001b[49m\u001b[43m)\u001b[49m\u001b[38;5;241;43m+\u001b[39;49m\u001b[38;5;124;43m'\u001b[39;49m\u001b[38;5;124;43mnikhil\u001b[39;49m\u001b[38;5;124;43m'\u001b[39;49m\n",
      "\u001b[0;31mTypeError\u001b[0m: unsupported operand type(s) for +: 'NoneType' and 'str'"
     ]
    }
   ],
   "source": [
    "test()+'nikhil' #print() is a nonetype statement which means it doesnt return any particular datatype\n",
    "# hence no primitive operations can be performed with print()"
   ]
  },
  {
   "cell_type": "code",
   "execution_count": 31,
   "id": "b13157fb-9768-407a-9977-7618a76e7515",
   "metadata": {},
   "outputs": [],
   "source": [
    "def test2():\n",
    "    return'this is my first function '"
   ]
  },
  {
   "cell_type": "code",
   "execution_count": 33,
   "id": "3c89f12a-5a39-441a-855e-67894e3cad93",
   "metadata": {},
   "outputs": [
    {
     "data": {
      "text/plain": [
       "'this is my first function '"
      ]
     },
     "execution_count": 33,
     "metadata": {},
     "output_type": "execute_result"
    }
   ],
   "source": [
    "test2()"
   ]
  },
  {
   "cell_type": "code",
   "execution_count": 32,
   "id": "2d48c1f7-ae68-4092-ab3e-96dad89fe1c8",
   "metadata": {},
   "outputs": [
    {
     "data": {
      "text/plain": [
       "'this is my first function nikhil'"
      ]
     },
     "execution_count": 32,
     "metadata": {},
     "output_type": "execute_result"
    }
   ],
   "source": [
    "test2()+'nikhil'"
   ]
  },
  {
   "cell_type": "code",
   "execution_count": 34,
   "id": "9547a391-4b5d-43e5-bc87-2be81aa5a7b1",
   "metadata": {},
   "outputs": [],
   "source": [
    "def test3():\n",
    "    return 1,2,'nikhil',54.46"
   ]
  },
  {
   "cell_type": "code",
   "execution_count": 36,
   "id": "03fe1132-b6cf-4bec-9980-9d34775ec6ff",
   "metadata": {},
   "outputs": [
    {
     "data": {
      "text/plain": [
       "(1, 2, 'nikhil', 54.46)"
      ]
     },
     "execution_count": 36,
     "metadata": {},
     "output_type": "execute_result"
    }
   ],
   "source": [
    "test3() #return always in form of tuples"
   ]
  },
  {
   "cell_type": "code",
   "execution_count": 37,
   "id": "98020a65-2292-42c0-b324-45f7df17207e",
   "metadata": {},
   "outputs": [],
   "source": [
    "a=1,2,3,4,5"
   ]
  },
  {
   "cell_type": "code",
   "execution_count": 38,
   "id": "c07aad45-9c70-4837-b101-061ca513384c",
   "metadata": {},
   "outputs": [
    {
     "data": {
      "text/plain": [
       "(1, 2, 3, 4, 5)"
      ]
     },
     "execution_count": 38,
     "metadata": {},
     "output_type": "execute_result"
    }
   ],
   "source": [
    "a"
   ]
  },
  {
   "cell_type": "code",
   "execution_count": 39,
   "id": "6acd1d8b-c684-4788-91d9-7966a2dd549f",
   "metadata": {},
   "outputs": [],
   "source": [
    "a,b,c,d=1,2,3.4,True"
   ]
  },
  {
   "cell_type": "code",
   "execution_count": 40,
   "id": "58057590-b77d-4d0a-8285-9b8ccb8ea34e",
   "metadata": {},
   "outputs": [
    {
     "data": {
      "text/plain": [
       "1"
      ]
     },
     "execution_count": 40,
     "metadata": {},
     "output_type": "execute_result"
    }
   ],
   "source": [
    "a"
   ]
  },
  {
   "cell_type": "code",
   "execution_count": 41,
   "id": "a5e36c5b-a2fd-4869-9e3d-7e0d9adfcd23",
   "metadata": {},
   "outputs": [
    {
     "data": {
      "text/plain": [
       "2"
      ]
     },
     "execution_count": 41,
     "metadata": {},
     "output_type": "execute_result"
    }
   ],
   "source": [
    "b"
   ]
  },
  {
   "cell_type": "code",
   "execution_count": 42,
   "id": "4f52600a-fc69-4423-bb58-c1ba01dfa43d",
   "metadata": {},
   "outputs": [
    {
     "data": {
      "text/plain": [
       "3.4"
      ]
     },
     "execution_count": 42,
     "metadata": {},
     "output_type": "execute_result"
    }
   ],
   "source": [
    "c"
   ]
  },
  {
   "cell_type": "code",
   "execution_count": 44,
   "id": "14f6e7b7-55db-499d-a46f-f0b28b0e8c49",
   "metadata": {},
   "outputs": [
    {
     "data": {
      "text/plain": [
       "True"
      ]
     },
     "execution_count": 44,
     "metadata": {},
     "output_type": "execute_result"
    }
   ],
   "source": [
    "d"
   ]
  },
  {
   "cell_type": "code",
   "execution_count": 45,
   "id": "1dca0ea6-ccb3-465d-8f88-7892a5b8f8f8",
   "metadata": {},
   "outputs": [
    {
     "data": {
      "text/plain": [
       "(1, 2, 'nikhil', 54.46)"
      ]
     },
     "execution_count": 45,
     "metadata": {},
     "output_type": "execute_result"
    }
   ],
   "source": [
    "test3() #return always in form of tuples"
   ]
  },
  {
   "cell_type": "code",
   "execution_count": 46,
   "id": "81d032f7-41ae-4d83-a474-cfff18ce0b1d",
   "metadata": {},
   "outputs": [
    {
     "data": {
      "text/plain": [
       "'nikhil'"
      ]
     },
     "execution_count": 46,
     "metadata": {},
     "output_type": "execute_result"
    }
   ],
   "source": [
    "test3()[2]"
   ]
  },
  {
   "cell_type": "code",
   "execution_count": 48,
   "id": "70a773f1-525f-4423-856c-145c5c8cee07",
   "metadata": {},
   "outputs": [],
   "source": [
    "a,b,c,d=test3()"
   ]
  },
  {
   "cell_type": "code",
   "execution_count": 49,
   "id": "87e9e403-fe4b-4b44-8dc6-50e3ca2f0ee4",
   "metadata": {},
   "outputs": [
    {
     "data": {
      "text/plain": [
       "'nikhil'"
      ]
     },
     "execution_count": 49,
     "metadata": {},
     "output_type": "execute_result"
    }
   ],
   "source": [
    "c"
   ]
  },
  {
   "cell_type": "code",
   "execution_count": 50,
   "id": "491601a8-d781-4f3f-8c0f-7233367bebe4",
   "metadata": {},
   "outputs": [
    {
     "data": {
      "text/plain": [
       "1"
      ]
     },
     "execution_count": 50,
     "metadata": {},
     "output_type": "execute_result"
    }
   ],
   "source": [
    "a"
   ]
  },
  {
   "cell_type": "code",
   "execution_count": 51,
   "id": "0b782b12-4eac-4db8-8349-360c52179805",
   "metadata": {},
   "outputs": [
    {
     "data": {
      "text/plain": [
       "2"
      ]
     },
     "execution_count": 51,
     "metadata": {},
     "output_type": "execute_result"
    }
   ],
   "source": [
    "b"
   ]
  },
  {
   "cell_type": "code",
   "execution_count": 52,
   "id": "55de2ac0-4d8e-4e43-8592-e21b97ae228b",
   "metadata": {},
   "outputs": [
    {
     "data": {
      "text/plain": [
       "54.46"
      ]
     },
     "execution_count": 52,
     "metadata": {},
     "output_type": "execute_result"
    }
   ],
   "source": [
    "d"
   ]
  },
  {
   "cell_type": "code",
   "execution_count": 1,
   "id": "dc28c6ae-d301-435f-933f-ff82f2639422",
   "metadata": {},
   "outputs": [],
   "source": [
    "def test4():\n",
    "    a=3*4+5\n",
    "    return a"
   ]
  },
  {
   "cell_type": "code",
   "execution_count": 2,
   "id": "c508b2f5-6e9e-4ed0-a2a8-e727cb2defed",
   "metadata": {},
   "outputs": [
    {
     "data": {
      "text/plain": [
       "17"
      ]
     },
     "execution_count": 2,
     "metadata": {},
     "output_type": "execute_result"
    }
   ],
   "source": [
    "test4()"
   ]
  },
  {
   "cell_type": "code",
   "execution_count": 3,
   "id": "d1d40a03-472d-4266-95d0-ca37f43a283c",
   "metadata": {},
   "outputs": [
    {
     "data": {
      "text/plain": [
       "int"
      ]
     },
     "execution_count": 3,
     "metadata": {},
     "output_type": "execute_result"
    }
   ],
   "source": [
    "type(test4())"
   ]
  },
  {
   "cell_type": "code",
   "execution_count": 4,
   "id": "21613da5-e6fe-40b0-91af-87c47f83aa0c",
   "metadata": {},
   "outputs": [],
   "source": [
    "def test5(a,b):\n",
    "    c=a*b\n",
    "    return c"
   ]
  },
  {
   "cell_type": "code",
   "execution_count": 6,
   "id": "5aea0a55-c349-4a87-a734-6f63ceadb21d",
   "metadata": {},
   "outputs": [
    {
     "data": {
      "text/plain": [
       "12"
      ]
     },
     "execution_count": 6,
     "metadata": {},
     "output_type": "execute_result"
    }
   ],
   "source": [
    "test5(3,4)"
   ]
  },
  {
   "cell_type": "code",
   "execution_count": 7,
   "id": "7619379a-8e71-4ef6-880e-76c3df3c0498",
   "metadata": {},
   "outputs": [],
   "source": [
    "def test5(a,b):\n",
    "    c=a+b\n",
    "    return c"
   ]
  },
  {
   "cell_type": "code",
   "execution_count": 8,
   "id": "4524495a-b263-4cdb-a9b9-c1310a64bc07",
   "metadata": {},
   "outputs": [
    {
     "data": {
      "text/plain": [
       "'niikhilbhanushali'"
      ]
     },
     "execution_count": 8,
     "metadata": {},
     "output_type": "execute_result"
    }
   ],
   "source": [
    "test5('niikhil','bhanushali')"
   ]
  },
  {
   "cell_type": "code",
   "execution_count": 11,
   "id": "8064ac92-4091-4541-9d6e-0d26007104f8",
   "metadata": {},
   "outputs": [
    {
     "data": {
      "text/plain": [
       "[1, 2, 3, 4, 4, 5, 6, 7]"
      ]
     },
     "execution_count": 11,
     "metadata": {},
     "output_type": "execute_result"
    }
   ],
   "source": [
    "test5([1,2,3,4],[4,5,6,7])"
   ]
  },
  {
   "cell_type": "code",
   "execution_count": 12,
   "id": "ccb33d93-6e9f-4572-a372-db17899e414d",
   "metadata": {},
   "outputs": [
    {
     "data": {
      "text/plain": [
       "'nikhilbhanushali'"
      ]
     },
     "execution_count": 12,
     "metadata": {},
     "output_type": "execute_result"
    }
   ],
   "source": [
    "test5(b='bhanushali',a='nikhil')"
   ]
  },
  {
   "cell_type": "code",
   "execution_count": 34,
   "id": "2bcb173e-4ef5-4d84-afd3-670546da5189",
   "metadata": {},
   "outputs": [],
   "source": [
    "#create function which will take lits as input and return list with only numerical values\n",
    "l=[1,2,3,4,5,'nikhil',[3,4,5,67]]\n",
    "def test6(a):\n",
    "    l2=[i for i in a if type(i)==int or type(i)==float]\n",
    "    return l2"
   ]
  },
  {
   "cell_type": "code",
   "execution_count": 35,
   "id": "d15d226a-860f-4869-923a-6dd4ebbee316",
   "metadata": {},
   "outputs": [
    {
     "data": {
      "text/plain": [
       "[1, 2, 3, 4, 5]"
      ]
     },
     "execution_count": 35,
     "metadata": {},
     "output_type": "execute_result"
    }
   ],
   "source": [
    "test6(l)"
   ]
  },
  {
   "cell_type": "code",
   "execution_count": 36,
   "id": "e4ebb594-eb60-44d1-b070-f2dda75c6289",
   "metadata": {},
   "outputs": [
    {
     "data": {
      "text/plain": [
       "[4, 5, 3, 2.3]"
      ]
     },
     "execution_count": 36,
     "metadata": {},
     "output_type": "execute_result"
    }
   ],
   "source": [
    "test6([4,5,3,2.3,'abc'])"
   ]
  },
  {
   "cell_type": "code",
   "execution_count": 41,
   "id": "a7e5ebc4-4230-4cf2-97ca-7be25e174716",
   "metadata": {},
   "outputs": [],
   "source": [
    "l=[1,2,3,4,5,'nikhil',[3,4,5,67]]\n",
    "def test6(a):\n",
    "    n=[]\n",
    "    for i in a:\n",
    "        if type(i)==int or type(i)==float:\n",
    "            n.append(i) #adding value to list n one by one if it meets the condition\n",
    "    return n\n",
    "    "
   ]
  },
  {
   "cell_type": "code",
   "execution_count": 42,
   "id": "efd33da4-4cf3-484d-80ca-26e8e9a85392",
   "metadata": {},
   "outputs": [
    {
     "data": {
      "text/plain": [
       "[1, 2, 3, 4, 5]"
      ]
     },
     "execution_count": 42,
     "metadata": {},
     "output_type": "execute_result"
    }
   ],
   "source": [
    "test6(l)"
   ]
  },
  {
   "cell_type": "code",
   "execution_count": 66,
   "id": "efa551b0-f469-4195-867e-67e27db0074e",
   "metadata": {},
   "outputs": [],
   "source": [
    "# to extract integers from nested list\n",
    "def test6(a):\n",
    "    n=[]\n",
    "    for i in a:\n",
    "        if type(i)==list:\n",
    "            for j in i:\n",
    "                if type(j)==int or type(j)==float:\n",
    "                    n.append(j) \n",
    "    return n"
   ]
  },
  {
   "cell_type": "code",
   "execution_count": 67,
   "id": "fcac69a1-b83a-498d-b8eb-b3b6ce11de60",
   "metadata": {},
   "outputs": [
    {
     "data": {
      "text/plain": [
       "[3, 4, 5, 67]"
      ]
     },
     "execution_count": 67,
     "metadata": {},
     "output_type": "execute_result"
    }
   ],
   "source": [
    "test6(l)"
   ]
  },
  {
   "cell_type": "code",
   "execution_count": 75,
   "id": "f26d6238-0163-4c48-9fd2-fa0056710d38",
   "metadata": {},
   "outputs": [],
   "source": [
    "def test6(a):\n",
    "    n=[]\n",
    "    for i in a:\n",
    "        if type(i)==list:\n",
    "            for j in i:\n",
    "                if type(j)==int or type(j)==float:\n",
    "                    n.append(j)\n",
    "        else:\n",
    "            if type(i)==int or type(i)==float:\n",
    "                n.append(i)\n",
    "        \n",
    "    return n"
   ]
  },
  {
   "cell_type": "code",
   "execution_count": 76,
   "id": "3741e516-103b-46a2-8b01-0695eb8c2694",
   "metadata": {},
   "outputs": [
    {
     "data": {
      "text/plain": [
       "[1, 2, 3, 4, 5, 3, 4, 5, 67]"
      ]
     },
     "execution_count": 76,
     "metadata": {},
     "output_type": "execute_result"
    }
   ],
   "source": [
    "test6(l)"
   ]
  },
  {
   "cell_type": "code",
   "execution_count": 1,
   "id": "48669fda-3446-4a60-a1de-4cd3c71e7dd2",
   "metadata": {},
   "outputs": [],
   "source": [
    "def test7(a,b,c,d):\n",
    "    pass\n"
   ]
  },
  {
   "cell_type": "code",
   "execution_count": 2,
   "id": "d7fb4b37-1b7a-4327-a2d3-b6c74e950444",
   "metadata": {},
   "outputs": [
    {
     "ename": "TypeError",
     "evalue": "test7() takes 4 positional arguments but 5 were given",
     "output_type": "error",
     "traceback": [
      "\u001b[0;31m---------------------------------------------------------------------------\u001b[0m",
      "\u001b[0;31mTypeError\u001b[0m                                 Traceback (most recent call last)",
      "Cell \u001b[0;32mIn[2], line 1\u001b[0m\n\u001b[0;32m----> 1\u001b[0m \u001b[43mtest7\u001b[49m\u001b[43m(\u001b[49m\u001b[38;5;241;43m1\u001b[39;49m\u001b[43m,\u001b[49m\u001b[38;5;241;43m2\u001b[39;49m\u001b[43m,\u001b[49m\u001b[38;5;241;43m3\u001b[39;49m\u001b[43m,\u001b[49m\u001b[38;5;241;43m4\u001b[39;49m\u001b[43m,\u001b[49m\u001b[38;5;241;43m5\u001b[39;49m\u001b[43m)\u001b[49m\n",
      "\u001b[0;31mTypeError\u001b[0m: test7() takes 4 positional arguments but 5 were given"
     ]
    }
   ],
   "source": [
    "test7(1,2,3,4,5) # error because argument given is more "
   ]
  },
  {
   "cell_type": "code",
   "execution_count": 7,
   "id": "7a45a6db-788b-4950-9068-69a58ba022bc",
   "metadata": {},
   "outputs": [],
   "source": [
    "def test8(*args): # *allows for n number of arguments to be passed \n",
    "    return args"
   ]
  },
  {
   "cell_type": "code",
   "execution_count": 5,
   "id": "75fc5d9c-5a32-4076-b569-cb751696ea05",
   "metadata": {},
   "outputs": [
    {
     "data": {
      "text/plain": [
       "(1, 2, 3, 4, 5)"
      ]
     },
     "execution_count": 5,
     "metadata": {},
     "output_type": "execute_result"
    }
   ],
   "source": [
    "test8(1,2,3,4,5)"
   ]
  },
  {
   "cell_type": "code",
   "execution_count": 6,
   "id": "b0ba203d-6546-4ab1-8f42-671d711aefdf",
   "metadata": {},
   "outputs": [
    {
     "data": {
      "text/plain": [
       "('nikhil', [1, 2, 3, 4, 5])"
      ]
     },
     "execution_count": 6,
     "metadata": {},
     "output_type": "execute_result"
    }
   ],
   "source": [
    "test8('nikhil',[1,2,3,4,5],(1,2,3,4))"
   ]
  },
  {
   "cell_type": "code",
   "execution_count": 8,
   "id": "bc6f73d6-ca1c-4c7c-8b51-5fb63325cd42",
   "metadata": {},
   "outputs": [],
   "source": [
    "def test8(*args,b):\n",
    "    return args,b"
   ]
  },
  {
   "cell_type": "code",
   "execution_count": 9,
   "id": "8aef7bd4-8836-4cb2-82b6-f8bec56b9997",
   "metadata": {},
   "outputs": [
    {
     "ename": "TypeError",
     "evalue": "test8() missing 1 required keyword-only argument: 'b'",
     "output_type": "error",
     "traceback": [
      "\u001b[0;31m---------------------------------------------------------------------------\u001b[0m",
      "\u001b[0;31mTypeError\u001b[0m                                 Traceback (most recent call last)",
      "Cell \u001b[0;32mIn[9], line 1\u001b[0m\n\u001b[0;32m----> 1\u001b[0m \u001b[43mtest8\u001b[49m\u001b[43m(\u001b[49m\u001b[38;5;241;43m1\u001b[39;49m\u001b[43m)\u001b[49m\n",
      "\u001b[0;31mTypeError\u001b[0m: test8() missing 1 required keyword-only argument: 'b'"
     ]
    }
   ],
   "source": [
    "test8(1)"
   ]
  },
  {
   "cell_type": "code",
   "execution_count": 12,
   "id": "d0ea8f39-0c9e-4f8b-879c-a821e1d026a4",
   "metadata": {},
   "outputs": [
    {
     "data": {
      "text/plain": [
       "((1, 2, 3, 4), 'nikhil')"
      ]
     },
     "execution_count": 12,
     "metadata": {},
     "output_type": "execute_result"
    }
   ],
   "source": [
    "test8(1,2,3,4,b='nikhil') #will store indefinite data as tuples"
   ]
  },
  {
   "cell_type": "code",
   "execution_count": 13,
   "id": "4ac5b2e3-fd2f-4690-89f2-b21752990dc4",
   "metadata": {},
   "outputs": [],
   "source": [
    "def test(*args):\n",
    "    l=[]\n",
    "    for i in args:\n",
    "        if type(i)==list:\n",
    "            l.append(i)\n",
    "    return l\n",
    "        "
   ]
  },
  {
   "cell_type": "code",
   "execution_count": 15,
   "id": "87921c29-6799-43b2-9593-0fb2d3bb9c59",
   "metadata": {},
   "outputs": [
    {
     "data": {
      "text/plain": [
       "[[1, 2, 3, 4]]"
      ]
     },
     "execution_count": 15,
     "metadata": {},
     "output_type": "execute_result"
    }
   ],
   "source": [
    "test(1,2,3,4,[1,2,3,4],'nikhil')"
   ]
  },
  {
   "cell_type": "code",
   "execution_count": 16,
   "id": "c02b1c26-22ca-4576-bd7a-ed0d93cf9a23",
   "metadata": {},
   "outputs": [],
   "source": [
    "def test5(**kwargs): # ** for passing argument in form of dictionary ie key value pair\n",
    "    return kwargs "
   ]
  },
  {
   "cell_type": "code",
   "execution_count": 19,
   "id": "5ea8cff6-abf8-427b-b6ff-72470bf40aef",
   "metadata": {},
   "outputs": [
    {
     "data": {
      "text/plain": [
       "{}"
      ]
     },
     "execution_count": 19,
     "metadata": {},
     "output_type": "execute_result"
    }
   ],
   "source": [
    "test5()"
   ]
  },
  {
   "cell_type": "code",
   "execution_count": 25,
   "id": "36685b99-32ba-42c2-b6b2-911e6a9f6567",
   "metadata": {},
   "outputs": [
    {
     "data": {
      "text/plain": [
       "{'name': 'nikhil', 'age': 31, 'c': [1, 2, 3, 4], 'd': ('pw', 'skills')}"
      ]
     },
     "execution_count": 25,
     "metadata": {},
     "output_type": "execute_result"
    }
   ],
   "source": [
    "test5(name='nikhil',age=31,c=[1,2,3,4],d=('pw','skills')) # argument passed in key value pair"
   ]
  },
  {
   "cell_type": "code",
   "execution_count": 32,
   "id": "bfa5798e-9b7e-43ca-bc19-8fae2eb324ff",
   "metadata": {},
   "outputs": [],
   "source": [
    "# extract keys\n",
    "def test5(**kwargs):\n",
    "    for i in kwargs.keys():\n",
    "        if type(kwargs[i])==list:\n",
    "            return i,kwargs[i]"
   ]
  },
  {
   "cell_type": "code",
   "execution_count": 33,
   "id": "8087a5c7-005d-451f-839a-f5efc76aef31",
   "metadata": {},
   "outputs": [
    {
     "data": {
      "text/plain": [
       "('c', [1, 2, 3, 4])"
      ]
     },
     "execution_count": 33,
     "metadata": {},
     "output_type": "execute_result"
    }
   ],
   "source": [
    "test5(name='nikhil',age=31,c=[1,2,3,4],d=('pw','skills'))"
   ]
  },
  {
   "cell_type": "code",
   "execution_count": 1,
   "id": "97389080-c565-4012-952f-17bbea530875",
   "metadata": {},
   "outputs": [],
   "source": [
    "def test6(*args,**kwargs):\n",
    "    return args,kwargs"
   ]
  },
  {
   "cell_type": "code",
   "execution_count": 2,
   "id": "c28d54f5-8472-40eb-a985-49ccc3844867",
   "metadata": {},
   "outputs": [
    {
     "data": {
      "text/plain": [
       "((1, 2, 3, 4), {'a': 25, 'b': 45})"
      ]
     },
     "execution_count": 2,
     "metadata": {},
     "output_type": "execute_result"
    }
   ],
   "source": [
    "test6(1,2,3,4,a=25,b=45) #will accept both indefinite data in form of tuple and keyvalue data as dict"
   ]
  },
  {
   "cell_type": "markdown",
   "id": "709b4a7a-de6f-4df8-849d-23a116149624",
   "metadata": {},
   "source": [
    "# generator functions"
   ]
  },
  {
   "cell_type": "code",
   "execution_count": 4,
   "id": "f5d4ebed-cd6a-41ed-a619-1f1792687454",
   "metadata": {},
   "outputs": [
    {
     "data": {
      "text/plain": [
       "range(1, 10)"
      ]
     },
     "execution_count": 4,
     "metadata": {},
     "output_type": "execute_result"
    }
   ],
   "source": [
    "range(1,10)"
   ]
  },
  {
   "cell_type": "code",
   "execution_count": 9,
   "id": "c2f075ae-6994-4751-9884-778007641ce6",
   "metadata": {},
   "outputs": [
    {
     "name": "stdout",
     "output_type": "stream",
     "text": [
      "1\n",
      "2\n",
      "3\n",
      "4\n",
      "5\n",
      "6\n",
      "7\n",
      "8\n",
      "9\n"
     ]
    }
   ],
   "source": [
    "for i in range(1,10):\n",
    "    print(i)\n",
    "    "
   ]
  },
  {
   "cell_type": "code",
   "execution_count": 10,
   "id": "e06583ac-280b-4f13-97e0-f78943fbedca",
   "metadata": {},
   "outputs": [],
   "source": [
    "# range is a generator type of function which is created through yield\n",
    "# generator functions are used to prevent unnecessary memory consumption\n",
    "def test(*args):\n",
    "    l=[]\n",
    "    for i in args:\n",
    "        if type(i)==list:\n",
    "            l.append(i)\n",
    "    return l"
   ]
  },
  {
   "cell_type": "code",
   "execution_count": 11,
   "id": "b29b1c19-54da-478d-9e51-64d5feb26729",
   "metadata": {},
   "outputs": [
    {
     "data": {
      "text/plain": [
       "[[1, 2, 3, 4]]"
      ]
     },
     "execution_count": 11,
     "metadata": {},
     "output_type": "execute_result"
    }
   ],
   "source": [
    "test(1,2,3,'nikhil',[1,2,3,4]) # here these function will store whole data in memory and process each and \n",
    "#every element to return list from given arguments unlike range function which doesnt consume memory"
   ]
  },
  {
   "cell_type": "code",
   "execution_count": 15,
   "id": "5da5ad0f-a595-43cc-b33d-136cf7620145",
   "metadata": {},
   "outputs": [],
   "source": [
    "# creating fibonacci generator function\n",
    "# fibonacci=0,1,1,2,3,5,8,13\n",
    "def test_fibonacci(n):\n",
    "    a,b=0,1\n",
    "    for i in range(n):\n",
    "        yield a\n",
    "        a,b=b,a+b      "
   ]
  },
  {
   "cell_type": "code",
   "execution_count": 17,
   "id": "a78ffb64-80da-41fd-87af-4a7b63cf465b",
   "metadata": {},
   "outputs": [
    {
     "data": {
      "text/plain": [
       "<generator object test_fibonacci at 0x7f4e6664eff0>"
      ]
     },
     "execution_count": 17,
     "metadata": {},
     "output_type": "execute_result"
    }
   ],
   "source": [
    "test_fibonacci(10)"
   ]
  },
  {
   "cell_type": "code",
   "execution_count": 19,
   "id": "6923ab19-47a7-4db6-ab00-e58bfe070dde",
   "metadata": {},
   "outputs": [
    {
     "name": "stdout",
     "output_type": "stream",
     "text": [
      "0\n",
      "1\n",
      "1\n",
      "2\n",
      "3\n",
      "5\n",
      "8\n",
      "13\n",
      "21\n",
      "34\n"
     ]
    }
   ],
   "source": [
    "for i in test_fibonacci(10):\n",
    "    print(i)"
   ]
  },
  {
   "cell_type": "code",
   "execution_count": 1,
   "id": "8ad8e80f-84cd-49b7-baab-09f9cd661780",
   "metadata": {},
   "outputs": [],
   "source": [
    "# A generator function that yields 1 for first time,\n",
    "# 2 second time and 3 third time\n",
    "def generatorfun():\n",
    "    yield 1           \n",
    "    yield 2           \n",
    "    yield 3"
   ]
  },
  {
   "cell_type": "code",
   "execution_count": 3,
   "id": "58aa946e-0ad3-4efe-8ae2-64fa6ef1907a",
   "metadata": {},
   "outputs": [
    {
     "data": {
      "text/plain": [
       "<generator object generatorfun at 0x7fed4d121620>"
      ]
     },
     "execution_count": 3,
     "metadata": {},
     "output_type": "execute_result"
    }
   ],
   "source": [
    "generatorfun()"
   ]
  },
  {
   "cell_type": "code",
   "execution_count": 2,
   "id": "de661269-c52a-4efe-a1f6-b25b26b3fd3d",
   "metadata": {},
   "outputs": [
    {
     "name": "stdout",
     "output_type": "stream",
     "text": [
      "1\n",
      "2\n",
      "3\n"
     ]
    }
   ],
   "source": [
    "for i in generatorfun():\n",
    "    print(i)"
   ]
  },
  {
   "cell_type": "code",
   "execution_count": 4,
   "id": "302aa9a8-7a4a-4e84-a912-e864d9da4e21",
   "metadata": {},
   "outputs": [],
   "source": [
    "# using generator fun through generator object to print 1,2,3\n",
    "def generatorfun():\n",
    "    yield 1           \n",
    "    yield 2           \n",
    "    yield 3"
   ]
  },
  {
   "cell_type": "code",
   "execution_count": 5,
   "id": "c468a157-d59d-4cb0-a855-4343f5652b9f",
   "metadata": {},
   "outputs": [],
   "source": [
    "x=generatorfun() # stores generator object in x"
   ]
  },
  {
   "cell_type": "code",
   "execution_count": 6,
   "id": "cda78c85-a069-4046-8673-e5cc112dddb9",
   "metadata": {},
   "outputs": [
    {
     "name": "stdout",
     "output_type": "stream",
     "text": [
      "1\n",
      "2\n",
      "3\n"
     ]
    }
   ],
   "source": [
    "# Iterating over the generator object using next function\n",
    "print(next(x))\n",
    "print(next(x))\n",
    "print(next(x))"
   ]
  },
  {
   "cell_type": "code",
   "execution_count": null,
   "id": "a98f5715-0d43-4c64-b611-a95586d5295b",
   "metadata": {},
   "outputs": [],
   "source": []
  }
 ],
 "metadata": {
  "kernelspec": {
   "display_name": "Python 3 (ipykernel)",
   "language": "python",
   "name": "python3"
  },
  "language_info": {
   "codemirror_mode": {
    "name": "ipython",
    "version": 3
   },
   "file_extension": ".py",
   "mimetype": "text/x-python",
   "name": "python",
   "nbconvert_exporter": "python",
   "pygments_lexer": "ipython3",
   "version": "3.10.8"
  }
 },
 "nbformat": 4,
 "nbformat_minor": 5
}
