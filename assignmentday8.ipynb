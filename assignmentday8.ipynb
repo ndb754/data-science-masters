{
 "cells": [
  {
   "cell_type": "code",
   "execution_count": 1,
   "id": "182c6a16-41f0-4466-a0b9-dcb899b86510",
   "metadata": {},
   "outputs": [],
   "source": [
    "#q1 class is a representation of real life objects such as car,student etc\n",
    "# object is a instance of a class created through variable which possess same attributes as class\n",
    "\n",
    "class student:\n",
    "    pass"
   ]
  },
  {
   "cell_type": "code",
   "execution_count": 2,
   "id": "0820175f-e106-456f-942f-754d54361a61",
   "metadata": {},
   "outputs": [],
   "source": [
    "s1=student()"
   ]
  },
  {
   "cell_type": "code",
   "execution_count": 3,
   "id": "92f432e0-45df-44a9-af77-1ca8b78a6f79",
   "metadata": {},
   "outputs": [],
   "source": [
    "s2=student()"
   ]
  },
  {
   "cell_type": "code",
   "execution_count": 4,
   "id": "51cd771d-6b63-4249-8564-8017838b322b",
   "metadata": {},
   "outputs": [],
   "source": [
    "# here student is a class and s1 s2 are objects of student class\n"
   ]
  },
  {
   "cell_type": "code",
   "execution_count": 5,
   "id": "41f7b19d-fa49-45bd-a21d-649cfaf1cbc7",
   "metadata": {},
   "outputs": [],
   "source": [
    "#q2 four pillars of oops\n",
    "# inheritance,polymorphism,encapsulation and abrstraction"
   ]
  },
  {
   "cell_type": "code",
   "execution_count": 12,
   "id": "8f1866a9-61c1-450b-9185-804882227c52",
   "metadata": {},
   "outputs": [],
   "source": [
    "#q3 init function is used to create constructor in class to accept arguments for class\n",
    "\n",
    "class student:\n",
    "    def __init__(self,rollno,firstname,lastname):\n",
    "        self.rollno=rollno\n",
    "        self.firstname=firstname\n",
    "        self.lastname=lastname\n",
    "    def return_studentdetails(self):\n",
    "        return self.rollno,self.firstname,self.lastname"
   ]
  },
  {
   "cell_type": "code",
   "execution_count": 13,
   "id": "f93be034-afbb-4af4-925d-578929de30e1",
   "metadata": {},
   "outputs": [
    {
     "data": {
      "text/plain": [
       "(23, 'nikhil', 'bhanushali')"
      ]
     },
     "execution_count": 13,
     "metadata": {},
     "output_type": "execute_result"
    }
   ],
   "source": [
    "nikhil=student(23,'nikhil','bhanushali')\n",
    "nikhil.return_studentdetails()"
   ]
  },
  {
   "cell_type": "code",
   "execution_count": 15,
   "id": "540f8321-cb1e-43a5-a868-95046720ba7a",
   "metadata": {},
   "outputs": [],
   "source": [
    "#q4 self is used to denote that function belongs to same classclass student:\n",
    "class student:\n",
    "    def __init__(self,rollno,firstname,lastname):\n",
    "        self.rollno=rollno\n",
    "        self.firstname=firstname\n",
    "        self.lastname=lastname\n",
    "    def return_studentdetails():\n",
    "        return self.rollno,self.firstname,self.lastname\n",
    "  # self is not used  with return_student details function hence it will show an error when object calls the class function"
   ]
  },
  {
   "cell_type": "code",
   "execution_count": 17,
   "id": "72c03a9a-4f3f-4f58-af65-5401dc6572f5",
   "metadata": {},
   "outputs": [
    {
     "ename": "TypeError",
     "evalue": "student.return_studentdetails() takes 0 positional arguments but 1 was given",
     "output_type": "error",
     "traceback": [
      "\u001b[0;31m---------------------------------------------------------------------------\u001b[0m",
      "\u001b[0;31mTypeError\u001b[0m                                 Traceback (most recent call last)",
      "Cell \u001b[0;32mIn[17], line 2\u001b[0m\n\u001b[1;32m      1\u001b[0m rohan\u001b[38;5;241m=\u001b[39mstudent(\u001b[38;5;241m25\u001b[39m,\u001b[38;5;124m'\u001b[39m\u001b[38;5;124mrohan\u001b[39m\u001b[38;5;124m'\u001b[39m,\u001b[38;5;124m'\u001b[39m\u001b[38;5;124mpathak\u001b[39m\u001b[38;5;124m'\u001b[39m)\n\u001b[0;32m----> 2\u001b[0m \u001b[43mrohan\u001b[49m\u001b[38;5;241;43m.\u001b[39;49m\u001b[43mreturn_studentdetails\u001b[49m\u001b[43m(\u001b[49m\u001b[43m)\u001b[49m\n",
      "\u001b[0;31mTypeError\u001b[0m: student.return_studentdetails() takes 0 positional arguments but 1 was given"
     ]
    }
   ],
   "source": [
    "rohan=student(25,'rohan','pathak')\n",
    "rohan.return_studentdetails()"
   ]
  },
  {
   "cell_type": "code",
   "execution_count": 18,
   "id": "d71a3039-441c-453d-bec3-74d1f7f125ec",
   "metadata": {},
   "outputs": [],
   "source": [
    "#q5 Inheritance is the capability of one class to derive or inherit the properties from another class"
   ]
  },
  {
   "cell_type": "code",
   "execution_count": 19,
   "id": "5a9e4acf-5880-4e85-87a0-32a6778396b7",
   "metadata": {},
   "outputs": [],
   "source": [
    "class student:\n",
    "    def __init__(self,rollno,firstname,lastname):\n",
    "        self.rollno=rollno\n",
    "        self.firstname=firstname\n",
    "        self.lastname=lastname\n",
    "    def return_studentdetails(self):\n",
    "        return self.rollno,self.firstname,self.lastname"
   ]
  },
  {
   "cell_type": "code",
   "execution_count": 20,
   "id": "a38b44fe-8225-4b89-b7b8-2d2f0a708b7c",
   "metadata": {},
   "outputs": [
    {
     "data": {
      "text/plain": [
       "(103, 'satish', 'chavan')"
      ]
     },
     "execution_count": 20,
     "metadata": {},
     "output_type": "execute_result"
    }
   ],
   "source": [
    "class divisionA(student): #inheriting parent class\n",
    "    pass\n",
    "satish=divisionA(103,'satish','chavan') #passing parent class attributes with child class\n",
    "satish.return_studentdetails() # returning detail of student in division A by calling parent class function"
   ]
  },
  {
   "cell_type": "code",
   "execution_count": null,
   "id": "03f642c5-4aab-47e4-9306-08aca419e7f1",
   "metadata": {},
   "outputs": [],
   "source": []
  }
 ],
 "metadata": {
  "kernelspec": {
   "display_name": "Python 3 (ipykernel)",
   "language": "python",
   "name": "python3"
  },
  "language_info": {
   "codemirror_mode": {
    "name": "ipython",
    "version": 3
   },
   "file_extension": ".py",
   "mimetype": "text/x-python",
   "name": "python",
   "nbconvert_exporter": "python",
   "pygments_lexer": "ipython3",
   "version": "3.10.8"
  }
 },
 "nbformat": 4,
 "nbformat_minor": 5
}
