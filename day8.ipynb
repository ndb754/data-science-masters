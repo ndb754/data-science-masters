{
 "cells": [
  {
   "cell_type": "code",
   "execution_count": 1,
   "id": "1f3a6d08-1edb-49d0-9db8-8388fa0f65d8",
   "metadata": {},
   "outputs": [
    {
     "name": "stdout",
     "output_type": "stream",
     "text": [
      "<class 'int'>\n"
     ]
    }
   ],
   "source": [
    "a=1\n",
    "print(type(a))"
   ]
  },
  {
   "cell_type": "code",
   "execution_count": 2,
   "id": "aac01242-5099-43e6-b1c0-3f08e41ea266",
   "metadata": {},
   "outputs": [
    {
     "name": "stdout",
     "output_type": "stream",
     "text": [
      "<class 'str'>\n"
     ]
    }
   ],
   "source": [
    "print(type('pwskills'))"
   ]
  },
  {
   "cell_type": "code",
   "execution_count": 9,
   "id": "eb41b072-d5c6-4dcf-bffe-71ea98df9026",
   "metadata": {},
   "outputs": [],
   "source": [
    "class test:\n",
    "    pass"
   ]
  },
  {
   "cell_type": "code",
   "execution_count": 12,
   "id": "7e1c87ea-118c-4707-a524-f2deb0a8d6b5",
   "metadata": {},
   "outputs": [],
   "source": [
    "a=test() #creating variable of test class"
   ]
  },
  {
   "cell_type": "code",
   "execution_count": 14,
   "id": "80e1af0b-b0c8-4d68-b796-8fcd79b98414",
   "metadata": {},
   "outputs": [
    {
     "name": "stdout",
     "output_type": "stream",
     "text": [
      "<class '__main__.test'>\n"
     ]
    }
   ],
   "source": [
    "print(type(a))"
   ]
  },
  {
   "cell_type": "code",
   "execution_count": 16,
   "id": "f38c8d85-b9a4-452c-99e6-d7ca38033464",
   "metadata": {},
   "outputs": [],
   "source": [
    "class pwskills:\n",
    "    def welcomemsg():\n",
    "        print('welcome')"
   ]
  },
  {
   "cell_type": "code",
   "execution_count": 19,
   "id": "979575fe-ed73-4dc0-96b1-771a36c7ad33",
   "metadata": {},
   "outputs": [
    {
     "ename": "TypeError",
     "evalue": "pwskills.welcomemsg() takes 0 positional arguments but 1 was given",
     "output_type": "error",
     "traceback": [
      "\u001b[0;31m---------------------------------------------------------------------------\u001b[0m",
      "\u001b[0;31mTypeError\u001b[0m                                 Traceback (most recent call last)",
      "Cell \u001b[0;32mIn[19], line 2\u001b[0m\n\u001b[1;32m      1\u001b[0m rohan\u001b[38;5;241m=\u001b[39mpwskills()\n\u001b[0;32m----> 2\u001b[0m \u001b[43mrohan\u001b[49m\u001b[38;5;241;43m.\u001b[39;49m\u001b[43mwelcomemsg\u001b[49m\u001b[43m(\u001b[49m\u001b[43m)\u001b[49m\n",
      "\u001b[0;31mTypeError\u001b[0m: pwskills.welcomemsg() takes 0 positional arguments but 1 was given"
     ]
    }
   ],
   "source": [
    "rohan=pwskills()\n",
    "rohan.welcomemsg()"
   ]
  },
  {
   "cell_type": "code",
   "execution_count": 20,
   "id": "7bd5c485-57cd-4e21-a27d-342c3d5cc265",
   "metadata": {},
   "outputs": [],
   "source": [
    "class pwskills:\n",
    "    def welcomemsg(self): #self means function belong to same class\n",
    "        print('welcome')\n",
    "    "
   ]
  },
  {
   "cell_type": "code",
   "execution_count": 21,
   "id": "62530e2b-db67-49bc-b50b-d83774adf06b",
   "metadata": {},
   "outputs": [
    {
     "name": "stdout",
     "output_type": "stream",
     "text": [
      "welcome\n"
     ]
    }
   ],
   "source": [
    "rohan=pwskills()\n",
    "rohan.welcomemsg()"
   ]
  },
  {
   "cell_type": "code",
   "execution_count": 22,
   "id": "e6542b98-74d7-4765-aa07-c2ebb363912c",
   "metadata": {},
   "outputs": [
    {
     "name": "stdout",
     "output_type": "stream",
     "text": [
      "welcome\n"
     ]
    }
   ],
   "source": [
    "sohan=pwskills() # several variable can be created of same class just like int,str etc\n",
    "sohan.welcomemsg() "
   ]
  },
  {
   "cell_type": "markdown",
   "id": "87d4ad15-8a69-4a58-894e-87567b163d73",
   "metadata": {},
   "source": [
    "# constructor"
   ]
  },
  {
   "cell_type": "code",
   "execution_count": 23,
   "id": "906bcb7a-cbc9-4b3f-8f7d-480d6be62b33",
   "metadata": {},
   "outputs": [],
   "source": [
    "# constructor helps class to accept data ie in place of (self)"
   ]
  },
  {
   "cell_type": "code",
   "execution_count": 31,
   "id": "50e9cc2e-7931-4a6f-a23e-dd77e46cc351",
   "metadata": {},
   "outputs": [],
   "source": [
    "class pwskills1:\n",
    "    def __init__(self,phoneno,emailid,studentid):\n",
    "        self.phoneno=phoneno\n",
    "        self.emailid=emailid\n",
    "        self.studentid=studentid\n",
    "        \n",
    "    def return_studentdetails(self):\n",
    "        return self.phoneno,self.emailid,self.studentid\n",
    "    #init with double underscore is a constructor or inbuilt function"
   ]
  },
  {
   "cell_type": "code",
   "execution_count": 32,
   "id": "97f7573f-53bc-40bf-88a8-98726034f758",
   "metadata": {},
   "outputs": [],
   "source": [
    "rohan=pwskills1(564564,'rohan@gmail.com',54646)\n"
   ]
  },
  {
   "cell_type": "code",
   "execution_count": 33,
   "id": "b5b3c868-591a-4680-a8c0-740919bc2ce3",
   "metadata": {},
   "outputs": [
    {
     "data": {
      "text/plain": [
       "564564"
      ]
     },
     "execution_count": 33,
     "metadata": {},
     "output_type": "execute_result"
    }
   ],
   "source": [
    "rohan.phoneno"
   ]
  },
  {
   "cell_type": "code",
   "execution_count": 34,
   "id": "4e4c5460-066d-4a06-9a48-f57e712a0c81",
   "metadata": {},
   "outputs": [
    {
     "data": {
      "text/plain": [
       "'rohan@gmail.com'"
      ]
     },
     "execution_count": 34,
     "metadata": {},
     "output_type": "execute_result"
    }
   ],
   "source": [
    "rohan.emailid"
   ]
  },
  {
   "cell_type": "code",
   "execution_count": 35,
   "id": "5dd740cc-9480-4afd-9c15-ba94bdace082",
   "metadata": {},
   "outputs": [
    {
     "data": {
      "text/plain": [
       "(564564, 'rohan@gmail.com', 54646)"
      ]
     },
     "execution_count": 35,
     "metadata": {},
     "output_type": "execute_result"
    }
   ],
   "source": [
    "rohan.return_studentdetails()"
   ]
  },
  {
   "cell_type": "code",
   "execution_count": 39,
   "id": "da89c233-7d47-421c-9538-507e8b3a92fd",
   "metadata": {},
   "outputs": [],
   "source": [
    "sohan=pwskills(5646464,'sohan@gmail.com',354354)"
   ]
  },
  {
   "cell_type": "code",
   "execution_count": 42,
   "id": "298818fb-d77f-4048-bf4a-7f42c62a2062",
   "metadata": {},
   "outputs": [
    {
     "data": {
      "text/plain": [
       "5646464"
      ]
     },
     "execution_count": 42,
     "metadata": {},
     "output_type": "execute_result"
    }
   ],
   "source": [
    "sohan.phoneno"
   ]
  },
  {
   "cell_type": "code",
   "execution_count": 44,
   "id": "c527c67c-d7fb-4fa7-a5e1-84076b77d3a3",
   "metadata": {},
   "outputs": [
    {
     "ename": "AttributeError",
     "evalue": "'pwskills' object has no attribute 'emailid'",
     "output_type": "error",
     "traceback": [
      "\u001b[0;31m---------------------------------------------------------------------------\u001b[0m",
      "\u001b[0;31mAttributeError\u001b[0m                            Traceback (most recent call last)",
      "Cell \u001b[0;32mIn[44], line 1\u001b[0m\n\u001b[0;32m----> 1\u001b[0m \u001b[43msohan\u001b[49m\u001b[38;5;241;43m.\u001b[39;49m\u001b[43mreturn_studentdetails\u001b[49m\u001b[43m(\u001b[49m\u001b[43m)\u001b[49m\n",
      "Cell \u001b[0;32mIn[25], line 8\u001b[0m, in \u001b[0;36mpwskills.return_studentdetails\u001b[0;34m(self)\u001b[0m\n\u001b[1;32m      7\u001b[0m \u001b[38;5;28;01mdef\u001b[39;00m \u001b[38;5;21mreturn_studentdetails\u001b[39m(\u001b[38;5;28mself\u001b[39m):\n\u001b[0;32m----> 8\u001b[0m     \u001b[38;5;28;01mreturn\u001b[39;00m \u001b[38;5;28mself\u001b[39m\u001b[38;5;241m.\u001b[39mphoneno,\u001b[38;5;28;43mself\u001b[39;49m\u001b[38;5;241;43m.\u001b[39;49m\u001b[43memailid\u001b[49m,\u001b[38;5;28mself\u001b[39m\u001b[38;5;241m.\u001b[39mstudentid\n",
      "\u001b[0;31mAttributeError\u001b[0m: 'pwskills' object has no attribute 'emailid'"
     ]
    }
   ],
   "source": [
    "sohan.return_studentdetails()"
   ]
  },
  {
   "cell_type": "code",
   "execution_count": 1,
   "id": "18b2b9e4-bde3-4602-9adc-f429ecc75e5b",
   "metadata": {},
   "outputs": [],
   "source": [
    "class pwskills1:\n",
    "    def __init__(nikhil,phoneno,emailid,studentid): # using nikhil in place of self also works\n",
    "        nikhil.phoneno=phoneno\n",
    "        nikhil.emailid=emailid\n",
    "        nikhil.studentid=studentid\n",
    "        \n",
    "    def return_studentdetails(nikhil):\n",
    "        return nikhil.phoneno,nikhil.emailid,nikhil.studentid"
   ]
  },
  {
   "cell_type": "code",
   "execution_count": 2,
   "id": "bdfa213d-a904-4b73-be9f-85d1d2013e9e",
   "metadata": {},
   "outputs": [],
   "source": [
    "sohan=pwskills1(5646464,'sohan@gmail.com',354354)"
   ]
  },
  {
   "cell_type": "code",
   "execution_count": 3,
   "id": "d5678288-b314-41b9-97bf-a9268a8bc56a",
   "metadata": {},
   "outputs": [
    {
     "data": {
      "text/plain": [
       "(5646464, 'sohan@gmail.com', 354354)"
      ]
     },
     "execution_count": 3,
     "metadata": {},
     "output_type": "execute_result"
    }
   ],
   "source": [
    "sohan.return_studentdetails()"
   ]
  },
  {
   "cell_type": "code",
   "execution_count": null,
   "id": "1d169a71-90f5-47d2-90fd-e552cada8714",
   "metadata": {},
   "outputs": [],
   "source": []
  }
 ],
 "metadata": {
  "kernelspec": {
   "display_name": "Python 3 (ipykernel)",
   "language": "python",
   "name": "python3"
  },
  "language_info": {
   "codemirror_mode": {
    "name": "ipython",
    "version": 3
   },
   "file_extension": ".py",
   "mimetype": "text/x-python",
   "name": "python",
   "nbconvert_exporter": "python",
   "pygments_lexer": "ipython3",
   "version": "3.10.8"
  }
 },
 "nbformat": 4,
 "nbformat_minor": 5
}
