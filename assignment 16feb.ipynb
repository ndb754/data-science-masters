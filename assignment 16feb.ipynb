{
 "cells": [
  {
   "cell_type": "code",
   "execution_count": null,
   "id": "a1719fc8-d10d-46a9-b8c5-9fdeefd3589a",
   "metadata": {},
   "outputs": [],
   "source": [
    "#Q1. What is a database? Differentiate between SQL and NoSQL databases. \n",
    "# database is a collection of data.Data within the most common types of databases in operation today is typically modeled in rows and columns in a series of tables to make processing and data querying efficient. The data can then be easily accessed, managed, modified, updated, controlled, and organized. Most databases use structured query language (SQL) for writing and querying data.\n",
    "# RELATIONAL DATABASE MANAGEMENT SYSTEM (RDBMS)\tNon-relational or distributed database system.\n",
    "'''\n",
    "                  sql                                                        nosql\n",
    "RELATIONAL DATABASE MANAGEMENT SYSTEM (RDBMS)\t                    Non-relational or distributed database system.\n",
    "These databases have fixed or static or predefined schema\t        They have dynamic schema\n",
    "These databases are not suited for hierarchical data storage.\t    These databases are best suited for hierarchical data storage.\n",
    "These databases are best suited for complex queries\t                These databases are not so good for complex queries\n",
    "Vertically Scalable\t                                                Horizontally scalable\n",
    "Follows ACID property\t                                            Follows CAP(consistency, availability, partition tolerance)\n",
    "Examples: MySQL, PostgreSQL, Oracle, MS-SQL Server, etc\t            Examples: MongoDB, GraphQL, HBase, Neo4j, Cassandra, etc '''"
   ]
  },
  {
   "cell_type": "code",
   "execution_count": null,
   "id": "2165e291-c2db-4369-aefd-fbf83a4bddd3",
   "metadata": {},
   "outputs": [],
   "source": [
    "#Q2. What is DDL? Explain why CREATE, DROP, ALTER, and TRUNCATE are used with an example.\n",
    "'''A data definition language (DDL) is a computer language used to create and modify the structure of database objects in a database. These database objects include views, schemas, tables, indexes, etc\n",
    "Unlike data manipulation language (DML) commands that are used for data modification purposes, DDL commands are used for altering the database structure such as creating new tables or objects along with all their attributes (data type, table name, etc.).\n",
    "Commonly used DDL in SQL querying are CREATE, ALTER, DROP, and TRUNCATE\n",
    "Create:\n",
    "This command builds a new table and has a predefined syntax\n",
    "CREATE TABLE Employee (Employee_Id INTEGER PRIMARY KEY, Firstname CHAR (50) NULL, Lastname CHAR (75) NOT NULL);\n",
    "In this example, the string CHAR is used to specify the data type. Other data types can be DATE, NUMBER, or INTEGER.\n",
    "Alter:\n",
    "An alter command modifies an existing database table. This command can add up additional column, drop existing columns and even change the data type of columns involved in a database table.\n",
    "ALTER TABLE Employee ADD PRIMARY KEY (employee_pk);\n",
    "In this example, we added a unique primary key to the table\n",
    "Drop:\n",
    "A drop command is used to delete objects such as a table, index or view. A DROP statement cannot be rolled back, so once an object is destroyed, there’s no way to recover it.\n",
    "DROP TABLE Employee;\n",
    "Truncate:\n",
    "Similar to DROP, the TRUNCATE statement is used to quickly remove all records from a table. However, unlike DROP that completely destroys a table, TRUNCATE preserves its full structure to be reused later\n",
    "TRUNCATE TABLE Employee;\n",
    "In this example, we’re marking all the extents of the Employee table for deallocation, so they’re considered empty for reuse."
   ]
  },
  {
   "cell_type": "code",
   "execution_count": null,
   "id": "8f6b5378-0ea5-4b62-b0cc-365d69bd460a",
   "metadata": {},
   "outputs": [],
   "source": [
    "'''Q3. What is DML? Explain INSERT, UPDATE, and DELETE with an example.\n",
    "The SQL commands that deals with the manipulation of data present in the database belong to DML or Data Manipulation Language\n",
    "INSERT : It is used to insert data into a table.\n",
    "INSERT into test1.test_table values(3424,'nikhil',234,323.2,'bhanushali');\n",
    "\n",
    "UPDATE: It is used to update existing data within a table.\n",
    "UPDATE Product SET Product_Price = 80 WHERE Product_Id = 'P102' ;\n",
    "DELETE : It is used to delete records from a database table.\n",
    "DELETE FROM Product WHERE Product_Id = 'P202' ; '''"
   ]
  },
  {
   "cell_type": "code",
   "execution_count": null,
   "id": "253bef19-a7bd-4a2f-841b-40ce3024b37d",
   "metadata": {},
   "outputs": [],
   "source": [
    "'''Q4. What is DQL? Explain SELECT with an example.\n",
    "The DQL statements can be used in order to query the data and information contained in schema objects. The goal of the DQL Commands is to return a schema relation on the basis of the query supplied to them.\n",
    "SELECT Stu_Name FROM Student WHERE Phone = 9039462908;'''"
   ]
  },
  {
   "cell_type": "code",
   "execution_count": null,
   "id": "2d2ed2a8-470e-453c-8105-0e928aef6220",
   "metadata": {},
   "outputs": [],
   "source": [
    "'''Q5. Explain Primary Key and Foreign Key.\n",
    ": A primary key is used to ensure that data in the specific column is unique. A column cannot have NULL values. It is either an existing table column or a column that is specifically generated by the database according to a defined sequence.\n",
    "A foreign key is a column or group of columns in a relational database table that provides a link between data in two tables. It is a column (or columns) that references a column (most often the primary key) of another table\n",
    "for eg roll not of student can be primary key in table showing personal details of student because it is unique...the same column can be foreign key in table related to academic details of studemt"
   ]
  },
  {
   "cell_type": "code",
   "execution_count": null,
   "id": "302468f0-76be-4a8f-853b-28d86ffb67dc",
   "metadata": {},
   "outputs": [],
   "source": [
    "'''Q6. Write a python code to connect MySQL to python. Explain the cursor() and execute() method.\n",
    "import mysql.connector\n",
    "mydb = mysql.connector.connect(\n",
    "  host=\"localhost\",\n",
    "  user=\"abc\",\n",
    "  password=\"password\"\n",
    ")\n",
    "print(mydb)\n",
    "mycursor = mydb.cursor()\n",
    "mycursor.execute(\"SHOW DATABASES\")\n",
    "for x in mycursor:\n",
    "  print(x)\n",
    "Allows Python code to execute PostgreSQL command in a database session. Cursors are created by the connection.cursor() method: they are bound to the connection for the entire lifetime and all the commands are executed in the context of the database session wrapped by the connection.\n",
    "execute method is used to exceute sql queries"
   ]
  },
  {
   "cell_type": "code",
   "execution_count": null,
   "id": "6aa2e067-8c7b-4dc7-999d-069a14d8fafc",
   "metadata": {},
   "outputs": [],
   "source": [
    "'''Q7. Give the order of execution of SQL clauses in an SQL query.\n",
    "The order in which the clauses in queries are executed is as follows:\n",
    "\n",
    "1. FROM/JOIN: The FROM and/or JOIN clauses are executed first to determine the data of interest.\n",
    "\n",
    "2. WHERE: The WHERE clause is executed to filter out records that do not meet the constraints.\n",
    "\n",
    "3. GROUP BY: The GROUP BY clause is executed to group the data based on the values in one or more columns.\n",
    "\n",
    "4. HAVING: The HAVING clause is executed to remove the created grouped records that don’t meet the constraints.\n",
    "\n",
    "5. SELECT: The SELECT clause is executed to derive all desired columns and expressions.\n",
    "\n",
    "6. ORDER BY: The ORDER BY clause is executed to sort the derived values in ascending or descending order.\n",
    "\n",
    "7. LIMIT/OFFSET: Finally, the LIMIT and/or OFFSET clauses are executed to keep or skip a specified number of rows.'''"
   ]
  }
 ],
 "metadata": {
  "kernelspec": {
   "display_name": "Python 3 (ipykernel)",
   "language": "python",
   "name": "python3"
  },
  "language_info": {
   "codemirror_mode": {
    "name": "ipython",
    "version": 3
   },
   "file_extension": ".py",
   "mimetype": "text/x-python",
   "name": "python",
   "nbconvert_exporter": "python",
   "pygments_lexer": "ipython3",
   "version": "3.10.8"
  }
 },
 "nbformat": 4,
 "nbformat_minor": 5
}
