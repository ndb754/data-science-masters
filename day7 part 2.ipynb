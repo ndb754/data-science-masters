{
 "cells": [
  {
   "cell_type": "markdown",
   "id": "c85aacfd-0599-4561-b748-663232cf0c98",
   "metadata": {},
   "source": [
    "# map function"
   ]
  },
  {
   "cell_type": "code",
   "execution_count": 7,
   "id": "4ea878c5-07e7-4b89-80ec-16c8c68eb5d2",
   "metadata": {},
   "outputs": [],
   "source": [
    "lst=[1,2,3,4,5]"
   ]
  },
  {
   "cell_type": "code",
   "execution_count": 8,
   "id": "1a534570-1e66-487c-9950-7dcd0d46b2e9",
   "metadata": {},
   "outputs": [],
   "source": [
    "def square(l):\n",
    "    l1=[]\n",
    "    for i in l:\n",
    "        l1.append(i**2)\n",
    "    return l1"
   ]
  },
  {
   "cell_type": "code",
   "execution_count": 9,
   "id": "98a6766f-bf9a-4fe9-80f2-decfcea38329",
   "metadata": {},
   "outputs": [
    {
     "data": {
      "text/plain": [
       "[1, 4, 9, 16, 25]"
      ]
     },
     "execution_count": 9,
     "metadata": {},
     "output_type": "execute_result"
    }
   ],
   "source": [
    "square(lst)"
   ]
  },
  {
   "cell_type": "code",
   "execution_count": 1,
   "id": "24a567f6-2249-4335-91f0-162ad501345a",
   "metadata": {},
   "outputs": [],
   "source": [
    "# using map ()\n",
    "def square(x):\n",
    "    return x**2"
   ]
  },
  {
   "cell_type": "code",
   "execution_count": 3,
   "id": "60cea373-e7f8-4c28-afca-d93290ef0f4d",
   "metadata": {},
   "outputs": [],
   "source": [
    "lst=[1,2,3,4,5]"
   ]
  },
  {
   "cell_type": "code",
   "execution_count": 3,
   "id": "283e5ff6-0fed-499e-b7c4-e7d49a7d7b34",
   "metadata": {},
   "outputs": [
    {
     "data": {
      "text/plain": [
       "<map at 0x7f3b7cdd2d10>"
      ]
     },
     "execution_count": 3,
     "metadata": {},
     "output_type": "execute_result"
    }
   ],
   "source": [
    "map(square,lst)"
   ]
  },
  {
   "cell_type": "code",
   "execution_count": 10,
   "id": "8b5ff858-2eb3-434b-aa3b-11794935ac61",
   "metadata": {},
   "outputs": [
    {
     "data": {
      "text/plain": [
       "[1, 4, 9, 16, 25]"
      ]
     },
     "execution_count": 10,
     "metadata": {},
     "output_type": "execute_result"
    }
   ],
   "source": [
    "list(map(square,lst))# map function is basically used to pass function as argument and to perform that\n",
    "# function on every values in iterables like list"
   ]
  },
  {
   "cell_type": "code",
   "execution_count": 4,
   "id": "189017e8-3df4-44cb-97f9-d328737780e7",
   "metadata": {},
   "outputs": [
    {
     "data": {
      "text/plain": [
       "[1, 4, 9, 16, 25]"
      ]
     },
     "execution_count": 4,
     "metadata": {},
     "output_type": "execute_result"
    }
   ],
   "source": [
    "# using map with lambda function instead of full fledged function\n",
    "list(map(lambda x:x**2,lst))"
   ]
  },
  {
   "cell_type": "code",
   "execution_count": 5,
   "id": "3d896550-13cb-4380-9ef1-77395f224a0f",
   "metadata": {},
   "outputs": [
    {
     "data": {
      "text/plain": [
       "[3, 4, 5, 6, 7]"
      ]
     },
     "execution_count": 5,
     "metadata": {},
     "output_type": "execute_result"
    }
   ],
   "source": [
    "list(map(lambda x:x+2,lst))"
   ]
  },
  {
   "cell_type": "code",
   "execution_count": 6,
   "id": "e0b0e628-786c-4eab-8414-68e84d8ec4cf",
   "metadata": {},
   "outputs": [
    {
     "data": {
      "text/plain": [
       "['1', '2', '3', '4', '5']"
      ]
     },
     "execution_count": 6,
     "metadata": {},
     "output_type": "execute_result"
    }
   ],
   "source": [
    "list(map(lambda x:str(x),lst)) #converted into string"
   ]
  },
  {
   "cell_type": "code",
   "execution_count": 1,
   "id": "f5d5f780-d2a3-4200-8eb4-586c4f007aa1",
   "metadata": {},
   "outputs": [
    {
     "data": {
      "text/plain": [
       "[5, 7, 9, 11]"
      ]
     },
     "execution_count": 1,
     "metadata": {},
     "output_type": "execute_result"
    }
   ],
   "source": [
    "# adding 2 list through lambda function\n",
    "l1=[1,2,3,4]\n",
    "l2=[4,5,6,7]\n",
    "list(map(lambda x,y:x+y,l1,l2))"
   ]
  },
  {
   "cell_type": "code",
   "execution_count": 4,
   "id": "6415685d-7067-4c0f-878d-4aed38d027e7",
   "metadata": {},
   "outputs": [
    {
     "data": {
      "text/plain": [
       "[5, 7, 9, 11]"
      ]
     },
     "execution_count": 4,
     "metadata": {},
     "output_type": "execute_result"
    }
   ],
   "source": [
    "#alternate way\n",
    "f=lambda x,y:x+y\n",
    "list(map(f,l1,l2))"
   ]
  },
  {
   "cell_type": "code",
   "execution_count": 5,
   "id": "d36ee847-a2e9-4665-b1df-fa180fcf376a",
   "metadata": {},
   "outputs": [
    {
     "data": {
      "text/plain": [
       "[1, 2, 3, 4, 4, 5, 6, 7]"
      ]
     },
     "execution_count": 5,
     "metadata": {},
     "output_type": "execute_result"
    }
   ],
   "source": [
    "f(l1,l2)"
   ]
  },
  {
   "cell_type": "code",
   "execution_count": 11,
   "id": "7a55ba5d-ef59-44a5-a090-30feb81d07f8",
   "metadata": {},
   "outputs": [],
   "source": [
    "# return as list by converting in upper case\n",
    "string='pwskills'\n",
    "def uppercase(s):\n",
    "    return s.upper()"
   ]
  },
  {
   "cell_type": "code",
   "execution_count": 12,
   "id": "fed703f6-6005-4a5a-946e-8bde3f6ec52f",
   "metadata": {},
   "outputs": [
    {
     "data": {
      "text/plain": [
       "['P', 'W', 'S', 'K', 'I', 'L', 'L', 'S']"
      ]
     },
     "execution_count": 12,
     "metadata": {},
     "output_type": "execute_result"
    }
   ],
   "source": [
    "list(map(uppercase,string))"
   ]
  },
  {
   "cell_type": "code",
   "execution_count": 13,
   "id": "bea09e0b-fca5-4b59-8ab8-68212fbfd3ca",
   "metadata": {},
   "outputs": [
    {
     "data": {
      "text/plain": [
       "['P', 'W', 'S', 'K', 'I', 'L', 'L', 'S']"
      ]
     },
     "execution_count": 13,
     "metadata": {},
     "output_type": "execute_result"
    }
   ],
   "source": [
    "list(map(lambda s:s.upper(),string))"
   ]
  },
  {
   "cell_type": "markdown",
   "id": "be8d2226-024e-4256-8730-7a67ee420b95",
   "metadata": {},
   "source": [
    "# reduce"
   ]
  },
  {
   "cell_type": "code",
   "execution_count": 14,
   "id": "cc70dd58-c969-40e5-960c-f97261500eb7",
   "metadata": {},
   "outputs": [],
   "source": [
    "# to use reduce(),need to import reduce from functools library\n",
    "from functools import reduce"
   ]
  },
  {
   "cell_type": "code",
   "execution_count": 22,
   "id": "f688c9c4-b5e4-4fed-a610-6b92ccb2f4e8",
   "metadata": {},
   "outputs": [
    {
     "data": {
      "text/plain": [
       "21"
      ]
     },
     "execution_count": 22,
     "metadata": {},
     "output_type": "execute_result"
    }
   ],
   "source": [
    "lst=[1,2,3,4,5,6]\n",
    "reduce(lambda x,y:x+y,lst)"
   ]
  },
  {
   "cell_type": "code",
   "execution_count": 24,
   "id": "3da41e1f-ad10-4bb0-84f1-f2a4a0b4d6ea",
   "metadata": {},
   "outputs": [
    {
     "ename": "TypeError",
     "evalue": "<lambda>() missing 2 required positional arguments: 'z' and 'a'",
     "output_type": "error",
     "traceback": [
      "\u001b[0;31m---------------------------------------------------------------------------\u001b[0m",
      "\u001b[0;31mTypeError\u001b[0m                                 Traceback (most recent call last)",
      "Cell \u001b[0;32mIn[24], line 1\u001b[0m\n\u001b[0;32m----> 1\u001b[0m \u001b[43mreduce\u001b[49m\u001b[43m(\u001b[49m\u001b[38;5;28;43;01mlambda\u001b[39;49;00m\u001b[43m \u001b[49m\u001b[43mx\u001b[49m\u001b[43m,\u001b[49m\u001b[43my\u001b[49m\u001b[43m,\u001b[49m\u001b[43mz\u001b[49m\u001b[43m,\u001b[49m\u001b[43ma\u001b[49m\u001b[43m:\u001b[49m\u001b[43mx\u001b[49m\u001b[38;5;241;43m+\u001b[39;49m\u001b[43my\u001b[49m\u001b[38;5;241;43m+\u001b[39;49m\u001b[43mz\u001b[49m\u001b[38;5;241;43m+\u001b[39;49m\u001b[43ma\u001b[49m\u001b[43m,\u001b[49m\u001b[43mlst\u001b[49m\u001b[43m)\u001b[49m\n",
      "\u001b[0;31mTypeError\u001b[0m: <lambda>() missing 2 required positional arguments: 'z' and 'a'"
     ]
    }
   ],
   "source": [
    "reduce(lambda x,y,z:x+y+z,lst) # will show error since reduce work with only 2 variables"
   ]
  },
  {
   "cell_type": "code",
   "execution_count": 17,
   "id": "a703ff60-8ce9-4e33-93cf-91100c5ed90e",
   "metadata": {},
   "outputs": [],
   "source": [
    "def add(x,y):\n",
    "    return x+y"
   ]
  },
  {
   "cell_type": "code",
   "execution_count": 18,
   "id": "62a2fee5-0393-4525-b55c-8e1f81a3524c",
   "metadata": {},
   "outputs": [
    {
     "data": {
      "text/plain": [
       "21"
      ]
     },
     "execution_count": 18,
     "metadata": {},
     "output_type": "execute_result"
    }
   ],
   "source": [
    "reduce(add,lst) # takes function as argument same like map"
   ]
  },
  {
   "cell_type": "code",
   "execution_count": 29,
   "id": "97ffab7b-bf6e-4be6-add1-536cf6e6c607",
   "metadata": {},
   "outputs": [
    {
     "data": {
      "text/plain": [
       "6"
      ]
     },
     "execution_count": 29,
     "metadata": {},
     "output_type": "execute_result"
    }
   ],
   "source": [
    "# find max of all elements in list\n",
    "reduce(lambda x,y:x if x>y else y,lst)"
   ]
  },
  {
   "cell_type": "markdown",
   "id": "977d3e7f-e532-464a-a830-cdbfca1c9b26",
   "metadata": {},
   "source": [
    "# filter "
   ]
  },
  {
   "cell_type": "code",
   "execution_count": 30,
   "id": "d5ac5233-19e7-4067-a4c5-0dbf6484f1ae",
   "metadata": {},
   "outputs": [],
   "source": [
    "lst=[1,2,3,4,5,6,7,8,9]"
   ]
  },
  {
   "cell_type": "code",
   "execution_count": 32,
   "id": "3f118e52-5087-446a-b721-99305772c20f",
   "metadata": {},
   "outputs": [
    {
     "data": {
      "text/plain": [
       "<filter at 0x7f3be8347370>"
      ]
     },
     "execution_count": 32,
     "metadata": {},
     "output_type": "execute_result"
    }
   ],
   "source": [
    "filter(lambda x:x%2==0,lst)"
   ]
  },
  {
   "cell_type": "code",
   "execution_count": 33,
   "id": "6344a58d-4d74-4fae-b922-8eb2a4458f01",
   "metadata": {},
   "outputs": [
    {
     "data": {
      "text/plain": [
       "[2, 4, 6, 8]"
      ]
     },
     "execution_count": 33,
     "metadata": {},
     "output_type": "execute_result"
    }
   ],
   "source": [
    "# find even numbers\n",
    "list(filter(lambda x:x%2==0,lst))"
   ]
  },
  {
   "cell_type": "code",
   "execution_count": 40,
   "id": "c0dd585b-5400-4d16-bb2e-cdda5dcae368",
   "metadata": {},
   "outputs": [
    {
     "data": {
      "text/plain": [
       "[-2, -3, -4]"
      ]
     },
     "execution_count": 40,
     "metadata": {},
     "output_type": "execute_result"
    }
   ],
   "source": [
    "lst=[-2,-3,-4,0,1,2,3,4]\n",
    "list(filter(lambda x:x<0,lst))"
   ]
  },
  {
   "cell_type": "code",
   "execution_count": 41,
   "id": "1ed9c85a-1687-451e-8027-ee2794c6d4f7",
   "metadata": {},
   "outputs": [
    {
     "data": {
      "text/plain": [
       "['bhanushali', 'science']"
      ]
     },
     "execution_count": 41,
     "metadata": {},
     "output_type": "execute_result"
    }
   ],
   "source": [
    "#return string wwith length greater than 6 letters\n",
    "l1=['nikhil','dinesh','bhanushali','ndb','data','science']\n",
    "list(filter(lambda x:len(x)>6,l1))"
   ]
  },
  {
   "cell_type": "code",
   "execution_count": null,
   "id": "b37b627c-32cb-4913-a5c6-0ec23684e2f9",
   "metadata": {},
   "outputs": [],
   "source": []
  }
 ],
 "metadata": {
  "kernelspec": {
   "display_name": "Python 3 (ipykernel)",
   "language": "python",
   "name": "python3"
  },
  "language_info": {
   "codemirror_mode": {
    "name": "ipython",
    "version": 3
   },
   "file_extension": ".py",
   "mimetype": "text/x-python",
   "name": "python",
   "nbconvert_exporter": "python",
   "pygments_lexer": "ipython3",
   "version": "3.10.8"
  }
 },
 "nbformat": 4,
 "nbformat_minor": 5
}
