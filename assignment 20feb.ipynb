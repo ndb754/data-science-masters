{
 "cells": [
  {
   "cell_type": "code",
   "execution_count": null,
   "id": "6a12dec1-458e-4293-8056-2b776f10a5cc",
   "metadata": {},
   "outputs": [],
   "source": [
    "\"\"\"Q1. Explain GET and POST methods.\n",
    "when sending data to the back end, the GET method adds the data to the URL \n",
    "GET is less secure compared to POST because data sent is part of the URL.Never use GET when sending passwords or other sensitive information!\n",
    "Post method is secured as compared to get...it doesnt append data to url and send it as part of Body section"
   ]
  },
  {
   "cell_type": "code",
   "execution_count": null,
   "id": "e433af11-6538-48ab-ab5d-1bc1c2aca90d",
   "metadata": {},
   "outputs": [],
   "source": [
    "'''Q2. Why is request used in Flask?\n",
    "request is used to request data from the front end  or Form on html page to back end\n",
    "request.form['num1']"
   ]
  },
  {
   "cell_type": "code",
   "execution_count": null,
   "id": "e4037016-f688-4e50-aa10-c666d8204631",
   "metadata": {},
   "outputs": [],
   "source": [
    "'''Q3. Why is redirect() used in Flask?\n",
    "redirect method is used to redirect to another html page or url link.\n",
    "it can also redirect to particular route to invoke a function when used with url_for()'''"
   ]
  },
  {
   "cell_type": "code",
   "execution_count": null,
   "id": "cdcbaac8-789f-4865-9cb6-82a6f242e450",
   "metadata": {},
   "outputs": [],
   "source": [
    "\"\"\"Q4. What are templates in Flask? Why is the render_template() function used?\n",
    "templates are html pages\n",
    "render_template() is used to render html page inside flask function \n",
    "\n",
    "@app.route('/')\n",
    "def home_page():\n",
    "    return render_template(\"index.html\") # this will open index.html when home_page function is called through :5000 route"
   ]
  },
  {
   "cell_type": "code",
   "execution_count": null,
   "id": "60b2ca73-c650-4584-9803-dfb72b0adec8",
   "metadata": {},
   "outputs": [],
   "source": [
    "'''Q5. Create a simple API. Use Postman to test it. Attach the screenshot of the output in the Jupyter Notebook.\n",
    "\n",
    "from flask import Flask,request,render_template,jsonify\n",
    "\n",
    "app = Flask(__name__) \n",
    "\n",
    "@app.route('/')\n",
    "def home_page():\n",
    "    return render_template(\"index.html\")\n",
    "\n",
    "# to use postman to test your api without browser\n",
    "app.route('/postman_math',methods=[\"POST\"])\n",
    "def math_ops1():\n",
    "    if (request.method==\"POST\"):\n",
    "        ops=request.json['operation']\n",
    "        num1=int(request.json['num1'])\n",
    "        num2=int(request.json['num2'])\n",
    "        if(ops=='add'):\n",
    "            r=num1+num2\n",
    "            result=\"the sum of\" + str(num1) + 'and' + str(num2) + 'is' + str(r)\n",
    "        if(ops=='substract'):\n",
    "            r=num1-num2\n",
    "            result=\"the sub of\" + str(num1) + 'and' + str(num2) + 'is' + str(r)\n",
    "        if(ops=='multiply'):\n",
    "            r=num1*num2\n",
    "            result=\"the mul of\" + str(num1) + 'and' + str(num2) + 'is' + str(r)\n",
    "        if(ops=='divide'):\n",
    "            r=num1/num2\n",
    "            result=\"the div of\" + str(num1) + 'and' + str(num2) + 'is' + str(r)\n",
    "        return jsonify(result)\n",
    "\n",
    "\n",
    "\n",
    "\n",
    "if __name__==\"__main__\":\n",
    "    app.run(host=\"0.0.0.0\")\n",
    "\n",
    "\n",
    "the information such as giving input of operation,num1 and num2 will be done on postman in json format that is key value pair instead of browser to test above writtem api calculator"
   ]
  }
 ],
 "metadata": {
  "kernelspec": {
   "display_name": "Python 3 (ipykernel)",
   "language": "python",
   "name": "python3"
  },
  "language_info": {
   "codemirror_mode": {
    "name": "ipython",
    "version": 3
   },
   "file_extension": ".py",
   "mimetype": "text/x-python",
   "name": "python",
   "nbconvert_exporter": "python",
   "pygments_lexer": "ipython3",
   "version": "3.10.8"
  }
 },
 "nbformat": 4,
 "nbformat_minor": 5
}
