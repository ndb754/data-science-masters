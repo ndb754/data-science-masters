{
 "cells": [
  {
   "cell_type": "code",
   "execution_count": 3,
   "id": "7a78b754-6fd5-46ca-bcb8-bf5a74cda654",
   "metadata": {},
   "outputs": [],
   "source": [
    "#Q1. You are writing code for a company. The requirement of the company is that you create a python\n",
    "#function that will check whether the password entered by the user is correct or not. The function should\n",
    "#take the password as input and return the string “Valid Password” if the entered password follows the\n",
    "#below-given password guidelines else it should return “Invalid Password”.\n",
    "#Note: 1. The Password should contain at least two uppercase letters and at least two lowercase letters.\n",
    "#2. The Password should contain at least a number and three special characters.\n",
    "#3. The length of the password should be 10 characters long."
   ]
  },
  {
   "cell_type": "code",
   "execution_count": 6,
   "id": "0d313ad0-5062-407f-bea9-4bff84a34387",
   "metadata": {},
   "outputs": [],
   "source": [
    "def function1(str):\n",
    "    l,u,d,s=0,0,0,0\n",
    "    if len(str)>=10:\n",
    "        for i in str:\n",
    "            if i.islower():\n",
    "                l=l+1    \n",
    "            if i.isupper():\n",
    "                u=u+1\n",
    "            if i.isdigit():\n",
    "                d=d+1\n",
    "            if (i=='@'or i=='$' or i=='_' or i==\"!\" or i==\"#\"or i==\"%\"or i==\"^\" or i==\"&\" or i==\"*\"):\n",
    "                s=s+1\n",
    "        if (l>=2 and u>=2 and d>=1 and s>=3):\n",
    "            print(\"Valid Password\")\n",
    "        else:\n",
    "            print(\"invalid password\")\n",
    "    else:\n",
    "        print(\"Invalid Password\")\n",
    "    \n",
    "                       \n",
    "            "
   ]
  },
  {
   "cell_type": "code",
   "execution_count": 8,
   "id": "b3f7bbcf-22c1-4a74-a6ec-e9519407b4b3",
   "metadata": {},
   "outputs": [
    {
     "name": "stdout",
     "output_type": "stream",
     "text": [
      "Valid Password\n"
     ]
    }
   ],
   "source": [
    "function1('aaAB@@@123')"
   ]
  },
  {
   "cell_type": "code",
   "execution_count": 9,
   "id": "b16c9878-5635-4a93-b0d1-a036c7ca6b99",
   "metadata": {},
   "outputs": [
    {
     "name": "stdout",
     "output_type": "stream",
     "text": [
      "invalid password\n"
     ]
    }
   ],
   "source": [
    "function1('AaAB@@@123')"
   ]
  },
  {
   "cell_type": "code",
   "execution_count": 10,
   "id": "29236312-bfc1-4448-bf9f-62a214ece6b6",
   "metadata": {},
   "outputs": [
    {
     "name": "stdout",
     "output_type": "stream",
     "text": [
      "invalid password\n"
     ]
    }
   ],
   "source": [
    "function1('aaAB@@1123')"
   ]
  },
  {
   "cell_type": "code",
   "execution_count": 11,
   "id": "5773f4ed-9dd4-424d-912c-e800c1ea1d31",
   "metadata": {},
   "outputs": [
    {
     "name": "stdout",
     "output_type": "stream",
     "text": [
      "invalid password\n"
     ]
    }
   ],
   "source": [
    "function1('aaAB@@xxxx')"
   ]
  },
  {
   "cell_type": "code",
   "execution_count": null,
   "id": "934298b9-aae2-46aa-a657-5a58d78d52e4",
   "metadata": {},
   "outputs": [],
   "source": [
    "#Q2. Solve the below-given questions using at least one of the following:\n",
    "#1. Lambda functio\n",
    "#2. Filter functio\n",
    "#3. map functio\n",
    "#4. List Comprehensio\n"
   ]
  },
  {
   "cell_type": "code",
   "execution_count": null,
   "id": "6622d6e0-2e49-4cf0-8f85-8b928250b0fd",
   "metadata": {},
   "outputs": [],
   "source": [
    "#Check if the string starts with a particular letter"
   ]
  },
  {
   "cell_type": "code",
   "execution_count": 12,
   "id": "c4fa1a26-b633-43a6-ab4b-8eb408164ca9",
   "metadata": {},
   "outputs": [],
   "source": [
    "str='Nikhil'"
   ]
  },
  {
   "cell_type": "code",
   "execution_count": 13,
   "id": "3cb7e9c4-b4da-4ab2-bdaa-65b408eec483",
   "metadata": {},
   "outputs": [
    {
     "data": {
      "text/plain": [
       "True"
      ]
     },
     "execution_count": 13,
     "metadata": {},
     "output_type": "execute_result"
    }
   ],
   "source": [
    "def function2(str):\n",
    "    str.startswith('N')"
   ]
  },
  {
   "cell_type": "code",
   "execution_count": 15,
   "id": "eac2f029-ce1e-4c9a-a5ad-f7a9da7b522e",
   "metadata": {},
   "outputs": [
    {
     "data": {
      "text/plain": [
       "False"
      ]
     },
     "execution_count": 15,
     "metadata": {},
     "output_type": "execute_result"
    }
   ],
   "source": [
    "function2=lambda str:str.startswith('N')\n",
    "function2('akhil')"
   ]
  },
  {
   "cell_type": "code",
   "execution_count": 18,
   "id": "51aa098c-bbb4-4dbf-9e22-85b17e04dc06",
   "metadata": {},
   "outputs": [
    {
     "data": {
      "text/plain": [
       "True"
      ]
     },
     "execution_count": 18,
     "metadata": {},
     "output_type": "execute_result"
    }
   ],
   "source": [
    "#Check if the string is numeric\n",
    "str='123'\n",
    "str.isnumeric()"
   ]
  },
  {
   "cell_type": "code",
   "execution_count": 19,
   "id": "99d29d6f-68b0-4bab-8937-c34819ec2132",
   "metadata": {},
   "outputs": [
    {
     "data": {
      "text/plain": [
       "True"
      ]
     },
     "execution_count": 19,
     "metadata": {},
     "output_type": "execute_result"
    }
   ],
   "source": [
    "function3=lambda x:x.isnumeric()\n",
    "function3('123')\n",
    "    \n",
    "    "
   ]
  },
  {
   "cell_type": "code",
   "execution_count": 20,
   "id": "c8b2bf80-bdf7-4fbf-ae31-3cef172ef8ed",
   "metadata": {},
   "outputs": [
    {
     "data": {
      "text/plain": [
       "False"
      ]
     },
     "execution_count": 20,
     "metadata": {},
     "output_type": "execute_result"
    }
   ],
   "source": [
    "function3('abc1')"
   ]
  },
  {
   "cell_type": "code",
   "execution_count": null,
   "id": "99753577-c7b0-4ff5-bc9a-de77ac55667f",
   "metadata": {},
   "outputs": [],
   "source": [
    "#Sort a list of tuples having fruit names and their quantity. [(\"mango\",99),(\"orange\",80), (\"grapes\", 1000)-"
   ]
  },
  {
   "cell_type": "code",
   "execution_count": 6,
   "id": "950f8621-7825-4f05-b843-8b817664afa4",
   "metadata": {},
   "outputs": [],
   "source": [
    "l=[(\"mango\",99),(\"orange\",80), (\"grapes\", 1000)] # sorting through integer values inside tuples in list\n",
    "for i in l:\n",
    "    l.sort(key=lambda i:i[0])"
   ]
  },
  {
   "cell_type": "code",
   "execution_count": 7,
   "id": "611c3d74-a043-46b9-8791-7ed105b9536a",
   "metadata": {},
   "outputs": [
    {
     "data": {
      "text/plain": [
       "[('grapes', 1000), ('mango', 99), ('orange', 80)]"
      ]
     },
     "execution_count": 7,
     "metadata": {},
     "output_type": "execute_result"
    }
   ],
   "source": [
    "l"
   ]
  },
  {
   "cell_type": "code",
   "execution_count": 8,
   "id": "523dc84b-d475-43cb-8697-f29f8d6b3918",
   "metadata": {},
   "outputs": [],
   "source": [
    "l=[(\"mango\",99),(\"orange\",80), (\"grapes\", 1000)] # sorting through fruits values inside tuples in list\n",
    "for i in l:\n",
    "    l.sort(key=lambda i:i[1])"
   ]
  },
  {
   "cell_type": "code",
   "execution_count": 9,
   "id": "c5a8a9e0-b95e-4fc8-93ed-eaa3a0a158e7",
   "metadata": {},
   "outputs": [
    {
     "data": {
      "text/plain": [
       "[('orange', 80), ('mango', 99), ('grapes', 1000)]"
      ]
     },
     "execution_count": 9,
     "metadata": {},
     "output_type": "execute_result"
    }
   ],
   "source": [
    "l"
   ]
  },
  {
   "cell_type": "code",
   "execution_count": 10,
   "id": "c081f925-c81d-4596-bb63-22d94358b1f1",
   "metadata": {},
   "outputs": [
    {
     "data": {
      "text/plain": [
       "[1, 4, 9, 16, 25, 36, 49, 64, 81, 100]"
      ]
     },
     "execution_count": 10,
     "metadata": {},
     "output_type": "execute_result"
    }
   ],
   "source": [
    "# Find the squares of numbers from 1 to 10\n",
    "l=[1,2,3,4,5,6,7,8,9,10]\n",
    "list(map(lambda x:x**2,l))"
   ]
  },
  {
   "cell_type": "code",
   "execution_count": 11,
   "id": "3f75c9fe-e457-4afd-a96b-dfcf8bb395cc",
   "metadata": {},
   "outputs": [
    {
     "data": {
      "text/plain": [
       "[1.0,\n",
       " 1.2599210498948732,\n",
       " 1.4422495703074083,\n",
       " 1.5874010519681994,\n",
       " 1.7099759466766968,\n",
       " 1.8171205928321397,\n",
       " 1.912931182772389,\n",
       " 2.0,\n",
       " 2.080083823051904,\n",
       " 2.154434690031884]"
      ]
     },
     "execution_count": 11,
     "metadata": {},
     "output_type": "execute_result"
    }
   ],
   "source": [
    "# Find the cube root of numbers from 1 to 10\n",
    "l=[1,2,3,4,5,6,7,8,9,10]\n",
    "list(map(lambda x:x**(1/3),l))"
   ]
  },
  {
   "cell_type": "code",
   "execution_count": 12,
   "id": "8e412b41-efbe-41d7-a69e-996e33eca786",
   "metadata": {},
   "outputs": [
    {
     "data": {
      "text/plain": [
       "[2, 4, 6, 8, 10, 12, 14, 16, 18]"
      ]
     },
     "execution_count": 12,
     "metadata": {},
     "output_type": "execute_result"
    }
   ],
   "source": [
    "#Check if a given number is even\n",
    "[i for i in range(1,20) if i%2==0]"
   ]
  },
  {
   "cell_type": "code",
   "execution_count": 17,
   "id": "07fc20bb-54af-4a6e-9f12-a1183014559d",
   "metadata": {},
   "outputs": [
    {
     "data": {
      "text/plain": [
       "[1, 3, 5, 7, 9]"
      ]
     },
     "execution_count": 17,
     "metadata": {},
     "output_type": "execute_result"
    }
   ],
   "source": [
    "# Filter odd numbers from the given list.\n",
    "l=[1,2,3,4,5,6,7,8,9,10]\n",
    "list(filter(lambda x:x%2!=0,l))"
   ]
  },
  {
   "cell_type": "code",
   "execution_count": 18,
   "id": "30a8cfd0-30ad-4e5b-b8d9-79090e46dc40",
   "metadata": {},
   "outputs": [],
   "source": [
    "# Sort a list of integers into positive and negative integers lists.\n",
    "l=[1,2,3,4,5,6,-1,-2,-3,-4,-5,0]\n",
    "l.sort()"
   ]
  },
  {
   "cell_type": "code",
   "execution_count": 19,
   "id": "e0275891-a74e-4bff-938c-f5f28c221b39",
   "metadata": {},
   "outputs": [
    {
     "data": {
      "text/plain": [
       "[-5, -4, -3, -2, -1, 0, 1, 2, 3, 4, 5, 6]"
      ]
     },
     "execution_count": 19,
     "metadata": {},
     "output_type": "execute_result"
    }
   ],
   "source": [
    "l"
   ]
  },
  {
   "cell_type": "code",
   "execution_count": 21,
   "id": "7165dfc1-3701-43d4-8cbd-fd4ae1a4b3b0",
   "metadata": {},
   "outputs": [],
   "source": [
    "l.sort(reverse=True)"
   ]
  },
  {
   "cell_type": "code",
   "execution_count": 22,
   "id": "8d00023d-ade7-40b1-a53b-c4d30fc06f24",
   "metadata": {},
   "outputs": [
    {
     "data": {
      "text/plain": [
       "[6, 5, 4, 3, 2, 1, 0, -1, -2, -3, -4, -5]"
      ]
     },
     "execution_count": 22,
     "metadata": {},
     "output_type": "execute_result"
    }
   ],
   "source": [
    "l"
   ]
  },
  {
   "cell_type": "code",
   "execution_count": null,
   "id": "81d8ee9a-22c7-4de8-b983-1b925292c9d8",
   "metadata": {},
   "outputs": [],
   "source": []
  }
 ],
 "metadata": {
  "kernelspec": {
   "display_name": "Python 3 (ipykernel)",
   "language": "python",
   "name": "python3"
  },
  "language_info": {
   "codemirror_mode": {
    "name": "ipython",
    "version": 3
   },
   "file_extension": ".py",
   "mimetype": "text/x-python",
   "name": "python",
   "nbconvert_exporter": "python",
   "pygments_lexer": "ipython3",
   "version": "3.10.8"
  }
 },
 "nbformat": 4,
 "nbformat_minor": 5
}
