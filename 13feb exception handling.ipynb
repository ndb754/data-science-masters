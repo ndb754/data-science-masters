{
 "cells": [
  {
   "cell_type": "markdown",
   "id": "820d3bc7-268b-4449-a71b-60f7b7af0d32",
   "metadata": {},
   "source": [
    "# specific exception handling"
   ]
  },
  {
   "cell_type": "code",
   "execution_count": 1,
   "id": "dd6f7017-d258-4a92-a9b1-cad9dcf0f703",
   "metadata": {},
   "outputs": [
    {
     "name": "stdout",
     "output_type": "stream",
     "text": [
      "division by zero\n"
     ]
    }
   ],
   "source": [
    "try:\n",
    "    a=10\n",
    "    10/0\n",
    "except ZeroDivisionError as e:\n",
    "    print(e)"
   ]
  },
  {
   "cell_type": "code",
   "execution_count": 27,
   "id": "69c691f5-1979-43aa-9394-7218d6237e51",
   "metadata": {},
   "outputs": [
    {
     "name": "stdout",
     "output_type": "stream",
     "text": [
      "division by zero\n"
     ]
    }
   ],
   "source": [
    "try:\n",
    "    a=10\n",
    "    10/0\n",
    "except Exception as e: # exception is a superclass in which there are specific exceptions..it is always advisable to use specific exceptions\n",
    "    print(e)"
   ]
  },
  {
   "cell_type": "code",
   "execution_count": 2,
   "id": "cc46c309-a35b-495f-8c53-d2e29cf6941b",
   "metadata": {},
   "outputs": [
    {
     "name": "stdout",
     "output_type": "stream",
     "text": [
      "invalid literal for int() with base 10: 'nikhil'\n"
     ]
    }
   ],
   "source": [
    "try:\n",
    "    int(\"nikhil\") # cannot strong string in int therefore value error\n",
    "except (ValueError,TypeError) as e: # handling multiple types of error\n",
    "    print(e)\n",
    "    "
   ]
  },
  {
   "cell_type": "code",
   "execution_count": 3,
   "id": "2345dda2-5f37-4b61-ad6f-9fdf075007a1",
   "metadata": {},
   "outputs": [
    {
     "name": "stdout",
     "output_type": "stream",
     "text": [
      "this will raise an unknown error\n"
     ]
    }
   ],
   "source": [
    "try:\n",
    "    int(\"nikhil\")\n",
    "except: # if i dont know the error it can raise\n",
    "    print(\"this will raise an unknown error\")"
   ]
  },
  {
   "cell_type": "code",
   "execution_count": 4,
   "id": "194cf66d-caea-400e-9f9f-3ff605defb07",
   "metadata": {},
   "outputs": [
    {
     "name": "stdout",
     "output_type": "stream",
     "text": [
      "No module named 'nikhil'\n"
     ]
    }
   ],
   "source": [
    "try:\n",
    "    import nikhil # will raise an import error\n",
    "except ImportError as e:\n",
    "    print(e)"
   ]
  },
  {
   "cell_type": "code",
   "execution_count": 5,
   "id": "07925828-1c47-4048-82f6-357e4bcd28bb",
   "metadata": {},
   "outputs": [
    {
     "name": "stdout",
     "output_type": "stream",
     "text": [
      "'key1'\n"
     ]
    }
   ],
   "source": [
    "try:\n",
    "    d={1:[1,2,3,4,5],'key':\"nikhil\"}\n",
    "    d['key1'] #key1 doesnt exist in dictionary\n",
    "except KeyError as e:\n",
    "    print(e)"
   ]
  },
  {
   "cell_type": "code",
   "execution_count": 6,
   "id": "337a293e-af2a-4a1f-82cb-d261be5be6e6",
   "metadata": {},
   "outputs": [
    {
     "name": "stdout",
     "output_type": "stream",
     "text": [
      "'str' object has no attribute 'test'\n"
     ]
    }
   ],
   "source": [
    "try:\n",
    "    'nikhil'.test() #no such function exist therefore will give attribute error\n",
    "except AttributeError as e:\n",
    "    print(e)"
   ]
  },
  {
   "cell_type": "code",
   "execution_count": 7,
   "id": "f82da960-2f68-4421-95f7-9a023c24c571",
   "metadata": {},
   "outputs": [
    {
     "name": "stdout",
     "output_type": "stream",
     "text": [
      "list index out of range\n"
     ]
    }
   ],
   "source": [
    "try:\n",
    "    l=[1,2,3,4,5]\n",
    "    l[10]\n",
    "except IndexError as e:\n",
    "    print(e)"
   ]
  },
  {
   "cell_type": "code",
   "execution_count": 8,
   "id": "a76ecae5-2dd9-4f47-a6de-57d9fee032bf",
   "metadata": {},
   "outputs": [
    {
     "name": "stdout",
     "output_type": "stream",
     "text": [
      "unsupported operand type(s) for +: 'int' and 'str'\n"
     ]
    }
   ],
   "source": [
    "try:\n",
    "    123+'nikhil'\n",
    "except TypeError as e:\n",
    "    print(e)"
   ]
  },
  {
   "cell_type": "code",
   "execution_count": 18,
   "id": "66e8a722-7ea2-4315-8bfe-4d1494fd5a93",
   "metadata": {},
   "outputs": [
    {
     "name": "stdout",
     "output_type": "stream",
     "text": [
      "[Errno 2] No such file or directory: 'chest.txt'\n"
     ]
    }
   ],
   "source": [
    "try:\n",
    "    with open ('chest.txt','r') as f:\n",
    "        f.read()\n",
    "except FileNotFoundError as e:\n",
    "    print(e)"
   ]
  },
  {
   "cell_type": "code",
   "execution_count": 19,
   "id": "59bc1626-2c31-4218-95b7-d7c74d026a80",
   "metadata": {},
   "outputs": [
    {
     "name": "stdout",
     "output_type": "stream",
     "text": [
      "[Errno 2] No such file or directory: 'chest.txt'\n"
     ]
    }
   ],
   "source": [
    "try:\n",
    "    with open ('chest.txt','r') as f:\n",
    "        f.read()\n",
    "except Exception as e: # exception is a superclass of all the above mentioned exception..automatically chooses error\n",
    "    print(e)"
   ]
  },
  {
   "cell_type": "code",
   "execution_count": 21,
   "id": "5585131c-aa44-47dd-9d9a-924cc5343999",
   "metadata": {},
   "outputs": [
    {
     "name": "stdout",
     "output_type": "stream",
     "text": [
      "test [Errno 2] No such file or directory: 'chest.txt'\n"
     ]
    }
   ],
   "source": [
    "try:\n",
    "    with open ('chest.txt','r') as f:\n",
    "        f.read()\n",
    "except Exception as e: # exception is a superclass of all the above mentioned exception..automatically chooses error\n",
    "    print('test',e)\n",
    "except FileNotFoundError as e: # only superclass will be executed since it will handle the exception\n",
    "    print('this is file not found error',e)"
   ]
  },
  {
   "cell_type": "code",
   "execution_count": 22,
   "id": "3810d7ac-2366-4b24-8a31-17582f0a1c87",
   "metadata": {},
   "outputs": [
    {
     "name": "stdout",
     "output_type": "stream",
     "text": [
      "this is file not found error [Errno 2] No such file or directory: 'chest.txt'\n"
     ]
    }
   ],
   "source": [
    "try:\n",
    "    with open ('chest.txt','r') as f:\n",
    "        f.read()\n",
    "except FileNotFoundError as e: # now it will be executed since it will handle the exception\n",
    "    print('this is file not found error',e)\n",
    "except Exception as e: #this will also be executeed\n",
    "    print('test',e)\n"
   ]
  },
  {
   "cell_type": "code",
   "execution_count": 25,
   "id": "6a922520-8f97-4f88-8bc7-66478069ca24",
   "metadata": {},
   "outputs": [],
   "source": [
    "def test(file): # creating function\n",
    "    try:\n",
    "        with open (file,'r') as f:\n",
    "            f.read()\n",
    "    except FileNotFoundError as e: # now it will be executed since it will handle the exception\n",
    "        print('this is file not found error',e)\n",
    "    except Exception as e: #this will also be executeed\n",
    "        print('test',e)"
   ]
  },
  {
   "cell_type": "markdown",
   "id": "43767fde-6c06-45cb-af41-e2aa2b8e62c7",
   "metadata": {},
   "source": [
    "# best practice in exception handling"
   ]
  },
  {
   "cell_type": "code",
   "execution_count": 28,
   "id": "48e97c23-778e-4f5c-aefe-7b5b1fc7e803",
   "metadata": {},
   "outputs": [
    {
     "name": "stdout",
     "output_type": "stream",
     "text": [
      "this is my zero division error division by zero\n"
     ]
    }
   ],
   "source": [
    "# always use specific exceptions and not superclass\n",
    "# print always a valid msg\n",
    "try:\n",
    "    a=10\n",
    "    10/0\n",
    "except ZeroDivisionError as e:\n",
    "    print(\"this is my zero division error\",e)"
   ]
  },
  {
   "cell_type": "code",
   "execution_count": 31,
   "id": "30ff8637-f30b-4caf-b66f-03b0b2c53c49",
   "metadata": {},
   "outputs": [],
   "source": [
    "# always try to log the errors you are receiving\n",
    "import logging\n",
    "logging.basicConfig(filename='error.log',level=logging.ERROR)\n",
    "try:\n",
    "    a=10\n",
    "    10/0\n",
    "except ZeroDivisionError as e:\n",
    "    logging.error(\"this is my zero division error {}\".format(e)) # log is used instead of print\n",
    "\n",
    "\n"
   ]
  },
  {
   "cell_type": "code",
   "execution_count": 33,
   "id": "4c3007bf-ba10-403b-805c-5cd2115e2972",
   "metadata": {},
   "outputs": [],
   "source": [
    "# always avoid using multiple exception handling\n",
    "import logging\n",
    "logging.basicConfig(filename='error.log',level=logging.ERROR)\n",
    "try:\n",
    "    a=10\n",
    "    10/0\n",
    "except FileNotFoundError as e:\n",
    "    logging.error(\"this is my file not found error {}\".format(e)) #no use of it..will not be executed\n",
    "except AttributeError as e:\n",
    "    logging.error(\"this is my attribute error {}\".format(e)) # no use of it...will not be executed\n",
    "    \n",
    "except ZeroDivisionError as e:\n",
    "    logging.error(\"this is my zero division error {}\".format(e)) # only this will be useful for handling above exception and will be executed"
   ]
  },
  {
   "cell_type": "code",
   "execution_count": 34,
   "id": "1e054f08-a47f-45e4-b59d-092e0fc5dd25",
   "metadata": {},
   "outputs": [],
   "source": [
    "# always prepare proper documentation"
   ]
  },
  {
   "cell_type": "code",
   "execution_count": null,
   "id": "4255b759-f244-490d-ad36-17804e8f80f6",
   "metadata": {},
   "outputs": [],
   "source": [
    "# cleanup all the resources\n",
    "try:\n",
    "    with open('test.txt','w') as f:\n",
    "        f.write(\"this is my msg to file\")\n",
    "except FileNotFoundError as e:\n",
    "    logging.error(\"this is my file not found error {}\".format(e))\n",
    "    \n",
    "finally:\n",
    "    f.close() # for cleanup\n",
    "    \n",
    "        \n"
   ]
  }
 ],
 "metadata": {
  "kernelspec": {
   "display_name": "Python 3 (ipykernel)",
   "language": "python",
   "name": "python3"
  },
  "language_info": {
   "codemirror_mode": {
    "name": "ipython",
    "version": 3
   },
   "file_extension": ".py",
   "mimetype": "text/x-python",
   "name": "python",
   "nbconvert_exporter": "python",
   "pygments_lexer": "ipython3",
   "version": "3.10.8"
  }
 },
 "nbformat": 4,
 "nbformat_minor": 5
}
