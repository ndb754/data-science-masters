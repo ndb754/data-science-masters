{
 "cells": [
  {
   "cell_type": "code",
   "execution_count": 1,
   "id": "fe9f0072-f15f-4d00-9aba-f989a9cab59a",
   "metadata": {},
   "outputs": [],
   "source": [
    "#1). what is multithreading in python? hy is it used? Name the module used to handle threads in python?"
   ]
  },
  {
   "cell_type": "code",
   "execution_count": 1,
   "id": "642beed5-ab4f-4920-9b2d-d3b9270a09e8",
   "metadata": {},
   "outputs": [],
   "source": [
    "#Multithreading is defined as the ability of a processor to execute multiple threads concurrently.\n",
    "#In a simple, single-core CPU, it is achieved using frequent switching between threads. This is termed as context switching. In context switching, the state of a thread is saved and state of another thread is loaded whenever any interrupt (due to I/O or manually set) takes place. Context switching takes place so frequently that all the threads appear to be running parallelly \n",
    "#it allows sharing of its data space with the main threads inside a process that share information and communication with other threads easier than individual processes. Multithreading aims to perform multiple tasks simultaneously, which increases performance, speed and improves the rendering of the application.\n",
    "# we need to import 'threading' module in python to perform multithreading"
   ]
  },
  {
   "cell_type": "code",
   "execution_count": 2,
   "id": "f40313f2-01d0-4abf-96d9-65404436adcf",
   "metadata": {},
   "outputs": [],
   "source": [
    "#2)why threading module used? write the use of the following functions\n",
    "#activeCount()\n",
    "#currentThread()\n",
    "#enumerate()\n",
    "# threading module is used for creating, controlling and managing threads in python..\n",
    "\n",
    "#the threading module exposes all the methods of the thread module and provides some methods −\n",
    "\n",
    "#threading.activeCount() − Returns the number of thread objects that are active.\n",
    "#threading.currentThread() − Returns the number of thread objects in the caller's thread control.\n",
    "#threading.enumerate() − Returns a list of all thread objects that are currently active."
   ]
  },
  {
   "cell_type": "code",
   "execution_count": null,
   "id": "a42d4fee-4a8f-44a4-bf7b-9232b3e61656",
   "metadata": {},
   "outputs": [],
   "source": [
    "#30. Explain the following functions\n",
    "#run()\n",
    "#start()\n",
    "# join()\n",
    "#isAlive()\n",
    "#the threading module has the Thread class that implements threading. The methods provided by the Thread class are as follows −\n"
   ]
  },
  {
   "cell_type": "code",
   "execution_count": 3,
   "id": "302a5040-397d-4a02-a582-b4ef276b34cb",
   "metadata": {},
   "outputs": [
    {
     "name": "stdout",
     "output_type": "stream",
     "text": [
      "Value by Thread 1: 1\n",
      "Value by Thread 2: 2\n",
      "Value by Thread 3: 3\n"
     ]
    }
   ],
   "source": [
    "#run()  − The run() method is the entry point for a thread.\n",
    "import threading\n",
    "\n",
    "def thread_1(i):\n",
    "    print('Value by Thread 1:', i)\n",
    "\n",
    "def thread_2(i):\n",
    "    print('Value by Thread 2:', i)\n",
    "\n",
    "def thread_3(i):\n",
    "    print('Value by Thread 3:', i)    \n",
    "\n",
    "    \n",
    "# Creating three sample threads \n",
    "thread1 = threading.Thread(target=thread_1, args=(1,))\n",
    "thread2 = threading.Thread(target=thread_2, args=(2,))\n",
    "thread3 = threading.Thread(target=thread_3, args=(3,))\n",
    "\n",
    "# Running three thread object\n",
    "thread1.run()\n",
    "thread2.run()\n",
    "thread3.run()"
   ]
  },
  {
   "cell_type": "code",
   "execution_count": 4,
   "id": "899b7c22-e1ff-4040-a940-0ade970a34ea",
   "metadata": {},
   "outputs": [
    {
     "name": "stdout",
     "output_type": "stream",
     "text": [
      "Value by Thread 2: 2\n",
      "Value by Thread 1: 1\n"
     ]
    }
   ],
   "source": [
    "#start()  − The start() method starts a thread by calling the run method.for eg thread_object_name.start() will start the execution of thread object under for loop\n",
    "#Thread.start() method is an inbuilt method of the Thread class of the threading module in Python. It is used to start a thread's activity. This method calls the run() method internally which then executes the target method. This method must be called at most one time for one thread\n",
    "# Python program to explain the\n",
    "# use of start() method in Thread class\n",
    "\n",
    "import time\n",
    "import threading\n",
    "\n",
    "def thread_1(i):\n",
    "    time.sleep(5)\n",
    "    print('Value by Thread 1:', i)\n",
    "\n",
    "def thread_2(i):\n",
    "    print('Value by Thread 2:', i)\n",
    "    \n",
    "# Creating two sample threads \n",
    "thread1 = threading.Thread(target=thread_1, args=(1,))\n",
    "thread2 = threading.Thread(target=thread_2, args=(2,))\n",
    "\n",
    "# Starting two threads\n",
    "thread1.start()\n",
    "thread2.start()"
   ]
  },
  {
   "cell_type": "code",
   "execution_count": 5,
   "id": "dc4fd004-2e1e-4d19-9067-b39f366408c7",
   "metadata": {},
   "outputs": [
    {
     "name": "stdout",
     "output_type": "stream",
     "text": [
      "Value by Thread 1: 1\n",
      "Value by Thread 2: 2\n",
      "Value by Thread 3: 3\n"
     ]
    }
   ],
   "source": [
    "#join([timeout])  − The join() waits for threads to terminate.\n",
    "# Thread.join() method is an inbuilt method of the Thread class of the threading module in Python. Whenever this method is called for any Thread object, it blocks the calling thread till the time the thread whose join() method is called terminates, either normally or through an unhandled exception.\n",
    "# Python program to explain the\n",
    "# use of join() method in Thread class\n",
    "\n",
    "import time\n",
    "import threading\n",
    "\n",
    "def thread_1(i):\n",
    "    time.sleep(2)\n",
    "    print('Value by Thread 1:', i)\n",
    "\n",
    "def thread_2(i):\n",
    "    time.sleep(5)\n",
    "    print('Value by Thread 2:', i)\n",
    "\n",
    "def thread_3(i):\n",
    "    print('Value by Thread 3:', i)    \n",
    "\n",
    "    \n",
    "# Creating three sample threads \n",
    "thread1 = threading.Thread(target=thread_1, args=(1,))\n",
    "thread2 = threading.Thread(target=thread_2, args=(2,))\n",
    "thread3 = threading.Thread(target=thread_3, args=(3,))\n",
    "\n",
    "# Running three thread object\n",
    "thread1.start()\n",
    "thread1.join()\n",
    "thread2.start()\n",
    "thread2.join()\n",
    "thread3.start()\n",
    "thread3.join()"
   ]
  },
  {
   "cell_type": "code",
   "execution_count": 7,
   "id": "f2260fad-9658-4527-992d-db1156d4bd87",
   "metadata": {},
   "outputs": [
    {
     "name": "stdout",
     "output_type": "stream",
     "text": [
      "Value by Thread 3: 3\n",
      "Value by Thread 1: 1\n",
      "Value by Thread 2: 2\n"
     ]
    }
   ],
   "source": [
    "# in above through join() thread2 was executed only after completion thread1 eventhough there was sleep() in thread1\n",
    "#however in this example it will implement thread 2 or 3 before thread 1 due to sleep() and the way start() and join() of different threads are organised\n",
    "import threading\n",
    "\n",
    "def thread_1(i):\n",
    "    time.sleep(2)\n",
    "    print('Value by Thread 1:', i)\n",
    "\n",
    "def thread_2(i):\n",
    "    time.sleep(5)\n",
    "    print('Value by Thread 2:', i)\n",
    "\n",
    "def thread_3(i):\n",
    "    print('Value by Thread 3:', i) \n",
    "\n",
    "thread4 = threading.Thread(target=thread_1, args=(1,))\n",
    "thread5 = threading.Thread(target=thread_2, args=(2,))\n",
    "thread6 = threading.Thread(target=thread_3, args=(3,))\n",
    "\n",
    "thread4.start()\n",
    "thread5.start()\n",
    "thread6.start()\n",
    "thread4.join()\n",
    "thread5.join()\n",
    "thread6.join()\n"
   ]
  },
  {
   "cell_type": "code",
   "execution_count": 1,
   "id": "8000e93a-8e3b-4035-8a9b-a090f81fdb07",
   "metadata": {},
   "outputs": [
    {
     "name": "stdout",
     "output_type": "stream",
     "text": [
      "Is thread1 alive: False\n",
      "Is thread2 alive: False\n",
      "\n",
      "Value by Thread 2: 2\n",
      "Is thread1 alive: True\n",
      "Is thread2 alive: False\n",
      "Value by Thread 1: 1\n"
     ]
    }
   ],
   "source": [
    "#isAlive()  − The isAlive() method checks whether a thread is still executing.It uses a Thread object, and checks whether that thread is alive or not, ie, it is still running or not. This method returns True before the run() starts until just after the run() method is executed.\n",
    "import time\n",
    "import threading\n",
    "\n",
    "def thread_1(i):\n",
    "    time.sleep(5)\n",
    "    print('Value by Thread 1:', i)\n",
    "\n",
    "def thread_2(i):\n",
    "    print('Value by Thread 2:', i)\n",
    "    \n",
    "# Creating three sample threads \n",
    "thread1 = threading.Thread(target=thread_1, args=(1,))\n",
    "thread2 = threading.Thread(target=thread_2, args=(2,))\n",
    "\n",
    "# Before calling the start(), both threads are not alive\n",
    "print(\"Is thread1 alive:\", thread1.is_alive())\n",
    "print(\"Is thread2 alive:\", thread2.is_alive())\n",
    "print()\n",
    "\n",
    "thread1.start()\n",
    "thread2.start()\n",
    "# Since thread11 is on sleep for 5 seconds, it is alive\n",
    "# while thread 2 is executed instantly\n",
    "\n",
    "print(\"Is thread1 alive:\", thread1.is_alive())\n",
    "print(\"Is thread2 alive:\", thread2.is_alive())"
   ]
  },
  {
   "cell_type": "code",
   "execution_count": 8,
   "id": "20317a77-7ee4-44a5-adc6-62c357f900b3",
   "metadata": {},
   "outputs": [
    {
     "name": "stdout",
     "output_type": "stream",
     "text": [
      "[1]\n",
      "[1, 4]\n",
      "[1, 4, 9]\n",
      "[1, 4, 9, 16]\n",
      "[1, 4, 9, 16, 25]\n",
      "[1, 4, 9, 16, 25, 36]\n",
      "[343]\n",
      "[343, 512]\n",
      "[343, 512, 729]\n",
      "[343, 512, 729, 1000]\n",
      "[343, 512, 729, 1000, 1331]\n"
     ]
    }
   ],
   "source": [
    "#4. write a python program to create two threads. Thread one must print the list of squares and thread\n",
    "#two must print the list of cubes\n",
    "import threading\n",
    "def thread1(l):\n",
    "    l1=[]\n",
    "    for i in l:\n",
    "        i=i**2\n",
    "        l1.append(i)\n",
    "        print(l1)\n",
    "        \n",
    "def thread2(l):\n",
    "    l1=[]\n",
    "    for i in l:\n",
    "        i=i**3\n",
    "        l1.append(i)\n",
    "        print(l1)\n",
    "        \n",
    "thread_1=threading.Thread(target=thread1,args=([1,2,3,4,5,6],))\n",
    "thread_2=threading.Thread(target=thread2,args=([7,8,9,10,11],))\n",
    "thread_1.start()\n",
    "thread_2.start()"
   ]
  },
  {
   "cell_type": "code",
   "execution_count": null,
   "id": "a0dfbbd2-f9bf-4273-8da4-6ca303838e1a",
   "metadata": {},
   "outputs": [],
   "source": [
    "#5. State advantages and disadvantages of multithreading\n",
    "#advantages\n",
    "'''1. Responsiveness\n",
    "Multithreading in an interactive application enables a program to continue running even if a section is blocked or executing a lengthy process, increasing user responsiveness.\n",
    "\n",
    "A server in a non-multithreading environment listens to a port for a request, processes the request, and then resumes listening for another request. Other users are made to wait unnecessarily because of the time it takes to execute a request. Instead, a better approach will be to pass the request to a worker thread while listening on a port.\n",
    "\n",
    "For instance, a multithreaded web browser permits the user interaction in one thread while a video is loading in another thread. As a result, instead of waiting for the entire web page to load, the user can continue viewing a section of a web page.\n",
    "\n",
    "2. Resource Sharing\n",
    "Processes can only share the resources only via two techniques such as:\n",
    "\n",
    "Message Passing\n",
    "Shared Memory\n",
    "The programmer must explicitly structure such strategies. On the other hand, by default, threads share the memory and resources of the process they belong to.\n",
    "\n",
    "\n",
    "The advantage of sharing code and data is that it permits an app to execute multiple code threads in the same address space.\n",
    "\n",
    "3. Economy\n",
    "Allocating memory and resources for process creation is an expensive procedure because it is a time and space-consuming task.\n",
    "\n",
    "Because threads share a memory with the process to which they belong, establishing and context switching threads is more cost-effective. In general, generating and managing processes takes far more time than threads.\n",
    "\n",
    "4. Scalability\n",
    "The advantages of multi-programming become much more apparent in the case of multiprocessor architecture, when threads may execute in parallel on many processors. When there is just one thread, it is impossible to break the processes into smaller jobs performed by different processors.\n",
    "\n",
    "A single-threaded process could only run on one processor, despite the number of processors available. Multithreading on multiple CPU machines increases parallelism.\n",
    "\n",
    "\n",
    "5. Better Communication\n",
    "Thread synchronization functions could be used to improve inter-process communication. Moreover, sharing huge amounts of data across multiple threads of execution inside the same address space provides extremely high-bandwidth, low-latency communication across various tasks within an application.\n",
    "\n",
    "6. Utilization of multiprocessor architecture\n",
    "The advantages of multithreading might be considerably amplified in a multiprocessor architecture, where every thread could execute in parallel on a distinct processor.\n",
    "\n",
    "A single-threaded task could only run on one of them, no matter how many CPUs are available. On a multi-CPU machine, multithreading enhances concurrency.\n",
    "\n",
    "The CPU switches among threads so quickly in single-processor architecture that it creates the illusion of parallelism, but only one thread is running at a particular time.\n",
    "\n",
    "7. Minimized system resource usage\n",
    "Threads have a minimal influence on the system's resources. The overhead of creating, maintaining, and managing threads is lower than a general process.\n",
    "\n",
    "Disadvantages of Multithreading\n",
    "Here, you will learn the disadvantages of multithreading. There are various disadvantages of multithreading in the operating system, and some of the disadvantages are as follows:\n",
    "\n",
    "It needs more careful synchronization.\n",
    "It can consume a large space of stocks of blocked threads.\n",
    "It needs support for thread or process.\n",
    "If a parent process has several threads for proper process functioning, the child processes should also be multithreaded because they may be required.\n",
    "It imposes context switching overhead.'''"
   ]
  },
  {
   "cell_type": "code",
   "execution_count": 15,
   "id": "d9a6536e-8bd7-4948-937f-12b37b511bd4",
   "metadata": {},
   "outputs": [
    {
     "name": "stdout",
     "output_type": "stream",
     "text": [
      "counter=10\n",
      "counter=20\n",
      "The final counter is 20\n"
     ]
    }
   ],
   "source": [
    "#6. Explain deadlocks and race conditions.\n",
    "'''A race condition occurs when two threads try to change a shared variable simultaneously.\n",
    "\n",
    "In this program, both threads try to modify the value of the counter variable at the same time and  overwrites the value that the previous thread wrote.. The value of the counter variable depends on which thread completes last.'''\n",
    "from threading import Thread\n",
    "from time import sleep\n",
    "\n",
    "\n",
    "counter = 0\n",
    "\n",
    "def increase(by):\n",
    "    global counter\n",
    "\n",
    "    local_counter = counter\n",
    "    local_counter += by\n",
    "\n",
    "    sleep(0.1)\n",
    "\n",
    "    counter = local_counter\n",
    "    print(f'counter={counter}')\n",
    "\n",
    "\n",
    "# create threads\n",
    "t1 = Thread(target=increase, args=(10,))\n",
    "t2 = Thread(target=increase, args=(20,))\n",
    "\n",
    "# start the threads\n",
    "t1.start()\n",
    "t2.start()\n",
    "\n",
    "\n",
    "# wait for the threads to complete\n",
    "t1.join()\n",
    "t2.join()\n",
    "\n",
    "\n",
    "print(f'The final counter is {counter}')"
   ]
  },
  {
   "cell_type": "code",
   "execution_count": 16,
   "id": "d45e547b-a6bc-4019-9b2f-c4da1ee21ff4",
   "metadata": {},
   "outputs": [
    {
     "name": "stdout",
     "output_type": "stream",
     "text": [
      "counter=10\n",
      "counter=30\n",
      "The final counter is 30\n"
     ]
    }
   ],
   "source": [
    "# to prevent race condition..lock is used...see the difference in output\n",
    "from threading import Thread, Lock\n",
    "from time import sleep\n",
    "\n",
    "\n",
    "counter = 0\n",
    "\n",
    "\n",
    "def increase(by, lock):\n",
    "    global counter\n",
    "\n",
    "    lock.acquire()\n",
    "\n",
    "    local_counter = counter\n",
    "    local_counter += by\n",
    "\n",
    "    sleep(0.1)\n",
    "\n",
    "    counter = local_counter\n",
    "    print(f'counter={counter}')\n",
    "\n",
    "    lock.release()\n",
    "\n",
    "\n",
    "lock = Lock()\n",
    "\n",
    "# create threads\n",
    "t1 = Thread(target=increase, args=(10, lock))\n",
    "t2 = Thread(target=increase, args=(20, lock))\n",
    "\n",
    "# start the threads\n",
    "t1.start()\n",
    "t2.start()\n",
    "\n",
    "\n",
    "# wait for the threads to complete\n",
    "t1.join()\n",
    "t2.join()\n",
    "\n",
    "\n",
    "print(f'The final counter is {counter}')"
   ]
  },
  {
   "cell_type": "code",
   "execution_count": null,
   "id": "2e59a2a8-016b-49bf-bc8c-f61fbe87b116",
   "metadata": {},
   "outputs": [
    {
     "name": "stdout",
     "output_type": "stream",
     "text": [
      "Thread A is starting...\n",
      "Thread A waiting to acquire lock A.\n",
      "Thread A has acquired lock A, performing some calculation...\n",
      "Thread B is starting...\n",
      "Thread B waiting to acquire lock B.\n",
      "Thread B has acquired lock B, performing some calculation...\n",
      "Thread A waiting to acquire lock B.\n",
      "Thread B waiting to acquire lock A.\n"
     ]
    }
   ],
   "source": [
    "# deadlock condition\n",
    "#In the field of computer science, deadlock refers to a specific situation at a time planning, when no progress can be made and the system is locked in it current situation.\n",
    "#Take procedure A, for example. It already exists holding a R1 service, but it also requires R2 to continue its operation. However, R2 cannot be detected by process A, as it is detected by process B. Thus, process A cannot go on. It is the same with process B, which holds R2 and requires R1 to continue. \n",
    "import threading\n",
    "import time\n",
    "def thread_a():\n",
    "    print('Thread A is starting...') \n",
    "    print('Thread A waiting to acquire lock A.')\n",
    "    lock_a.acquire()\n",
    "    print('Thread A has acquired lock A, performing some calculation...')\n",
    "\n",
    "    time.sleep(2)\n",
    "    print('Thread A waiting to acquire lock B.')\n",
    "     \n",
    "    lock_b.acquire()\n",
    "    print('Thread A has acquired lock B, performing some calculation...')\n",
    "    time.sleep(2)\n",
    "    print('Thread A releasing both locks.')\n",
    "    lock_a.release()\n",
    "    lock_b.release()\n",
    "def thread_b():\n",
    "    print('Thread B is starting...')\n",
    "    print('Thread B waiting to acquire lock B.')\n",
    "    lock_b.acquire()\n",
    "    print('Thread B has acquired lock B, performing some calculation...')\n",
    "    time.sleep(5)\n",
    "    print('Thread B waiting to acquire lock A.')\n",
    "    lock_a.acquire()\n",
    "    print('Thread B has acquired lock A, performing some calculation...')\n",
    "    time.sleep(5)\n",
    "    print('Thread B releasing both locks.')\n",
    "    lock_b.release()\n",
    "    lock_a.release()\n",
    "lock_a = threading.Lock()\n",
    "lock_b = threading.Lock()\n",
    "\n",
    "thread1 = threading.Thread(target=thread_a)\n",
    "thread2 = threading.Thread(target=thread_b)\n",
    "thread1.start()\n",
    "thread2.start()\n",
    "thread1.join()\n",
    "thread2.join()\n",
    "\n",
    "print('Finished.')\n",
    "#Lock A is obtained by thread A, Lock B is obtained by thread B. After their various calculation procedures complete, thread A will then try to find the lock B , and thread B will try to find the lock A.\n",
    "\n",
    "#We can easily see that this is the beginning of our deadlock situation: as lock B already exists held by thread B, and cannot be obtained by thread A, thread B for the same reason,can't find lock A.\n",
    "#Both wires will now wait permanently, to get their second lock."
   ]
  },
  {
   "cell_type": "code",
   "execution_count": null,
   "id": "17021043-1e1c-4d6d-a021-c6cba4ccd22e",
   "metadata": {},
   "outputs": [],
   "source": []
  }
 ],
 "metadata": {
  "kernelspec": {
   "display_name": "Python 3 (ipykernel)",
   "language": "python",
   "name": "python3"
  },
  "language_info": {
   "codemirror_mode": {
    "name": "ipython",
    "version": 3
   },
   "file_extension": ".py",
   "mimetype": "text/x-python",
   "name": "python",
   "nbconvert_exporter": "python",
   "pygments_lexer": "ipython3",
   "version": "3.10.8"
  }
 },
 "nbformat": 4,
 "nbformat_minor": 5
}
