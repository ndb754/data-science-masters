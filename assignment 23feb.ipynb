{
 "cells": [
  {
   "cell_type": "code",
   "execution_count": 2,
   "id": "1ed5765d-ae72-411f-a76d-7cdd97072413",
   "metadata": {},
   "outputs": [
    {
     "name": "stdout",
     "output_type": "stream",
     "text": [
      "0     4\n",
      "1     8\n",
      "2    15\n",
      "3    16\n",
      "4    23\n",
      "5    42\n",
      "6     a\n",
      "7     b\n",
      "8     c\n",
      "9     d\n",
      "dtype: object\n"
     ]
    }
   ],
   "source": [
    "#Q1. Create a Pandas Series that contains the following data: 4, 8, 15, 16, 23, and 42. Then, print the series.\n",
    "#Q2. Create a variable of list type containing 10 elements in it, and apply pandas.Series function on the variable print it.\n",
    "import pandas as pd\n",
    "list=['4','8','15','16','23','42','a','b','c','d']\n",
    "p=pd.Series(list)\n",
    "print(p)"
   ]
  },
  {
   "cell_type": "code",
   "execution_count": 12,
   "id": "0b656369-309e-4173-8c50-642f2d8f16cd",
   "metadata": {},
   "outputs": [
    {
     "data": {
      "text/plain": [
       "pandas.core.series.Series"
      ]
     },
     "execution_count": 12,
     "metadata": {},
     "output_type": "execute_result"
    }
   ],
   "source": [
    "type(p)"
   ]
  },
  {
   "cell_type": "code",
   "execution_count": 16,
   "id": "edeb96da-60e3-4df9-8559-7786bd5de39c",
   "metadata": {},
   "outputs": [
    {
     "name": "stdout",
     "output_type": "stream",
     "text": [
      "Mon      22\n",
      "Tues     23\n",
      "Wed      23\n",
      "Thurs    24\n",
      "Fri      23\n",
      "Sat      22\n",
      "Sun      21\n",
      "dtype: int64\n"
     ]
    }
   ],
   "source": [
    "data = {'Mon': 22, 'Tues': 23, 'Wed': 23, 'Thurs': 24, 'Fri': 23, 'Sat': 22, 'Sun': 21}\n",
    "series = pd.Series(data)\n",
    "print(series)"
   ]
  },
  {
   "cell_type": "code",
   "execution_count": 17,
   "id": "66734388-c258-4880-8bc9-b5a1867d05ff",
   "metadata": {},
   "outputs": [
    {
     "data": {
      "text/plain": [
       "pandas.core.series.Series"
      ]
     },
     "execution_count": 17,
     "metadata": {},
     "output_type": "execute_result"
    }
   ],
   "source": [
    "type(series)"
   ]
  },
  {
   "cell_type": "code",
   "execution_count": 13,
   "id": "7b8a67e0-cdd7-40ae-9d08-ef99b19ca95c",
   "metadata": {},
   "outputs": [
    {
     "name": "stdout",
     "output_type": "stream",
     "text": [
      "     name  age  gender\n",
      "0   alice   25  female\n",
      "1     bob   30    male\n",
      "2  claire   27  female\n"
     ]
    }
   ],
   "source": [
    "#Q3. Create a Pandas DataFrame that contains the following data and print data frame\n",
    "data=[['alice',25,'female'],['bob',30,'male'],['claire',27,'female']]\n",
    "p1=pd.DataFrame(data,columns=['name','age','gender'])\n",
    "print(p1)"
   ]
  },
  {
   "cell_type": "code",
   "execution_count": 14,
   "id": "8c5ebe9d-eb13-4612-80c1-0df5294bcb72",
   "metadata": {},
   "outputs": [
    {
     "data": {
      "text/plain": [
       "pandas.core.frame.DataFrame"
      ]
     },
     "execution_count": 14,
     "metadata": {},
     "output_type": "execute_result"
    }
   ],
   "source": [
    "type(p1)"
   ]
  },
  {
   "cell_type": "code",
   "execution_count": null,
   "id": "187db054-f9af-40cb-b5df-4c6808e6da4b",
   "metadata": {},
   "outputs": [],
   "source": [
    "'''Q4. What is ‘DataFrame’ in pandas and how is it different from pandas.series? Explain with an example.\n",
    "Q6. Which of the following is mutable in nature Series, DataFrame, Panel?\n",
    "#data frame is a tabular representation of data in pandas librarys datatype whereas series is an array type data format \n",
    "               Pandas Series\t                                                   Pandas DataFrame\n",
    "One-dimensional\t                                                                   Two-dimensional\n",
    "Homogenous – Series elements must be of the same data type.\t                       Heterogenous – DataFrame elements can have different data types\n",
    "size-immutable – Once created, the size of a Series object cannot be changed.\t   Size-mutable – Elements can be dropped or added in an existing DataFrame.\n",
    "\n",
    "The panel is a three-dimensional data structure with heterogeneous data. It is very hard to represent the Panel in a graphical representation. But a Panel can be illustrated as a container of a DataFrame. In Panel Data and size are mutable."
   ]
  },
  {
   "cell_type": "code",
   "execution_count": null,
   "id": "73ede6a0-be0a-4aeb-b371-5309d56ea768",
   "metadata": {},
   "outputs": [],
   "source": [
    "'''Q5. What are some common functions you can use to manipulate data in a Pandas DataFrame? Can\n",
    "head()-gives data in top five rows\n",
    "tails()-gives data from bottom five rows\n",
    "loc[]-if you want to filter values of a column based on conditions from another set of columns from a Pandas Dataframe.For instance, we want a list of all females who are not graduates and got a loan. Boolean indexing can help here. You can use the following code:\n",
    "\n",
    "data.loc[(data[\"Gender\"]==\"Female\") & (data[\"Education\"]==\"Not Graduate\") & (data[\"Loan_Status\"==\"Y\"), [\"Gender\",\"Education\",\"Loan_Status\"]]\n",
    "\n",
    "unique()-will display all unique values in the column\n",
    "drop('column_name',axis=1) -will remove column and its data\n",
    "p['column_name']- to add new column\n",
    "assign()- to add a list as column with data\n",
    "merge()-to merge 2 data frames using common column\n",
    "concat()-to append rows of 2 data frames\n",
    "sort()-to sort rows\n",
    "replace()-to replace values in columns\n",
    "dropna()-to drop Nan values\n",
    "fillna()-to fill Nan values'''\n"
   ]
  },
  {
   "cell_type": "code",
   "execution_count": 4,
   "id": "f02b9405-519b-42c9-9f4c-9257c0c20cc7",
   "metadata": {},
   "outputs": [
    {
     "name": "stdout",
     "output_type": "stream",
     "text": [
      "         0      1     2\n",
      "0    Spark  22000  1000\n",
      "1  PySpark  25000  2300\n",
      "2   Hadoop  23000  1000\n"
     ]
    }
   ],
   "source": [
    "'''Q7. Create a DataFrame using multiple Series. Explain with an example.'''\n",
    "courses = pd.Series([\"Spark\",\"PySpark\",\"Hadoop\"])\n",
    "fees = pd.Series([22000,25000,23000])\n",
    "discount  = pd.Series([1000,2300,1000])\n",
    "df=pd.concat([courses,fees,discount],axis=1)\n",
    "print(df)"
   ]
  },
  {
   "cell_type": "code",
   "execution_count": 9,
   "id": "cce226ea-abd9-480e-8d14-df65bb8963f6",
   "metadata": {},
   "outputs": [
    {
     "name": "stdout",
     "output_type": "stream",
     "text": [
      "     Author  Article\n",
      "0  Jitender      210\n",
      "1   Purnima      211\n",
      "2     Arpit      114\n",
      "3     Jyoti      178\n"
     ]
    }
   ],
   "source": [
    "\n",
    "import pandas as pd\n",
    " \n",
    "# Creating two lists\n",
    "author = ['Jitender', 'Purnima',\n",
    "          'Arpit', 'Jyoti']\n",
    "article = [210, 211, 114, 178]\n",
    " \n",
    "# Creating two Series by passing lists\n",
    "auth_series = pd.Series(author)\n",
    "article_series = pd.Series(article)\n",
    " \n",
    "# Creating a dictionary by passing Series objects as values\n",
    "frame = {'Author': auth_series,\n",
    "         'Article': article_series}\n",
    " \n",
    "# Creating DataFrame by passing Dictionary\n",
    "result = pd.DataFrame(frame)\n",
    " \n",
    "# Printing elements of Dataframe\n",
    "print(result)"
   ]
  },
  {
   "cell_type": "code",
   "execution_count": null,
   "id": "65115d85-4285-488d-ab0c-6270b4667d22",
   "metadata": {},
   "outputs": [],
   "source": []
  }
 ],
 "metadata": {
  "kernelspec": {
   "display_name": "Python 3 (ipykernel)",
   "language": "python",
   "name": "python3"
  },
  "language_info": {
   "codemirror_mode": {
    "name": "ipython",
    "version": 3
   },
   "file_extension": ".py",
   "mimetype": "text/x-python",
   "name": "python",
   "nbconvert_exporter": "python",
   "pygments_lexer": "ipython3",
   "version": "3.10.8"
  }
 },
 "nbformat": 4,
 "nbformat_minor": 5
}
