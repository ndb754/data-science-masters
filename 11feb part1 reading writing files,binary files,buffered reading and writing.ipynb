{
 "cells": [
  {
   "cell_type": "markdown",
   "id": "1818ac1f-8f12-4d2b-8038-eaad8f4e62a1",
   "metadata": {},
   "source": [
    "# files"
   ]
  },
  {
   "cell_type": "code",
   "execution_count": 3,
   "id": "b1721aea-575b-4f8f-a75a-d0472c5fc543",
   "metadata": {},
   "outputs": [],
   "source": [
    "f=open(\"test.txt\",'w') #will create file name test.text....check in directory...'w' is for write mode"
   ]
  },
  {
   "cell_type": "code",
   "execution_count": 4,
   "id": "b32d3573-71eb-46c6-b297-6979c4072499",
   "metadata": {},
   "outputs": [
    {
     "data": {
      "text/plain": [
       "'/home/jovyan/work'"
      ]
     },
     "execution_count": 4,
     "metadata": {},
     "output_type": "execute_result"
    }
   ],
   "source": [
    "pwd # will show present working directory"
   ]
  },
  {
   "cell_type": "code",
   "execution_count": 5,
   "id": "a89ec8a5-763b-46ac-bdb3-ddac61ff9e7a",
   "metadata": {},
   "outputs": [
    {
     "name": "stdout",
     "output_type": "stream",
     "text": [
      "'10 feb class method,static method,property decorators.ipynb'\n",
      " 11feb.ipynb\n",
      "'1feb strings,list.ipynb'\n",
      "'29jan variables.ipynb'\n",
      "'2feb tuples,sets,dictionary.ipynb'\n",
      "'30jan loops.ipynb'\n",
      "'31jan operators and strings.ipynb'\n",
      "'3feb functions,generator functions.ipynb'\n",
      "'4feb lambda functions.ipynb'\n",
      "'4feb map,reduce,filter functions.ipynb'\n",
      "'5feb oops,class,constructor.ipynb'\n",
      "'8feb polymorphism,encapsulation,inheritance,abstraction.ipynb'\n",
      "'assignment 29jan .ipynb'\n",
      "'assignment 2feb.ipynb'\n",
      "'assignment 3feb.ipynb'\n",
      " assignment4feb.ipynb\n",
      "'assignment 5feb.ipynb'\n",
      "'assignment 6feb.ipynb'\n",
      " assignment7feb.ipynb\n",
      "'assignment 9feb.ipynb'\n",
      " README.md\n",
      " sample-code.ipynb\n",
      " test.txt\n"
     ]
    }
   ],
   "source": [
    "ls # will show all the files inside directory"
   ]
  },
  {
   "cell_type": "code",
   "execution_count": 6,
   "id": "000c0fec-9ec2-43b7-a32a-a0d5251bf736",
   "metadata": {},
   "outputs": [
    {
     "data": {
      "text/plain": [
       "12"
      ]
     },
     "execution_count": 6,
     "metadata": {},
     "output_type": "execute_result"
    }
   ],
   "source": [
    "f.write('hello nikhil')"
   ]
  },
  {
   "cell_type": "code",
   "execution_count": 7,
   "id": "40116a59-af72-4eb9-8dcf-7d9280347356",
   "metadata": {},
   "outputs": [
    {
     "data": {
      "text/plain": [
       "44"
      ]
     },
     "execution_count": 7,
     "metadata": {},
     "output_type": "execute_result"
    }
   ],
   "source": [
    "f.write('this is my first write operation in the file') #this will not update the file"
   ]
  },
  {
   "cell_type": "code",
   "execution_count": 8,
   "id": "a7a97d21-0366-45e5-8a07-cba1cc49581a",
   "metadata": {},
   "outputs": [],
   "source": [
    "f.close() #this will update the file with written text in both ie hello nikhil and 2nd one"
   ]
  },
  {
   "cell_type": "code",
   "execution_count": 9,
   "id": "d18bc9bc-a2f1-4c05-9725-d1cd42442cf2",
   "metadata": {},
   "outputs": [],
   "source": [
    "f=open(\"test.txt\",'a') # a is for append mode"
   ]
  },
  {
   "cell_type": "code",
   "execution_count": 10,
   "id": "ec0ed36c-59c1-48d9-8f88-145f7245e524",
   "metadata": {},
   "outputs": [
    {
     "data": {
      "text/plain": [
       "44"
      ]
     },
     "execution_count": 10,
     "metadata": {},
     "output_type": "execute_result"
    }
   ],
   "source": [
    "f.write('this is my first write operation in the file')# this will append the string in test.txt file without removing/truncating previous string"
   ]
  },
  {
   "cell_type": "code",
   "execution_count": 11,
   "id": "7c279c5f-fbfc-4335-9b88-0afa5058c56b",
   "metadata": {},
   "outputs": [],
   "source": [
    "f.close() "
   ]
  },
  {
   "cell_type": "code",
   "execution_count": 12,
   "id": "f5c43c3d-56ad-44b9-8674-a32156bab355",
   "metadata": {},
   "outputs": [],
   "source": [
    "data=open(\"test.txt\",'r') #will open the file in read mode"
   ]
  },
  {
   "cell_type": "code",
   "execution_count": 13,
   "id": "7a55a76b-2bff-4f21-8244-137189073b59",
   "metadata": {},
   "outputs": [
    {
     "data": {
      "text/plain": [
       "'hello nikhilthis is my first write operation in the filethis is my first write operation in the file'"
      ]
     },
     "execution_count": 13,
     "metadata": {},
     "output_type": "execute_result"
    }
   ],
   "source": [
    "data.read()"
   ]
  },
  {
   "cell_type": "code",
   "execution_count": 14,
   "id": "10ed93e9-a840-43d1-9955-82b5598343cf",
   "metadata": {},
   "outputs": [
    {
     "data": {
      "text/plain": [
       "''"
      ]
     },
     "execution_count": 14,
     "metadata": {},
     "output_type": "execute_result"
    }
   ],
   "source": [
    "data.read() #will not show again..since it depends on position of cursor...and cursor is at last position due to reading of text in previous read operation"
   ]
  },
  {
   "cell_type": "code",
   "execution_count": 15,
   "id": "59c73221-59a9-4e28-808b-18ff9c27cd1f",
   "metadata": {},
   "outputs": [
    {
     "data": {
      "text/plain": [
       "'hello nikhilthis is my first write operation in the filethis is my first write operation in the file'"
      ]
     },
     "execution_count": 15,
     "metadata": {},
     "output_type": "execute_result"
    }
   ],
   "source": [
    "# inorder to read again...we need to reset cursor\n",
    "data.seek(0)\n",
    "data.read()"
   ]
  },
  {
   "cell_type": "code",
   "execution_count": 18,
   "id": "88365c0b-8a00-4a58-aedd-466e22eafbf7",
   "metadata": {},
   "outputs": [
    {
     "data": {
      "text/plain": [
       "'s is my first write operation in the filethis is my first write operation in the file'"
      ]
     },
     "execution_count": 18,
     "metadata": {},
     "output_type": "execute_result"
    }
   ],
   "source": [
    "data.seek(15)\n",
    "data.read()"
   ]
  },
  {
   "cell_type": "code",
   "execution_count": 23,
   "id": "1cf51f89-f19e-4509-8a2a-6cece9df604c",
   "metadata": {},
   "outputs": [
    {
     "name": "stdout",
     "output_type": "stream",
     "text": [
      "hello nikhilthis is my first write operation in the filethis is my first write operation in the file\n"
     ]
    }
   ],
   "source": [
    "data.seek(0)\n",
    "for i in data: #since it is stored as string..it can also be iterated through for loop\n",
    "    print(i)"
   ]
  },
  {
   "cell_type": "code",
   "execution_count": 24,
   "id": "7fad992b-d450-4096-ac9e-5f80aa92de35",
   "metadata": {},
   "outputs": [
    {
     "data": {
      "text/plain": [
       "100"
      ]
     },
     "execution_count": 24,
     "metadata": {},
     "output_type": "execute_result"
    }
   ],
   "source": [
    "# to know the size of file test.txt\n",
    "import os\n",
    "os.path.getsize('test.txt') #it will show in bytes as u can see through cursor the size of file is 100 bytes"
   ]
  },
  {
   "cell_type": "code",
   "execution_count": 28,
   "id": "e13efd22-13f5-48c3-94a6-25bfe1899111",
   "metadata": {},
   "outputs": [
    {
     "data": {
      "text/plain": [
       "'newfolder/test.txt'"
      ]
     },
     "execution_count": 28,
     "metadata": {},
     "output_type": "execute_result"
    }
   ],
   "source": [
    "# to create copy of test.txt file\n",
    "import shutil\n",
    "shutil.copy('test.txt','newfolder') #copy will be created in folder named 'new folder'"
   ]
  },
  {
   "cell_type": "code",
   "execution_count": 33,
   "id": "37e11e20-f25b-40f4-bca1-535efa81eb1c",
   "metadata": {},
   "outputs": [
    {
     "data": {
      "text/plain": [
       "'newtest.txt'"
      ]
     },
     "execution_count": 33,
     "metadata": {},
     "output_type": "execute_result"
    }
   ],
   "source": [
    "shutil.copy('test.txt','newtest.txt')# will create a copy of name newtest.txt in same directory"
   ]
  },
  {
   "cell_type": "code",
   "execution_count": 34,
   "id": "3f3b7eab-e2d1-4e65-a593-17f4125548d1",
   "metadata": {},
   "outputs": [],
   "source": [
    "# delete file\n",
    "import os\n",
    "os.remove(\"newtest.txt\")"
   ]
  },
  {
   "cell_type": "code",
   "execution_count": 45,
   "id": "ec9c15e7-2fcc-4834-828e-686e951d6913",
   "metadata": {},
   "outputs": [
    {
     "name": "stdout",
     "output_type": "stream",
     "text": [
      "hello nikhilthis is my first write operation in the filethis is my first write operation in the file\n"
     ]
    }
   ],
   "source": [
    "# open a file in a diifferent way\n",
    "with open('test.txt','r') as f:\n",
    "    print(f.read())\n"
   ]
  },
  {
   "cell_type": "code",
   "execution_count": 46,
   "id": "c014b5da-3e59-4842-a489-775060aeef7e",
   "metadata": {},
   "outputs": [],
   "source": [
    "# rename a file\n",
    "os.rename('newtest.txt','test1.txt')"
   ]
  },
  {
   "cell_type": "markdown",
   "id": "4995667f-1d6f-474c-8ad4-a14368a08870",
   "metadata": {},
   "source": [
    "# reading and writing files"
   ]
  },
  {
   "cell_type": "code",
   "execution_count": 50,
   "id": "1b9ecdb6-97ca-47ee-b2e2-d72b3683adf9",
   "metadata": {},
   "outputs": [],
   "source": [
    "data={\n",
    "'name':'nikhil',\n",
    "'email':'nikhil@gmail.com',\n",
    "'phoneno':'6346456',\n",
    "'subjects':['big data','data science','data analytics']}"
   ]
  },
  {
   "cell_type": "code",
   "execution_count": 51,
   "id": "74a6ea01-819b-427d-8fb6-fa7dbaa6ed7b",
   "metadata": {},
   "outputs": [],
   "source": [
    "#writing data in json file for dictionaries\n",
    "import json\n",
    "with open('test1.json','w') as f: # f is object that points to json file\n",
    "    json.dump(data,f) # file name test1.json created which will have above dictionary data\n",
    "    "
   ]
  },
  {
   "cell_type": "code",
   "execution_count": 54,
   "id": "88d3b0df-bfce-46d8-8be7-fce2d8fd32c8",
   "metadata": {},
   "outputs": [],
   "source": [
    "# reading  json file for dictionaries\n",
    "with open('test1.json','r') as f:\n",
    "    data1=json.load(f)"
   ]
  },
  {
   "cell_type": "code",
   "execution_count": 55,
   "id": "3a5a124d-db9b-4a3d-864a-fa8cacabae23",
   "metadata": {},
   "outputs": [
    {
     "data": {
      "text/plain": [
       "{'name': 'nikhil',\n",
       " 'email': 'nikhil@gmail.com',\n",
       " 'phoneno': '6346456',\n",
       " 'subjects': ['big data', 'data science', 'data analytics']}"
      ]
     },
     "execution_count": 55,
     "metadata": {},
     "output_type": "execute_result"
    }
   ],
   "source": [
    "data1"
   ]
  },
  {
   "cell_type": "code",
   "execution_count": 57,
   "id": "a9640f0d-cbc0-49dc-b418-c08546801aa9",
   "metadata": {},
   "outputs": [
    {
     "data": {
      "text/plain": [
       "['big data', 'data science', 'data analytics']"
      ]
     },
     "execution_count": 57,
     "metadata": {},
     "output_type": "execute_result"
    }
   ],
   "source": [
    "data1['subjects']"
   ]
  },
  {
   "cell_type": "code",
   "execution_count": 58,
   "id": "0e92147f-c953-4458-8d05-09190cbcdb58",
   "metadata": {},
   "outputs": [
    {
     "data": {
      "text/plain": [
       "'data science'"
      ]
     },
     "execution_count": 58,
     "metadata": {},
     "output_type": "execute_result"
    }
   ],
   "source": [
    "data1['subjects'][1]"
   ]
  },
  {
   "cell_type": "code",
   "execution_count": 59,
   "id": "f831842e-1953-4560-988c-b781ca6a1afe",
   "metadata": {},
   "outputs": [],
   "source": [
    "# reading and writing for type of data seperated by comma such as list,tuples\n",
    "lst=[['name','email','number'],\n",
    "    ['nikhil','nikhil@gmail.com',6546511], \n",
    "    ['krish','krish@gmail.com',65615561]]"
   ]
  },
  {
   "cell_type": "code",
   "execution_count": 62,
   "id": "90ffe9db-f3ac-4b76-8d76-2d7a98325222",
   "metadata": {},
   "outputs": [],
   "source": [
    "import csv #csv stands for comma seperated value\n",
    "with open('test3.csv','w')as f: #file named test3.csv will be made\n",
    "    write=csv.writer(f) \n",
    "    for i in lst:\n",
    "        write.writerow(i) # will write in rows and first nested list will be considered as column name\n",
    "    "
   ]
  },
  {
   "cell_type": "code",
   "execution_count": 63,
   "id": "8d943c5d-bb48-4716-81af-1ecfb0bbdc37",
   "metadata": {},
   "outputs": [
    {
     "name": "stdout",
     "output_type": "stream",
     "text": [
      "['name', 'email', 'number']\n",
      "['nikhil', 'nikhil@gmail.com', '6546511']\n",
      "['krish', 'krish@gmail.com', '65615561']\n"
     ]
    }
   ],
   "source": [
    "# performing reaad operation\n",
    "with open('test3.csv','r') as f:\n",
    "    read=csv.reader(f)\n",
    "    for i in read:\n",
    "        print(i)"
   ]
  },
  {
   "cell_type": "markdown",
   "id": "27b6e620-a703-4d07-a2a0-f758f327fb66",
   "metadata": {},
   "source": [
    "# read or write binary kind of data(audio,video,image)"
   ]
  },
  {
   "cell_type": "code",
   "execution_count": 65,
   "id": "cb7c0ef0-4303-40b5-a80d-4db7e303ac49",
   "metadata": {},
   "outputs": [],
   "source": [
    "with open('test4.bin','wb')as f: # wb stands for write binary mode #test4.bin file will be created\n",
    "    f.write(b\"\\x01\\x02\\x03\") #only 3 red dots will be seen as image\n",
    "\n"
   ]
  },
  {
   "cell_type": "code",
   "execution_count": 66,
   "id": "4e8a3e9a-e8e3-435c-817a-0a575b4ae921",
   "metadata": {},
   "outputs": [
    {
     "name": "stdout",
     "output_type": "stream",
     "text": [
      "b'\\x01\\x02\\x03'\n"
     ]
    }
   ],
   "source": [
    "with open('test4.bin','rb') as f:\n",
    "    print(f.read())"
   ]
  },
  {
   "cell_type": "markdown",
   "id": "e0f037da-ed82-4c73-afb2-c28d9f39190d",
   "metadata": {},
   "source": [
    "# buffered read and write operation"
   ]
  },
  {
   "cell_type": "code",
   "execution_count": 5,
   "id": "21916365-2af7-48f1-a3ee-daee733a94e0",
   "metadata": {},
   "outputs": [],
   "source": [
    "import io # buffered read and write operations are used on large file to read and write it in small chunks\n",
    "with open('test.txt','wb') as f:\n",
    "    file=io.BufferedWriter(f) # press tab..buffer size=8192 bytes hence write operation can be performed in small chunks\n",
    "    file.write(b'this is my buffer write\\n')\n",
    "    file.write(b'this is my second line that i am tryin to write')\n",
    "    file.flush() # same as close()\n"
   ]
  },
  {
   "cell_type": "code",
   "execution_count": 7,
   "id": "ff7fe8a1-5efd-42e0-b63a-af1df894612f",
   "metadata": {},
   "outputs": [],
   "source": [
    "# working with long text\n",
    "with open('test.txt','wb') as f:\n",
    "    file=io.BufferedWriter(f)\n",
    "    file.write(b'Data Science Masters course is highly curated and uniquely designed according to the latest industry standards. This program instills students the skills essential to knowledge discovery efforts to identify standard, novel, and truly differentiated solutions and decision-making, including skills in managing, querying, analyzing, visualizing, and extracting meaning from extremely large data sets. This trending program provides students with the statistical, mathematical and computational skills needed to meet the large-scale data science challenges of todays professional world. You will learn all the stack required to work in data science industry including cloud infrastructure and real-time industry projects\\n')\n",
    "    file.write(b'this is my second line that i am tryin to write')\n",
    "    file.flush() # same as close()"
   ]
  },
  {
   "cell_type": "code",
   "execution_count": 9,
   "id": "3ddf43ff-e14e-44d8-aebd-d87df8f9a347",
   "metadata": {},
   "outputs": [
    {
     "name": "stdout",
     "output_type": "stream",
     "text": [
      "b'Data Science Masters course is highly curated and uniquely designed according to the latest industry standards. This program instills students the skills essential to knowledge discovery efforts to identify standard, novel, and truly differentiated solutions and decision-making, including skills in managing, querying, analyzing, visualizing, and extracting meaning from extremely large data sets. This trending program provides students with the statistical, mathematical and computational skills needed to meet the large-scale data science challenges of todays professional world. You will learn all the stack required to work in data science industry including cloud infrastructure and real-time industry projects\\nthis is my second line that i am tryin to write'\n"
     ]
    }
   ],
   "source": [
    "# buffered read operation\n",
    "with open('test.txt','rb') as f:\n",
    "    file=io.BufferedReader(f) # capacity to read 8192 bytes\n",
    "    data=file.read()\n",
    "    print(data)"
   ]
  },
  {
   "cell_type": "code",
   "execution_count": 11,
   "id": "c8f50f97-df56-4ff9-b61c-3cd370839e6d",
   "metadata": {},
   "outputs": [
    {
     "name": "stdout",
     "output_type": "stream",
     "text": [
      "b'Data Science Masters course is highly curated and uniquely designed according to the latest industry'\n"
     ]
    }
   ],
   "source": [
    "with open('test.txt','rb') as f:\n",
    "    file=io.BufferedReader(f) # capacity to read 8192 bytes\n",
    "    data=file.read(100) # will read only 100bytes\n",
    "    print(data)"
   ]
  },
  {
   "cell_type": "markdown",
   "id": "f75b9cad-6b27-4ba1-b27d-8bfce593ed0f",
   "metadata": {},
   "source": [
    "# logging and debugging"
   ]
  },
  {
   "cell_type": "code",
   "execution_count": 19,
   "id": "38ac3ea5-d10a-444a-8dac-5573c92956e2",
   "metadata": {},
   "outputs": [],
   "source": [
    "#creating a log for storing information\n",
    "import logging"
   ]
  },
  {
   "cell_type": "code",
   "execution_count": 20,
   "id": "a8c6a2c0-2257-4314-9e4d-0ab285810aef",
   "metadata": {},
   "outputs": [],
   "source": [
    "logging.basicConfig(filename='test1.log',level=logging.info)"
   ]
  },
  {
   "cell_type": "code",
   "execution_count": 21,
   "id": "4c6ea11b-fcb1-4562-b1a4-8525d2c7895b",
   "metadata": {},
   "outputs": [],
   "source": [
    "logging.info('this is my line of execution')"
   ]
  },
  {
   "cell_type": "code",
   "execution_count": null,
   "id": "2d5c78df-54f1-4450-bec2-345518aafcef",
   "metadata": {},
   "outputs": [],
   "source": []
  }
 ],
 "metadata": {
  "kernelspec": {
   "display_name": "Python 3 (ipykernel)",
   "language": "python",
   "name": "python3"
  },
  "language_info": {
   "codemirror_mode": {
    "name": "ipython",
    "version": 3
   },
   "file_extension": ".py",
   "mimetype": "text/x-python",
   "name": "python",
   "nbconvert_exporter": "python",
   "pygments_lexer": "ipython3",
   "version": "3.10.8"
  }
 },
 "nbformat": 4,
 "nbformat_minor": 5
}
