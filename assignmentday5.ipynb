{
 "cells": [
  {
   "cell_type": "code",
   "execution_count": 26,
   "id": "4406af02-0638-4f90-83dc-1f14def793b9",
   "metadata": {},
   "outputs": [
    {
     "ename": "TypeError",
     "evalue": "'tuple' object does not support item assignment",
     "output_type": "error",
     "traceback": [
      "\u001b[0;31m---------------------------------------------------------------------------\u001b[0m",
      "\u001b[0;31mTypeError\u001b[0m                                 Traceback (most recent call last)",
      "Cell \u001b[0;32mIn[26], line 3\u001b[0m\n\u001b[1;32m      1\u001b[0m \u001b[38;5;66;03m#q1 yes tuples are immutable unlike list\u001b[39;00m\n\u001b[1;32m      2\u001b[0m t1\u001b[38;5;241m=\u001b[39m(\u001b[38;5;241m1\u001b[39m,\u001b[38;5;241m2\u001b[39m,\u001b[38;5;241m3\u001b[39m,\u001b[38;5;241m3\u001b[39m,\u001b[38;5;241m5\u001b[39m,\u001b[38;5;241m6\u001b[39m,\u001b[38;5;241m7\u001b[39m,\u001b[38;5;241m8\u001b[39m,\u001b[38;5;241m3\u001b[39m)\n\u001b[0;32m----> 3\u001b[0m \u001b[43mt1\u001b[49m\u001b[43m[\u001b[49m\u001b[38;5;241;43m0\u001b[39;49m\u001b[43m]\u001b[49m\u001b[38;5;241m=\u001b[39m\u001b[38;5;241m45\u001b[39m\n",
      "\u001b[0;31mTypeError\u001b[0m: 'tuple' object does not support item assignment"
     ]
    }
   ],
   "source": [
    "#q1 yes tuples are immutable unlike list\n",
    "t1=(1,2,3,3,5,6,7,8,3)\n",
    "t1[0]=45"
   ]
  },
  {
   "cell_type": "code",
   "execution_count": 6,
   "id": "c28d89e3-e059-4d63-913e-29c89c3ec2b5",
   "metadata": {},
   "outputs": [
    {
     "data": {
      "text/plain": [
       "3"
      ]
     },
     "execution_count": 6,
     "metadata": {},
     "output_type": "execute_result"
    }
   ],
   "source": [
    "#q2 2 tuple methods in python\n",
    "t1=(1,2,3,3,5,6,7,8,3)\n",
    "t1.count(3)\n",
    "#count function returns no of times the element present in tuple"
   ]
  },
  {
   "cell_type": "code",
   "execution_count": 7,
   "id": "970ef587-e51c-4cc5-8ee1-caffab10e760",
   "metadata": {},
   "outputs": [
    {
     "data": {
      "text/plain": [
       "4"
      ]
     },
     "execution_count": 7,
     "metadata": {},
     "output_type": "execute_result"
    }
   ],
   "source": [
    "t1.index(5) # index function returns the index of value given in argument"
   ]
  },
  {
   "cell_type": "code",
   "execution_count": 8,
   "id": "12dd4840-94e9-402a-b579-b25cf1399121",
   "metadata": {},
   "outputs": [],
   "source": [
    "# tuples have limited number of functions unlike list because tuples are immutable "
   ]
  },
  {
   "cell_type": "code",
   "execution_count": 9,
   "id": "949ea46d-8875-45f9-9c3e-12f67fee0aac",
   "metadata": {},
   "outputs": [
    {
     "data": {
      "text/plain": [
       "{1, 2, 3, 4}"
      ]
     },
     "execution_count": 9,
     "metadata": {},
     "output_type": "execute_result"
    }
   ],
   "source": [
    "#q3 sets do not allow dupliction of values\n",
    "list=[1,1,1,2,1,3,1,4,2,1,2,2,2,3,2,4,3,1,3,2,3,3,3,4,4,1,4]\n",
    "set(list)"
   ]
  },
  {
   "cell_type": "code",
   "execution_count": 20,
   "id": "c259355e-6248-43b3-92a4-2b65c99e4adf",
   "metadata": {},
   "outputs": [
    {
     "data": {
      "text/plain": [
       "{1, 2, 3, 4, 5, 6, 7, 8, 9, 10, 11}"
      ]
     },
     "execution_count": 20,
     "metadata": {},
     "output_type": "execute_result"
    }
   ],
   "source": [
    "#q4 \n",
    "set1={5,6,7,8,1,2,3,4}\n",
    "set2={5,6,7,8,9,10,11}\n",
    "\n",
    "set.union(set1,set2) # union function unites values of 2 sets"
   ]
  },
  {
   "cell_type": "code",
   "execution_count": 21,
   "id": "bfe717ef-1da8-40b5-9399-b1feaac78a50",
   "metadata": {},
   "outputs": [],
   "source": [
    "set1.update(set2) # update functgion is used to extract unique data from another set"
   ]
  },
  {
   "cell_type": "code",
   "execution_count": 22,
   "id": "56b73b4c-3130-487b-889b-11e4c734d3d6",
   "metadata": {},
   "outputs": [
    {
     "data": {
      "text/plain": [
       "{1, 2, 3, 4, 5, 6, 7, 8, 9, 10, 11}"
      ]
     },
     "execution_count": 22,
     "metadata": {},
     "output_type": "execute_result"
    }
   ],
   "source": [
    "set1"
   ]
  },
  {
   "cell_type": "code",
   "execution_count": 4,
   "id": "5f35a1e1-44b7-429f-9029-d23c201108ac",
   "metadata": {},
   "outputs": [],
   "source": [
    "dict={'name':'nikhil','age':'32','place':'mumbai'} # dictionary is a combination of keys and values"
   ]
  },
  {
   "cell_type": "code",
   "execution_count": 18,
   "id": "b5ad571a-9e88-4598-ba06-11dedd1aeb9e",
   "metadata": {},
   "outputs": [
    {
     "data": {
      "text/plain": [
       "{'name': 'nikhil', 'age': '32', 'place': 'mumbai'}"
      ]
     },
     "execution_count": 18,
     "metadata": {},
     "output_type": "execute_result"
    }
   ],
   "source": [
    "dict #dict is an ordered "
   ]
  },
  {
   "cell_type": "code",
   "execution_count": 9,
   "id": "a593d57d-420e-43b1-81a1-d4d72ce5e404",
   "metadata": {},
   "outputs": [],
   "source": [
    "dict['name']=('abc') # dictionaries are ordered and keys are used for indexing and updating"
   ]
  },
  {
   "cell_type": "code",
   "execution_count": 8,
   "id": "0804d0d7-821a-4f98-935e-fbaf3c301576",
   "metadata": {},
   "outputs": [
    {
     "data": {
      "text/plain": [
       "{'name': 'abc', 'age': '32', 'place': 'mumbai'}"
      ]
     },
     "execution_count": 8,
     "metadata": {},
     "output_type": "execute_result"
    }
   ],
   "source": [
    "dict"
   ]
  },
  {
   "cell_type": "code",
   "execution_count": 10,
   "id": "2f4c748d-2e63-4225-88e6-295658aacef7",
   "metadata": {},
   "outputs": [],
   "source": [
    "#q6 yes it is possible to create nested dictionary\n",
    "dict={'name':{'firstname':'nikhil','lastname':'bhanushali'}}"
   ]
  },
  {
   "cell_type": "code",
   "execution_count": 11,
   "id": "155912bf-b8cd-4be1-8b18-4ee5a8484be7",
   "metadata": {},
   "outputs": [
    {
     "data": {
      "text/plain": [
       "{'name': {'firstname': 'nikhil', 'lastname': 'bhanushali'}}"
      ]
     },
     "execution_count": 11,
     "metadata": {},
     "output_type": "execute_result"
    }
   ],
   "source": [
    "dict"
   ]
  },
  {
   "cell_type": "code",
   "execution_count": 14,
   "id": "d8e1a40d-1d3d-470f-bf08-51d76b203bd8",
   "metadata": {},
   "outputs": [
    {
     "data": {
      "text/plain": [
       "['python', 'ML', 'DL']"
      ]
     },
     "execution_count": 14,
     "metadata": {},
     "output_type": "execute_result"
    }
   ],
   "source": [
    "#q7 \n",
    "dict.setdefault('topics',['python','ML','DL'])\n"
   ]
  },
  {
   "cell_type": "code",
   "execution_count": 13,
   "id": "0866cefd-b720-4904-89f1-80f08bc2f331",
   "metadata": {},
   "outputs": [
    {
     "data": {
      "text/plain": [
       "{'name': {'firstname': 'nikhil', 'lastname': 'bhanushali'},\n",
       " 'topics': ['python', 'ML', 'DL']}"
      ]
     },
     "execution_count": 13,
     "metadata": {},
     "output_type": "execute_result"
    }
   ],
   "source": [
    "dict"
   ]
  },
  {
   "cell_type": "code",
   "execution_count": 16,
   "id": "e07bc8c7-c14a-4f68-b1f4-7b0760bd2f0a",
   "metadata": {},
   "outputs": [],
   "source": [
    "#q8 the three view objects in dictionaries are keys,values and items\n",
    "dict1 = {'Sport': 'Cricket' , 'Teams': ['India', 'Australia', 'England', 'South Africa', 'Sri Lanka', 'New Zealand']}"
   ]
  },
  {
   "cell_type": "code",
   "execution_count": 17,
   "id": "03351505-b475-4dbb-b074-0b349146f2c0",
   "metadata": {},
   "outputs": [
    {
     "data": {
      "text/plain": [
       "{'Sport': 'Cricket',\n",
       " 'Teams': ['India',\n",
       "  'Australia',\n",
       "  'England',\n",
       "  'South Africa',\n",
       "  'Sri Lanka',\n",
       "  'New Zealand']}"
      ]
     },
     "execution_count": 17,
     "metadata": {},
     "output_type": "execute_result"
    }
   ],
   "source": [
    "dict1"
   ]
  },
  {
   "cell_type": "code",
   "execution_count": 18,
   "id": "91e50039-e401-4467-9a87-dfb5e8b5ee27",
   "metadata": {},
   "outputs": [
    {
     "data": {
      "text/plain": [
       "dict_keys(['Sport', 'Teams'])"
      ]
     },
     "execution_count": 18,
     "metadata": {},
     "output_type": "execute_result"
    }
   ],
   "source": [
    "dict1.keys()"
   ]
  },
  {
   "cell_type": "code",
   "execution_count": 19,
   "id": "69087d3f-cff9-4bed-8bf3-8085d1fc5db0",
   "metadata": {},
   "outputs": [
    {
     "data": {
      "text/plain": [
       "dict_values(['Cricket', ['India', 'Australia', 'England', 'South Africa', 'Sri Lanka', 'New Zealand']])"
      ]
     },
     "execution_count": 19,
     "metadata": {},
     "output_type": "execute_result"
    }
   ],
   "source": [
    "dict1.values()"
   ]
  },
  {
   "cell_type": "code",
   "execution_count": 21,
   "id": "106905c0-0fb1-483a-8b22-6ae96cdd3c91",
   "metadata": {},
   "outputs": [
    {
     "data": {
      "text/plain": [
       "[('Sport', 'Cricket'),\n",
       " ('Teams',\n",
       "  ['India',\n",
       "   'Australia',\n",
       "   'England',\n",
       "   'South Africa',\n",
       "   'Sri Lanka',\n",
       "   'New Zealand'])]"
      ]
     },
     "execution_count": 21,
     "metadata": {},
     "output_type": "execute_result"
    }
   ],
   "source": [
    "list(dict1.items())"
   ]
  },
  {
   "cell_type": "code",
   "execution_count": null,
   "id": "256dea73-934d-4783-aaa1-a5daae7b00c7",
   "metadata": {},
   "outputs": [],
   "source": []
  }
 ],
 "metadata": {
  "kernelspec": {
   "display_name": "Python 3 (ipykernel)",
   "language": "python",
   "name": "python3"
  },
  "language_info": {
   "codemirror_mode": {
    "name": "ipython",
    "version": 3
   },
   "file_extension": ".py",
   "mimetype": "text/x-python",
   "name": "python",
   "nbconvert_exporter": "python",
   "pygments_lexer": "ipython3",
   "version": "3.10.8"
  }
 },
 "nbformat": 4,
 "nbformat_minor": 5
}
