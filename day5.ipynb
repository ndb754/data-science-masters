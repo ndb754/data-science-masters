{
 "cells": [
  {
   "cell_type": "markdown",
   "id": "c6532b27-df0d-4ca9-9619-1564b84025ef",
   "metadata": {},
   "source": [
    "# tuples"
   ]
  },
  {
   "cell_type": "code",
   "execution_count": 1,
   "id": "f6e07c4a-3d6b-48cc-8c93-d01aaf813784",
   "metadata": {},
   "outputs": [],
   "source": [
    "t=() # uses parenthesis unlike list"
   ]
  },
  {
   "cell_type": "code",
   "execution_count": 2,
   "id": "57d794f0-f809-4158-bd3c-fb517053d923",
   "metadata": {},
   "outputs": [
    {
     "data": {
      "text/plain": [
       "tuple"
      ]
     },
     "execution_count": 2,
     "metadata": {},
     "output_type": "execute_result"
    }
   ],
   "source": [
    "type(t)"
   ]
  },
  {
   "cell_type": "code",
   "execution_count": 4,
   "id": "f7b1a21a-ff69-476a-ac72-f27788425b26",
   "metadata": {},
   "outputs": [],
   "source": [
    "t1=(1,2,3,4,45,56.6,45+7j,\"nikhil\",True)"
   ]
  },
  {
   "cell_type": "code",
   "execution_count": 5,
   "id": "fa043189-e5ea-4353-9b3d-bc7b927183a8",
   "metadata": {},
   "outputs": [],
   "source": [
    "list=[1,2,3,4,45,56.6,45+7j,\"nikhil\",True]"
   ]
  },
  {
   "cell_type": "code",
   "execution_count": 6,
   "id": "a60354c3-c6b9-43e9-ad92-2729921b1aba",
   "metadata": {},
   "outputs": [
    {
     "data": {
      "text/plain": [
       "(1, 2, 3, 4, 45, 56.6, (45+7j), 'nikhil', True)"
      ]
     },
     "execution_count": 6,
     "metadata": {},
     "output_type": "execute_result"
    }
   ],
   "source": [
    "t1"
   ]
  },
  {
   "cell_type": "code",
   "execution_count": 8,
   "id": "26ca5882-1900-411e-8135-31af61ac71e1",
   "metadata": {},
   "outputs": [
    {
     "data": {
      "text/plain": [
       "4"
      ]
     },
     "execution_count": 8,
     "metadata": {},
     "output_type": "execute_result"
    }
   ],
   "source": [
    "t1[3] #indexing in tuples"
   ]
  },
  {
   "cell_type": "code",
   "execution_count": 9,
   "id": "5643808d-0043-4d79-902f-85a9c5c114bf",
   "metadata": {},
   "outputs": [
    {
     "data": {
      "text/plain": [
       "'nikhil'"
      ]
     },
     "execution_count": 9,
     "metadata": {},
     "output_type": "execute_result"
    }
   ],
   "source": [
    "t1[7]"
   ]
  },
  {
   "cell_type": "code",
   "execution_count": 10,
   "id": "a316f065-d475-4b44-9515-b529423a3f1a",
   "metadata": {},
   "outputs": [
    {
     "data": {
      "text/plain": [
       "(True, 'nikhil', (45+7j), 56.6, 45, 4, 3, 2, 1)"
      ]
     },
     "execution_count": 10,
     "metadata": {},
     "output_type": "execute_result"
    }
   ],
   "source": [
    "# reverse of tuples\n",
    "t1[::-1] #same as list"
   ]
  },
  {
   "cell_type": "code",
   "execution_count": 11,
   "id": "137cf237-8450-4266-9e41-79295581494f",
   "metadata": {},
   "outputs": [],
   "source": [
    "t1=t1[::-1]"
   ]
  },
  {
   "cell_type": "code",
   "execution_count": 12,
   "id": "5e287aa5-3122-49d0-9ed2-e8c27cd4109d",
   "metadata": {},
   "outputs": [
    {
     "data": {
      "text/plain": [
       "(True, 'nikhil', (45+7j), 56.6, 45, 4, 3, 2, 1)"
      ]
     },
     "execution_count": 12,
     "metadata": {},
     "output_type": "execute_result"
    }
   ],
   "source": [
    "t1"
   ]
  },
  {
   "cell_type": "code",
   "execution_count": 13,
   "id": "1db2e4a1-7fcf-4e42-8321-746e7280432f",
   "metadata": {},
   "outputs": [
    {
     "data": {
      "text/plain": [
       "(True, 'nikhil', (45+7j))"
      ]
     },
     "execution_count": 13,
     "metadata": {},
     "output_type": "execute_result"
    }
   ],
   "source": [
    "t1[0:3] # slicing operation in tuples also same as list"
   ]
  },
  {
   "cell_type": "code",
   "execution_count": 16,
   "id": "29876bb1-b56d-4299-950a-3295ff3154d5",
   "metadata": {},
   "outputs": [
    {
     "data": {
      "text/plain": [
       "1"
      ]
     },
     "execution_count": 16,
     "metadata": {},
     "output_type": "execute_result"
    }
   ],
   "source": [
    "t1.count(3) # only 2 methods available for tuple count and index"
   ]
  },
  {
   "cell_type": "code",
   "execution_count": 17,
   "id": "b67496eb-2873-4dbb-a097-0582ac94f256",
   "metadata": {},
   "outputs": [
    {
     "data": {
      "text/plain": [
       "0"
      ]
     },
     "execution_count": 17,
     "metadata": {},
     "output_type": "execute_result"
    }
   ],
   "source": [
    "t1.count(\"abc\")"
   ]
  },
  {
   "cell_type": "code",
   "execution_count": 18,
   "id": "05cc8912-6c42-48bd-b4c7-1000c71d4eac",
   "metadata": {},
   "outputs": [
    {
     "data": {
      "text/plain": [
       "1"
      ]
     },
     "execution_count": 18,
     "metadata": {},
     "output_type": "execute_result"
    }
   ],
   "source": [
    "t1.index(\"nikhil\")"
   ]
  },
  {
   "cell_type": "code",
   "execution_count": 19,
   "id": "d75480b9-ddc3-43d0-8533-157391883486",
   "metadata": {},
   "outputs": [
    {
     "data": {
      "text/plain": [
       "(True, 'nikhil', (45+7j), 56.6, 45, 4, 3, 2, 1)"
      ]
     },
     "execution_count": 19,
     "metadata": {},
     "output_type": "execute_result"
    }
   ],
   "source": [
    "t1"
   ]
  },
  {
   "cell_type": "code",
   "execution_count": 20,
   "id": "b912cd9a-6324-4b78-ab05-bed9fdf2012b",
   "metadata": {},
   "outputs": [
    {
     "data": {
      "text/plain": [
       "0"
      ]
     },
     "execution_count": 20,
     "metadata": {},
     "output_type": "execute_result"
    }
   ],
   "source": [
    "t1.index(1) # value of true is also 1 therefore returning the index of it"
   ]
  },
  {
   "cell_type": "code",
   "execution_count": 21,
   "id": "9ab6f7e3-7a36-4ac3-8b93-4b48d4e26e5a",
   "metadata": {},
   "outputs": [
    {
     "data": {
      "text/plain": [
       "2"
      ]
     },
     "execution_count": 21,
     "metadata": {},
     "output_type": "execute_result"
    }
   ],
   "source": [
    "t1.count(1) #also adding true"
   ]
  },
  {
   "cell_type": "code",
   "execution_count": 23,
   "id": "e371bdaf-e40b-47cf-b4cd-05bf5600ba01",
   "metadata": {},
   "outputs": [
    {
     "data": {
      "text/plain": [
       "2"
      ]
     },
     "execution_count": 23,
     "metadata": {},
     "output_type": "execute_result"
    }
   ],
   "source": [
    "t1.count(True) # also counting 1"
   ]
  },
  {
   "cell_type": "code",
   "execution_count": 25,
   "id": "3cc2a9f7-bdf5-42bf-9efd-a98131c11b62",
   "metadata": {},
   "outputs": [
    {
     "ename": "TypeError",
     "evalue": "'tuple' object does not support item assignment",
     "output_type": "error",
     "traceback": [
      "\u001b[0;31m---------------------------------------------------------------------------\u001b[0m",
      "\u001b[0;31mTypeError\u001b[0m                                 Traceback (most recent call last)",
      "Cell \u001b[0;32mIn[25], line 1\u001b[0m\n\u001b[0;32m----> 1\u001b[0m \u001b[43mt1\u001b[49m\u001b[43m[\u001b[49m\u001b[38;5;241;43m0\u001b[39;49m\u001b[43m]\u001b[49m\u001b[38;5;241m=\u001b[39m\u001b[38;5;241m350\u001b[39m \u001b[38;5;66;03m# tuples are immutable unlike list\u001b[39;00m\n",
      "\u001b[0;31mTypeError\u001b[0m: 'tuple' object does not support item assignment"
     ]
    }
   ],
   "source": [
    "t1[0]=350 # tuples are immutable unlike list(major difference)"
   ]
  },
  {
   "cell_type": "code",
   "execution_count": 26,
   "id": "71dd5641-47b4-495a-b953-be2885517430",
   "metadata": {},
   "outputs": [],
   "source": [
    "list[0]=24"
   ]
  },
  {
   "cell_type": "code",
   "execution_count": 27,
   "id": "6d8780c2-86ef-45c8-82d3-d2ed08385a8f",
   "metadata": {},
   "outputs": [
    {
     "data": {
      "text/plain": [
       "[24, 2, 3, 4, 45, 56.6, (45+7j), 'nikhil', True]"
      ]
     },
     "execution_count": 27,
     "metadata": {},
     "output_type": "execute_result"
    }
   ],
   "source": [
    "list"
   ]
  },
  {
   "cell_type": "code",
   "execution_count": 32,
   "id": "ab02c5e0-a855-4733-8fc1-0078f230548d",
   "metadata": {},
   "outputs": [
    {
     "data": {
      "text/plain": [
       "[True, 'nikhil', (45+7j), 56.6, 45, 4, 3, 2, 1]"
      ]
     },
     "execution_count": 32,
     "metadata": {},
     "output_type": "execute_result"
    }
   ],
   "source": [
    "[i for i in t1]"
   ]
  },
  {
   "cell_type": "code",
   "execution_count": 33,
   "id": "411e229f-7f53-4829-b7b0-af5858463293",
   "metadata": {},
   "outputs": [
    {
     "name": "stdout",
     "output_type": "stream",
     "text": [
      "True\n",
      "nikhil\n",
      "(45+7j)\n",
      "56.6\n",
      "45\n",
      "4\n",
      "3\n",
      "2\n",
      "1\n"
     ]
    }
   ],
   "source": [
    "for i in t1:\n",
    "    print(i)"
   ]
  },
  {
   "cell_type": "code",
   "execution_count": 34,
   "id": "f9331dc6-d43d-484e-ad87-9d71b9e19743",
   "metadata": {},
   "outputs": [
    {
     "name": "stdout",
     "output_type": "stream",
     "text": [
      "True <class 'bool'>\n",
      "nikhil <class 'str'>\n",
      "(45+7j) <class 'complex'>\n",
      "56.6 <class 'float'>\n",
      "45 <class 'int'>\n",
      "4 <class 'int'>\n",
      "3 <class 'int'>\n",
      "2 <class 'int'>\n",
      "1 <class 'int'>\n"
     ]
    }
   ],
   "source": [
    "for i in t1:\n",
    "    print(i,type(i))"
   ]
  },
  {
   "cell_type": "code",
   "execution_count": 35,
   "id": "3c926389-f5dc-46fe-8d9b-31b782aff38e",
   "metadata": {},
   "outputs": [
    {
     "data": {
      "text/plain": [
       "(True,\n",
       " 'nikhil',\n",
       " (45+7j),\n",
       " 56.6,\n",
       " 45,\n",
       " 4,\n",
       " 3,\n",
       " 2,\n",
       " 1,\n",
       " True,\n",
       " 'nikhil',\n",
       " (45+7j),\n",
       " 56.6,\n",
       " 45,\n",
       " 4,\n",
       " 3,\n",
       " 2,\n",
       " 1,\n",
       " True,\n",
       " 'nikhil',\n",
       " (45+7j),\n",
       " 56.6,\n",
       " 45,\n",
       " 4,\n",
       " 3,\n",
       " 2,\n",
       " 1)"
      ]
     },
     "execution_count": 35,
     "metadata": {},
     "output_type": "execute_result"
    }
   ],
   "source": [
    "t1*3"
   ]
  },
  {
   "cell_type": "code",
   "execution_count": 39,
   "id": "a45f8aa4-5a43-49a3-812d-20168bd0d01f",
   "metadata": {},
   "outputs": [
    {
     "data": {
      "text/plain": [
       "6"
      ]
     },
     "execution_count": 39,
     "metadata": {},
     "output_type": "execute_result"
    }
   ],
   "source": [
    "t1=(1,2,3,4,5,6)\n",
    "max(t1)"
   ]
  },
  {
   "cell_type": "code",
   "execution_count": 40,
   "id": "8a7f70ae-943d-4e49-b9d3-b46584400f12",
   "metadata": {},
   "outputs": [
    {
     "data": {
      "text/plain": [
       "1"
      ]
     },
     "execution_count": 40,
     "metadata": {},
     "output_type": "execute_result"
    }
   ],
   "source": [
    "min(t1)"
   ]
  },
  {
   "cell_type": "code",
   "execution_count": 41,
   "id": "a8fde810-9d48-4394-8829-eeeafe174beb",
   "metadata": {},
   "outputs": [],
   "source": [
    "t2=(7,8,9)\n",
    "t3=t1+t2"
   ]
  },
  {
   "cell_type": "code",
   "execution_count": 42,
   "id": "9687ec55-36ba-4798-8288-1d4600833920",
   "metadata": {},
   "outputs": [
    {
     "data": {
      "text/plain": [
       "(1, 2, 3, 4, 5, 6, 7, 8, 9)"
      ]
     },
     "execution_count": 42,
     "metadata": {},
     "output_type": "execute_result"
    }
   ],
   "source": [
    "t3"
   ]
  },
  {
   "cell_type": "code",
   "execution_count": 43,
   "id": "8b82a089-492b-4430-acbd-a32c64428327",
   "metadata": {},
   "outputs": [],
   "source": [
    "t3=(t1,t2)"
   ]
  },
  {
   "cell_type": "code",
   "execution_count": 44,
   "id": "5d8b8b23-d601-4e49-89e3-27ad73c44e29",
   "metadata": {},
   "outputs": [
    {
     "data": {
      "text/plain": [
       "((1, 2, 3, 4, 5, 6), (7, 8, 9))"
      ]
     },
     "execution_count": 44,
     "metadata": {},
     "output_type": "execute_result"
    }
   ],
   "source": [
    "t3"
   ]
  },
  {
   "cell_type": "code",
   "execution_count": 45,
   "id": "dfeb8564-1437-41f8-a825-a51527b0b67f",
   "metadata": {},
   "outputs": [],
   "source": [
    "l4=[5,25,56]"
   ]
  },
  {
   "cell_type": "code",
   "execution_count": 46,
   "id": "1afa9f35-5fdd-4ad2-84f0-979f8965c4de",
   "metadata": {},
   "outputs": [],
   "source": [
    "t3=(t2,l4) #list inside tuple"
   ]
  },
  {
   "cell_type": "code",
   "execution_count": 47,
   "id": "bad7698e-fc93-40f4-8d97-30cbdafe0d6a",
   "metadata": {},
   "outputs": [
    {
     "data": {
      "text/plain": [
       "((7, 8, 9), [5, 25, 56])"
      ]
     },
     "execution_count": 47,
     "metadata": {},
     "output_type": "execute_result"
    }
   ],
   "source": [
    "t3"
   ]
  },
  {
   "cell_type": "code",
   "execution_count": 49,
   "id": "992fcfd8-d863-4300-b473-b0ef7c049c1e",
   "metadata": {},
   "outputs": [],
   "source": [
    "t4=((1,2,3),[4,5,6])"
   ]
  },
  {
   "cell_type": "code",
   "execution_count": 50,
   "id": "7471c0d1-d2a9-4635-b66f-4bf9ef818779",
   "metadata": {},
   "outputs": [
    {
     "data": {
      "text/plain": [
       "((1, 2, 3), [4, 5, 6])"
      ]
     },
     "execution_count": 50,
     "metadata": {},
     "output_type": "execute_result"
    }
   ],
   "source": [
    "t4"
   ]
  },
  {
   "cell_type": "code",
   "execution_count": 51,
   "id": "3cdaa144-aa19-467d-a239-88a8412d4ca5",
   "metadata": {},
   "outputs": [],
   "source": [
    "del t4 # to delete tuple"
   ]
  },
  {
   "cell_type": "code",
   "execution_count": 52,
   "id": "aa52dec3-308e-4ad7-b904-f289730c53c2",
   "metadata": {},
   "outputs": [
    {
     "ename": "NameError",
     "evalue": "name 't4' is not defined",
     "output_type": "error",
     "traceback": [
      "\u001b[0;31m---------------------------------------------------------------------------\u001b[0m",
      "\u001b[0;31mNameError\u001b[0m                                 Traceback (most recent call last)",
      "Cell \u001b[0;32mIn[52], line 1\u001b[0m\n\u001b[0;32m----> 1\u001b[0m \u001b[43mt4\u001b[49m\n",
      "\u001b[0;31mNameError\u001b[0m: name 't4' is not defined"
     ]
    }
   ],
   "source": [
    "t4"
   ]
  },
  {
   "cell_type": "code",
   "execution_count": 54,
   "id": "e55c9883-5f67-4300-8bdf-58967cc382b2",
   "metadata": {},
   "outputs": [
    {
     "data": {
      "text/plain": [
       "2"
      ]
     },
     "execution_count": 54,
     "metadata": {},
     "output_type": "execute_result"
    }
   ],
   "source": [
    "len(t3) # gives number of values present in tuples"
   ]
  },
  {
   "cell_type": "code",
   "execution_count": 55,
   "id": "df0b9db5-f872-4afa-887a-e0b41b97f6ee",
   "metadata": {},
   "outputs": [
    {
     "data": {
      "text/plain": [
       "False"
      ]
     },
     "execution_count": 55,
     "metadata": {},
     "output_type": "execute_result"
    }
   ],
   "source": [
    "\"nikhil\" in t1 #checks if nikhil is there in tuple or not"
   ]
  },
  {
   "cell_type": "code",
   "execution_count": 57,
   "id": "73e304c0-77cb-436a-a1da-f12c0f6020db",
   "metadata": {},
   "outputs": [
    {
     "data": {
      "text/plain": [
       "True"
      ]
     },
     "execution_count": 57,
     "metadata": {},
     "output_type": "execute_result"
    }
   ],
   "source": [
    "5 in t1"
   ]
  },
  {
   "cell_type": "markdown",
   "id": "5ff71718-8867-40fe-9aa4-4ff781797795",
   "metadata": {},
   "source": [
    "# sets"
   ]
  },
  {
   "cell_type": "code",
   "execution_count": 1,
   "id": "404e7edf-293c-40c7-9816-a78a83d3d00b",
   "metadata": {},
   "outputs": [
    {
     "data": {
      "text/plain": [
       "dict"
      ]
     },
     "execution_count": 1,
     "metadata": {},
     "output_type": "execute_result"
    }
   ],
   "source": [
    "s={}\n",
    "type(s)"
   ]
  },
  {
   "cell_type": "code",
   "execution_count": 2,
   "id": "b3679616-7fd3-4bc8-9700-f80900291e24",
   "metadata": {},
   "outputs": [
    {
     "data": {
      "text/plain": [
       "set"
      ]
     },
     "execution_count": 2,
     "metadata": {},
     "output_type": "execute_result"
    }
   ],
   "source": [
    "s1={1,2,3,4,5}\n",
    "type(s1)"
   ]
  },
  {
   "cell_type": "code",
   "execution_count": 3,
   "id": "73cb510d-d224-4e55-a4d7-e48fe81a1ed0",
   "metadata": {},
   "outputs": [],
   "source": [
    "s2={1,1,2,2,4,5,67,34,5,7,78,9,89} # always removes all the duplicates"
   ]
  },
  {
   "cell_type": "code",
   "execution_count": 4,
   "id": "453f59f7-d341-48d4-97c7-364622acafc9",
   "metadata": {},
   "outputs": [
    {
     "data": {
      "text/plain": [
       "{1, 2, 4, 5, 7, 9, 34, 67, 78, 89}"
      ]
     },
     "execution_count": 4,
     "metadata": {},
     "output_type": "execute_result"
    }
   ],
   "source": [
    "s2"
   ]
  },
  {
   "cell_type": "code",
   "execution_count": 5,
   "id": "94ad4a89-0177-4b3b-8ce6-a7021f77c08f",
   "metadata": {},
   "outputs": [
    {
     "data": {
      "text/plain": [
       "[1, 2, 67, 4, 5, 34, 7, 9, 78, 89]"
      ]
     },
     "execution_count": 5,
     "metadata": {},
     "output_type": "execute_result"
    }
   ],
   "source": [
    "list(s2) #convert set into list"
   ]
  },
  {
   "cell_type": "code",
   "execution_count": 6,
   "id": "0722a9d3-126c-42a4-ae25-fe9272f5a273",
   "metadata": {},
   "outputs": [
    {
     "data": {
      "text/plain": [
       "(1, 2, 67, 4, 5, 34, 7, 9, 78, 89)"
      ]
     },
     "execution_count": 6,
     "metadata": {},
     "output_type": "execute_result"
    }
   ],
   "source": [
    "tuple(s2)"
   ]
  },
  {
   "cell_type": "code",
   "execution_count": 7,
   "id": "a15c5769-514b-4b00-9791-ad824e0f0b55",
   "metadata": {},
   "outputs": [],
   "source": [
    "l=list(s2)\n"
   ]
  },
  {
   "cell_type": "code",
   "execution_count": 8,
   "id": "74ceabe4-ea41-4032-bdb1-0128f92a57ac",
   "metadata": {},
   "outputs": [
    {
     "data": {
      "text/plain": [
       "{1, 2, 4, 5, 7, 9, 34, 67, 78, 89}"
      ]
     },
     "execution_count": 8,
     "metadata": {},
     "output_type": "execute_result"
    }
   ],
   "source": [
    "set(l) # converting back to set"
   ]
  },
  {
   "cell_type": "code",
   "execution_count": 10,
   "id": "508df104-53c6-4e4f-8e3d-dbf9b0576204",
   "metadata": {},
   "outputs": [
    {
     "data": {
      "text/plain": [
       "{1, 2, 3, 4, 5}"
      ]
     },
     "execution_count": 10,
     "metadata": {},
     "output_type": "execute_result"
    }
   ],
   "source": [
    "l=[1,2,2,3,4,4,5,5]\n",
    "set(l) # set automatically removes duplicates from list"
   ]
  },
  {
   "cell_type": "code",
   "execution_count": 11,
   "id": "30013129-fc82-46e8-a0a0-c3a4172b5fb1",
   "metadata": {},
   "outputs": [
    {
     "ename": "TypeError",
     "evalue": "unhashable type: 'list'",
     "output_type": "error",
     "traceback": [
      "\u001b[0;31m---------------------------------------------------------------------------\u001b[0m",
      "\u001b[0;31mTypeError\u001b[0m                                 Traceback (most recent call last)",
      "Cell \u001b[0;32mIn[11], line 1\u001b[0m\n\u001b[0;32m----> 1\u001b[0m s\u001b[38;5;241m=\u001b[39m{\u001b[38;5;241m1\u001b[39m,\u001b[38;5;241m2\u001b[39m,\u001b[38;5;241m3\u001b[39m,[\u001b[38;5;241m4\u001b[39m,\u001b[38;5;241m5\u001b[39m,\u001b[38;5;241m6\u001b[39m]}\n",
      "\u001b[0;31mTypeError\u001b[0m: unhashable type: 'list'"
     ]
    }
   ],
   "source": [
    "s={1,2,3,4,[4,5,6]} # mutable objects  are unhashable "
   ]
  },
  {
   "cell_type": "code",
   "execution_count": 12,
   "id": "14b4f2af-e2fc-4255-8db7-09af61c5bb1a",
   "metadata": {},
   "outputs": [],
   "source": [
    "s={1,2,3,4,(4,5,6)} # allowes tuples as they are immutable and hashable unlike list"
   ]
  },
  {
   "cell_type": "code",
   "execution_count": 13,
   "id": "b7f10bdc-4e57-43a4-a860-1a0044a11039",
   "metadata": {},
   "outputs": [
    {
     "data": {
      "text/plain": [
       "{(4, 5, 6), 1, 2, 3, 4}"
      ]
     },
     "execution_count": 13,
     "metadata": {},
     "output_type": "execute_result"
    }
   ],
   "source": [
    "s"
   ]
  },
  {
   "cell_type": "code",
   "execution_count": 15,
   "id": "1c511a05-1d67-48a7-9170-6bda8631d49d",
   "metadata": {},
   "outputs": [
    {
     "data": {
      "text/plain": [
       "{2, 3, 4, 5, 'Nikhil', 'nikhil'}"
      ]
     },
     "execution_count": 15,
     "metadata": {},
     "output_type": "execute_result"
    }
   ],
   "source": [
    "s1={\"nikhil\",\"Nikhil\",\"nikhil\",2,3,4,5}\n",
    "s1"
   ]
  },
  {
   "cell_type": "code",
   "execution_count": 19,
   "id": "8de7dc71-e79f-4234-84fd-bf9289aefde3",
   "metadata": {},
   "outputs": [
    {
     "ename": "TypeError",
     "evalue": "'set' object is not subscriptable",
     "output_type": "error",
     "traceback": [
      "\u001b[0;31m---------------------------------------------------------------------------\u001b[0m",
      "\u001b[0;31mTypeError\u001b[0m                                 Traceback (most recent call last)",
      "Cell \u001b[0;32mIn[19], line 1\u001b[0m\n\u001b[0;32m----> 1\u001b[0m \u001b[43ms1\u001b[49m\u001b[43m[\u001b[49m\u001b[38;5;241;43m0\u001b[39;49m\u001b[43m]\u001b[49m \u001b[38;5;66;03m#indexing doesnt work in sets as it doesnt save data in sequence\u001b[39;00m\n",
      "\u001b[0;31mTypeError\u001b[0m: 'set' object is not subscriptable"
     ]
    }
   ],
   "source": [
    "s1[0] #indexing doesnt work in sets as it doesnt save data in sequence...for indexing convert into list"
   ]
  },
  {
   "cell_type": "code",
   "execution_count": 18,
   "id": "d3a15761-f014-4239-bca9-b3f697bb06f7",
   "metadata": {},
   "outputs": [
    {
     "ename": "SyntaxError",
     "evalue": "invalid syntax (3815795812.py, line 1)",
     "output_type": "error",
     "traceback": [
      "\u001b[0;36m  Cell \u001b[0;32mIn[18], line 1\u001b[0;36m\u001b[0m\n\u001b[0;31m    s1(::-1)\u001b[0m\n\u001b[0m       ^\u001b[0m\n\u001b[0;31mSyntaxError\u001b[0m\u001b[0;31m:\u001b[0m invalid syntax\n"
     ]
    }
   ],
   "source": [
    "s1(::-1)"
   ]
  },
  {
   "cell_type": "code",
   "execution_count": 20,
   "id": "c482fe81-8e50-4e05-8708-45bba14e6ccb",
   "metadata": {},
   "outputs": [
    {
     "name": "stdout",
     "output_type": "stream",
     "text": [
      "2\n",
      "3\n",
      "4\n",
      "5\n",
      "Nikhil\n",
      "nikhil\n"
     ]
    }
   ],
   "source": [
    "for i in s1:\n",
    "    print(i)"
   ]
  },
  {
   "cell_type": "code",
   "execution_count": 21,
   "id": "16db35d2-9295-4207-879f-215a70cade47",
   "metadata": {},
   "outputs": [],
   "source": [
    "s1.add(34)"
   ]
  },
  {
   "cell_type": "code",
   "execution_count": 22,
   "id": "306dcee4-0d88-4e70-87f6-487ac0e16985",
   "metadata": {},
   "outputs": [
    {
     "data": {
      "text/plain": [
       "{2, 3, 34, 4, 5, 'Nikhil', 'nikhil'}"
      ]
     },
     "execution_count": 22,
     "metadata": {},
     "output_type": "execute_result"
    }
   ],
   "source": [
    "s1"
   ]
  },
  {
   "cell_type": "code",
   "execution_count": 23,
   "id": "b7a9663f-6152-4bfc-8d39-222edfd6c43f",
   "metadata": {},
   "outputs": [],
   "source": [
    "s1.add(2) # 2 already added"
   ]
  },
  {
   "cell_type": "code",
   "execution_count": 24,
   "id": "65a46a88-4c3e-4e7e-94c5-c321c07bfdbd",
   "metadata": {},
   "outputs": [
    {
     "data": {
      "text/plain": [
       "{2, 3, 34, 4, 5, 'Nikhil', 'nikhil'}"
      ]
     },
     "execution_count": 24,
     "metadata": {},
     "output_type": "execute_result"
    }
   ],
   "source": [
    "s1"
   ]
  },
  {
   "cell_type": "code",
   "execution_count": 25,
   "id": "06f0587b-f684-4347-931f-cf9a6cebe520",
   "metadata": {},
   "outputs": [
    {
     "data": {
      "text/plain": [
       "7"
      ]
     },
     "execution_count": 25,
     "metadata": {},
     "output_type": "execute_result"
    }
   ],
   "source": [
    "len(s1)"
   ]
  },
  {
   "cell_type": "code",
   "execution_count": 26,
   "id": "276cad77-0f5c-4f97-8e04-d6599ff757e3",
   "metadata": {},
   "outputs": [
    {
     "data": {
      "text/plain": [
       "2"
      ]
     },
     "execution_count": 26,
     "metadata": {},
     "output_type": "execute_result"
    }
   ],
   "source": [
    "s1.pop()"
   ]
  },
  {
   "cell_type": "code",
   "execution_count": 27,
   "id": "b5dc66bb-f30b-4344-8f26-5ab904874ca3",
   "metadata": {},
   "outputs": [
    {
     "data": {
      "text/plain": [
       "{3, 34, 4, 5, 'Nikhil', 'nikhil'}"
      ]
     },
     "execution_count": 27,
     "metadata": {},
     "output_type": "execute_result"
    }
   ],
   "source": [
    "s1"
   ]
  },
  {
   "cell_type": "code",
   "execution_count": 28,
   "id": "6ac6c601-5dc5-484f-87af-1a2456fb2a86",
   "metadata": {},
   "outputs": [
    {
     "data": {
      "text/plain": [
       "3"
      ]
     },
     "execution_count": 28,
     "metadata": {},
     "output_type": "execute_result"
    }
   ],
   "source": [
    "s1.pop()"
   ]
  },
  {
   "cell_type": "code",
   "execution_count": 29,
   "id": "abbc8eae-b5af-4d8c-adcc-d81ed87caf23",
   "metadata": {},
   "outputs": [
    {
     "data": {
      "text/plain": [
       "4"
      ]
     },
     "execution_count": 29,
     "metadata": {},
     "output_type": "execute_result"
    }
   ],
   "source": [
    "s1.pop() # doesnt pop in order"
   ]
  },
  {
   "cell_type": "code",
   "execution_count": 30,
   "id": "7981144f-2fcc-40c3-8b41-27017ea50b69",
   "metadata": {},
   "outputs": [],
   "source": [
    "s1.clear()"
   ]
  },
  {
   "cell_type": "code",
   "execution_count": 31,
   "id": "b29dd902-470c-4f56-84bf-7bc811bc1893",
   "metadata": {},
   "outputs": [
    {
     "data": {
      "text/plain": [
       "set()"
      ]
     },
     "execution_count": 31,
     "metadata": {},
     "output_type": "execute_result"
    }
   ],
   "source": [
    "s1"
   ]
  },
  {
   "cell_type": "code",
   "execution_count": 33,
   "id": "84d3373e-5a7f-4c88-aa3d-204f26f16701",
   "metadata": {},
   "outputs": [
    {
     "data": {
      "text/plain": [
       "{4}"
      ]
     },
     "execution_count": 33,
     "metadata": {},
     "output_type": "execute_result"
    }
   ],
   "source": [
    "s2={1,2,3,4}\n",
    "s3={1,2,3,5}\n",
    "s2.difference(s3)"
   ]
  },
  {
   "cell_type": "code",
   "execution_count": 34,
   "id": "e8fe4e47-9741-43f1-b9a4-ddaaa5141c05",
   "metadata": {},
   "outputs": [
    {
     "data": {
      "text/plain": [
       "{5}"
      ]
     },
     "execution_count": 34,
     "metadata": {},
     "output_type": "execute_result"
    }
   ],
   "source": [
    "s3.difference(s2)"
   ]
  },
  {
   "cell_type": "markdown",
   "id": "b7b9811d-7f9f-4610-abc5-b1821f5d932f",
   "metadata": {},
   "source": [
    "# dictionary"
   ]
  },
  {
   "cell_type": "code",
   "execution_count": 1,
   "id": "e2b54cb7-d758-41f9-86c8-74c7e4c9ad3e",
   "metadata": {},
   "outputs": [],
   "source": [
    "d={}"
   ]
  },
  {
   "cell_type": "code",
   "execution_count": 3,
   "id": "cd4b3870-3d02-4746-bda7-5767b8ae7a2e",
   "metadata": {},
   "outputs": [],
   "source": [
    "d1={\"name\":\"nikhil\",\"emailid\":\"nikhil@gmail.com\",\"phone_no\":13456} #key:data"
   ]
  },
  {
   "cell_type": "code",
   "execution_count": 4,
   "id": "e62bee14-87b2-4dad-8e76-a38d26aecab8",
   "metadata": {},
   "outputs": [
    {
     "data": {
      "text/plain": [
       "dict"
      ]
     },
     "execution_count": 4,
     "metadata": {},
     "output_type": "execute_result"
    }
   ],
   "source": [
    "type(d1)"
   ]
  },
  {
   "cell_type": "code",
   "execution_count": 5,
   "id": "08457057-8774-45bc-8f41-652c59db9393",
   "metadata": {},
   "outputs": [
    {
     "data": {
      "text/plain": [
       "{'name': 'nikhil', 'emailid': 'nikhil@gmail.com', 'phone_no': 13456}"
      ]
     },
     "execution_count": 5,
     "metadata": {},
     "output_type": "execute_result"
    }
   ],
   "source": [
    "d1"
   ]
  },
  {
   "cell_type": "code",
   "execution_count": 7,
   "id": "8cb6ae84-f8c7-4bd3-8b1c-433e24cf244e",
   "metadata": {},
   "outputs": [],
   "source": [
    "d2={'name':'ndb','name':'nikhil'}"
   ]
  },
  {
   "cell_type": "code",
   "execution_count": 8,
   "id": "55127e36-1ad7-47e7-89d8-5d6b4f27b6d2",
   "metadata": {},
   "outputs": [
    {
     "data": {
      "text/plain": [
       "{'name': 'nikhil'}"
      ]
     },
     "execution_count": 8,
     "metadata": {},
     "output_type": "execute_result"
    }
   ],
   "source": [
    "d2 #overrides first one"
   ]
  },
  {
   "cell_type": "code",
   "execution_count": 9,
   "id": "34074edd-a97d-49cb-9ee5-103ca12f78f4",
   "metadata": {},
   "outputs": [],
   "source": [
    "d3={234:\"abc\"} # key can be numbers as well..it can be floating numbers too"
   ]
  },
  {
   "cell_type": "code",
   "execution_count": 10,
   "id": "618ed59e-bda0-42c9-98a6-e42aabcf15b7",
   "metadata": {},
   "outputs": [
    {
     "data": {
      "text/plain": [
       "{234: 'abc'}"
      ]
     },
     "execution_count": 10,
     "metadata": {},
     "output_type": "execute_result"
    }
   ],
   "source": [
    "d3"
   ]
  },
  {
   "cell_type": "code",
   "execution_count": 13,
   "id": "ea7a51c5-3fbb-4457-a423-0b6cfa6caae4",
   "metadata": {},
   "outputs": [],
   "source": [
    "d4={True:\"abcd\"} #key can be boolean value as well"
   ]
  },
  {
   "cell_type": "code",
   "execution_count": 12,
   "id": "0aecdf0b-5a34-4049-8fc3-8a67e3b0de89",
   "metadata": {},
   "outputs": [
    {
     "data": {
      "text/plain": [
       "{True: 'abcd'}"
      ]
     },
     "execution_count": 12,
     "metadata": {},
     "output_type": "execute_result"
    }
   ],
   "source": [
    "d4"
   ]
  },
  {
   "cell_type": "code",
   "execution_count": 15,
   "id": "7126dbf4-4f5c-4e07-9311-e5aedc44e126",
   "metadata": {},
   "outputs": [
    {
     "ename": "SyntaxError",
     "evalue": "invalid syntax (1262155020.py, line 1)",
     "output_type": "error",
     "traceback": [
      "\u001b[0;36m  Cell \u001b[0;32mIn[15], line 1\u001b[0;36m\u001b[0m\n\u001b[0;31m    d5={@:'abc'} # special characters cannot be key\u001b[0m\n\u001b[0m        ^\u001b[0m\n\u001b[0;31mSyntaxError\u001b[0m\u001b[0;31m:\u001b[0m invalid syntax\n"
     ]
    }
   ],
   "source": [
    "d5={@:'abc'} # special characters cannot be key"
   ]
  },
  {
   "cell_type": "code",
   "execution_count": 17,
   "id": "9176ac17-16e6-432b-a5df-eb19b6b3fe21",
   "metadata": {},
   "outputs": [
    {
     "ename": "TypeError",
     "evalue": "unhashable type: 'list'",
     "output_type": "error",
     "traceback": [
      "\u001b[0;31m---------------------------------------------------------------------------\u001b[0m",
      "\u001b[0;31mTypeError\u001b[0m                                 Traceback (most recent call last)",
      "Cell \u001b[0;32mIn[17], line 1\u001b[0m\n\u001b[0;32m----> 1\u001b[0m d6\u001b[38;5;241m=\u001b[39m{[\u001b[38;5;241m1\u001b[39m,\u001b[38;5;241m2\u001b[39m,\u001b[38;5;241m3\u001b[39m]:\u001b[38;5;124m'\u001b[39m\u001b[38;5;124mabc\u001b[39m\u001b[38;5;124m'\u001b[39m} \u001b[38;5;66;03m#list cannot be key\u001b[39;00m\n",
      "\u001b[0;31mTypeError\u001b[0m: unhashable type: 'list'"
     ]
    }
   ],
   "source": [
    "d6={[1,2,3]:'abc'} #list cannot be key"
   ]
  },
  {
   "cell_type": "code",
   "execution_count": 19,
   "id": "a6efca45-94ff-43c8-af85-62bf42cc3020",
   "metadata": {},
   "outputs": [],
   "source": [
    "d7={(1,2,3):'abc'} # only tuples can be key"
   ]
  },
  {
   "cell_type": "code",
   "execution_count": 20,
   "id": "b812f303-fe5b-48cf-a4b9-afd20a50aac0",
   "metadata": {},
   "outputs": [
    {
     "data": {
      "text/plain": [
       "{(1, 2, 3): 'abc'}"
      ]
     },
     "execution_count": 20,
     "metadata": {},
     "output_type": "execute_result"
    }
   ],
   "source": [
    "d7"
   ]
  },
  {
   "cell_type": "code",
   "execution_count": 22,
   "id": "7483a5dd-2bcc-49fb-a4b1-e3cb5683cd7f",
   "metadata": {},
   "outputs": [
    {
     "ename": "TypeError",
     "evalue": "unhashable type: 'set'",
     "output_type": "error",
     "traceback": [
      "\u001b[0;31m---------------------------------------------------------------------------\u001b[0m",
      "\u001b[0;31mTypeError\u001b[0m                                 Traceback (most recent call last)",
      "Cell \u001b[0;32mIn[22], line 1\u001b[0m\n\u001b[0;32m----> 1\u001b[0m d8\u001b[38;5;241m=\u001b[39m{{\u001b[38;5;241m1\u001b[39m,\u001b[38;5;241m2\u001b[39m,\u001b[38;5;241m3\u001b[39m}:\u001b[38;5;124m'\u001b[39m\u001b[38;5;124mabc\u001b[39m\u001b[38;5;124m'\u001b[39m} \u001b[38;5;66;03m# sets cannot be key\u001b[39;00m\n",
      "\u001b[0;31mTypeError\u001b[0m: unhashable type: 'set'"
     ]
    }
   ],
   "source": [
    "d8={{1,2,3}:'abc'} # sets cannot be key"
   ]
  },
  {
   "cell_type": "code",
   "execution_count": 24,
   "id": "02927149-1196-44bb-85f3-0df1c285b8c6",
   "metadata": {},
   "outputs": [
    {
     "ename": "TypeError",
     "evalue": "unhashable type: 'dict'",
     "output_type": "error",
     "traceback": [
      "\u001b[0;31m---------------------------------------------------------------------------\u001b[0m",
      "\u001b[0;31mTypeError\u001b[0m                                 Traceback (most recent call last)",
      "Cell \u001b[0;32mIn[24], line 1\u001b[0m\n\u001b[0;32m----> 1\u001b[0m d9\u001b[38;5;241m=\u001b[39m{{\u001b[38;5;124m\"\u001b[39m\u001b[38;5;124mxyz\u001b[39m\u001b[38;5;124m\"\u001b[39m:\u001b[38;5;241m123\u001b[39m}:\u001b[38;5;124m'\u001b[39m\u001b[38;5;124mabc\u001b[39m\u001b[38;5;124m'\u001b[39m}\n",
      "\u001b[0;31mTypeError\u001b[0m: unhashable type: 'dict'"
     ]
    }
   ],
   "source": [
    "d9={{\"xyz\":123}:'abc'} # dict cannot be key too"
   ]
  },
  {
   "cell_type": "code",
   "execution_count": 25,
   "id": "8da89ff9-e637-40d3-abb0-55079cd1e5c1",
   "metadata": {},
   "outputs": [],
   "source": [
    "d10={\"course\":['english','math','bio']}"
   ]
  },
  {
   "cell_type": "code",
   "execution_count": 26,
   "id": "a07e2a9f-6dea-4b39-8e43-fb7740554c7d",
   "metadata": {},
   "outputs": [
    {
     "data": {
      "text/plain": [
       "{'course': ['english', 'math', 'bio']}"
      ]
     },
     "execution_count": 26,
     "metadata": {},
     "output_type": "execute_result"
    }
   ],
   "source": [
    "d10 # list,tuples,set can be value"
   ]
  },
  {
   "cell_type": "code",
   "execution_count": 32,
   "id": "bb7a26b4-c272-4a8e-a38d-2557ba665f85",
   "metadata": {},
   "outputs": [],
   "source": [
    "d11={\"name\":{'surname':\"bhanushali\",'firstname':'nikhil'}} # dictionary can be values too called nested dict"
   ]
  },
  {
   "cell_type": "code",
   "execution_count": 31,
   "id": "d32aae63-b82c-4b41-90a0-91b02cbd21f4",
   "metadata": {},
   "outputs": [
    {
     "data": {
      "text/plain": [
       "{'name': {'surname': 'bhanushali', 'firstname': 'nikhil'}}"
      ]
     },
     "execution_count": 31,
     "metadata": {},
     "output_type": "execute_result"
    }
   ],
   "source": [
    "d11"
   ]
  },
  {
   "cell_type": "code",
   "execution_count": 36,
   "id": "056a6028-2572-49b3-8158-17b80d85125b",
   "metadata": {},
   "outputs": [],
   "source": [
    "d10={\"course\":['english','math','bio'],\"start_date\":(28,29,50),\"mentors\":{'sudhanshu','krish','alakh'}}"
   ]
  },
  {
   "cell_type": "code",
   "execution_count": 34,
   "id": "0d1ce342-021f-4221-af9c-abb55fd29ca5",
   "metadata": {},
   "outputs": [
    {
     "data": {
      "text/plain": [
       "{'course': ['english', 'math', 'bio'],\n",
       " 'start_date': (28, 29, 50),\n",
       " 'mentors': {'alakh', 'krish', 'sudhanshu'}}"
      ]
     },
     "execution_count": 34,
     "metadata": {},
     "output_type": "execute_result"
    }
   ],
   "source": [
    "d10"
   ]
  },
  {
   "cell_type": "code",
   "execution_count": 37,
   "id": "2098813c-c402-4143-a1d0-127498280007",
   "metadata": {},
   "outputs": [],
   "source": [
    "d10['timing']=(8,8,8) #adding new key and value"
   ]
  },
  {
   "cell_type": "code",
   "execution_count": 6,
   "id": "5fcf5c5c-b860-4615-afab-ee9f58e0f849",
   "metadata": {},
   "outputs": [
    {
     "data": {
      "text/plain": [
       "{'course': ['english', 'math', 'bio'],\n",
       " 'start_date': (28, 29, 50),\n",
       " 'mentors': {'alakh', 'krish', 'sudhanshu'},\n",
       " 'timing': (8, 8, 8)}"
      ]
     },
     "execution_count": 6,
     "metadata": {},
     "output_type": "execute_result"
    }
   ],
   "source": [
    "d10"
   ]
  },
  {
   "cell_type": "code",
   "execution_count": 7,
   "id": "b365974a-fbfa-4d6b-9cd6-65cbb64a5e69",
   "metadata": {},
   "outputs": [
    {
     "data": {
      "text/plain": [
       "(28, 29, 50)"
      ]
     },
     "execution_count": 7,
     "metadata": {},
     "output_type": "execute_result"
    }
   ],
   "source": [
    "d10['start_date'] # extracting data"
   ]
  },
  {
   "cell_type": "code",
   "execution_count": 38,
   "id": "f4619669-b154-4927-bf73-bc6407d34ea2",
   "metadata": {},
   "outputs": [
    {
     "data": {
      "text/plain": [
       "{'alakh', 'krish', 'sudhanshu'}"
      ]
     },
     "execution_count": 38,
     "metadata": {},
     "output_type": "execute_result"
    }
   ],
   "source": [
    "d10['mentors']"
   ]
  },
  {
   "cell_type": "code",
   "execution_count": 42,
   "id": "bd5448c4-06de-4221-96cd-0232a36271dc",
   "metadata": {},
   "outputs": [
    {
     "data": {
      "text/plain": [
       "set"
      ]
     },
     "execution_count": 42,
     "metadata": {},
     "output_type": "execute_result"
    }
   ],
   "source": [
    "type(d10['mentors']) # checking data type of keys"
   ]
  },
  {
   "cell_type": "code",
   "execution_count": 39,
   "id": "4a70fe3a-dee2-4bfd-817b-f54ec0f2a5eb",
   "metadata": {},
   "outputs": [],
   "source": [
    "d10[\"age\"]=(23,34,45)"
   ]
  },
  {
   "cell_type": "code",
   "execution_count": 40,
   "id": "1a044af1-f808-4156-8033-f1345f9e3dd2",
   "metadata": {},
   "outputs": [
    {
     "data": {
      "text/plain": [
       "{'course': ['english', 'math', 'bio'],\n",
       " 'start_date': (28, 29, 50),\n",
       " 'mentors': {'alakh', 'krish', 'sudhanshu'},\n",
       " 'timing': (8, 8, 8),\n",
       " 'age': (23, 34, 45)}"
      ]
     },
     "execution_count": 40,
     "metadata": {},
     "output_type": "execute_result"
    }
   ],
   "source": [
    "d10"
   ]
  },
  {
   "cell_type": "code",
   "execution_count": 48,
   "id": "e21688e2-ef32-49d9-ab8f-481249f387f4",
   "metadata": {},
   "outputs": [
    {
     "data": {
      "text/plain": [
       "(23, 34, 45)"
      ]
     },
     "execution_count": 48,
     "metadata": {},
     "output_type": "execute_result"
    }
   ],
   "source": [
    "d10['age']"
   ]
  },
  {
   "cell_type": "code",
   "execution_count": 41,
   "id": "2c6785bf-fcad-42a9-bcb7-195347ebf2ea",
   "metadata": {},
   "outputs": [],
   "source": [
    "d10[\"name\"]=(\"nikhil\")"
   ]
  },
  {
   "cell_type": "code",
   "execution_count": 53,
   "id": "a37fc6c9-ff13-473f-87b2-b42dbef58305",
   "metadata": {},
   "outputs": [
    {
     "data": {
      "text/plain": [
       "{'course': ['english', 'math', 'bio'],\n",
       " 'start_date': (28, 29, 50),\n",
       " 'mentors': {'alakh', 'krish', 'sudhanshu'},\n",
       " 'timing': (8, 8, 8),\n",
       " 'age': (23, 34, 45),\n",
       " 'name': 'nikhil'}"
      ]
     },
     "execution_count": 53,
     "metadata": {},
     "output_type": "execute_result"
    }
   ],
   "source": [
    "d10"
   ]
  },
  {
   "cell_type": "code",
   "execution_count": 50,
   "id": "ad34a2f3-7a4d-43cc-8089-c6aa1cf9c3fb",
   "metadata": {},
   "outputs": [
    {
     "data": {
      "text/plain": [
       "{'alakh', 'krish', 'sudhanshu'}"
      ]
     },
     "execution_count": 50,
     "metadata": {},
     "output_type": "execute_result"
    }
   ],
   "source": [
    "d10['mentors']"
   ]
  },
  {
   "cell_type": "code",
   "execution_count": 12,
   "id": "c519d9f2-2bbd-42f4-a492-7b141515caab",
   "metadata": {},
   "outputs": [
    {
     "ename": "AttributeError",
     "evalue": "'set' object has no attribute 'upper'",
     "output_type": "error",
     "traceback": [
      "\u001b[0;31m---------------------------------------------------------------------------\u001b[0m",
      "\u001b[0;31mAttributeError\u001b[0m                            Traceback (most recent call last)",
      "Cell \u001b[0;32mIn[12], line 1\u001b[0m\n\u001b[0;32m----> 1\u001b[0m \u001b[43md10\u001b[49m\u001b[43m[\u001b[49m\u001b[38;5;124;43m'\u001b[39;49m\u001b[38;5;124;43mmentors\u001b[39;49m\u001b[38;5;124;43m'\u001b[39;49m\u001b[43m]\u001b[49m\u001b[38;5;241;43m.\u001b[39;49m\u001b[43mupper\u001b[49m()\n",
      "\u001b[0;31mAttributeError\u001b[0m: 'set' object has no attribute 'upper'"
     ]
    }
   ],
   "source": [
    "d10['mentors'].upper()"
   ]
  },
  {
   "cell_type": "code",
   "execution_count": 54,
   "id": "f201fd96-4821-458c-ac0f-06f485495558",
   "metadata": {},
   "outputs": [
    {
     "data": {
      "text/plain": [
       "'nikhil'"
      ]
     },
     "execution_count": 54,
     "metadata": {},
     "output_type": "execute_result"
    }
   ],
   "source": [
    "d10[\"name\"]"
   ]
  },
  {
   "cell_type": "code",
   "execution_count": 55,
   "id": "9fe52e99-c628-4dff-b908-45516f7b75a8",
   "metadata": {},
   "outputs": [
    {
     "data": {
      "text/plain": [
       "'NIKHIL'"
      ]
     },
     "execution_count": 55,
     "metadata": {},
     "output_type": "execute_result"
    }
   ],
   "source": [
    "d10[\"name\"].upper()"
   ]
  },
  {
   "cell_type": "code",
   "execution_count": 56,
   "id": "f61230d7-5ac2-4599-b921-e8691a8c7ae2",
   "metadata": {},
   "outputs": [],
   "source": [
    "d11={\"name\":{'surname':\"bhanushali\",'firstname':'nikhil'}} # dictionary can be values too called nested dict"
   ]
  },
  {
   "cell_type": "code",
   "execution_count": 58,
   "id": "05275794-e04d-4371-ba54-1e71e5cc5fd7",
   "metadata": {},
   "outputs": [
    {
     "data": {
      "text/plain": [
       "'nikhil'"
      ]
     },
     "execution_count": 58,
     "metadata": {},
     "output_type": "execute_result"
    }
   ],
   "source": [
    "d11[\"name\"][\"firstname\"] # accessing nest dict values"
   ]
  },
  {
   "cell_type": "code",
   "execution_count": 67,
   "id": "de1f59bd-7fbe-49b1-ac56-c71222f5920e",
   "metadata": {},
   "outputs": [],
   "source": [
    "d11['newname']=('smit')"
   ]
  },
  {
   "cell_type": "code",
   "execution_count": 68,
   "id": "92abbd0b-ee47-41e8-9196-6d181671e313",
   "metadata": {},
   "outputs": [
    {
     "data": {
      "text/plain": [
       "{'name': {'surname': 'bhanushali', 'firstname': 'nikhil'}, 'newname': 'smit'}"
      ]
     },
     "execution_count": 68,
     "metadata": {},
     "output_type": "execute_result"
    }
   ],
   "source": [
    "d11"
   ]
  },
  {
   "cell_type": "code",
   "execution_count": 69,
   "id": "432be651-2a3c-4641-8f86-fcfd826d6fd3",
   "metadata": {},
   "outputs": [],
   "source": [
    "del d11['newname'] #deleting key and value"
   ]
  },
  {
   "cell_type": "code",
   "execution_count": 63,
   "id": "1352626f-29e0-4629-9632-21928333c52b",
   "metadata": {},
   "outputs": [
    {
     "data": {
      "text/plain": [
       "{'name': {'surname': 'bhanushali', 'firstname': 'nikhil'}}"
      ]
     },
     "execution_count": 63,
     "metadata": {},
     "output_type": "execute_result"
    }
   ],
   "source": [
    "d11"
   ]
  },
  {
   "cell_type": "code",
   "execution_count": 70,
   "id": "300c613b-01ab-44a1-bb17-7241e452ed57",
   "metadata": {},
   "outputs": [],
   "source": [
    "d11.clear()"
   ]
  },
  {
   "cell_type": "code",
   "execution_count": 71,
   "id": "5ba5a861-3a3f-48ab-97d6-2b6abdcc9100",
   "metadata": {},
   "outputs": [
    {
     "data": {
      "text/plain": [
       "{}"
      ]
     },
     "execution_count": 71,
     "metadata": {},
     "output_type": "execute_result"
    }
   ],
   "source": [
    "d11"
   ]
  },
  {
   "cell_type": "code",
   "execution_count": 35,
   "id": "26cfd589-db3f-419c-ba7c-bafb0db71176",
   "metadata": {},
   "outputs": [
    {
     "data": {
      "text/plain": [
       "{'course': ['english', 'math', 'bio'],\n",
       " 'start_date': (28, 29, 50),\n",
       " 'mentors': {'alakh', 'krish', 'sudhanshu'},\n",
       " 'age': (23, 34, 45)}"
      ]
     },
     "execution_count": 35,
     "metadata": {},
     "output_type": "execute_result"
    }
   ],
   "source": [
    "d10"
   ]
  },
  {
   "cell_type": "code",
   "execution_count": 74,
   "id": "71c586bb-a594-4bda-ae94-ee972176fc12",
   "metadata": {},
   "outputs": [
    {
     "data": {
      "text/plain": [
       "6"
      ]
     },
     "execution_count": 74,
     "metadata": {},
     "output_type": "execute_result"
    }
   ],
   "source": [
    "len(d10) #will give total no of keys"
   ]
  },
  {
   "cell_type": "code",
   "execution_count": 75,
   "id": "00730c61-bf24-4afe-bfea-c7c30146f30f",
   "metadata": {},
   "outputs": [
    {
     "data": {
      "text/plain": [
       "dict_keys(['course', 'start_date', 'mentors', 'timing', 'age', 'name'])"
      ]
     },
     "execution_count": 75,
     "metadata": {},
     "output_type": "execute_result"
    }
   ],
   "source": [
    "d10.keys() #extracting keys"
   ]
  },
  {
   "cell_type": "code",
   "execution_count": 81,
   "id": "c0c62cd7-0836-49fa-b621-9dcd07ad7095",
   "metadata": {},
   "outputs": [
    {
     "data": {
      "text/plain": [
       "dict_values([['english', 'math', 'bio'], (28, 29, 50), {'alakh', 'sudhanshu', 'krish'}, (8, 8, 8), (23, 34, 45), 'nikhil'])"
      ]
     },
     "execution_count": 81,
     "metadata": {},
     "output_type": "execute_result"
    }
   ],
   "source": [
    "d10.values() #extracting values"
   ]
  },
  {
   "cell_type": "code",
   "execution_count": 83,
   "id": "693847cd-bff9-453d-99e4-5ece4cda46ee",
   "metadata": {},
   "outputs": [
    {
     "data": {
      "text/plain": [
       "[['english', 'math', 'bio'],\n",
       " (28, 29, 50),\n",
       " {'alakh', 'krish', 'sudhanshu'},\n",
       " (8, 8, 8),\n",
       " (23, 34, 45),\n",
       " 'nikhil']"
      ]
     },
     "execution_count": 83,
     "metadata": {},
     "output_type": "execute_result"
    }
   ],
   "source": [
    "list(d10.values()) #converting dict values into list"
   ]
  },
  {
   "cell_type": "code",
   "execution_count": 85,
   "id": "82b5374b-533e-4f8a-81c9-2630b88547e9",
   "metadata": {},
   "outputs": [
    {
     "data": {
      "text/plain": [
       "['course', 'start_date', 'mentors', 'timing', 'age', 'name']"
      ]
     },
     "execution_count": 85,
     "metadata": {},
     "output_type": "execute_result"
    }
   ],
   "source": [
    "list(d10.keys()) #converting dict keys into list"
   ]
  },
  {
   "cell_type": "code",
   "execution_count": 86,
   "id": "6c0204c3-9866-4b87-9cb2-3f9bd69eb379",
   "metadata": {},
   "outputs": [
    {
     "data": {
      "text/plain": [
       "[('course', ['english', 'math', 'bio']),\n",
       " ('start_date', (28, 29, 50)),\n",
       " ('mentors', {'alakh', 'krish', 'sudhanshu'}),\n",
       " ('timing', (8, 8, 8)),\n",
       " ('age', (23, 34, 45)),\n",
       " ('name', 'nikhil')]"
      ]
     },
     "execution_count": 86,
     "metadata": {},
     "output_type": "execute_result"
    }
   ],
   "source": [
    "list(d10.items()) # converting both keys and values into list"
   ]
  },
  {
   "cell_type": "code",
   "execution_count": 16,
   "id": "dce11d2f-1c08-49a5-936f-00d9c0b0589a",
   "metadata": {},
   "outputs": [],
   "source": [
    "d11=d10.copy() # it creates deep copy by allocating additonal space"
   ]
  },
  {
   "cell_type": "code",
   "execution_count": 17,
   "id": "06f6de96-9e85-44a5-b3bc-897b687b471d",
   "metadata": {},
   "outputs": [
    {
     "data": {
      "text/plain": [
       "{'course': ['english', 'math', 'bio'],\n",
       " 'start_date': (28, 29, 50),\n",
       " 'mentors': {'alakh', 'krish', 'sudhanshu'},\n",
       " 'timing': (8, 8, 8),\n",
       " 'age': (23, 34, 45),\n",
       " 'name': 'nikhil'}"
      ]
     },
     "execution_count": 17,
     "metadata": {},
     "output_type": "execute_result"
    }
   ],
   "source": [
    "d11"
   ]
  },
  {
   "cell_type": "code",
   "execution_count": 43,
   "id": "84375fc2-4b52-4159-970a-f9c33df0bc78",
   "metadata": {},
   "outputs": [],
   "source": [
    "d12=d10 #d12 variable points to same memory location as d10"
   ]
  },
  {
   "cell_type": "code",
   "execution_count": 44,
   "id": "639ad93e-4637-4685-9db1-1266d1eda8b2",
   "metadata": {},
   "outputs": [
    {
     "data": {
      "text/plain": [
       "{'course': ['english', 'math', 'bio'],\n",
       " 'start_date': (28, 29, 50),\n",
       " 'mentors': {'alakh', 'krish', 'sudhanshu'},\n",
       " 'timing': (8, 8, 8),\n",
       " 'age': (23, 34, 45),\n",
       " 'name': 'nikhil'}"
      ]
     },
     "execution_count": 44,
     "metadata": {},
     "output_type": "execute_result"
    }
   ],
   "source": [
    "d12"
   ]
  },
  {
   "cell_type": "code",
   "execution_count": 45,
   "id": "c56ce426-4f07-4637-965c-a934daac4ee8",
   "metadata": {},
   "outputs": [],
   "source": [
    "del d10[\"name\"]"
   ]
  },
  {
   "cell_type": "code",
   "execution_count": 21,
   "id": "4ef2d9ee-932f-4485-bcf0-f9221a9a4aa1",
   "metadata": {},
   "outputs": [
    {
     "data": {
      "text/plain": [
       "{'course': ['english', 'math', 'bio'],\n",
       " 'start_date': (28, 29, 50),\n",
       " 'mentors': {'alakh', 'krish', 'sudhanshu'},\n",
       " 'timing': (8, 8, 8),\n",
       " 'age': (23, 34, 45)}"
      ]
     },
     "execution_count": 21,
     "metadata": {},
     "output_type": "execute_result"
    }
   ],
   "source": [
    "d10"
   ]
  },
  {
   "cell_type": "code",
   "execution_count": 22,
   "id": "3c176d55-c55e-4b0f-9f93-1e60f472ab8f",
   "metadata": {},
   "outputs": [
    {
     "data": {
      "text/plain": [
       "{'course': ['english', 'math', 'bio'],\n",
       " 'start_date': (28, 29, 50),\n",
       " 'mentors': {'alakh', 'krish', 'sudhanshu'},\n",
       " 'timing': (8, 8, 8),\n",
       " 'age': (23, 34, 45),\n",
       " 'name': 'nikhil'}"
      ]
     },
     "execution_count": 22,
     "metadata": {},
     "output_type": "execute_result"
    }
   ],
   "source": [
    "d11 #created through copy function name remains unchanged"
   ]
  },
  {
   "cell_type": "code",
   "execution_count": 46,
   "id": "f7c38229-673e-44fc-a831-121025b7c672",
   "metadata": {},
   "outputs": [
    {
     "data": {
      "text/plain": [
       "{'course': ['english', 'math', 'bio'],\n",
       " 'start_date': (28, 29, 50),\n",
       " 'mentors': {'alakh', 'krish', 'sudhanshu'},\n",
       " 'timing': (8, 8, 8),\n",
       " 'age': (23, 34, 45)}"
      ]
     },
     "execution_count": 46,
     "metadata": {},
     "output_type": "execute_result"
    }
   ],
   "source": [
    "d12 # created using = name section in d12 deleted with d10"
   ]
  },
  {
   "cell_type": "code",
   "execution_count": 32,
   "id": "cb9b021f-f720-427d-b742-30aa99f6d91b",
   "metadata": {},
   "outputs": [
    {
     "ename": "TypeError",
     "evalue": "pop expected at least 1 argument, got 0",
     "output_type": "error",
     "traceback": [
      "\u001b[0;31m---------------------------------------------------------------------------\u001b[0m",
      "\u001b[0;31mTypeError\u001b[0m                                 Traceback (most recent call last)",
      "Cell \u001b[0;32mIn[32], line 1\u001b[0m\n\u001b[0;32m----> 1\u001b[0m \u001b[43md12\u001b[49m\u001b[38;5;241;43m.\u001b[39;49m\u001b[43mpop\u001b[49m\u001b[43m(\u001b[49m\u001b[43m)\u001b[49m\n",
      "\u001b[0;31mTypeError\u001b[0m: pop expected at least 1 argument, got 0"
     ]
    }
   ],
   "source": [
    "d12.pop()"
   ]
  },
  {
   "cell_type": "code",
   "execution_count": 47,
   "id": "73beb83b-021a-42b6-bb9c-a6bbf89beec7",
   "metadata": {},
   "outputs": [
    {
     "data": {
      "text/plain": [
       "(8, 8, 8)"
      ]
     },
     "execution_count": 47,
     "metadata": {},
     "output_type": "execute_result"
    }
   ],
   "source": [
    "d12.pop(\"timing\") # in dictionary pop function requires key in argument unlike list"
   ]
  },
  {
   "cell_type": "code",
   "execution_count": 34,
   "id": "83fb8033-faaa-4252-a1d8-08901698abbe",
   "metadata": {},
   "outputs": [
    {
     "data": {
      "text/plain": [
       "{'course': ['english', 'math', 'bio'],\n",
       " 'start_date': (28, 29, 50),\n",
       " 'mentors': {'alakh', 'krish', 'sudhanshu'},\n",
       " 'age': (23, 34, 45)}"
      ]
     },
     "execution_count": 34,
     "metadata": {},
     "output_type": "execute_result"
    }
   ],
   "source": [
    "d12"
   ]
  },
  {
   "cell_type": "code",
   "execution_count": 53,
   "id": "1f0129ed-f390-474a-a27d-3c5f3fb32b7b",
   "metadata": {},
   "outputs": [
    {
     "data": {
      "text/plain": [
       "{1: ('a', 'b', 'c'), 2: ('a', 'b', 'c'), 3: ('a', 'b', 'c')}"
      ]
     },
     "execution_count": 53,
     "metadata": {},
     "output_type": "execute_result"
    }
   ],
   "source": [
    "d12.fromkeys((1,2,3),('a','b','c')) # fromkeys function takes iterable as argument in first bracket as keys\n",
    "# such as tuples ,dictionaries,string and 2nd argument as values"
   ]
  },
  {
   "cell_type": "code",
   "execution_count": 62,
   "id": "0be6f236-3b9a-4563-afa8-a0135cc9811d",
   "metadata": {},
   "outputs": [],
   "source": [
    "d13={\"key1\":\"values\",'key2':'value2'}"
   ]
  },
  {
   "cell_type": "code",
   "execution_count": 56,
   "id": "385a6a13-1003-4090-9738-89e88a856bc2",
   "metadata": {},
   "outputs": [],
   "source": [
    "d14={\"key3\":\"value3\",'key4':'value4'}"
   ]
  },
  {
   "cell_type": "code",
   "execution_count": 58,
   "id": "723aab55-69be-4ccb-8ae4-32994ef5f08c",
   "metadata": {},
   "outputs": [
    {
     "data": {
      "text/plain": [
       "({'key1': 'values', 'key2': 'value2'}, {'key3': 'value3', 'key4': 'value4'})"
      ]
     },
     "execution_count": 58,
     "metadata": {},
     "output_type": "execute_result"
    }
   ],
   "source": [
    "(d13,d14) #puttin dictionary inside tuples"
   ]
  },
  {
   "cell_type": "code",
   "execution_count": 63,
   "id": "dc1c80c0-cb5d-4b34-942a-298856d1fc95",
   "metadata": {},
   "outputs": [
    {
     "data": {
      "text/plain": [
       "{'key1': 'values', 'key2': 'value2'}"
      ]
     },
     "execution_count": 63,
     "metadata": {},
     "output_type": "execute_result"
    }
   ],
   "source": [
    "d13"
   ]
  },
  {
   "cell_type": "code",
   "execution_count": 64,
   "id": "7dcd93e8-d6f3-4c78-9921-7f2db4d49688",
   "metadata": {},
   "outputs": [],
   "source": [
    "d13.update(d14) # d13 taking d14 key and values"
   ]
  },
  {
   "cell_type": "code",
   "execution_count": 65,
   "id": "71cddd6a-e3d5-4178-8b7a-cf903f5a2cd6",
   "metadata": {},
   "outputs": [
    {
     "data": {
      "text/plain": [
       "{'key1': 'values', 'key2': 'value2', 'key3': 'value3', 'key4': 'value4'}"
      ]
     },
     "execution_count": 65,
     "metadata": {},
     "output_type": "execute_result"
    }
   ],
   "source": [
    "d13"
   ]
  },
  {
   "cell_type": "code",
   "execution_count": 66,
   "id": "cb72bd36-8263-412c-9661-fa39df8971de",
   "metadata": {},
   "outputs": [
    {
     "data": {
      "text/plain": [
       "{'key3': 'value3', 'key4': 'value4'}"
      ]
     },
     "execution_count": 66,
     "metadata": {},
     "output_type": "execute_result"
    }
   ],
   "source": [
    "d14"
   ]
  },
  {
   "cell_type": "code",
   "execution_count": 67,
   "id": "a40ca4e5-1c06-43bb-9c91-1e9d200d1fe5",
   "metadata": {},
   "outputs": [],
   "source": [
    "d14.update(d13)"
   ]
  },
  {
   "cell_type": "code",
   "execution_count": 68,
   "id": "5c6b527b-db24-42c8-b1d4-397b30f112ac",
   "metadata": {},
   "outputs": [
    {
     "data": {
      "text/plain": [
       "{'key3': 'value3', 'key4': 'value4', 'key1': 'values', 'key2': 'value2'}"
      ]
     },
     "execution_count": 68,
     "metadata": {},
     "output_type": "execute_result"
    }
   ],
   "source": [
    "d14"
   ]
  },
  {
   "cell_type": "code",
   "execution_count": 69,
   "id": "53e94a25-3ba7-4b5c-b107-ea60063f23b6",
   "metadata": {},
   "outputs": [
    {
     "data": {
      "text/plain": [
       "'value3'"
      ]
     },
     "execution_count": 69,
     "metadata": {},
     "output_type": "execute_result"
    }
   ],
   "source": [
    "d14.get('key3') #get function to extract value of particular key"
   ]
  },
  {
   "cell_type": "code",
   "execution_count": 70,
   "id": "f905eb26-5210-4101-9aff-b50c484972a1",
   "metadata": {},
   "outputs": [
    {
     "data": {
      "text/plain": [
       "'value3'"
      ]
     },
     "execution_count": 70,
     "metadata": {},
     "output_type": "execute_result"
    }
   ],
   "source": [
    "d14['key3'] # same as get function"
   ]
  },
  {
   "cell_type": "code",
   "execution_count": 7,
   "id": "63de347a-dd41-49f3-b4e3-dd6086bc4957",
   "metadata": {},
   "outputs": [],
   "source": [
    "dict={'name':{'firstname':'nikhil','lastname':'bhanushali'}}"
   ]
  },
  {
   "cell_type": "code",
   "execution_count": 8,
   "id": "d23bca2f-ee05-4d98-bc2c-1b1df6d13a52",
   "metadata": {},
   "outputs": [
    {
     "data": {
      "text/plain": [
       "{'name': {'firstname': 'nikhil', 'lastname': 'bhanushali'}}"
      ]
     },
     "execution_count": 8,
     "metadata": {},
     "output_type": "execute_result"
    }
   ],
   "source": [
    "dict"
   ]
  },
  {
   "cell_type": "code",
   "execution_count": 9,
   "id": "e67685bb-dfc8-4265-ad30-66a3c4816fd4",
   "metadata": {},
   "outputs": [
    {
     "data": {
      "text/plain": [
       "['python', 'ML', 'DL']"
      ]
     },
     "execution_count": 9,
     "metadata": {},
     "output_type": "execute_result"
    }
   ],
   "source": [
    "\n",
    "dict.setdefault('topics',['python','ML','DL']) "
   ]
  },
  {
   "cell_type": "code",
   "execution_count": 10,
   "id": "529c88d5-3a87-4844-8b61-2e8fd5ad9320",
   "metadata": {},
   "outputs": [
    {
     "data": {
      "text/plain": [
       "{'name': {'firstname': 'nikhil', 'lastname': 'bhanushali'},\n",
       " 'topics': ['python', 'ML', 'DL']}"
      ]
     },
     "execution_count": 10,
     "metadata": {},
     "output_type": "execute_result"
    }
   ],
   "source": [
    "dict"
   ]
  },
  {
   "cell_type": "markdown",
   "id": "6409f6b8-b850-458e-9fe7-c397bd826cdd",
   "metadata": {},
   "source": [
    "# dictionary comprehension"
   ]
  },
  {
   "cell_type": "code",
   "execution_count": 77,
   "id": "5db209be-19aa-407d-9347-1d5512889acc",
   "metadata": {},
   "outputs": [
    {
     "data": {
      "text/plain": [
       "{'age', 'course', 'mentors', 'start_date'}"
      ]
     },
     "execution_count": 77,
     "metadata": {},
     "output_type": "execute_result"
    }
   ],
   "source": [
    "{i for i in d10}"
   ]
  },
  {
   "cell_type": "code",
   "execution_count": 81,
   "id": "edf334da-6508-47c0-8f55-ee32d144bf66",
   "metadata": {},
   "outputs": [
    {
     "data": {
      "text/plain": [
       "{1: 1, 2: 4, 3: 9, 4: 16, 5: 25, 6: 36, 7: 49, 8: 64, 9: 81, 10: 100}"
      ]
     },
     "execution_count": 81,
     "metadata": {},
     "output_type": "execute_result"
    }
   ],
   "source": [
    "{i:i**2 for i in range(1,11)} # value should be square of keys"
   ]
  },
  {
   "cell_type": "code",
   "execution_count": 82,
   "id": "b8d56ded-8dfc-41ac-a21b-729fc7b926f8",
   "metadata": {},
   "outputs": [
    {
     "data": {
      "text/plain": [
       "{0: 0, 1: 1, 2: 4, 3: 9, 4: 16, 5: 25, 6: 36, 7: 49, 8: 64, 9: 81, 10: 100}"
      ]
     },
     "execution_count": 82,
     "metadata": {},
     "output_type": "execute_result"
    }
   ],
   "source": [
    "{i:i**2 for i in range(0,11)}"
   ]
  },
  {
   "cell_type": "code",
   "execution_count": 85,
   "id": "01abb76b-8339-498f-b4a0-c6f7146b45d0",
   "metadata": {},
   "outputs": [
    {
     "data": {
      "text/plain": [
       "range(0, 11)"
      ]
     },
     "execution_count": 85,
     "metadata": {},
     "output_type": "execute_result"
    }
   ],
   "source": [
    "range(0,11)"
   ]
  },
  {
   "cell_type": "code",
   "execution_count": 86,
   "id": "ab186d23-a68e-4ce9-866b-e6015401dbdc",
   "metadata": {},
   "outputs": [
    {
     "data": {
      "text/plain": [
       "[0, 1, 2, 3, 4, 5, 6, 7, 8, 9, 10]"
      ]
     },
     "execution_count": 86,
     "metadata": {},
     "output_type": "execute_result"
    }
   ],
   "source": [
    "list(range(0,11))"
   ]
  },
  {
   "cell_type": "code",
   "execution_count": 88,
   "id": "75c22ffa-2300-4b97-8ae6-4eead5868000",
   "metadata": {},
   "outputs": [
    {
     "data": {
      "text/plain": [
       "{0: 10, 1: 11, 2: 12, 3: 13, 4: 14, 5: 15, 6: 16, 7: 17, 8: 18, 9: 19, 10: 20}"
      ]
     },
     "execution_count": 88,
     "metadata": {},
     "output_type": "execute_result"
    }
   ],
   "source": [
    "{i:i+10 for i in range(0,11)}"
   ]
  },
  {
   "cell_type": "code",
   "execution_count": 93,
   "id": "80a8b1ad-3146-4d04-a900-9e8268ca3dc6",
   "metadata": {},
   "outputs": [
    {
     "data": {
      "text/plain": [
       "{1: 0.0,\n",
       " 2: 0.3010299956639812,\n",
       " 3: 0.47712125471966244,\n",
       " 4: 0.6020599913279624,\n",
       " 5: 0.6989700043360189,\n",
       " 6: 0.7781512503836436,\n",
       " 7: 0.8450980400142568,\n",
       " 8: 0.9030899869919435,\n",
       " 9: 0.9542425094393249,\n",
       " 10: 1.0}"
      ]
     },
     "execution_count": 93,
     "metadata": {},
     "output_type": "execute_result"
    }
   ],
   "source": [
    "import math\n",
    "{i : math.log10(i) for i in range(1,11)}"
   ]
  },
  {
   "cell_type": "code",
   "execution_count": 95,
   "id": "951cbf5e-29d2-49e7-b9fa-f097b21c0db1",
   "metadata": {},
   "outputs": [
    {
     "data": {
      "text/plain": [
       "True"
      ]
     },
     "execution_count": 95,
     "metadata": {},
     "output_type": "execute_result"
    }
   ],
   "source": [
    "'course' in d10 #check if key is there in dictionary or not"
   ]
  },
  {
   "cell_type": "code",
   "execution_count": 96,
   "id": "b7073834-7f67-42bc-94a1-cc3ea7c35f51",
   "metadata": {},
   "outputs": [],
   "source": [
    "d21={i : math.log10(i) for i in range(1,11)}"
   ]
  },
  {
   "cell_type": "code",
   "execution_count": 97,
   "id": "4fe73a88-b5bc-4ce6-a317-802a1fbdac4d",
   "metadata": {},
   "outputs": [
    {
     "data": {
      "text/plain": [
       "{1: 0.0,\n",
       " 2: 0.3010299956639812,\n",
       " 3: 0.47712125471966244,\n",
       " 4: 0.6020599913279624,\n",
       " 5: 0.6989700043360189,\n",
       " 6: 0.7781512503836436,\n",
       " 7: 0.8450980400142568,\n",
       " 8: 0.9030899869919435,\n",
       " 9: 0.9542425094393249,\n",
       " 10: 1.0}"
      ]
     },
     "execution_count": 97,
     "metadata": {},
     "output_type": "execute_result"
    }
   ],
   "source": [
    "d21"
   ]
  },
  {
   "cell_type": "code",
   "execution_count": null,
   "id": "411f9678-82ae-4100-b93f-007ebed1962e",
   "metadata": {},
   "outputs": [],
   "source": [
    "# print values of even keys"
   ]
  },
  {
   "cell_type": "code",
   "execution_count": 100,
   "id": "8444e51e-ec90-4bb8-a015-d0734b5a9461",
   "metadata": {},
   "outputs": [
    {
     "data": {
      "text/plain": [
       "{2, 4, 6, 8, 10}"
      ]
     },
     "execution_count": 100,
     "metadata": {},
     "output_type": "execute_result"
    }
   ],
   "source": [
    "{i for i in d21 if i%2==0}"
   ]
  },
  {
   "cell_type": "code",
   "execution_count": 102,
   "id": "280a2f1b-4b3c-4f7a-b0b3-80cdcd94661c",
   "metadata": {},
   "outputs": [
    {
     "data": {
      "text/plain": [
       "dict_keys([1, 2, 3, 4, 5, 6, 7, 8, 9, 10])"
      ]
     },
     "execution_count": 102,
     "metadata": {},
     "output_type": "execute_result"
    }
   ],
   "source": [
    "d21.keys()"
   ]
  },
  {
   "cell_type": "code",
   "execution_count": 104,
   "id": "2fe6c09d-4a61-47ff-94bb-48088a2a2594",
   "metadata": {},
   "outputs": [
    {
     "data": {
      "text/plain": [
       "{2, 4, 6, 8, 10}"
      ]
     },
     "execution_count": 104,
     "metadata": {},
     "output_type": "execute_result"
    }
   ],
   "source": [
    "{i for i in d21.keys() if i%2==0}"
   ]
  },
  {
   "cell_type": "code",
   "execution_count": 105,
   "id": "a56a7f9d-8333-4c37-a6bb-a2635163a3e6",
   "metadata": {},
   "outputs": [
    {
     "name": "stdout",
     "output_type": "stream",
     "text": [
      "0.3010299956639812\n",
      "0.6020599913279624\n",
      "0.7781512503836436\n",
      "0.9030899869919435\n",
      "1.0\n"
     ]
    }
   ],
   "source": [
    "# solution for values for even key\n",
    "for i in d21:\n",
    "    if i%2==0:\n",
    "        print(d21[i])"
   ]
  },
  {
   "cell_type": "code",
   "execution_count": 106,
   "id": "3efbf322-8a45-4b20-9f01-bb0a91fcde54",
   "metadata": {},
   "outputs": [
    {
     "data": {
      "text/plain": [
       "{0.3010299956639812,\n",
       " 0.6020599913279624,\n",
       " 0.7781512503836436,\n",
       " 0.9030899869919435,\n",
       " 1.0}"
      ]
     },
     "execution_count": 106,
     "metadata": {},
     "output_type": "execute_result"
    }
   ],
   "source": [
    "{d21[i] for i in d21.keys() if i%2==0}"
   ]
  },
  {
   "cell_type": "code",
   "execution_count": null,
   "id": "7f8a5bf5-5b5f-4f2d-8bb3-87de7f428b7b",
   "metadata": {},
   "outputs": [],
   "source": []
  }
 ],
 "metadata": {
  "kernelspec": {
   "display_name": "Python 3 (ipykernel)",
   "language": "python",
   "name": "python3"
  },
  "language_info": {
   "codemirror_mode": {
    "name": "ipython",
    "version": 3
   },
   "file_extension": ".py",
   "mimetype": "text/x-python",
   "name": "python",
   "nbconvert_exporter": "python",
   "pygments_lexer": "ipython3",
   "version": "3.10.8"
  }
 },
 "nbformat": 4,
 "nbformat_minor": 5
}
