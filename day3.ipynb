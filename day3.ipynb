{
 "cells": [
  {
   "cell_type": "markdown",
   "id": "d14ce10f-ba89-4f48-bf8e-6d3ffc0f5870",
   "metadata": {},
   "source": [
    "# logical operators\n",
    "## 1. and\n",
    "## 2. or \n",
    "## 3. not"
   ]
  },
  {
   "cell_type": "code",
   "execution_count": 1,
   "id": "e5ce5e42-cd56-48a5-bf48-842776012d69",
   "metadata": {},
   "outputs": [
    {
     "data": {
      "text/plain": [
       "False"
      ]
     },
     "execution_count": 1,
     "metadata": {},
     "output_type": "execute_result"
    }
   ],
   "source": [
    "not True"
   ]
  },
  {
   "cell_type": "code",
   "execution_count": 3,
   "id": "d7061eb1-eb7a-42e4-9398-889958012ae5",
   "metadata": {},
   "outputs": [
    {
     "data": {
      "text/plain": [
       "True"
      ]
     },
     "execution_count": 3,
     "metadata": {},
     "output_type": "execute_result"
    }
   ],
   "source": [
    "not bool(0)"
   ]
  },
  {
   "cell_type": "code",
   "execution_count": 18,
   "id": "3671a96b-3733-4a30-8a40-aab5f0a4a00b",
   "metadata": {},
   "outputs": [
    {
     "data": {
      "text/plain": [
       "False"
      ]
     },
     "execution_count": 18,
     "metadata": {},
     "output_type": "execute_result"
    }
   ],
   "source": [
    "bool(0) # bool(0) is false which is 0"
   ]
  },
  {
   "cell_type": "code",
   "execution_count": 19,
   "id": "c7f7461b-efff-4e53-b1fe-788107e1fb6d",
   "metadata": {},
   "outputs": [
    {
     "data": {
      "text/plain": [
       "0"
      ]
     },
     "execution_count": 19,
     "metadata": {},
     "output_type": "execute_result"
    }
   ],
   "source": [
    "int(bool(0)) # bool(0) is false which is 0"
   ]
  },
  {
   "cell_type": "code",
   "execution_count": 6,
   "id": "d3fe8f25-5fd6-431d-870a-db6449fc402c",
   "metadata": {},
   "outputs": [
    {
     "data": {
      "text/plain": [
       "1"
      ]
     },
     "execution_count": 6,
     "metadata": {},
     "output_type": "execute_result"
    }
   ],
   "source": [
    "int(bool(1))"
   ]
  },
  {
   "cell_type": "code",
   "execution_count": 7,
   "id": "cb78f802-f5f3-4c54-b479-342317781697",
   "metadata": {},
   "outputs": [
    {
     "data": {
      "text/plain": [
       "False"
      ]
     },
     "execution_count": 7,
     "metadata": {},
     "output_type": "execute_result"
    }
   ],
   "source": [
    "not 1"
   ]
  },
  {
   "cell_type": "code",
   "execution_count": 8,
   "id": "ad5d9165-5c7b-4a37-9930-f709b1bd4b01",
   "metadata": {},
   "outputs": [
    {
     "data": {
      "text/plain": [
       "0"
      ]
     },
     "execution_count": 8,
     "metadata": {},
     "output_type": "execute_result"
    }
   ],
   "source": [
    "int(not 1)"
   ]
  },
  {
   "cell_type": "code",
   "execution_count": 9,
   "id": "509b79d8-16b2-492e-907f-8463c9b58d5b",
   "metadata": {},
   "outputs": [
    {
     "data": {
      "text/plain": [
       "False"
      ]
     },
     "execution_count": 9,
     "metadata": {},
     "output_type": "execute_result"
    }
   ],
   "source": [
    "not 1000 #any numner other than 1 is false in python"
   ]
  },
  {
   "cell_type": "code",
   "execution_count": 10,
   "id": "72e419c1-556c-4066-a13b-85d7f5cc1618",
   "metadata": {},
   "outputs": [
    {
     "data": {
      "text/plain": [
       "False"
      ]
     },
     "execution_count": 10,
     "metadata": {},
     "output_type": "execute_result"
    }
   ],
   "source": [
    "not -1"
   ]
  },
  {
   "cell_type": "code",
   "execution_count": 16,
   "id": "1cd8fd3d-4713-46e6-bdb0-a180b2cc3c27",
   "metadata": {},
   "outputs": [
    {
     "name": "stdout",
     "output_type": "stream",
     "text": [
      "defined value of start: 1\n",
      "defined value of stop: 0\n",
      "defined value of stop: False\n",
      "defined value of start: True\n"
     ]
    }
   ],
   "source": [
    "start=1\n",
    "stop=0\n",
    "print(f\"defined value of start: {start}\")\n",
    "print(f\"defined value of stop: {stop}\")\n",
    "\n",
    "# value of stop by negating start\n",
    "print(f\"defined value of stop: {not start}\")\n",
    "\n",
    "# value of start by negating stop\n",
    "print(f\"defined value of start: {not stop}\")"
   ]
  },
  {
   "cell_type": "code",
   "execution_count": 12,
   "id": "7e8f5574-c1a9-4a80-997a-99d6e9976151",
   "metadata": {},
   "outputs": [
    {
     "name": "stdout",
     "output_type": "stream",
     "text": [
      "defined value of start: 1\n",
      "defined value of stop: 0\n",
      "defined value of stop: 0\n",
      "defined value of start: 1\n"
     ]
    }
   ],
   "source": [
    "start=1\n",
    "stop=0\n",
    "print(f\"defined value of start: {start}\")\n",
    "print(f\"defined value of stop: {stop}\")\n",
    "\n",
    "# value of stop by negating start\n",
    "print(f\"defined value of stop: {int(not start)}\")\n",
    "\n",
    "# value of start by negating stop\n",
    "print(f\"defined value of start: {int(not stop)}\")"
   ]
  },
  {
   "cell_type": "code",
   "execution_count": 22,
   "id": "9aeb25e4-a172-41ff-8fbb-7882ce73ea3f",
   "metadata": {},
   "outputs": [
    {
     "name": "stdout",
     "output_type": "stream",
     "text": [
      "boolean value of number one is True\n",
      "boolean value of number zero is 1\n"
     ]
    }
   ],
   "source": [
    "a=0\n",
    "b=1\n",
    "print(f\"boolean value of number one is {bool(b)}\")\n",
    "print(f\"boolean value of number zero is {int(bool(b))}\")"
   ]
  },
  {
   "cell_type": "code",
   "execution_count": 25,
   "id": "4b0e0226-35b5-47ba-8902-5fc712b3343a",
   "metadata": {},
   "outputs": [
    {
     "name": "stdout",
     "output_type": "stream",
     "text": [
      "negation of 0 is True and negation of 1 is False\n"
     ]
    }
   ],
   "source": [
    "print(f\"negation of {a} is {not a} and negation of {b} is {not b}\")"
   ]
  },
  {
   "cell_type": "code",
   "execution_count": 26,
   "id": "7c076cd8-94d0-4a90-949b-ddaa5131331c",
   "metadata": {},
   "outputs": [
    {
     "name": "stdout",
     "output_type": "stream",
     "text": [
      "0\n"
     ]
    }
   ],
   "source": [
    "print(a)"
   ]
  },
  {
   "cell_type": "code",
   "execution_count": 27,
   "id": "237f6116-7e51-4b2e-9704-e686e5549b89",
   "metadata": {},
   "outputs": [
    {
     "name": "stdout",
     "output_type": "stream",
     "text": [
      "True\n"
     ]
    }
   ],
   "source": [
    "print(not a)"
   ]
  },
  {
   "cell_type": "code",
   "execution_count": 28,
   "id": "913b51b9-0ee5-4ef3-9f7c-585a3d756fac",
   "metadata": {},
   "outputs": [
    {
     "name": "stdout",
     "output_type": "stream",
     "text": [
      "boolean value of -5 is True\n",
      "boolean value of 5 is True\n"
     ]
    }
   ],
   "source": [
    "a=-5\n",
    "b=5\n",
    "print(f\"boolean value of {a} is {bool(a)}\") # boolean value of negative number\n",
    "print(f\"boolean value of {b} is {bool(b)}\")"
   ]
  },
  {
   "cell_type": "code",
   "execution_count": 32,
   "id": "24f2b45e-4f06-448b-ae62-98e3a94763e3",
   "metadata": {},
   "outputs": [
    {
     "name": "stdout",
     "output_type": "stream",
     "text": [
      "negation of -5 is False\n",
      "negation of 5 is False\n"
     ]
    }
   ],
   "source": [
    "print(f\"negation of {a} is {not b}\")\n",
    "print(f\"negation of {b} is {not a}\")"
   ]
  },
  {
   "cell_type": "code",
   "execution_count": 33,
   "id": "5806a366-0797-45d8-90f8-1189ca2e0de0",
   "metadata": {},
   "outputs": [
    {
     "data": {
      "text/plain": [
       "False"
      ]
     },
     "execution_count": 33,
     "metadata": {},
     "output_type": "execute_result"
    }
   ],
   "source": [
    "not -5"
   ]
  },
  {
   "cell_type": "code",
   "execution_count": 35,
   "id": "1ad72bda-32fe-4c98-b3f1-bca1a162f517",
   "metadata": {},
   "outputs": [
    {
     "data": {
      "text/plain": [
       "True"
      ]
     },
     "execution_count": 35,
     "metadata": {},
     "output_type": "execute_result"
    }
   ],
   "source": [
    "bool(-5) # boolean of any number positive or negative other than 0 is true"
   ]
  },
  {
   "cell_type": "code",
   "execution_count": 36,
   "id": "18fbf6b3-870a-48da-a695-7a3d40159b07",
   "metadata": {},
   "outputs": [
    {
     "data": {
      "text/plain": [
       "False"
      ]
     },
     "execution_count": 36,
     "metadata": {},
     "output_type": "execute_result"
    }
   ],
   "source": [
    "not bool(-5)"
   ]
  },
  {
   "cell_type": "markdown",
   "id": "a35002a0-ca78-4758-9191-c3aa036a2af9",
   "metadata": {},
   "source": [
    "# logical and "
   ]
  },
  {
   "cell_type": "code",
   "execution_count": 38,
   "id": "9b5830da-6b46-4fc4-b43e-87acb4524c0d",
   "metadata": {},
   "outputs": [
    {
     "name": "stdout",
     "output_type": "stream",
     "text": [
      "dish contains vegetables True\n",
      "dish contains salt False\n",
      "hence dish prepared was good False\n"
     ]
    }
   ],
   "source": [
    "vegetables=True\n",
    "salt=False\n",
    "dish=vegetables and salt\n",
    "print(f\"dish contains vegetables {vegetables}\")\n",
    "print(f\"dish contains salt {salt}\")\n",
    "print(f\"hence dish prepared was good {dish}\")"
   ]
  },
  {
   "cell_type": "code",
   "execution_count": 42,
   "id": "6ca485ef-8960-4d7d-87e2-15b4366a79fc",
   "metadata": {},
   "outputs": [
    {
     "data": {
      "text/plain": [
       "0"
      ]
     },
     "execution_count": 42,
     "metadata": {},
     "output_type": "execute_result"
    }
   ],
   "source": [
    "True*False"
   ]
  },
  {
   "cell_type": "code",
   "execution_count": 92,
   "id": "5315c4a0-98bc-416d-ba10-1370ee8b399e",
   "metadata": {},
   "outputs": [
    {
     "data": {
      "text/plain": [
       "False"
      ]
     },
     "execution_count": 92,
     "metadata": {},
     "output_type": "execute_result"
    }
   ],
   "source": [
    "bool(False)"
   ]
  },
  {
   "cell_type": "code",
   "execution_count": 93,
   "id": "e56c309e-6def-4eaf-b032-0d5c99b03a99",
   "metadata": {},
   "outputs": [
    {
     "data": {
      "text/plain": [
       "False"
      ]
     },
     "execution_count": 93,
     "metadata": {},
     "output_type": "execute_result"
    }
   ],
   "source": [
    "bool(0)"
   ]
  },
  {
   "cell_type": "code",
   "execution_count": 94,
   "id": "73358706-a546-4d32-9b92-4a8c9531e074",
   "metadata": {},
   "outputs": [
    {
     "data": {
      "text/plain": [
       "False"
      ]
     },
     "execution_count": 94,
     "metadata": {},
     "output_type": "execute_result"
    }
   ],
   "source": [
    "bool(0*1)"
   ]
  },
  {
   "cell_type": "code",
   "execution_count": 62,
   "id": "8e42bf2f-bcbc-43f7-865e-21128d1f8b86",
   "metadata": {},
   "outputs": [
    {
     "data": {
      "text/plain": [
       "1"
      ]
     },
     "execution_count": 62,
     "metadata": {},
     "output_type": "execute_result"
    }
   ],
   "source": [
    "True*True"
   ]
  },
  {
   "cell_type": "code",
   "execution_count": 95,
   "id": "64cea8e2-b8a9-4d7c-a996-f5b0d8acf9b7",
   "metadata": {},
   "outputs": [
    {
     "data": {
      "text/plain": [
       "True"
      ]
     },
     "execution_count": 95,
     "metadata": {},
     "output_type": "execute_result"
    }
   ],
   "source": [
    "not False # not and bool always gives output in true and false"
   ]
  },
  {
   "cell_type": "code",
   "execution_count": 74,
   "id": "d3ba0e65-235b-4586-8268-8ef2d6c12e98",
   "metadata": {},
   "outputs": [
    {
     "data": {
      "text/plain": [
       "True"
      ]
     },
     "execution_count": 74,
     "metadata": {},
     "output_type": "execute_result"
    }
   ],
   "source": [
    "not False * True #bodmas rule and operation performs before not"
   ]
  },
  {
   "cell_type": "code",
   "execution_count": 68,
   "id": "cb58aaa1-3a3f-4b5c-af69-6d21a0f4bfe5",
   "metadata": {},
   "outputs": [
    {
     "data": {
      "text/plain": [
       "True"
      ]
     },
     "execution_count": 68,
     "metadata": {},
     "output_type": "execute_result"
    }
   ],
   "source": [
    "not(False)*True"
   ]
  },
  {
   "cell_type": "code",
   "execution_count": 50,
   "id": "c3b116f2-6f15-435e-99cf-af34fb2588ac",
   "metadata": {},
   "outputs": [
    {
     "data": {
      "text/plain": [
       "1"
      ]
     },
     "execution_count": 50,
     "metadata": {},
     "output_type": "execute_result"
    }
   ],
   "source": [
    "(not False)*True"
   ]
  },
  {
   "cell_type": "code",
   "execution_count": 77,
   "id": "f3f3703c-6301-4a18-aba1-67153ee53286",
   "metadata": {},
   "outputs": [
    {
     "name": "stdout",
     "output_type": "stream",
     "text": [
      "0\n"
     ]
    }
   ],
   "source": [
    "print(True * False)"
   ]
  },
  {
   "cell_type": "code",
   "execution_count": 85,
   "id": "13e6cc66-12e2-4611-bfe0-ba10ef5ab1c1",
   "metadata": {},
   "outputs": [
    {
     "name": "stdout",
     "output_type": "stream",
     "text": [
      "True\n"
     ]
    }
   ],
   "source": [
    "print(not(False) * True)"
   ]
  },
  {
   "cell_type": "code",
   "execution_count": 87,
   "id": "94100fee-937d-41f7-9dbd-3f1f9674b8e2",
   "metadata": {},
   "outputs": [
    {
     "name": "stdout",
     "output_type": "stream",
     "text": [
      "1\n"
     ]
    }
   ],
   "source": [
    "print((not False) * True)"
   ]
  },
  {
   "cell_type": "markdown",
   "id": "a19255e2-a87b-4826-b823-4d818b61834b",
   "metadata": {},
   "source": [
    "# equality operators\n",
    "## is, is not, ==, !=, ="
   ]
  },
  {
   "cell_type": "code",
   "execution_count": 96,
   "id": "243fdfc5-a5e9-4242-8088-1061fbb45c72",
   "metadata": {},
   "outputs": [],
   "source": [
    "list_a=[1,2,3,4,5]\n",
    "list_b=[1,2,3,4,5]"
   ]
  },
  {
   "cell_type": "code",
   "execution_count": 97,
   "id": "d310e492-8b50-4ee2-91e5-7292921c8fed",
   "metadata": {},
   "outputs": [
    {
     "data": {
      "text/plain": [
       "140084124585024"
      ]
     },
     "execution_count": 97,
     "metadata": {},
     "output_type": "execute_result"
    }
   ],
   "source": [
    "id(list_a) #id function to identify memory location"
   ]
  },
  {
   "cell_type": "code",
   "execution_count": 98,
   "id": "d1307087-54f8-4aff-9dff-70fc64b6dc3b",
   "metadata": {},
   "outputs": [
    {
     "data": {
      "text/plain": [
       "140084385795136"
      ]
     },
     "execution_count": 98,
     "metadata": {},
     "output_type": "execute_result"
    }
   ],
   "source": [
    "id(list_b)"
   ]
  },
  {
   "cell_type": "code",
   "execution_count": 100,
   "id": "0f60c74a-a17d-490e-89a8-59c4f9574ce2",
   "metadata": {},
   "outputs": [
    {
     "data": {
      "text/plain": [
       "False"
      ]
     },
     "execution_count": 100,
     "metadata": {},
     "output_type": "execute_result"
    }
   ],
   "source": [
    "list_a is list_b # is and is not operator compares memory location"
   ]
  },
  {
   "cell_type": "code",
   "execution_count": 101,
   "id": "9bc0186f-1bef-4a64-be2f-8efcc9d5835a",
   "metadata": {},
   "outputs": [
    {
     "data": {
      "text/plain": [
       "True"
      ]
     },
     "execution_count": 101,
     "metadata": {},
     "output_type": "execute_result"
    }
   ],
   "source": [
    "list_a is not list_b"
   ]
  },
  {
   "cell_type": "code",
   "execution_count": 102,
   "id": "52059de2-8dce-47f7-9d07-ade308e719da",
   "metadata": {},
   "outputs": [
    {
     "data": {
      "text/plain": [
       "True"
      ]
     },
     "execution_count": 102,
     "metadata": {},
     "output_type": "execute_result"
    }
   ],
   "source": [
    "list_a==list_b # compares values"
   ]
  },
  {
   "cell_type": "code",
   "execution_count": 103,
   "id": "a8e6e503-e052-4f73-b950-c1b48eabe03d",
   "metadata": {},
   "outputs": [
    {
     "data": {
      "text/plain": [
       "False"
      ]
     },
     "execution_count": 103,
     "metadata": {},
     "output_type": "execute_result"
    }
   ],
   "source": [
    "list_b=[1,2,3,4,5,6]\n",
    "list_a==list_b"
   ]
  },
  {
   "cell_type": "code",
   "execution_count": 108,
   "id": "d5483b8b-cf82-4bff-bca1-6c33eaceb1ab",
   "metadata": {},
   "outputs": [
    {
     "name": "stdout",
     "output_type": "stream",
     "text": [
      "140084124510592\n",
      "140084124510592\n",
      "[1, 2, 3, 4, 5]\n",
      "[1, 2, 3, 4, 5]\n"
     ]
    }
   ],
   "source": [
    "list_a=[1,2,3,4,5]\n",
    "list_b=list_a #memory location as well as value becomes same with =\n",
    "print(id(list_a))\n",
    "print(id(list_b))\n",
    "print(list_a)\n",
    "print(list_b)"
   ]
  },
  {
   "cell_type": "code",
   "execution_count": 109,
   "id": "91814c95-8693-4ade-a4c2-31e786b6bcbe",
   "metadata": {},
   "outputs": [
    {
     "name": "stdout",
     "output_type": "stream",
     "text": [
      "140084473757968 140084473757968\n"
     ]
    }
   ],
   "source": [
    "a=2\n",
    "b=2\n",
    "print(id(a),id(b)) #in str and int variable same values lead to same location"
   ]
  },
  {
   "cell_type": "code",
   "execution_count": 110,
   "id": "a724d813-4949-4921-8b30-216c9917902a",
   "metadata": {},
   "outputs": [
    {
     "name": "stdout",
     "output_type": "stream",
     "text": [
      "140084124508016 140084124508016\n"
     ]
    }
   ],
   "source": [
    "str1=\"nikhil\"\n",
    "str2=\"nikhil\"\n",
    "print(id(str1),id(str2)) #same memory location"
   ]
  },
  {
   "cell_type": "code",
   "execution_count": 111,
   "id": "04218647-769d-4452-a9ac-4e7a0ded0f31",
   "metadata": {},
   "outputs": [
    {
     "name": "stdout",
     "output_type": "stream",
     "text": [
      "140084124508016 140084124512368\n"
     ]
    }
   ],
   "source": [
    "str1=\"nikhil\"\n",
    "str2=\"nikhil_1\"\n",
    "print(id(str1),id(str2)) # different values therefore different memory location"
   ]
  },
  {
   "cell_type": "code",
   "execution_count": 115,
   "id": "eeefd34d-2098-4b78-8309-7c79aee91fba",
   "metadata": {},
   "outputs": [
    {
     "data": {
      "text/plain": [
       "4"
      ]
     },
     "execution_count": 115,
     "metadata": {},
     "output_type": "execute_result"
    }
   ],
   "source": [
    "list_a=[1,2,3,4,5]\n",
    "list_a[0]\n",
    "list_a[3]"
   ]
  },
  {
   "cell_type": "code",
   "execution_count": 116,
   "id": "b3913e3a-919a-4464-8fa8-3ee994539ac7",
   "metadata": {},
   "outputs": [],
   "source": [
    "list_a[0]=10"
   ]
  },
  {
   "cell_type": "code",
   "execution_count": 117,
   "id": "74f1cc93-d415-4b0c-9ec6-b66184c6bf80",
   "metadata": {},
   "outputs": [
    {
     "data": {
      "text/plain": [
       "[10, 2, 3, 4, 5]"
      ]
     },
     "execution_count": 117,
     "metadata": {},
     "output_type": "execute_result"
    }
   ],
   "source": [
    "list_a"
   ]
  },
  {
   "cell_type": "code",
   "execution_count": 119,
   "id": "bb5ccd71-5da2-4d4c-9a1c-a5ae66b1f2fd",
   "metadata": {},
   "outputs": [
    {
     "data": {
      "text/plain": [
       "'i'"
      ]
     },
     "execution_count": 119,
     "metadata": {},
     "output_type": "execute_result"
    }
   ],
   "source": [
    "str1=\"nikhil\"\n",
    "str1[4]"
   ]
  },
  {
   "cell_type": "code",
   "execution_count": 121,
   "id": "2da34702-5361-4d3a-be98-b515cd412bc2",
   "metadata": {},
   "outputs": [
    {
     "ename": "TypeError",
     "evalue": "'str' object does not support item assignment",
     "output_type": "error",
     "traceback": [
      "\u001b[0;31m---------------------------------------------------------------------------\u001b[0m",
      "\u001b[0;31mTypeError\u001b[0m                                 Traceback (most recent call last)",
      "Cell \u001b[0;32mIn[121], line 2\u001b[0m\n\u001b[1;32m      1\u001b[0m str1\u001b[38;5;241m=\u001b[39m\u001b[38;5;124m\"\u001b[39m\u001b[38;5;124mnikhil\u001b[39m\u001b[38;5;124m\"\u001b[39m\n\u001b[0;32m----> 2\u001b[0m \u001b[43mstr1\u001b[49m\u001b[43m[\u001b[49m\u001b[38;5;241;43m4\u001b[39;49m\u001b[43m]\u001b[49m\u001b[38;5;241m=\u001b[39m\u001b[38;5;124m'\u001b[39m\u001b[38;5;124ms\u001b[39m\u001b[38;5;124m'\u001b[39m   \u001b[38;5;66;03m#strings are immutable..values cannot be changed\u001b[39;00m\n\u001b[1;32m      3\u001b[0m str1\n",
      "\u001b[0;31mTypeError\u001b[0m: 'str' object does not support item assignment"
     ]
    }
   ],
   "source": [
    "str1=\"nikhil\"\n",
    "str1[4]='s'   #string elements are immutable..values inside cannot be changed however whole string can be changed\n",
    "str1"
   ]
  },
  {
   "cell_type": "code",
   "execution_count": 148,
   "id": "91129b61-16c3-4f0f-8151-f1c05558144b",
   "metadata": {},
   "outputs": [
    {
     "name": "stdout",
     "output_type": "stream",
     "text": [
      "nikhil1\n"
     ]
    }
   ],
   "source": [
    "str1=\"nikhil1\"\n",
    "print(str1)"
   ]
  },
  {
   "cell_type": "markdown",
   "id": "d72da552-f601-4660-a5cb-86ce9255272f",
   "metadata": {},
   "source": [
    "# comparision operations\n",
    "## >, <, =, >=, <="
   ]
  },
  {
   "cell_type": "code",
   "execution_count": 126,
   "id": "45a54f38-1f74-4a81-8eae-bd5bac391ee2",
   "metadata": {},
   "outputs": [
    {
     "name": "stdout",
     "output_type": "stream",
     "text": [
      "True\n",
      "speed of bike2 greater than speed of bike1: True\n"
     ]
    }
   ],
   "source": [
    "bike1=150\n",
    "bike2=250\n",
    "print(bike2>bike1)\n",
    "print(f\"speed of bike2 greater than speed of bike1: {bike2>=bike1}\")"
   ]
  },
  {
   "cell_type": "markdown",
   "id": "831c0602-eae2-4f90-983f-f3e6d14da08d",
   "metadata": {},
   "source": [
    "# arithmetic operation\n",
    "## +, -, *, /, %,\n",
    "## // - interger division "
   ]
  },
  {
   "cell_type": "code",
   "execution_count": 132,
   "id": "b77cbba3-6d62-4007-80ed-b66751c1f034",
   "metadata": {},
   "outputs": [
    {
     "data": {
      "text/plain": [
       "3"
      ]
     },
     "execution_count": 132,
     "metadata": {},
     "output_type": "execute_result"
    }
   ],
   "source": [
    "a=150\n",
    "b=7\n",
    "a%b"
   ]
  },
  {
   "cell_type": "code",
   "execution_count": 134,
   "id": "c586e676-a19f-41d6-b17f-06aff3622734",
   "metadata": {},
   "outputs": [
    {
     "data": {
      "text/plain": [
       "21.428571428571427"
      ]
     },
     "execution_count": 134,
     "metadata": {},
     "output_type": "execute_result"
    }
   ],
   "source": [
    "a/b"
   ]
  },
  {
   "cell_type": "code",
   "execution_count": 136,
   "id": "3e4e71d9-eb23-476e-b8f3-df4570276c31",
   "metadata": {},
   "outputs": [
    {
     "data": {
      "text/plain": [
       "21"
      ]
     },
     "execution_count": 136,
     "metadata": {},
     "output_type": "execute_result"
    }
   ],
   "source": [
    "a//b # will not include decimal"
   ]
  },
  {
   "cell_type": "markdown",
   "id": "de2e4fa5-1a39-4273-8b39-a316164741ca",
   "metadata": {},
   "source": [
    "# bitwise operators for binary operations\n",
    "## ~ - bitwise complement(prefix unary operator)\n",
    "## & - bitwise and\n",
    "## | - bitwise or\n",
    "## ^ - bitwise exor\n",
    "## << - shift bits left,filling in with zeros\n",
    "## >> - shift bits right,filling in with zeros"
   ]
  },
  {
   "cell_type": "code",
   "execution_count": 138,
   "id": "43424a5f-323c-4deb-a705-6d698de06a36",
   "metadata": {},
   "outputs": [
    {
     "data": {
      "text/plain": [
       "'0b1010'"
      ]
     },
     "execution_count": 138,
     "metadata": {},
     "output_type": "execute_result"
    }
   ],
   "source": [
    "var=10\n",
    "bin(var)"
   ]
  },
  {
   "cell_type": "code",
   "execution_count": 139,
   "id": "ba279a9b-b24d-4835-9452-6a5e29d248f0",
   "metadata": {},
   "outputs": [
    {
     "data": {
      "text/plain": [
       "-11"
      ]
     },
     "execution_count": 139,
     "metadata": {},
     "output_type": "execute_result"
    }
   ],
   "source": [
    "~var"
   ]
  },
  {
   "cell_type": "code",
   "execution_count": 141,
   "id": "ba0f595b-9ab8-4b6f-ac1c-7fc9966f64a8",
   "metadata": {},
   "outputs": [
    {
     "data": {
      "text/plain": [
       "False"
      ]
     },
     "execution_count": 141,
     "metadata": {},
     "output_type": "execute_result"
    }
   ],
   "source": [
    "True & False"
   ]
  },
  {
   "cell_type": "code",
   "execution_count": 142,
   "id": "332903aa-b61a-431b-9e25-bcc5b40a45a1",
   "metadata": {},
   "outputs": [
    {
     "data": {
      "text/plain": [
       "True"
      ]
     },
     "execution_count": 142,
     "metadata": {},
     "output_type": "execute_result"
    }
   ],
   "source": [
    "True | False"
   ]
  },
  {
   "cell_type": "code",
   "execution_count": 146,
   "id": "89f36759-5266-48b2-8d35-d57530b3d02b",
   "metadata": {},
   "outputs": [
    {
     "data": {
      "text/plain": [
       "5"
      ]
     },
     "execution_count": 146,
     "metadata": {},
     "output_type": "execute_result"
    }
   ],
   "source": [
    "var >>1 # in binary of 10 ie 1010 1 in start wil shift to end to become 0101 which is 5"
   ]
  },
  {
   "cell_type": "code",
   "execution_count": 144,
   "id": "d602d381-190d-4e22-994c-a122188ff177",
   "metadata": {},
   "outputs": [
    {
     "data": {
      "text/plain": [
       "20"
      ]
     },
     "execution_count": 144,
     "metadata": {},
     "output_type": "execute_result"
    }
   ],
   "source": [
    "var <<1 # in binary of 10 ie 1010 0 in end wil shift to start  to become 10100 which is 20"
   ]
  },
  {
   "cell_type": "markdown",
   "id": "cf757c0a-de8f-48da-8422-bdd4c5479e35",
   "metadata": {},
   "source": [
    "# strings "
   ]
  },
  {
   "cell_type": "code",
   "execution_count": 151,
   "id": "9db77631-2bcc-4353-bd13-f7107b033bd2",
   "metadata": {},
   "outputs": [
    {
     "data": {
      "text/plain": [
       "['__add__',\n",
       " '__class__',\n",
       " '__contains__',\n",
       " '__delattr__',\n",
       " '__dir__',\n",
       " '__doc__',\n",
       " '__eq__',\n",
       " '__format__',\n",
       " '__ge__',\n",
       " '__getattribute__',\n",
       " '__getitem__',\n",
       " '__getnewargs__',\n",
       " '__gt__',\n",
       " '__hash__',\n",
       " '__init__',\n",
       " '__init_subclass__',\n",
       " '__iter__',\n",
       " '__le__',\n",
       " '__len__',\n",
       " '__lt__',\n",
       " '__mod__',\n",
       " '__mul__',\n",
       " '__ne__',\n",
       " '__new__',\n",
       " '__reduce__',\n",
       " '__reduce_ex__',\n",
       " '__repr__',\n",
       " '__rmod__',\n",
       " '__rmul__',\n",
       " '__setattr__',\n",
       " '__sizeof__',\n",
       " '__str__',\n",
       " '__subclasshook__',\n",
       " 'capitalize',\n",
       " 'casefold',\n",
       " 'center',\n",
       " 'count',\n",
       " 'encode',\n",
       " 'endswith',\n",
       " 'expandtabs',\n",
       " 'find',\n",
       " 'format',\n",
       " 'format_map',\n",
       " 'index',\n",
       " 'isalnum',\n",
       " 'isalpha',\n",
       " 'isascii',\n",
       " 'isdecimal',\n",
       " 'isdigit',\n",
       " 'isidentifier',\n",
       " 'islower',\n",
       " 'isnumeric',\n",
       " 'isprintable',\n",
       " 'isspace',\n",
       " 'istitle',\n",
       " 'isupper',\n",
       " 'join',\n",
       " 'ljust',\n",
       " 'lower',\n",
       " 'lstrip',\n",
       " 'maketrans',\n",
       " 'partition',\n",
       " 'removeprefix',\n",
       " 'removesuffix',\n",
       " 'replace',\n",
       " 'rfind',\n",
       " 'rindex',\n",
       " 'rjust',\n",
       " 'rpartition',\n",
       " 'rsplit',\n",
       " 'rstrip',\n",
       " 'split',\n",
       " 'splitlines',\n",
       " 'startswith',\n",
       " 'strip',\n",
       " 'swapcase',\n",
       " 'title',\n",
       " 'translate',\n",
       " 'upper',\n",
       " 'zfill']"
      ]
     },
     "execution_count": 151,
     "metadata": {},
     "output_type": "execute_result"
    }
   ],
   "source": [
    "str1=\"nikhil\"\n",
    "dir(str1) # will show inbuilt functions for string... \n",
    "          # in jupyter if u press tab after 'str.'it suggests functions for strings"
   ]
  },
  {
   "cell_type": "code",
   "execution_count": 2,
   "id": "b9224b43-d95f-42a4-87ae-b6e27a1ce35e",
   "metadata": {},
   "outputs": [
    {
     "data": {
      "text/plain": [
       "'i'"
      ]
     },
     "execution_count": 2,
     "metadata": {},
     "output_type": "execute_result"
    }
   ],
   "source": [
    "string=\"pw skills data science course\"\n",
    "string[5] ##space is also counted"
   ]
  },
  {
   "cell_type": "code",
   "execution_count": 3,
   "id": "ed1fc934-25d2-4666-b4e4-cbcb806ad775",
   "metadata": {},
   "outputs": [
    {
     "data": {
      "text/plain": [
       "'ills data science course'"
      ]
     },
     "execution_count": 3,
     "metadata": {},
     "output_type": "execute_result"
    }
   ],
   "source": [
    "string[5:] #slice operation"
   ]
  },
  {
   "cell_type": "code",
   "execution_count": 11,
   "id": "8aab6f31-6380-40c4-8260-300d5fcac06f",
   "metadata": {},
   "outputs": [
    {
     "data": {
      "text/plain": [
       "'ills da'"
      ]
     },
     "execution_count": 11,
     "metadata": {},
     "output_type": "execute_result"
    }
   ],
   "source": [
    "string[5:12] #slice operation"
   ]
  },
  {
   "cell_type": "code",
   "execution_count": 6,
   "id": "a591de95-6450-4252-a19b-f013c65bceb7",
   "metadata": {},
   "outputs": [
    {
     "data": {
      "text/plain": [
       "'e'"
      ]
     },
     "execution_count": 6,
     "metadata": {},
     "output_type": "execute_result"
    }
   ],
   "source": [
    "string[-1] #last elements"
   ]
  },
  {
   "cell_type": "code",
   "execution_count": 13,
   "id": "1e596b66-0097-47e1-8106-b324c433c3fd",
   "metadata": {},
   "outputs": [
    {
     "data": {
      "text/plain": [
       "'r'"
      ]
     },
     "execution_count": 13,
     "metadata": {},
     "output_type": "execute_result"
    }
   ],
   "source": [
    "string[-3]"
   ]
  },
  {
   "cell_type": "code",
   "execution_count": 8,
   "id": "34900f32-462d-4e78-9512-caf5ee4900e1",
   "metadata": {},
   "outputs": [
    {
     "data": {
      "text/plain": [
       "'rse'"
      ]
     },
     "execution_count": 8,
     "metadata": {},
     "output_type": "execute_result"
    }
   ],
   "source": [
    "string[-3:]"
   ]
  },
  {
   "cell_type": "code",
   "execution_count": 9,
   "id": "5bafa928-5173-40bc-9973-2448374c13b1",
   "metadata": {},
   "outputs": [
    {
     "data": {
      "text/plain": [
       "' course'"
      ]
     },
     "execution_count": 9,
     "metadata": {},
     "output_type": "execute_result"
    }
   ],
   "source": [
    "string[-7:]"
   ]
  },
  {
   "cell_type": "code",
   "execution_count": 10,
   "id": "0e1b4b39-09e0-411b-91ad-16b5d9237c92",
   "metadata": {},
   "outputs": [
    {
     "data": {
      "text/plain": [
       "' cou'"
      ]
     },
     "execution_count": 10,
     "metadata": {},
     "output_type": "execute_result"
    }
   ],
   "source": [
    "string[-7:-3]"
   ]
  },
  {
   "cell_type": "code",
   "execution_count": 15,
   "id": "75e67095-a86c-4739-a880-9b1453cdf9d7",
   "metadata": {},
   "outputs": [
    {
     "data": {
      "text/plain": [
       "''"
      ]
     },
     "execution_count": 15,
     "metadata": {},
     "output_type": "execute_result"
    }
   ],
   "source": [
    "string[-7:5] # it will not read this way in reverse\\"
   ]
  },
  {
   "cell_type": "code",
   "execution_count": 18,
   "id": "062a4710-9249-4054-b017-38519769cfd6",
   "metadata": {},
   "outputs": [
    {
     "data": {
      "text/plain": [
       "''"
      ]
     },
     "execution_count": 18,
     "metadata": {},
     "output_type": "execute_result"
    }
   ],
   "source": [
    "string[7:5] #same"
   ]
  },
  {
   "cell_type": "code",
   "execution_count": 19,
   "id": "9bb1cd7e-9417-407f-b28a-b4533ecadb2c",
   "metadata": {},
   "outputs": [
    {
     "data": {
      "text/plain": [
       "'pw skills data science cours'"
      ]
     },
     "execution_count": 19,
     "metadata": {},
     "output_type": "execute_result"
    }
   ],
   "source": [
    "string[:-1]"
   ]
  },
  {
   "cell_type": "code",
   "execution_count": 20,
   "id": "8f1b037d-77a1-431c-a193-c3eae6f774a1",
   "metadata": {},
   "outputs": [
    {
     "data": {
      "text/plain": [
       "'pw skills data science course'"
      ]
     },
     "execution_count": 20,
     "metadata": {},
     "output_type": "execute_result"
    }
   ],
   "source": [
    "string[:] # you get everything"
   ]
  },
  {
   "cell_type": "code",
   "execution_count": 24,
   "id": "46e26990-1733-4107-9f5d-448097b011ce",
   "metadata": {},
   "outputs": [
    {
     "data": {
      "text/plain": [
       "'rt'"
      ]
     },
     "execution_count": 24,
     "metadata": {},
     "output_type": "execute_result"
    }
   ],
   "source": [
    "string=\"karthik\"\n",
    "string[-5:4] # t is after r so gave output"
   ]
  },
  {
   "cell_type": "code",
   "execution_count": 28,
   "id": "e5a822a9-5039-4aaa-954d-90775582cb7c",
   "metadata": {},
   "outputs": [
    {
     "data": {
      "text/plain": [
       "''"
      ]
     },
     "execution_count": 28,
     "metadata": {},
     "output_type": "execute_result"
    }
   ],
   "source": [
    "string[-5:2] # wont give"
   ]
  },
  {
   "cell_type": "code",
   "execution_count": 29,
   "id": "b637d560-cfdd-46b8-bb91-a2e19b571a4a",
   "metadata": {},
   "outputs": [
    {
     "data": {
      "text/plain": [
       "'r'"
      ]
     },
     "execution_count": 29,
     "metadata": {},
     "output_type": "execute_result"
    }
   ],
   "source": [
    "string[-5:3]"
   ]
  },
  {
   "cell_type": "code",
   "execution_count": 31,
   "id": "3fd663ba-8b62-42cc-88f2-57a178965449",
   "metadata": {},
   "outputs": [
    {
     "data": {
      "text/plain": [
       "'kihtrak'"
      ]
     },
     "execution_count": 31,
     "metadata": {},
     "output_type": "execute_result"
    }
   ],
   "source": [
    "string[::-1] # double colon for reverse"
   ]
  },
  {
   "cell_type": "code",
   "execution_count": 32,
   "id": "198a46d4-67b4-4a4d-ada5-5d132b55244a",
   "metadata": {},
   "outputs": [
    {
     "data": {
      "text/plain": [
       "'ero cec tdslk p'"
      ]
     },
     "execution_count": 32,
     "metadata": {},
     "output_type": "execute_result"
    }
   ],
   "source": [
    "string=\"pw skills data science course\"\n",
    "string[::-2] #every 2nd element in reverse"
   ]
  },
  {
   "cell_type": "code",
   "execution_count": 38,
   "id": "87ce943a-cee0-4bac-85ac-3fcf2452508e",
   "metadata": {},
   "outputs": [
    {
     "data": {
      "text/plain": [
       "'eu ncadlkw'"
      ]
     },
     "execution_count": 38,
     "metadata": {},
     "output_type": "execute_result"
    }
   ],
   "source": [
    "string[::-3] # number after double semi colon indicates step size so every 3rd element in reverse"
   ]
  },
  {
   "cell_type": "code",
   "execution_count": 36,
   "id": "282d212b-c596-41a0-bd8a-c737dbf372c0",
   "metadata": {},
   "outputs": [
    {
     "data": {
      "text/plain": [
       "'liks wp'"
      ]
     },
     "execution_count": 36,
     "metadata": {},
     "output_type": "execute_result"
    }
   ],
   "source": [
    "string[6::-1] # number before double colon indicates to  show reverse from 6th element"
   ]
  },
  {
   "cell_type": "code",
   "execution_count": 47,
   "id": "90d7244f-d3b9-4341-8fa7-e14df744cabb",
   "metadata": {},
   "outputs": [
    {
     "data": {
      "text/plain": [
       "'d slliks wp'"
      ]
     },
     "execution_count": 47,
     "metadata": {},
     "output_type": "execute_result"
    }
   ],
   "source": [
    "string[10::-1] # reverse from 10th element"
   ]
  },
  {
   "cell_type": "code",
   "execution_count": 39,
   "id": "d889ddbd-2de4-4f8b-97b0-3e32745fc5ba",
   "metadata": {},
   "outputs": [
    {
     "data": {
      "text/plain": [
       "'psl tseeos'"
      ]
     },
     "execution_count": 39,
     "metadata": {},
     "output_type": "execute_result"
    }
   ],
   "source": [
    "string[::3] #every 3rd element from forward"
   ]
  },
  {
   "cell_type": "code",
   "execution_count": 40,
   "id": "8a04c0b9-e36d-47cb-943b-a777f9983035",
   "metadata": {},
   "outputs": [
    {
     "data": {
      "text/plain": [
       "'pw skills data science course'"
      ]
     },
     "execution_count": 40,
     "metadata": {},
     "output_type": "execute_result"
    }
   ],
   "source": [
    "string[::1]"
   ]
  },
  {
   "cell_type": "code",
   "execution_count": 43,
   "id": "31e007d1-9814-4486-b7e7-95da98473f66",
   "metadata": {},
   "outputs": [
    {
     "data": {
      "text/plain": [
       "'s data science course'"
      ]
     },
     "execution_count": 43,
     "metadata": {},
     "output_type": "execute_result"
    }
   ],
   "source": [
    "string[8::1] #forward from 8th element from start"
   ]
  },
  {
   "cell_type": "code",
   "execution_count": 44,
   "id": "38b128d8-7808-4dd6-b33d-22c978d4c50a",
   "metadata": {},
   "outputs": [
    {
     "data": {
      "text/plain": [
       "'lihkin'"
      ]
     },
     "execution_count": 44,
     "metadata": {},
     "output_type": "execute_result"
    }
   ],
   "source": [
    "name=\"nikhil\"\n",
    "name[::-1]"
   ]
  },
  {
   "cell_type": "code",
   "execution_count": 45,
   "id": "68c85afe-e42c-49c5-967b-7fd8d282f806",
   "metadata": {},
   "outputs": [
    {
     "data": {
      "text/plain": [
       "'lk'"
      ]
     },
     "execution_count": 45,
     "metadata": {},
     "output_type": "execute_result"
    }
   ],
   "source": [
    "name[::-3]"
   ]
  },
  {
   "cell_type": "code",
   "execution_count": 46,
   "id": "cfb74859-ce79-42e0-a65f-fee671dd5c9a",
   "metadata": {},
   "outputs": [
    {
     "data": {
      "text/plain": [
       "'nh'"
      ]
     },
     "execution_count": 46,
     "metadata": {},
     "output_type": "execute_result"
    }
   ],
   "source": [
    "name[::3]"
   ]
  },
  {
   "cell_type": "code",
   "execution_count": 51,
   "id": "1c5adedd-4e0d-42c5-b5f4-bfd1593b9810",
   "metadata": {},
   "outputs": [
    {
     "data": {
      "text/plain": [
       "'liks wp'"
      ]
     },
     "execution_count": 51,
     "metadata": {},
     "output_type": "execute_result"
    }
   ],
   "source": [
    "string[6::-1]"
   ]
  },
  {
   "cell_type": "code",
   "execution_count": 53,
   "id": "0e7876ed-03b6-41f5-b509-a2ca0a9a4a39",
   "metadata": {},
   "outputs": [
    {
     "data": {
      "text/plain": [
       "'pw skills data science course'"
      ]
     },
     "execution_count": 53,
     "metadata": {},
     "output_type": "execute_result"
    }
   ],
   "source": [
    "string"
   ]
  },
  {
   "cell_type": "code",
   "execution_count": 57,
   "id": "e3aac154-7e25-4b6c-b5bc-f349d68705d3",
   "metadata": {},
   "outputs": [
    {
     "data": {
      "text/plain": [
       "'liks '"
      ]
     },
     "execution_count": 57,
     "metadata": {},
     "output_type": "execute_result"
    }
   ],
   "source": [
    "string[6:1:-1] # 6th element from start(starting from0) to 1st element of start in reverse\n"
   ]
  },
  {
   "cell_type": "code",
   "execution_count": 58,
   "id": "e09f08e8-0c89-4695-b7c4-b098227757b1",
   "metadata": {},
   "outputs": [],
   "source": [
    "# assignment"
   ]
  },
  {
   "cell_type": "code",
   "execution_count": 59,
   "id": "9705c200-50f6-4765-ae96-da07c2d43c8e",
   "metadata": {},
   "outputs": [],
   "source": [
    "course=\"data science masters\""
   ]
  },
  {
   "cell_type": "code",
   "execution_count": 61,
   "id": "ab111a1a-da5a-423b-b9e1-4f45494768d2",
   "metadata": {},
   "outputs": [
    {
     "data": {
      "text/plain": [
       "'science'"
      ]
     },
     "execution_count": 61,
     "metadata": {},
     "output_type": "execute_result"
    }
   ],
   "source": [
    "course[5:12:1] #science in forward"
   ]
  },
  {
   "cell_type": "code",
   "execution_count": 66,
   "id": "3b6ce370-c308-45ce-8650-46afb1ba2cd9",
   "metadata": {},
   "outputs": [
    {
     "data": {
      "text/plain": [
       "'science'"
      ]
     },
     "execution_count": 66,
     "metadata": {},
     "output_type": "execute_result"
    }
   ],
   "source": [
    "course[5:12] #after 2nd colon is by default 1"
   ]
  },
  {
   "cell_type": "code",
   "execution_count": 64,
   "id": "3731ee0d-6493-4446-bef2-91b3ffcbead1",
   "metadata": {},
   "outputs": [
    {
     "data": {
      "text/plain": [
       "'ecneics'"
      ]
     },
     "execution_count": 64,
     "metadata": {},
     "output_type": "execute_result"
    }
   ],
   "source": [
    "course[-9:-16:-1] #science in reverse"
   ]
  },
  {
   "cell_type": "code",
   "execution_count": 69,
   "id": "0a3c164d-fa44-41a0-aa83-564581e1a664",
   "metadata": {},
   "outputs": [
    {
     "data": {
      "text/plain": [
       "'data science masters batch'"
      ]
     },
     "execution_count": 69,
     "metadata": {},
     "output_type": "execute_result"
    }
   ],
   "source": [
    "# string concatenation\n",
    "course + \" batch\""
   ]
  },
  {
   "cell_type": "code",
   "execution_count": 70,
   "id": "4155c3a8-355f-4fe2-a42b-02897dbbce6e",
   "metadata": {},
   "outputs": [
    {
     "data": {
      "text/plain": [
       "'data science masters'"
      ]
     },
     "execution_count": 70,
     "metadata": {},
     "output_type": "execute_result"
    }
   ],
   "source": [
    "course"
   ]
  },
  {
   "cell_type": "code",
   "execution_count": 71,
   "id": "d6ea9451-8260-421a-98c2-7839188a3929",
   "metadata": {},
   "outputs": [
    {
     "data": {
      "text/plain": [
       "'data science mastersdata science mastersdata science mastersdata science mastersdata science masters'"
      ]
     },
     "execution_count": 71,
     "metadata": {},
     "output_type": "execute_result"
    }
   ],
   "source": [
    "course*5"
   ]
  },
  {
   "cell_type": "code",
   "execution_count": 74,
   "id": "ac3e799e-2731-4760-8601-f78fbf7145ea",
   "metadata": {},
   "outputs": [
    {
     "data": {
      "text/plain": [
       "20"
      ]
     },
     "execution_count": 74,
     "metadata": {},
     "output_type": "execute_result"
    }
   ],
   "source": [
    "len(course) #to find length of string"
   ]
  },
  {
   "cell_type": "code",
   "execution_count": 75,
   "id": "1573fad4-195c-4013-9742-7a2c240feb08",
   "metadata": {},
   "outputs": [
    {
     "ename": "TypeError",
     "evalue": "find() takes at least 1 argument (0 given)",
     "output_type": "error",
     "traceback": [
      "\u001b[0;31m---------------------------------------------------------------------------\u001b[0m",
      "\u001b[0;31mTypeError\u001b[0m                                 Traceback (most recent call last)",
      "Cell \u001b[0;32mIn[75], line 1\u001b[0m\n\u001b[0;32m----> 1\u001b[0m \u001b[43mcourse\u001b[49m\u001b[38;5;241;43m.\u001b[39;49m\u001b[43mfind\u001b[49m\u001b[43m(\u001b[49m\u001b[43m)\u001b[49m\n",
      "\u001b[0;31mTypeError\u001b[0m: find() takes at least 1 argument (0 given)"
     ]
    }
   ],
   "source": [
    "course.find()"
   ]
  },
  {
   "cell_type": "code",
   "execution_count": 76,
   "id": "2d45069e-edf9-48f6-8fc4-12627bfdfd68",
   "metadata": {},
   "outputs": [
    {
     "data": {
      "text/plain": [
       "9"
      ]
     },
     "execution_count": 76,
     "metadata": {},
     "output_type": "execute_result"
    }
   ],
   "source": [
    "course.find(\"n\") # alphabet n used 9 times"
   ]
  },
  {
   "cell_type": "code",
   "execution_count": 3,
   "id": "242f51c9-4b6e-4f75-84ef-e406beacab61",
   "metadata": {},
   "outputs": [
    {
     "data": {
      "text/plain": [
       "9"
      ]
     },
     "execution_count": 3,
     "metadata": {},
     "output_type": "execute_result"
    }
   ],
   "source": [
    "course=\"data science masters\"\n",
    "course.find(\"n\",3,10) # finds n poisition between index[3] to index[10]"
   ]
  },
  {
   "cell_type": "code",
   "execution_count": 4,
   "id": "ccda3fd1-bd11-4710-834b-5b1cf56f43d6",
   "metadata": {},
   "outputs": [
    {
     "data": {
      "text/plain": [
       "-1"
      ]
     },
     "execution_count": 4,
     "metadata": {},
     "output_type": "execute_result"
    }
   ],
   "source": [
    "course.find(\"z\") # z not present so output will show -1"
   ]
  },
  {
   "cell_type": "code",
   "execution_count": 5,
   "id": "4cf9e2ee-c1e7-4307-80e1-34643bba668f",
   "metadata": {},
   "outputs": [
    {
     "data": {
      "text/plain": [
       "3"
      ]
     },
     "execution_count": 5,
     "metadata": {},
     "output_type": "execute_result"
    }
   ],
   "source": [
    "course.count(\"a\")                 # count function # a present 3 times"
   ]
  },
  {
   "cell_type": "code",
   "execution_count": 8,
   "id": "66950bd5-5d76-4336-aa8e-56abeebff5a6",
   "metadata": {},
   "outputs": [
    {
     "data": {
      "text/plain": [
       "2"
      ]
     },
     "execution_count": 8,
     "metadata": {},
     "output_type": "execute_result"
    }
   ],
   "source": [
    "course.count(\" \")  # finds number of spaces between words"
   ]
  },
  {
   "cell_type": "code",
   "execution_count": 10,
   "id": "c8b1cce8-dc0c-4736-bb2f-58e9d86fa711",
   "metadata": {},
   "outputs": [
    {
     "data": {
      "text/plain": [
       "21"
      ]
     },
     "execution_count": 10,
     "metadata": {},
     "output_type": "execute_result"
    }
   ],
   "source": [
    "course.count(\"\") #count total no of indexes"
   ]
  },
  {
   "cell_type": "code",
   "execution_count": 11,
   "id": "8a528248-cf3e-4d5e-bf33-5083fa70f7b9",
   "metadata": {},
   "outputs": [
    {
     "data": {
      "text/plain": [
       "['data', 'science', 'masters']"
      ]
     },
     "execution_count": 11,
     "metadata": {},
     "output_type": "execute_result"
    }
   ],
   "source": [
    "# string split function\n",
    "course.split(\" \")"
   ]
  },
  {
   "cell_type": "code",
   "execution_count": 14,
   "id": "35f43094-bd92-4ad1-9170-4fb03d864733",
   "metadata": {},
   "outputs": [
    {
     "data": {
      "text/plain": [
       "['data ', 'cience ma', 'ter', '']"
      ]
     },
     "execution_count": 14,
     "metadata": {},
     "output_type": "execute_result"
    }
   ],
   "source": [
    "course.split(\"s\") # splits 2 words where s is present"
   ]
  },
  {
   "cell_type": "code",
   "execution_count": 17,
   "id": "8dd3dd98-b201-42bd-b3f6-963ef014750e",
   "metadata": {},
   "outputs": [
    {
     "data": {
      "text/plain": [
       "('data ', 's', 'cience masters')"
      ]
     },
     "execution_count": 17,
     "metadata": {},
     "output_type": "execute_result"
    }
   ],
   "source": [
    "course.partition(\"s\") # keep s but creates partition unlike split but only for first s unlike split which removes every s"
   ]
  },
  {
   "cell_type": "code",
   "execution_count": 18,
   "id": "ab31173c-25ea-4629-940d-505d04649555",
   "metadata": {},
   "outputs": [
    {
     "data": {
      "text/plain": [
       "'DATA SCIENCE MASTERS'"
      ]
     },
     "execution_count": 18,
     "metadata": {},
     "output_type": "execute_result"
    }
   ],
   "source": [
    "# string upper and lower case\n",
    "course.upper()"
   ]
  },
  {
   "cell_type": "code",
   "execution_count": 19,
   "id": "259284bb-028d-40bd-ace2-ad85237352b1",
   "metadata": {},
   "outputs": [
    {
     "data": {
      "text/plain": [
       "'data science masters'"
      ]
     },
     "execution_count": 19,
     "metadata": {},
     "output_type": "execute_result"
    }
   ],
   "source": [
    "course.lower()"
   ]
  },
  {
   "cell_type": "code",
   "execution_count": 23,
   "id": "8e7fca46-ecb0-446c-a2f1-4b5d75cd7d05",
   "metadata": {},
   "outputs": [
    {
     "data": {
      "text/plain": [
       "'dATA sCIENCE mASTERS'"
      ]
     },
     "execution_count": 23,
     "metadata": {},
     "output_type": "execute_result"
    }
   ],
   "source": [
    "course=\"Data Science Masters\"\n",
    "course.swapcase() # swaps upper and lowercase"
   ]
  },
  {
   "cell_type": "code",
   "execution_count": 25,
   "id": "d345852a-783e-4716-94eb-ca26c4efc0fa",
   "metadata": {},
   "outputs": [
    {
     "data": {
      "text/plain": [
       "'Data Science Masters'"
      ]
     },
     "execution_count": 25,
     "metadata": {},
     "output_type": "execute_result"
    }
   ],
   "source": [
    "course=\"data science masters\" # make every starting alphabet capital\n",
    "course.title()"
   ]
  },
  {
   "cell_type": "code",
   "execution_count": null,
   "id": "3331eca6-63ca-4319-83ee-22598b8a90eb",
   "metadata": {},
   "outputs": [],
   "source": []
  }
 ],
 "metadata": {
  "kernelspec": {
   "display_name": "Python 3 (ipykernel)",
   "language": "python",
   "name": "python3"
  },
  "language_info": {
   "codemirror_mode": {
    "name": "ipython",
    "version": 3
   },
   "file_extension": ".py",
   "mimetype": "text/x-python",
   "name": "python",
   "nbconvert_exporter": "python",
   "pygments_lexer": "ipython3",
   "version": "3.10.8"
  }
 },
 "nbformat": 4,
 "nbformat_minor": 5
}
