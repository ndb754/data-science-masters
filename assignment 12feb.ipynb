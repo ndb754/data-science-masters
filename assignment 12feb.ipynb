{
 "cells": [
  {
   "cell_type": "code",
   "execution_count": 1,
   "id": "6a89fa86-4de6-4c5b-81ed-da4deec69315",
   "metadata": {},
   "outputs": [],
   "source": [
    "#Q1. Wht is an Exception in pthon? Write the difference between Exceptions and syntax error?\n",
    "\n",
    "# Errors When the proper syntax of the language is not followed then a syntax error is thrown.for example if a colon is missing after if statement\n",
    "# When in the runtime an error that occurs after passing the syntax test is called exception or logical error. For example, when we divide any number by zero then the ZeroDivisionError exception is raised, or when we import a module that does not exist then ImportError is raised,or trying to access a file that does not exist\n",
    "# To summarize, a syntax error is a mistake in the structure of the program that prevents it from running, while an exception is an abnormal event that occurs during the execution of the program and can be handled to allow the program to continue running"
   ]
  },
  {
   "cell_type": "code",
   "execution_count": 3,
   "id": "ab963ddc-9740-4404-a23a-b269aeaf3aee",
   "metadata": {},
   "outputs": [
    {
     "ename": "FileNotFoundError",
     "evalue": "[Errno 2] No such file or directory: 'pest.txt'",
     "output_type": "error",
     "traceback": [
      "\u001b[0;31m---------------------------------------------------------------------------\u001b[0m",
      "\u001b[0;31mFileNotFoundError\u001b[0m                         Traceback (most recent call last)",
      "Cell \u001b[0;32mIn[3], line 3\u001b[0m\n\u001b[1;32m      1\u001b[0m \u001b[38;5;66;03m#q2 what happens when an exception is not handled?\u001b[39;00m\n\u001b[1;32m      2\u001b[0m \u001b[38;5;66;03m# if exception is not handled then an error is raised during the execution of a program.\u001b[39;00m\n\u001b[0;32m----> 3\u001b[0m f\u001b[38;5;241m=\u001b[39m\u001b[38;5;28;43mopen\u001b[39;49m\u001b[43m(\u001b[49m\u001b[38;5;124;43m'\u001b[39;49m\u001b[38;5;124;43mpest.txt\u001b[39;49m\u001b[38;5;124;43m'\u001b[39;49m\u001b[43m,\u001b[49m\u001b[38;5;124;43m'\u001b[39;49m\u001b[38;5;124;43mr\u001b[39;49m\u001b[38;5;124;43m'\u001b[39;49m\u001b[43m)\u001b[49m\n\u001b[1;32m      4\u001b[0m f\u001b[38;5;241m.\u001b[39mwrite(\u001b[38;5;124m'\u001b[39m\u001b[38;5;124mthis is data science master\u001b[39m\u001b[38;5;124m'\u001b[39m)\n",
      "File \u001b[0;32m/opt/conda/lib/python3.10/site-packages/IPython/core/interactiveshell.py:282\u001b[0m, in \u001b[0;36m_modified_open\u001b[0;34m(file, *args, **kwargs)\u001b[0m\n\u001b[1;32m    275\u001b[0m \u001b[38;5;28;01mif\u001b[39;00m file \u001b[38;5;129;01min\u001b[39;00m {\u001b[38;5;241m0\u001b[39m, \u001b[38;5;241m1\u001b[39m, \u001b[38;5;241m2\u001b[39m}:\n\u001b[1;32m    276\u001b[0m     \u001b[38;5;28;01mraise\u001b[39;00m \u001b[38;5;167;01mValueError\u001b[39;00m(\n\u001b[1;32m    277\u001b[0m         \u001b[38;5;124mf\u001b[39m\u001b[38;5;124m\"\u001b[39m\u001b[38;5;124mIPython won\u001b[39m\u001b[38;5;124m'\u001b[39m\u001b[38;5;124mt let you open fd=\u001b[39m\u001b[38;5;132;01m{\u001b[39;00mfile\u001b[38;5;132;01m}\u001b[39;00m\u001b[38;5;124m by default \u001b[39m\u001b[38;5;124m\"\u001b[39m\n\u001b[1;32m    278\u001b[0m         \u001b[38;5;124m\"\u001b[39m\u001b[38;5;124mas it is likely to crash IPython. If you know what you are doing, \u001b[39m\u001b[38;5;124m\"\u001b[39m\n\u001b[1;32m    279\u001b[0m         \u001b[38;5;124m\"\u001b[39m\u001b[38;5;124myou can use builtins\u001b[39m\u001b[38;5;124m'\u001b[39m\u001b[38;5;124m open.\u001b[39m\u001b[38;5;124m\"\u001b[39m\n\u001b[1;32m    280\u001b[0m     )\n\u001b[0;32m--> 282\u001b[0m \u001b[38;5;28;01mreturn\u001b[39;00m \u001b[43mio_open\u001b[49m\u001b[43m(\u001b[49m\u001b[43mfile\u001b[49m\u001b[43m,\u001b[49m\u001b[43m \u001b[49m\u001b[38;5;241;43m*\u001b[39;49m\u001b[43margs\u001b[49m\u001b[43m,\u001b[49m\u001b[43m \u001b[49m\u001b[38;5;241;43m*\u001b[39;49m\u001b[38;5;241;43m*\u001b[39;49m\u001b[43mkwargs\u001b[49m\u001b[43m)\u001b[49m\n",
      "\u001b[0;31mFileNotFoundError\u001b[0m: [Errno 2] No such file or directory: 'pest.txt'"
     ]
    }
   ],
   "source": [
    "#q2 what happens when an exception is not handled?\n",
    "# if exception is not handled then an logical error/exception is raised during the execution of a program.\n",
    "f=open('pest.txt','r')\n",
    "f.write('this is data science master')"
   ]
  },
  {
   "cell_type": "code",
   "execution_count": 5,
   "id": "8768aa6c-f2bf-4dfd-9135-9f51d9214b72",
   "metadata": {},
   "outputs": [
    {
     "name": "stdout",
     "output_type": "stream",
     "text": [
      "there is some issue with my code [Errno 2] No such file or directory: 'pest.txt'\n",
      "if this statement prints..you have handled exception\n"
     ]
    }
   ],
   "source": [
    "# Q3. Which Python statementsare used to catch and handle exceptions? Explain with example?\n",
    "# try and except method is used to handle exception\n",
    "try:\n",
    "    f=open('pest.txt','r')\n",
    "    f.write('this is data science master')\n",
    "    f.close()\n",
    "except Exception as e:\n",
    "    print('there is some issue with my code',e) \n",
    "    print('if this statement prints..you have handled exception')"
   ]
  },
  {
   "cell_type": "code",
   "execution_count": 6,
   "id": "f6c16e13-8aa1-4a2d-adb4-5020e22436b0",
   "metadata": {},
   "outputs": [
    {
     "name": "stdout",
     "output_type": "stream",
     "text": [
      "try block got successfully executed without an exception\n",
      "this statemment is always printed\n"
     ]
    }
   ],
   "source": [
    "#q4 explain with example try,else and finally\n",
    "# try block is to indent that part of program which can raise and error\n",
    "# if try block gets executed without raising an exception then a try block statements get executed\n",
    "# finally block statement are always executed whether program raise exception or not\n",
    "try:\n",
    "    f=open('pest.txt','w')\n",
    "    f.write('this is data science master')\n",
    "    f.close()\n",
    "except Exception as e:\n",
    "    print('there is some issue with my code',e) \n",
    "    print('if this statement prints..you have handled exception')\n",
    "else:\n",
    "    print('try block got successfully executed without an exception')\n",
    "finally:\n",
    "    print('this statemment is always printed')"
   ]
  },
  {
   "cell_type": "code",
   "execution_count": 8,
   "id": "5c919f18-b2ab-4fb1-8669-75e5da40cb04",
   "metadata": {},
   "outputs": [
    {
     "name": "stdin",
     "output_type": "stream",
     "text": [
      "enter age -25\n"
     ]
    }
   ],
   "source": [
    "#Whatare Custom Exceptions in python? Why do we need Custom Exceptions? Explain with example\n",
    "# custom exception are user determined exception and not system generated exception\n",
    "# for eg age in negative integer is not an exception for system but for user it is an exception\n",
    "age=int(input('enter age'))\n"
   ]
  },
  {
   "cell_type": "code",
   "execution_count": 9,
   "id": "d97a8e1b-e916-4463-b2b9-4b1641b2b288",
   "metadata": {},
   "outputs": [],
   "source": [
    "# this is not exception for system but for user it is"
   ]
  },
  {
   "cell_type": "code",
   "execution_count": 11,
   "id": "3cec8853-ede7-47a6-b84a-ca00e2b2e1cb",
   "metadata": {},
   "outputs": [],
   "source": [
    "#Q6. Create custom exception class and use it for exception handling\n",
    "class validage_exception(Exception):\n",
    "    def __init__(self,msg):\n",
    "        self.msg=msg"
   ]
  },
  {
   "cell_type": "code",
   "execution_count": 13,
   "id": "7d1e117a-3c66-4988-ab24-5d08b6f70b18",
   "metadata": {},
   "outputs": [],
   "source": [
    "def valid_age(age):\n",
    "    if age<0:\n",
    "        raise validage_exception('age is negative')\n",
    "    elif age>100:\n",
    "        raise validage_exception('age is over the limit')\n",
    "    else:\n",
    "        print('age is valid')"
   ]
  },
  {
   "cell_type": "code",
   "execution_count": 14,
   "id": "6e9b2811-cac7-4839-8a44-aca6f371f6e7",
   "metadata": {},
   "outputs": [
    {
     "name": "stdin",
     "output_type": "stream",
     "text": [
      "enter age -25\n"
     ]
    },
    {
     "name": "stdout",
     "output_type": "stream",
     "text": [
      "age is negative\n"
     ]
    }
   ],
   "source": [
    "try:\n",
    "    age=int(input('enter age'))\n",
    "    valid_age(age)\n",
    "except validage_exception as e:\n",
    "    print(e)"
   ]
  },
  {
   "cell_type": "code",
   "execution_count": null,
   "id": "076e8177-c146-44af-87e4-f3cfa34dc435",
   "metadata": {},
   "outputs": [],
   "source": []
  }
 ],
 "metadata": {
  "kernelspec": {
   "display_name": "Python 3 (ipykernel)",
   "language": "python",
   "name": "python3"
  },
  "language_info": {
   "codemirror_mode": {
    "name": "ipython",
    "version": 3
   },
   "file_extension": ".py",
   "mimetype": "text/x-python",
   "name": "python",
   "nbconvert_exporter": "python",
   "pygments_lexer": "ipython3",
   "version": "3.10.8"
  }
 },
 "nbformat": 4,
 "nbformat_minor": 5
}
