{
 "cells": [
  {
   "cell_type": "code",
   "execution_count": 4,
   "id": "3d304ca3-4a43-4be1-92aa-a8f001ed9843",
   "metadata": {},
   "outputs": [],
   "source": [
    "import threading"
   ]
  },
  {
   "cell_type": "code",
   "execution_count": 5,
   "id": "6241b645-8ba9-41f2-a6e3-e26e9f6ede3a",
   "metadata": {},
   "outputs": [],
   "source": [
    "def test(id):\n",
    "    print('thid is my test id %d'%id)"
   ]
  },
  {
   "cell_type": "code",
   "execution_count": 6,
   "id": "7f0c1e3c-6d16-4468-95f8-9833b4774342",
   "metadata": {},
   "outputs": [
    {
     "name": "stdout",
     "output_type": "stream",
     "text": [
      "thid is my test id 10\n"
     ]
    }
   ],
   "source": [
    "test(10)"
   ]
  },
  {
   "cell_type": "code",
   "execution_count": 7,
   "id": "563f9cf0-8c41-46a2-83a2-9cb6250615ea",
   "metadata": {},
   "outputs": [
    {
     "name": "stdout",
     "output_type": "stream",
     "text": [
      "thid is my test id 20\n"
     ]
    }
   ],
   "source": [
    "test(20)"
   ]
  },
  {
   "cell_type": "code",
   "execution_count": 8,
   "id": "50378cc9-21b4-49e1-834a-c976ef5fe8dc",
   "metadata": {},
   "outputs": [
    {
     "name": "stdout",
     "output_type": "stream",
     "text": [
      "thid is my test id 30\n"
     ]
    }
   ],
   "source": [
    "test(30)"
   ]
  },
  {
   "cell_type": "code",
   "execution_count": 15,
   "id": "d55e46c4-f77a-4a21-b560-972c460c9af1",
   "metadata": {},
   "outputs": [],
   "source": [
    "# what if i want to call all the above 3 functions together\n",
    "thd=[threading.Thread(target=test,args=(i,)) for i in [10,20,30]] # target= function name"
   ]
  },
  {
   "cell_type": "code",
   "execution_count": 16,
   "id": "bb71b7df-26fc-44d4-9f95-2058e6dae9d3",
   "metadata": {},
   "outputs": [
    {
     "data": {
      "text/plain": [
       "[<Thread(Thread-11 (test), initial)>,\n",
       " <Thread(Thread-12 (test), initial)>,\n",
       " <Thread(Thread-13 (test), initial)>]"
      ]
     },
     "execution_count": 16,
     "metadata": {},
     "output_type": "execute_result"
    }
   ],
   "source": [
    "thd"
   ]
  },
  {
   "cell_type": "code",
   "execution_count": 17,
   "id": "0b6129bc-a460-455e-afca-fcf48d63df76",
   "metadata": {},
   "outputs": [
    {
     "name": "stdout",
     "output_type": "stream",
     "text": [
      "thid is my test id 10\n",
      "thid is my test id 20\n",
      "thid is my test id 30\n"
     ]
    }
   ],
   "source": [
    "for t in thd:\n",
    "    t.start()"
   ]
  },
  {
   "cell_type": "code",
   "execution_count": 46,
   "id": "19baa13c-7381-4dbe-9583-83a359c1791e",
   "metadata": {},
   "outputs": [],
   "source": [
    "#program to fetch url content into text file \n",
    "import urllib.request\n",
    "def file_download(url,filename):\n",
    "    urllib.request.urlretrieve(url,filename) # this function will copy url contents in file"
   ]
  },
  {
   "cell_type": "code",
   "execution_count": 47,
   "id": "fddf8245-b3e3-46a6-a801-94161aff2877",
   "metadata": {},
   "outputs": [],
   "source": [
    "file_download('https://github.com/itsfoss/text-files/blob/master/agatha.txt','test1.txt')"
   ]
  },
  {
   "cell_type": "code",
   "execution_count": 48,
   "id": "37ed7572-d544-41c4-91df-917a2e8999b5",
   "metadata": {},
   "outputs": [],
   "source": [
    "# copying url content in 3 urls to 3 files through multithreading\n",
    "url_list=['https://github.com/itsfoss/text-files/blob/master/agatha.txt','https://github.com/itsfoss/text-files/blob/master/agatha_complete.txt','https://github.com/itsfoss/text-files/blob/master/sherlock.txt']\n"
   ]
  },
  {
   "cell_type": "code",
   "execution_count": 49,
   "id": "9a57bd1b-f58a-4b16-95b9-ebf7fbbbc95f",
   "metadata": {},
   "outputs": [
    {
     "data": {
      "text/plain": [
       "['https://github.com/itsfoss/text-files/blob/master/agatha.txt',\n",
       " 'https://github.com/itsfoss/text-files/blob/master/agatha_complete.txt',\n",
       " 'https://github.com/itsfoss/text-files/blob/master/sherlock.txt']"
      ]
     },
     "execution_count": 49,
     "metadata": {},
     "output_type": "execute_result"
    }
   ],
   "source": [
    "url_list"
   ]
  },
  {
   "cell_type": "code",
   "execution_count": 50,
   "id": "6b9817c4-38a7-4407-9b5b-43d2c2b2d465",
   "metadata": {},
   "outputs": [],
   "source": [
    "data_file_list=['data1.txt','data2.txt','data3.txt']"
   ]
  },
  {
   "cell_type": "code",
   "execution_count": 51,
   "id": "078d5fdf-20f1-4a03-a628-39b67edff956",
   "metadata": {},
   "outputs": [
    {
     "data": {
      "text/plain": [
       "['data1.txt', 'data2.txt', 'data3.txt']"
      ]
     },
     "execution_count": 51,
     "metadata": {},
     "output_type": "execute_result"
    }
   ],
   "source": [
    "data_file_list\n"
   ]
  },
  {
   "cell_type": "code",
   "execution_count": 52,
   "id": "b24b1deb-2d9a-42f4-be47-35179ce022aa",
   "metadata": {},
   "outputs": [],
   "source": [
    "thread1=[threading.Thread(target=file_download,args=(url_list[i],data_file_list[i])) for i in range(len(url_list))]"
   ]
  },
  {
   "cell_type": "code",
   "execution_count": 53,
   "id": "140c4250-58c2-4e4a-938f-e8c733b00ac8",
   "metadata": {},
   "outputs": [],
   "source": [
    "for t in thread1:\n",
    "    t.start() # three data file will be formed with contents with name data1.txt,data2.txt,data3.txt"
   ]
  },
  {
   "cell_type": "code",
   "execution_count": 54,
   "id": "4b5d3f3f-36cb-4b93-b333-bdec757631fe",
   "metadata": {},
   "outputs": [],
   "source": [
    "#more examples"
   ]
  },
  {
   "cell_type": "code",
   "execution_count": 82,
   "id": "f3c76337-ac0e-4aca-87b9-dd739bd2d04b",
   "metadata": {},
   "outputs": [
    {
     "name": "stdout",
     "output_type": "stream",
     "text": [
      "print the value of x 20 and print the value of i 5print the value of x 10 and print the value of i 5\n",
      "print the value of x 100 and print the value of i 5\n",
      "\n",
      "print the value of x 5 and print the value of i 5\n",
      "print the value of x 10 and print the value of i 6\n",
      "print the value of x 100 and print the value of i 6\n",
      "print the value of x 5 and print the value of i 6\n",
      "print the value of x 20 and print the value of i 6\n"
     ]
    }
   ],
   "source": [
    "import time"
   ]
  },
  {
   "cell_type": "code",
   "execution_count": 84,
   "id": "500bc1a7-01a4-453a-865e-9c3b0ff04553",
   "metadata": {},
   "outputs": [],
   "source": [
    "def test2(x):\n",
    "    for i in range(10):\n",
    "        print('print the value of x %d and print the value of i %d' %(x,i))\n",
    "        time.sleep(1) # 1 stands for 1 second"
   ]
  },
  {
   "cell_type": "code",
   "execution_count": 85,
   "id": "55498c7e-05a7-4265-9ec2-e4132b6161fb",
   "metadata": {},
   "outputs": [
    {
     "name": "stdout",
     "output_type": "stream",
     "text": [
      "print the value of x 10 and print the value of i 0\n",
      "print the value of x 10 and print the value of i 1\n",
      "print the value of x 10 and print the value of i 2\n",
      "print the value of x 10 and print the value of i 3\n",
      "print the value of x 10 and print the value of i 4\n",
      "print the value of x 10 and print the value of i 5\n",
      "print the value of x 10 and print the value of i 6\n",
      "print the value of x 10 and print the value of i 7\n",
      "print the value of x 10 and print the value of i 8\n",
      "print the value of x 10 and print the value of i 9\n"
     ]
    }
   ],
   "source": [
    "test2(10)"
   ]
  },
  {
   "cell_type": "code",
   "execution_count": 86,
   "id": "d8ef8304-6809-4555-8684-da26cf38dab1",
   "metadata": {},
   "outputs": [],
   "source": [
    "thread2=[threading.Thread(target=test2,args=(i,)) for i in [100,10,20,5]]"
   ]
  },
  {
   "cell_type": "code",
   "execution_count": 87,
   "id": "102a6b13-8f78-4c62-98a0-6cd6a1a1e2cb",
   "metadata": {},
   "outputs": [
    {
     "name": "stdout",
     "output_type": "stream",
     "text": [
      "print the value of x 100 and print the value of i 0\n",
      "print the value of x 10 and print the value of i 0\n",
      "print the value of x 20 and print the value of i 0\n",
      "print the value of x 5 and print the value of i 0\n",
      "print the value of x 100 and print the value of i 1print the value of x 10 and print the value of i 1\n",
      "\n",
      "print the value of x 20 and print the value of i 1\n",
      "print the value of x 5 and print the value of i 1\n",
      "print the value of x 10 and print the value of i 2print the value of x 20 and print the value of i 2\n",
      "\n",
      "print the value of x 100 and print the value of i 2\n",
      "print the value of x 5 and print the value of i 2\n",
      "print the value of x 20 and print the value of i 3print the value of x 5 and print the value of i 3\n",
      "\n",
      "print the value of x 10 and print the value of i 3\n",
      "print the value of x 100 and print the value of i 3\n",
      "print the value of x 5 and print the value of i 4print the value of x 100 and print the value of i 4\n",
      "\n",
      "print the value of x 20 and print the value of i 4\n",
      "print the value of x 10 and print the value of i 4\n",
      "print the value of x 100 and print the value of i 5print the value of x 10 and print the value of i 5\n",
      "print the value of x 20 and print the value of i 5\n",
      "print the value of x 5 and print the value of i 5\n",
      "\n",
      "print the value of x 10 and print the value of i 6print the value of x 5 and print the value of i 6\n",
      "print the value of x 100 and print the value of i 6\n",
      "print the value of x 20 and print the value of i 6\n",
      "\n",
      "print the value of x 5 and print the value of i 7print the value of x 100 and print the value of i 7\n",
      "print the value of x 20 and print the value of i 7\n",
      "\n",
      "print the value of x 10 and print the value of i 7\n",
      "print the value of x 100 and print the value of i 8print the value of x 20 and print the value of i 8\n",
      "print the value of x 5 and print the value of i 8\n",
      "print the value of x 10 and print the value of i 8\n",
      "\n",
      "print the value of x 20 and print the value of i 9print the value of x 5 and print the value of i 9\n",
      "print the value of x 10 and print the value of i 9\n",
      "\n",
      "print the value of x 100 and print the value of i 9\n"
     ]
    }
   ],
   "source": [
    "for t in thread2:\n",
    "    t.start() # concentrate on output this is because of time.sleep statement..it is trying to utilise resource during sleep time of one function"
   ]
  },
  {
   "cell_type": "code",
   "execution_count": 88,
   "id": "bb1c4e4a-7a4c-456e-aac9-65c0cad652cf",
   "metadata": {},
   "outputs": [],
   "source": [
    "# after removing time.sleep()\n",
    "def test2(x):\n",
    "    for i in range(10):\n",
    "        print('print the value of x %d and print the value of i %d' %(x,i))"
   ]
  },
  {
   "cell_type": "code",
   "execution_count": 90,
   "id": "2467a4d4-7c17-493e-955c-87991abe317f",
   "metadata": {},
   "outputs": [],
   "source": [
    "thread2=[threading.Thread(target=test2,args=(i,)) for i in [100,10,20,5]]"
   ]
  },
  {
   "cell_type": "code",
   "execution_count": 91,
   "id": "fb466aec-7d0a-40d4-a7df-b03d24dfbf7d",
   "metadata": {},
   "outputs": [
    {
     "name": "stdout",
     "output_type": "stream",
     "text": [
      "print the value of x 100 and print the value of i 0\n",
      "print the value of x 100 and print the value of i 1\n",
      "print the value of x 100 and print the value of i 2\n",
      "print the value of x 100 and print the value of i 3\n",
      "print the value of x 100 and print the value of i 4\n",
      "print the value of x 100 and print the value of i 5\n",
      "print the value of x 100 and print the value of i 6\n",
      "print the value of x 100 and print the value of i 7\n",
      "print the value of x 100 and print the value of i 8\n",
      "print the value of x 100 and print the value of i 9\n",
      "print the value of x 10 and print the value of i 0\n",
      "print the value of x 10 and print the value of i 1\n",
      "print the value of x 10 and print the value of i 2\n",
      "print the value of x 10 and print the value of i 3\n",
      "print the value of x 10 and print the value of i 4\n",
      "print the value of x 10 and print the value of i 5\n",
      "print the value of x 10 and print the value of i 6\n",
      "print the value of x 10 and print the value of i 7\n",
      "print the value of x 10 and print the value of i 8\n",
      "print the value of x 10 and print the value of i 9\n",
      "print the value of x 20 and print the value of i 0\n",
      "print the value of x 20 and print the value of i 1\n",
      "print the value of x 20 and print the value of i 2\n",
      "print the value of x 20 and print the value of i 3\n",
      "print the value of x 20 and print the value of i 4\n",
      "print the value of x 20 and print the value of i 5\n",
      "print the value of x 20 and print the value of i 6\n",
      "print the value of x 20 and print the value of i 7\n",
      "print the value of x 20 and print the value of i 8\n",
      "print the value of x 20 and print the value of i 9\n",
      "print the value of x 5 and print the value of i 0\n",
      "print the value of x 5 and print the value of i 1\n",
      "print the value of x 5 and print the value of i 2\n",
      "print the value of x 5 and print the value of i 3\n",
      "print the value of x 5 and print the value of i 4\n",
      "print the value of x 5 and print the value of i 5\n",
      "print the value of x 5 and print the value of i 6\n",
      "print the value of x 5 and print the value of i 7\n",
      "print the value of x 5 and print the value of i 8\n",
      "print the value of x 5 and print the value of i 9\n"
     ]
    }
   ],
   "source": [
    "for t in thread2:\n",
    "    t.start()"
   ]
  },
  {
   "cell_type": "code",
   "execution_count": 93,
   "id": "449fd083-89d3-477d-aab1-a7b782d04c1e",
   "metadata": {},
   "outputs": [],
   "source": [
    "# new program\n",
    "shared_var=0\n",
    "lock_var=threading.Lock()\n",
    "def test3(x):\n",
    "    global shared_var\n",
    "    with lock_var:\n",
    "        shared_var=shared_var+1\n",
    "        print('value of x %d and value of shared_var %d'%(x,shared_var))\n",
    "        time.sleep(1)\n",
    "        "
   ]
  },
  {
   "cell_type": "code",
   "execution_count": 94,
   "id": "c0063567-463e-45c0-a301-79bf1a85ebc3",
   "metadata": {},
   "outputs": [
    {
     "name": "stdout",
     "output_type": "stream",
     "text": [
      "value of x 1 and value of shared_var 1\n"
     ]
    }
   ],
   "source": [
    "test3(1)"
   ]
  },
  {
   "cell_type": "code",
   "execution_count": 95,
   "id": "1093bbb9-8898-415b-9198-e13afa21db39",
   "metadata": {},
   "outputs": [
    {
     "name": "stdout",
     "output_type": "stream",
     "text": [
      "value of x 2 and value of shared_var 2\n"
     ]
    }
   ],
   "source": [
    "test3(2)"
   ]
  },
  {
   "cell_type": "code",
   "execution_count": 97,
   "id": "065fd8ac-01e7-4b2f-b80a-f7233ef8758a",
   "metadata": {},
   "outputs": [
    {
     "name": "stdout",
     "output_type": "stream",
     "text": [
      "value of x 4 and value of shared_var 3\n"
     ]
    }
   ],
   "source": [
    "test3(4) # value of shared variable will be increased everytime even if different program is called because it is global variable"
   ]
  },
  {
   "cell_type": "code",
   "execution_count": 99,
   "id": "cb14fddf-2ae4-4fe9-ba24-a2c70fd26133",
   "metadata": {},
   "outputs": [
    {
     "name": "stdout",
     "output_type": "stream",
     "text": [
      "value of x 1 and value of shared_var 1\n",
      "value of x 2 and value of shared_var 2\n",
      "value of x 3 and value of shared_var 3\n",
      "value of x 4 and value of shared_var 4\n"
     ]
    }
   ],
   "source": [
    "shared_var=0\n",
    "lock_var=threading.Lock()\n",
    "def test3(x):\n",
    "    global shared_var\n",
    "    with lock_var:\n",
    "        shared_var=shared_var+1\n",
    "        print('value of x %d and value of shared_var %d'%(x,shared_var))\n",
    "        time.sleep(1)\n",
    "\n",
    "thread4=[threading.Thread(target=test3,args=(i,)) for i in [1,2,3,4]]\n",
    "for t in thread4:\n",
    "    t.start()\n",
    "        "
   ]
  },
  {
   "cell_type": "code",
   "execution_count": null,
   "id": "52795e44-b73b-48c1-8b20-d94e676f4400",
   "metadata": {},
   "outputs": [],
   "source": []
  }
 ],
 "metadata": {
  "kernelspec": {
   "display_name": "Python 3 (ipykernel)",
   "language": "python",
   "name": "python3"
  },
  "language_info": {
   "codemirror_mode": {
    "name": "ipython",
    "version": 3
   },
   "file_extension": ".py",
   "mimetype": "text/x-python",
   "name": "python",
   "nbconvert_exporter": "python",
   "pygments_lexer": "ipython3",
   "version": "3.10.8"
  }
 },
 "nbformat": 4,
 "nbformat_minor": 5
}
