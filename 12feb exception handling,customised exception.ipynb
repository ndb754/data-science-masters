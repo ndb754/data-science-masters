{
 "cells": [
  {
   "cell_type": "markdown",
   "id": "6b11b7bf-7edd-49a4-bfff-6bdd72d6b5ee",
   "metadata": {},
   "source": [
    "# exception handling"
   ]
  },
  {
   "cell_type": "code",
   "execution_count": 4,
   "id": "affcd8ad-a44e-43b1-8413-a066e08692f7",
   "metadata": {},
   "outputs": [
    {
     "ename": "FileNotFoundError",
     "evalue": "[Errno 2] No such file or directory: 'fest.txt'",
     "output_type": "error",
     "traceback": [
      "\u001b[0;31m---------------------------------------------------------------------------\u001b[0m",
      "\u001b[0;31mFileNotFoundError\u001b[0m                         Traceback (most recent call last)",
      "Cell \u001b[0;32mIn[4], line 1\u001b[0m\n\u001b[0;32m----> 1\u001b[0m f\u001b[38;5;241m=\u001b[39m\u001b[38;5;28;43mopen\u001b[39;49m\u001b[43m(\u001b[49m\u001b[38;5;124;43m'\u001b[39;49m\u001b[38;5;124;43mfest.txt\u001b[39;49m\u001b[38;5;124;43m'\u001b[39;49m\u001b[43m,\u001b[49m\u001b[38;5;124;43m'\u001b[39;49m\u001b[38;5;124;43mr\u001b[39;49m\u001b[38;5;124;43m'\u001b[39;49m\u001b[43m)\u001b[49m\n\u001b[1;32m      2\u001b[0m f\u001b[38;5;241m.\u001b[39mwrite(\u001b[38;5;124m'\u001b[39m\u001b[38;5;124mthis is data science master\u001b[39m\u001b[38;5;124m'\u001b[39m)\n",
      "File \u001b[0;32m/opt/conda/lib/python3.10/site-packages/IPython/core/interactiveshell.py:282\u001b[0m, in \u001b[0;36m_modified_open\u001b[0;34m(file, *args, **kwargs)\u001b[0m\n\u001b[1;32m    275\u001b[0m \u001b[38;5;28;01mif\u001b[39;00m file \u001b[38;5;129;01min\u001b[39;00m {\u001b[38;5;241m0\u001b[39m, \u001b[38;5;241m1\u001b[39m, \u001b[38;5;241m2\u001b[39m}:\n\u001b[1;32m    276\u001b[0m     \u001b[38;5;28;01mraise\u001b[39;00m \u001b[38;5;167;01mValueError\u001b[39;00m(\n\u001b[1;32m    277\u001b[0m         \u001b[38;5;124mf\u001b[39m\u001b[38;5;124m\"\u001b[39m\u001b[38;5;124mIPython won\u001b[39m\u001b[38;5;124m'\u001b[39m\u001b[38;5;124mt let you open fd=\u001b[39m\u001b[38;5;132;01m{\u001b[39;00mfile\u001b[38;5;132;01m}\u001b[39;00m\u001b[38;5;124m by default \u001b[39m\u001b[38;5;124m\"\u001b[39m\n\u001b[1;32m    278\u001b[0m         \u001b[38;5;124m\"\u001b[39m\u001b[38;5;124mas it is likely to crash IPython. If you know what you are doing, \u001b[39m\u001b[38;5;124m\"\u001b[39m\n\u001b[1;32m    279\u001b[0m         \u001b[38;5;124m\"\u001b[39m\u001b[38;5;124myou can use builtins\u001b[39m\u001b[38;5;124m'\u001b[39m\u001b[38;5;124m open.\u001b[39m\u001b[38;5;124m\"\u001b[39m\n\u001b[1;32m    280\u001b[0m     )\n\u001b[0;32m--> 282\u001b[0m \u001b[38;5;28;01mreturn\u001b[39;00m \u001b[43mio_open\u001b[49m\u001b[43m(\u001b[49m\u001b[43mfile\u001b[49m\u001b[43m,\u001b[49m\u001b[43m \u001b[49m\u001b[38;5;241;43m*\u001b[39;49m\u001b[43margs\u001b[49m\u001b[43m,\u001b[49m\u001b[43m \u001b[49m\u001b[38;5;241;43m*\u001b[39;49m\u001b[38;5;241;43m*\u001b[39;49m\u001b[43mkwargs\u001b[49m\u001b[43m)\u001b[49m\n",
      "\u001b[0;31mFileNotFoundError\u001b[0m: [Errno 2] No such file or directory: 'fest.txt'"
     ]
    }
   ],
   "source": [
    "f=open('fest.txt','r')\n",
    "f.write('this is data science master')"
   ]
  },
  {
   "cell_type": "code",
   "execution_count": 11,
   "id": "27a17757-d2c6-4a9b-9782-18e9b19e404f",
   "metadata": {},
   "outputs": [
    {
     "name": "stdout",
     "output_type": "stream",
     "text": [
      "there is some issue with my code [Errno 2] No such file or directory: 'fest.txt'\n",
      "this is my print\n"
     ]
    },
    {
     "data": {
      "text/plain": [
       "10"
      ]
     },
     "execution_count": 11,
     "metadata": {},
     "output_type": "execute_result"
    }
   ],
   "source": [
    "# in the above code there is no error in programming but it is showing error only because file doesnt exist in directory\n",
    "# inorder to prevent such errors there is exception handling in which code is written in try block\n",
    "# exception handling will allow the further code to get executed against earlier where error code was stopping further code from execution\n",
    "try:\n",
    "    f=open('fest.txt','r')\n",
    "    f.write('this is data science master')\n",
    "except Exception as e:\n",
    "    print('there is some issue with my code',e) \n",
    "print('this is my print')\n",
    "a=10\n",
    "a\n",
    "    \n",
    "    "
   ]
  },
  {
   "cell_type": "code",
   "execution_count": 16,
   "id": "82b2e72c-c250-4b00-a173-c0fcd2e0ebc2",
   "metadata": {},
   "outputs": [],
   "source": [
    "try:\n",
    "    f=open('fest.txt','w')\n",
    "    f.write('this is data science master')\n",
    "    f.close()\n",
    "except Exception as e:\n",
    "    print('there is some issue with my code',e) \n",
    "    "
   ]
  },
  {
   "cell_type": "code",
   "execution_count": 18,
   "id": "4c2d1c2c-9a67-42f9-9f87-fa1dedf43b29",
   "metadata": {},
   "outputs": [
    {
     "name": "stdout",
     "output_type": "stream",
     "text": [
      "this block executes only if try block is able to get executed without exception\n"
     ]
    }
   ],
   "source": [
    "try:\n",
    "    f=open('fest.txt','w')\n",
    "    f.write('this is data science master')\n",
    "    \n",
    "except Exception as e:\n",
    "    print('there is some issue with my code',e)\n",
    "else:\n",
    "    f.close() # else block executes only if try block is able to get executed without exception\n",
    "    print('this block executes only if try block is able to get executed without exception')"
   ]
  },
  {
   "cell_type": "code",
   "execution_count": 19,
   "id": "d8cb5447-f519-4098-8234-fef78d652745",
   "metadata": {},
   "outputs": [
    {
     "name": "stdout",
     "output_type": "stream",
     "text": [
      "there is some issue with my code [Errno 2] No such file or directory: 'test50.txt'\n"
     ]
    }
   ],
   "source": [
    "try:\n",
    "    f=open('test50.txt','r') # try block has error since it is trying to execute read even though file doesnt exist..in this case it will not exceute else block and will execute exception block\n",
    "    f.write('this is data science master')\n",
    "    \n",
    "except Exception as e:\n",
    "    print('there is some issue with my code',e)\n",
    "else:\n",
    "    f.close() # else block executes only if try block is able to get executed without exception\n",
    "    print('this block executes only if try block is able to get executed without exception')"
   ]
  },
  {
   "cell_type": "code",
   "execution_count": 20,
   "id": "2b314f61-aa9f-4e44-9dd2-41c4a6e89878",
   "metadata": {},
   "outputs": [
    {
     "name": "stdout",
     "output_type": "stream",
     "text": [
      "this will always execute\n"
     ]
    },
    {
     "ename": "FileNotFoundError",
     "evalue": "[Errno 2] No such file or directory: 'test50.txt'",
     "output_type": "error",
     "traceback": [
      "\u001b[0;31m---------------------------------------------------------------------------\u001b[0m",
      "\u001b[0;31mFileNotFoundError\u001b[0m                         Traceback (most recent call last)",
      "Cell \u001b[0;32mIn[20], line 3\u001b[0m\n\u001b[1;32m      1\u001b[0m \u001b[38;5;66;03m# 4th and last block in exception handling\u001b[39;00m\n\u001b[1;32m      2\u001b[0m \u001b[38;5;28;01mtry\u001b[39;00m:\n\u001b[0;32m----> 3\u001b[0m     f\u001b[38;5;241m=\u001b[39m\u001b[38;5;28;43mopen\u001b[39;49m\u001b[43m(\u001b[49m\u001b[38;5;124;43m'\u001b[39;49m\u001b[38;5;124;43mtest50.txt\u001b[39;49m\u001b[38;5;124;43m'\u001b[39;49m\u001b[43m,\u001b[49m\u001b[38;5;124;43m'\u001b[39;49m\u001b[38;5;124;43mr\u001b[39;49m\u001b[38;5;124;43m'\u001b[39;49m\u001b[43m)\u001b[49m \n\u001b[1;32m      4\u001b[0m     f\u001b[38;5;241m.\u001b[39mwrite(\u001b[38;5;124m'\u001b[39m\u001b[38;5;124mthis is data science master\u001b[39m\u001b[38;5;124m'\u001b[39m)\n\u001b[1;32m      5\u001b[0m \u001b[38;5;28;01mfinally\u001b[39;00m:\n",
      "File \u001b[0;32m/opt/conda/lib/python3.10/site-packages/IPython/core/interactiveshell.py:282\u001b[0m, in \u001b[0;36m_modified_open\u001b[0;34m(file, *args, **kwargs)\u001b[0m\n\u001b[1;32m    275\u001b[0m \u001b[38;5;28;01mif\u001b[39;00m file \u001b[38;5;129;01min\u001b[39;00m {\u001b[38;5;241m0\u001b[39m, \u001b[38;5;241m1\u001b[39m, \u001b[38;5;241m2\u001b[39m}:\n\u001b[1;32m    276\u001b[0m     \u001b[38;5;28;01mraise\u001b[39;00m \u001b[38;5;167;01mValueError\u001b[39;00m(\n\u001b[1;32m    277\u001b[0m         \u001b[38;5;124mf\u001b[39m\u001b[38;5;124m\"\u001b[39m\u001b[38;5;124mIPython won\u001b[39m\u001b[38;5;124m'\u001b[39m\u001b[38;5;124mt let you open fd=\u001b[39m\u001b[38;5;132;01m{\u001b[39;00mfile\u001b[38;5;132;01m}\u001b[39;00m\u001b[38;5;124m by default \u001b[39m\u001b[38;5;124m\"\u001b[39m\n\u001b[1;32m    278\u001b[0m         \u001b[38;5;124m\"\u001b[39m\u001b[38;5;124mas it is likely to crash IPython. If you know what you are doing, \u001b[39m\u001b[38;5;124m\"\u001b[39m\n\u001b[1;32m    279\u001b[0m         \u001b[38;5;124m\"\u001b[39m\u001b[38;5;124myou can use builtins\u001b[39m\u001b[38;5;124m'\u001b[39m\u001b[38;5;124m open.\u001b[39m\u001b[38;5;124m\"\u001b[39m\n\u001b[1;32m    280\u001b[0m     )\n\u001b[0;32m--> 282\u001b[0m \u001b[38;5;28;01mreturn\u001b[39;00m \u001b[43mio_open\u001b[49m\u001b[43m(\u001b[49m\u001b[43mfile\u001b[49m\u001b[43m,\u001b[49m\u001b[43m \u001b[49m\u001b[38;5;241;43m*\u001b[39;49m\u001b[43margs\u001b[49m\u001b[43m,\u001b[49m\u001b[43m \u001b[49m\u001b[38;5;241;43m*\u001b[39;49m\u001b[38;5;241;43m*\u001b[39;49m\u001b[43mkwargs\u001b[49m\u001b[43m)\u001b[49m\n",
      "\u001b[0;31mFileNotFoundError\u001b[0m: [Errno 2] No such file or directory: 'test50.txt'"
     ]
    }
   ],
   "source": [
    "# 4th and last block in exception handling\n",
    "try:\n",
    "    f=open('test50.txt','r') \n",
    "    f.write('this is data science master')\n",
    "finally:\n",
    "    print('this will always execute') #finally bloacks always execute itself...those things are kept in finally which you want to execute at any cost"
   ]
  },
  {
   "cell_type": "code",
   "execution_count": 21,
   "id": "f74f18f1-4239-4cfe-85aa-167514016c7c",
   "metadata": {},
   "outputs": [
    {
     "name": "stdout",
     "output_type": "stream",
     "text": [
      "there is some issue with my code [Errno 2] No such file or directory: 'test50.txt'\n",
      "this will always execute\n"
     ]
    }
   ],
   "source": [
    "try:\n",
    "    f=open('test50.txt','r') # try block has error since it is trying to execute read even though file doesnt exist..in this case it will not exceute else block and will execute exception block\n",
    "    f.write('this is data science master')\n",
    "    \n",
    "except Exception as e:\n",
    "    print('there is some issue with my code',e)\n",
    "else:\n",
    "    f.close() # else block executes only if try block is able to get executed without exception\n",
    "    print('this block executes only if try block is able to get executed without exception')\n",
    "finally:\n",
    "    print(\"this will always execute\")"
   ]
  },
  {
   "cell_type": "code",
   "execution_count": 22,
   "id": "79dd76ba-ab6e-4e2f-b438-b5cea1511844",
   "metadata": {},
   "outputs": [
    {
     "name": "stdout",
     "output_type": "stream",
     "text": [
      "this block executes only if try block is able to get executed without exception\n",
      "this will always execute\n"
     ]
    }
   ],
   "source": [
    "try:\n",
    "    f=open('test50.txt','w') # try block has error since it is trying to execute read even though file doesnt exist..in this case it will not exceute else block and will execute exception block\n",
    "    f.write('this is data science master')\n",
    "    \n",
    "except Exception as e:\n",
    "    print('there is some issue with my code',e)\n",
    "else:\n",
    "    f.close() # else block executes only if try block is able to get executed without exception\n",
    "    print('this block executes only if try block is able to get executed without exception')\n",
    "finally:\n",
    "    print(\"this will always execute\")"
   ]
  },
  {
   "cell_type": "markdown",
   "id": "04abe338-3c5b-40a6-9261-75a80a398f3c",
   "metadata": {},
   "source": [
    "# custom exception handling"
   ]
  },
  {
   "cell_type": "code",
   "execution_count": 1,
   "id": "90b630c2-8454-4f28-8258-c24a421baa97",
   "metadata": {},
   "outputs": [
    {
     "name": "stdin",
     "output_type": "stream",
     "text": [
      "enter your age 25\n"
     ]
    }
   ],
   "source": [
    "# to raise exceptions which are user defined and not exception as per system\n",
    "age=input('enter your age')"
   ]
  },
  {
   "cell_type": "code",
   "execution_count": 2,
   "id": "712e92a8-7a7c-4114-b02a-9aa83cd705d4",
   "metadata": {},
   "outputs": [
    {
     "data": {
      "text/plain": [
       "str"
      ]
     },
     "execution_count": 2,
     "metadata": {},
     "output_type": "execute_result"
    }
   ],
   "source": [
    "type(age)"
   ]
  },
  {
   "cell_type": "code",
   "execution_count": 3,
   "id": "9adf7c38-8dfa-431d-b6e1-4f65b744e0d5",
   "metadata": {},
   "outputs": [
    {
     "name": "stdin",
     "output_type": "stream",
     "text": [
      "enter your age 25\n"
     ]
    }
   ],
   "source": [
    "age=int(input('enter your age'))"
   ]
  },
  {
   "cell_type": "code",
   "execution_count": 4,
   "id": "a9e39d79-6243-4c6b-9527-699cf2d437e6",
   "metadata": {},
   "outputs": [
    {
     "data": {
      "text/plain": [
       "int"
      ]
     },
     "execution_count": 4,
     "metadata": {},
     "output_type": "execute_result"
    }
   ],
   "source": [
    "type(age)"
   ]
  },
  {
   "cell_type": "code",
   "execution_count": 5,
   "id": "172449dd-ebc8-405c-8285-3044991474e4",
   "metadata": {},
   "outputs": [
    {
     "name": "stdin",
     "output_type": "stream",
     "text": [
      "enter your age -25\n"
     ]
    }
   ],
   "source": [
    "age=int(input('enter your age')) # age cannot be negative but system accepts it but for user it is an error"
   ]
  },
  {
   "cell_type": "code",
   "execution_count": 7,
   "id": "5cbc0fb4-ef96-4dff-a816-e6db81ee3bc4",
   "metadata": {},
   "outputs": [],
   "source": [
    "# creating custom exception\n",
    "class valid_age(Exception):    #inheriting exception\n",
    "    def __init__(self,msg):\n",
    "        self.msg=msg"
   ]
  },
  {
   "cell_type": "code",
   "execution_count": 14,
   "id": "19b3f21b-9b21-4263-a652-5fef21ee20d3",
   "metadata": {},
   "outputs": [],
   "source": [
    "def validage(age):\n",
    "    if age<0:\n",
    "        raise valid_age('age should not be less than zero')\n",
    "    elif age>100:\n",
    "        raise valid_age('age should be less than 100')\n",
    "    else:\n",
    "        print('age is valid')"
   ]
  },
  {
   "cell_type": "code",
   "execution_count": 16,
   "id": "3edccb3a-7006-4db3-a06d-cdb6ffee441e",
   "metadata": {},
   "outputs": [
    {
     "name": "stdin",
     "output_type": "stream",
     "text": [
      "enter your age -25\n"
     ]
    },
    {
     "name": "stdout",
     "output_type": "stream",
     "text": [
      "age should not be less than zero\n"
     ]
    }
   ],
   "source": [
    "try:\n",
    "    age=int(input('enter your age')) \n",
    "    validage(age)\n",
    "except valid_age as e:\n",
    "    print(e)\n",
    "    "
   ]
  },
  {
   "cell_type": "code",
   "execution_count": null,
   "id": "06f5d14c-1049-4398-8696-4c79d29b43bc",
   "metadata": {},
   "outputs": [],
   "source": []
  }
 ],
 "metadata": {
  "kernelspec": {
   "display_name": "Python 3 (ipykernel)",
   "language": "python",
   "name": "python3"
  },
  "language_info": {
   "codemirror_mode": {
    "name": "ipython",
    "version": 3
   },
   "file_extension": ".py",
   "mimetype": "text/x-python",
   "name": "python",
   "nbconvert_exporter": "python",
   "pygments_lexer": "ipython3",
   "version": "3.10.8"
  }
 },
 "nbformat": 4,
 "nbformat_minor": 5
}
