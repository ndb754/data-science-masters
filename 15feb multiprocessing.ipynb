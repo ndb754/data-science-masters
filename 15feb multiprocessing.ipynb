{
 "cells": [
  {
   "cell_type": "code",
   "execution_count": 3,
   "id": "ca3f8e40-c703-4c76-9891-9a6bb89e83dd",
   "metadata": {},
   "outputs": [
    {
     "name": "stdout",
     "output_type": "stream",
     "text": [
      "this is my main program\n",
      "this is my multiprocessing program\n"
     ]
    }
   ],
   "source": [
    "import multiprocessing\n",
    "def test():\n",
    "    print('this is my multiprocessing program')\n",
    "    \n",
    "if __name__==\"__main__\": # main method in python\n",
    "    m=multiprocessing.Process(target=test)\n",
    "    print('this is my main program')\n",
    "    m.start()\n",
    "    m.join()\n",
    "    \n",
    "#main program will behave as a parent and under it calling test function through m.start will function as child program..for further information press tab at start()    "
   ]
  },
  {
   "cell_type": "code",
   "execution_count": 4,
   "id": "77349f16-239d-4282-befe-921e49ffc36c",
   "metadata": {},
   "outputs": [
    {
     "name": "stdout",
     "output_type": "stream",
     "text": [
      "[9, 4, 16, 25, 36, 2025, 4489, 7744]\n"
     ]
    }
   ],
   "source": [
    "#distributing data to different instances of same function for multiprocessing\n",
    "def square(n):\n",
    "    return n**2\n",
    "if __name__=='__main__':\n",
    "    with multiprocessing.Pool(processes=5) as pool: #pool() create 5 instances of square method and will give different values of list given to these 5 different methods and compile it\n",
    "        out=pool.map(square,[3,2,4,5,6,45,67,88]) # map,reduce and filter function already taught before...takes function as first input and iterables as second input\n",
    "        print(out)\n",
    "    \n",
    "    "
   ]
  },
  {
   "cell_type": "code",
   "execution_count": null,
   "id": "d7bfb5cb-8cbf-4172-a4f4-adcd8586d716",
   "metadata": {},
   "outputs": [
    {
     "name": "stdout",
     "output_type": "stream",
     "text": [
      "nikhil\n",
      "bhanu\n",
      "shali\n",
      "smit\n",
      "dinesh\n",
      "geeta\n",
      "xyz\n"
     ]
    }
   ],
   "source": [
    "#multiprocessing operation on queue(first in first out) one process/function will add data to queue..other will remove data from queue simultaneously and print it \n",
    "import multiprocessing\n",
    "def producer(q):\n",
    "    for i in ['nikhil','bhanu','shali','smit','dinesh','geeta']:\n",
    "        q.put(i) # it will create a queue by putting daata in the queue\n",
    "def consume(q):\n",
    "    while True:\n",
    "        item=q.get() # remove data from queue in fifo fashion\n",
    "        if item is None:\n",
    "            break\n",
    "        print(item)\n",
    "if __name__==\"__main__\":\n",
    "    queue=multiprocessing.Queue()# will create queue data structure\n",
    "    m1=multiprocessing.Process(target=producer,args=(queue,))\n",
    "    m2=multiprocessing.Process(target=consume,args=(queue,))\n",
    "    m1.start()\n",
    "    m2.start()\n",
    "    queue.put(\"xyz\")\n",
    "    m1.join()\n",
    "    m2.join()"
   ]
  },
  {
   "cell_type": "code",
   "execution_count": 2,
   "id": "18e1426b-1f78-4afa-a116-44c5ebd00f07",
   "metadata": {},
   "outputs": [
    {
     "name": "stdout",
     "output_type": "stream",
     "text": [
      "[2, 3, 4, 5, 6, 7, 8, 9]\n"
     ]
    }
   ],
   "source": [
    "#square the numbers in list rhrough multiprocessing\n",
    "import multiprocessing\n",
    "def square(index,value):\n",
    "    value[index]==value[index]**2\n",
    "    \n",
    "if __name__=='__main__':\n",
    "    arr=multiprocessing.Array('i',[2,3,4,5,6,7,8,9]) # creates global array which can be accessed by multiple processor\n",
    "    process=[]\n",
    "    for i in range(8):\n",
    "        m=multiprocessing.Process(target=square,args=(i,arr))# will create 8 processes and 8 outputs\n",
    "        process.append(m)#appends 8 outputs in empty list called process\n",
    "        m.start()\n",
    "    for m in process:\n",
    "        m.join()\n",
    "    print(list(arr)) #typecasting\n",
    "    "
   ]
  },
  {
   "cell_type": "code",
   "execution_count": null,
   "id": "9fcf12b9-141b-4efc-8cb0-60b8c5fda2b7",
   "metadata": {},
   "outputs": [],
   "source": [
    "# multiprocesing in piping operation...like 2 way communication(duplex) like sending and receiving msg on whatsapp between 2 user with processing server in between\n",
    "import multiprocessing\n",
    "def sender(conn,msg):\n",
    "    for i in msg:\n",
    "        conn.send(i)\n",
    "    conn.close()\n",
    "\n",
    "def receive(conn):\n",
    "    while True:\n",
    "        try:\n",
    "            msg=conn.recv\n",
    "        except Exception as e:\n",
    "            print(e)\n",
    "            break\n",
    "        print(msg)\n",
    "        \n",
    "if __name__=='__main__':\n",
    "    msg=[\"my name is nikhil\",\"this is my hello message\",'i am doing data science master','i practice code']\n",
    "    parent_conn,child_conn=multiprocessing.Pipe()\n",
    "    m1=multiprocessing.Process(target=sender,args=(child_conn,msg))\n",
    "    m2=multiprocessing.Process(target=receive,args=(parent_conn,))\n",
    "    m1.start()\n",
    "    m2.start()\n",
    "    m1.join()\n",
    "    child_conn.close()\n",
    "    m2.join()\n",
    "    parent_conn.close()"
   ]
  },
  {
   "cell_type": "code",
   "execution_count": null,
   "id": "95148529-c460-46cb-ba03-4ed085e8de1c",
   "metadata": {},
   "outputs": [],
   "source": []
  }
 ],
 "metadata": {
  "kernelspec": {
   "display_name": "Python 3 (ipykernel)",
   "language": "python",
   "name": "python3"
  },
  "language_info": {
   "codemirror_mode": {
    "name": "ipython",
    "version": 3
   },
   "file_extension": ".py",
   "mimetype": "text/x-python",
   "name": "python",
   "nbconvert_exporter": "python",
   "pygments_lexer": "ipython3",
   "version": "3.10.8"
  }
 },
 "nbformat": 4,
 "nbformat_minor": 5
}
