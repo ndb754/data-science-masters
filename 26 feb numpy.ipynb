{
 "cells": [
  {
   "cell_type": "code",
   "execution_count": 1,
   "id": "c0129494-4730-40ce-b625-3ac061b8bd79",
   "metadata": {},
   "outputs": [],
   "source": [
    "import numpy as np"
   ]
  },
  {
   "cell_type": "code",
   "execution_count": 4,
   "id": "39ff001e-9414-4147-926c-a4ac5632770d",
   "metadata": {},
   "outputs": [
    {
     "data": {
      "text/plain": [
       "array([1, 2, 3, 4, 5])"
      ]
     },
     "execution_count": 4,
     "metadata": {},
     "output_type": "execute_result"
    }
   ],
   "source": [
    "l=[1,2,3,4,5]\n",
    "np.array(l) # converting list into array"
   ]
  },
  {
   "cell_type": "code",
   "execution_count": 5,
   "id": "87096863-f0b3-4b72-8433-98725c4e5d95",
   "metadata": {},
   "outputs": [],
   "source": [
    "arr=np.array(l)"
   ]
  },
  {
   "cell_type": "code",
   "execution_count": 6,
   "id": "e8f35fe8-47c4-4053-8044-2be42f505287",
   "metadata": {},
   "outputs": [
    {
     "data": {
      "text/plain": [
       "numpy.ndarray"
      ]
     },
     "execution_count": 6,
     "metadata": {},
     "output_type": "execute_result"
    }
   ],
   "source": [
    "type(arr)"
   ]
  },
  {
   "cell_type": "code",
   "execution_count": 10,
   "id": "87c8019d-e648-4055-aa2a-4e99c04521cf",
   "metadata": {},
   "outputs": [
    {
     "data": {
      "text/plain": [
       "array([[1, 2, 3],\n",
       "       [3, 4, 5]])"
      ]
     },
     "execution_count": 10,
     "metadata": {},
     "output_type": "execute_result"
    }
   ],
   "source": [
    "np.array([[1,2,3],[3,4,5]]) #converting nested list into 2 dimension array..2 dimension array has 2 square brackets"
   ]
  },
  {
   "cell_type": "code",
   "execution_count": 11,
   "id": "cd8fe34a-ad7a-41db-9a17-a23d0fcead83",
   "metadata": {},
   "outputs": [
    {
     "data": {
      "text/plain": [
       "2"
      ]
     },
     "execution_count": 11,
     "metadata": {},
     "output_type": "execute_result"
    }
   ],
   "source": [
    "arr1=np.array([[1,2,3],[3,4,5]])\n",
    "arr1.ndim #to check dimension"
   ]
  },
  {
   "cell_type": "code",
   "execution_count": 12,
   "id": "fd64ca4b-78f4-456f-9378-e8b6bf1bd9cf",
   "metadata": {},
   "outputs": [
    {
     "data": {
      "text/plain": [
       "1"
      ]
     },
     "execution_count": 12,
     "metadata": {},
     "output_type": "execute_result"
    }
   ],
   "source": [
    "arr.ndim"
   ]
  },
  {
   "cell_type": "code",
   "execution_count": 13,
   "id": "df526b37-01b2-44c3-b2f9-5f17a8442a83",
   "metadata": {},
   "outputs": [
    {
     "data": {
      "text/plain": [
       "matrix([[1, 2, 3, 4, 5]])"
      ]
     },
     "execution_count": 13,
     "metadata": {},
     "output_type": "execute_result"
    }
   ],
   "source": [
    "np.matrix(l) # matrix is always 2 dimensional...array can be one or two dimensional"
   ]
  },
  {
   "cell_type": "code",
   "execution_count": 16,
   "id": "d7bac91d-f220-475b-bb6d-cb25c49241f2",
   "metadata": {},
   "outputs": [],
   "source": [
    "mat=np.matrix(l)"
   ]
  },
  {
   "cell_type": "code",
   "execution_count": 15,
   "id": "ef0ddd59-8099-4993-97df-21671abe154f",
   "metadata": {},
   "outputs": [
    {
     "data": {
      "text/plain": [
       "array([1, 2, 3, 4, 5])"
      ]
     },
     "execution_count": 15,
     "metadata": {},
     "output_type": "execute_result"
    }
   ],
   "source": [
    "np.asanyarray(l) # cpnverting list into array"
   ]
  },
  {
   "cell_type": "code",
   "execution_count": 17,
   "id": "8c6c9447-6d1a-4b2a-b30d-c974e6c522ae",
   "metadata": {},
   "outputs": [
    {
     "data": {
      "text/plain": [
       "matrix([[1, 2, 3, 4, 5]])"
      ]
     },
     "execution_count": 17,
     "metadata": {},
     "output_type": "execute_result"
    }
   ],
   "source": [
    "np.asanyarray(mat) # matrix is already a subset of array..in python matrix is 2 dimensional array"
   ]
  },
  {
   "cell_type": "code",
   "execution_count": 18,
   "id": "1d2c6819-b90e-447d-b688-fda09bae08d9",
   "metadata": {},
   "outputs": [
    {
     "data": {
      "text/plain": [
       "array([1, 2, 3, 4, 5])"
      ]
     },
     "execution_count": 18,
     "metadata": {},
     "output_type": "execute_result"
    }
   ],
   "source": [
    "arr"
   ]
  },
  {
   "cell_type": "code",
   "execution_count": 21,
   "id": "461e8067-fda1-4697-b1b6-30a91e4f493e",
   "metadata": {},
   "outputs": [],
   "source": [
    "a=arr"
   ]
  },
  {
   "cell_type": "code",
   "execution_count": 22,
   "id": "c90cc127-6eb2-4552-bb5d-50fd946790c3",
   "metadata": {},
   "outputs": [
    {
     "data": {
      "text/plain": [
       "array([100,   2,   3,   4,   5])"
      ]
     },
     "execution_count": 22,
     "metadata": {},
     "output_type": "execute_result"
    }
   ],
   "source": [
    "arr[0]=100\n",
    "arr"
   ]
  },
  {
   "cell_type": "code",
   "execution_count": 23,
   "id": "dcbe5229-56a2-4498-a7d8-f99a2ce174a2",
   "metadata": {},
   "outputs": [
    {
     "data": {
      "text/plain": [
       "array([100,   2,   3,   4,   5])"
      ]
     },
     "execution_count": 23,
     "metadata": {},
     "output_type": "execute_result"
    }
   ],
   "source": [
    "a # changes in arr is reflected in a too...since both the variable pointing at same memory location"
   ]
  },
  {
   "cell_type": "code",
   "execution_count": 24,
   "id": "ceb02ce7-7987-41a6-a649-5750020277c7",
   "metadata": {},
   "outputs": [],
   "source": [
    "b=np.copy(arr) #creates seperate memory locaation"
   ]
  },
  {
   "cell_type": "code",
   "execution_count": 25,
   "id": "74985dd9-3c88-4598-b442-565ba30eaa64",
   "metadata": {},
   "outputs": [
    {
     "data": {
      "text/plain": [
       "array([100,   2,   3,   4,   5])"
      ]
     },
     "execution_count": 25,
     "metadata": {},
     "output_type": "execute_result"
    }
   ],
   "source": [
    "b"
   ]
  },
  {
   "cell_type": "code",
   "execution_count": 26,
   "id": "90918f8e-1034-4442-8632-c504323fc95b",
   "metadata": {},
   "outputs": [],
   "source": [
    "arr[1]=200"
   ]
  },
  {
   "cell_type": "code",
   "execution_count": 27,
   "id": "7dfceb3e-91b5-4025-93bb-bbbc6e240d52",
   "metadata": {},
   "outputs": [
    {
     "data": {
      "text/plain": [
       "array([100,   2,   3,   4,   5])"
      ]
     },
     "execution_count": 27,
     "metadata": {},
     "output_type": "execute_result"
    }
   ],
   "source": [
    "b # it didnt change since b is creating a replica of a in another memory location"
   ]
  },
  {
   "cell_type": "code",
   "execution_count": 29,
   "id": "7f9e3398-b114-4a65-9a37-3670374de682",
   "metadata": {},
   "outputs": [
    {
     "data": {
      "text/plain": [
       "array([[ True, False, False],\n",
       "       [False,  True, False],\n",
       "       [False, False,  True]])"
      ]
     },
     "execution_count": 29,
     "metadata": {},
     "output_type": "execute_result"
    }
   ],
   "source": [
    "np.fromfunction(lambda i,j:i==j,(3,3)) #(3,3) is creating array with 3 columns and 3 rows,i and j are rows and column\n",
    "#first is true because both are 0, second is false because either of them is 0 and otherone is 1...therefore i==j is comparinf"
   ]
  },
  {
   "cell_type": "code",
   "execution_count": 30,
   "id": "41df807b-95ee-4ed5-afcf-96a13796cafb",
   "metadata": {},
   "outputs": [
    {
     "data": {
      "text/plain": [
       "array([[0., 0., 0.],\n",
       "       [0., 1., 2.],\n",
       "       [0., 2., 4.]])"
      ]
     },
     "execution_count": 30,
     "metadata": {},
     "output_type": "execute_result"
    }
   ],
   "source": [
    "np.fromfunction(lambda i,j:i*j,(3,3))"
   ]
  },
  {
   "cell_type": "code",
   "execution_count": 32,
   "id": "dfc6b242-2abb-4a0e-aa9f-d50efd652c48",
   "metadata": {},
   "outputs": [
    {
     "data": {
      "text/plain": [
       "<generator object <genexpr> at 0x7f4fa0163d80>"
      ]
     },
     "execution_count": 32,
     "metadata": {},
     "output_type": "execute_result"
    }
   ],
   "source": [
    "(i*i for i in range(5))"
   ]
  },
  {
   "cell_type": "code",
   "execution_count": 33,
   "id": "158b3336-421b-4059-a14f-2de3e1c81cad",
   "metadata": {},
   "outputs": [
    {
     "data": {
      "text/plain": [
       "[0, 1, 4, 9, 16]"
      ]
     },
     "execution_count": 33,
     "metadata": {},
     "output_type": "execute_result"
    }
   ],
   "source": [
    "list(i*i for i in range(5))"
   ]
  },
  {
   "cell_type": "code",
   "execution_count": 34,
   "id": "93f291bb-784a-4dda-ab72-73f0955869e6",
   "metadata": {},
   "outputs": [],
   "source": [
    "iterable=list(i*i for i in range(5))"
   ]
  },
  {
   "cell_type": "code",
   "execution_count": 36,
   "id": "98eb8862-57f7-4be9-9413-db15f78fdfea",
   "metadata": {},
   "outputs": [
    {
     "data": {
      "text/plain": [
       "array([ 0,  1,  4,  9, 16])"
      ]
     },
     "execution_count": 36,
     "metadata": {},
     "output_type": "execute_result"
    }
   ],
   "source": [
    "np.fromiter(iterable,int) #converting the iterable list into array using fromiter()"
   ]
  },
  {
   "cell_type": "code",
   "execution_count": 37,
   "id": "63f626e9-fac5-4ab2-9e6d-73efeba601c5",
   "metadata": {},
   "outputs": [
    {
     "data": {
      "text/plain": [
       "array([ 0.,  1.,  4.,  9., 16.])"
      ]
     },
     "execution_count": 37,
     "metadata": {},
     "output_type": "execute_result"
    }
   ],
   "source": [
    "np.fromiter(iterable,float)"
   ]
  },
  {
   "cell_type": "code",
   "execution_count": 38,
   "id": "c1b05db7-0426-4685-85ab-708a29a06ae0",
   "metadata": {},
   "outputs": [
    {
     "data": {
      "text/plain": [
       "array([22., 34., 45.])"
      ]
     },
     "execution_count": 38,
     "metadata": {},
     "output_type": "execute_result"
    }
   ],
   "source": [
    "np.fromstring('22 34 45',sep=' ') #sep is seperator...numpy gives everything in array datatype"
   ]
  },
  {
   "cell_type": "code",
   "execution_count": 40,
   "id": "245cbda7-1d82-4369-b09f-7ffc4e6ac064",
   "metadata": {},
   "outputs": [
    {
     "data": {
      "text/plain": [
       "array([22., 34., 45.])"
      ]
     },
     "execution_count": 40,
     "metadata": {},
     "output_type": "execute_result"
    }
   ],
   "source": [
    "np.fromstring('22,34,45',sep=',')"
   ]
  },
  {
   "cell_type": "code",
   "execution_count": 42,
   "id": "5d60e02a-42bc-4121-92c4-f14caa398dc5",
   "metadata": {},
   "outputs": [
    {
     "data": {
      "text/plain": [
       "array([[1, 2, 3],\n",
       "       [3, 4, 5]])"
      ]
     },
     "execution_count": 42,
     "metadata": {},
     "output_type": "execute_result"
    }
   ],
   "source": [
    "arr1"
   ]
  },
  {
   "cell_type": "code",
   "execution_count": 43,
   "id": "53e6ba53-dec7-4a5c-8698-d19335152020",
   "metadata": {},
   "outputs": [
    {
     "data": {
      "text/plain": [
       "2"
      ]
     },
     "execution_count": 43,
     "metadata": {},
     "output_type": "execute_result"
    }
   ],
   "source": [
    "arr1.ndim"
   ]
  },
  {
   "cell_type": "code",
   "execution_count": 44,
   "id": "a89bc351-6cfe-4e38-9588-f2c271c43c75",
   "metadata": {},
   "outputs": [
    {
     "data": {
      "text/plain": [
       "6"
      ]
     },
     "execution_count": 44,
     "metadata": {},
     "output_type": "execute_result"
    }
   ],
   "source": [
    "arr1.size # will give total no of elements inside array"
   ]
  },
  {
   "cell_type": "code",
   "execution_count": 45,
   "id": "3800532c-fd94-45dc-829e-56a5b19014a1",
   "metadata": {},
   "outputs": [
    {
     "data": {
      "text/plain": [
       "array([100, 200,   3,   4,   5])"
      ]
     },
     "execution_count": 45,
     "metadata": {},
     "output_type": "execute_result"
    }
   ],
   "source": [
    "arr"
   ]
  },
  {
   "cell_type": "code",
   "execution_count": 46,
   "id": "44ccf718-80e3-4944-869c-2942ec62d87c",
   "metadata": {},
   "outputs": [
    {
     "data": {
      "text/plain": [
       "(5,)"
      ]
     },
     "execution_count": 46,
     "metadata": {},
     "output_type": "execute_result"
    }
   ],
   "source": [
    "arr.shape # 5 rows,"
   ]
  },
  {
   "cell_type": "code",
   "execution_count": 47,
   "id": "be8ebfdd-eb2a-402f-ae67-35fd9ad29d17",
   "metadata": {},
   "outputs": [
    {
     "data": {
      "text/plain": [
       "(2, 3)"
      ]
     },
     "execution_count": 47,
     "metadata": {},
     "output_type": "execute_result"
    }
   ],
   "source": [
    "arr1.shape # 2 rows 3 colums"
   ]
  },
  {
   "cell_type": "code",
   "execution_count": 49,
   "id": "cdc4b6c8-92f8-4383-a92c-e94dd3a8ccd2",
   "metadata": {},
   "outputs": [
    {
     "data": {
      "text/plain": [
       "dtype('int64')"
      ]
     },
     "execution_count": 49,
     "metadata": {},
     "output_type": "execute_result"
    }
   ],
   "source": [
    "arr1.dtype # give datatype of element inside array"
   ]
  },
  {
   "cell_type": "code",
   "execution_count": 2,
   "id": "007694ad-5da4-47a8-9b41-a288c8aa4574",
   "metadata": {},
   "outputs": [
    {
     "data": {
      "text/plain": [
       "[0, 1, 2, 3, 4]"
      ]
     },
     "execution_count": 2,
     "metadata": {},
     "output_type": "execute_result"
    }
   ],
   "source": [
    "#part 2\n",
    "list(range(5))"
   ]
  },
  {
   "cell_type": "code",
   "execution_count": 3,
   "id": "35225de5-ecc4-4478-a371-285a1457272c",
   "metadata": {},
   "outputs": [
    {
     "data": {
      "text/plain": [
       "[0, 1, 2, 3, 4, 5, 6, 7, 8, 9]"
      ]
     },
     "execution_count": 3,
     "metadata": {},
     "output_type": "execute_result"
    }
   ],
   "source": [
    "list(range(0,10))"
   ]
  },
  {
   "cell_type": "code",
   "execution_count": 4,
   "id": "865e91fb-c5b0-4416-8617-cbf68bad10df",
   "metadata": {},
   "outputs": [
    {
     "ename": "TypeError",
     "evalue": "'float' object cannot be interpreted as an integer",
     "output_type": "error",
     "traceback": [
      "\u001b[0;31m---------------------------------------------------------------------------\u001b[0m",
      "\u001b[0;31mTypeError\u001b[0m                                 Traceback (most recent call last)",
      "Cell \u001b[0;32mIn[4], line 1\u001b[0m\n\u001b[0;32m----> 1\u001b[0m \u001b[38;5;28mlist\u001b[39m(\u001b[38;5;28;43mrange\u001b[39;49m\u001b[43m(\u001b[49m\u001b[38;5;241;43m0.4\u001b[39;49m\u001b[43m,\u001b[49m\u001b[38;5;241;43m10.5\u001b[39;49m\u001b[43m)\u001b[49m)\n",
      "\u001b[0;31mTypeError\u001b[0m: 'float' object cannot be interpreted as an integer"
     ]
    }
   ],
   "source": [
    "list(range(0.4,10.5))"
   ]
  },
  {
   "cell_type": "code",
   "execution_count": 5,
   "id": "d8101322-22dc-4217-a1d7-e74b002104ab",
   "metadata": {},
   "outputs": [
    {
     "data": {
      "text/plain": [
       "array([ 0.4,  1.4,  2.4,  3.4,  4.4,  5.4,  6.4,  7.4,  8.4,  9.4, 10.4])"
      ]
     },
     "execution_count": 5,
     "metadata": {},
     "output_type": "execute_result"
    }
   ],
   "source": [
    "np.arange(0.4,10.5)"
   ]
  },
  {
   "cell_type": "code",
   "execution_count": 6,
   "id": "9ce89431-b80c-4283-8b63-264bd4e66c59",
   "metadata": {},
   "outputs": [
    {
     "data": {
      "text/plain": [
       "array([ 0.4,  0.6,  0.8,  1. ,  1.2,  1.4,  1.6,  1.8,  2. ,  2.2,  2.4,\n",
       "        2.6,  2.8,  3. ,  3.2,  3.4,  3.6,  3.8,  4. ,  4.2,  4.4,  4.6,\n",
       "        4.8,  5. ,  5.2,  5.4,  5.6,  5.8,  6. ,  6.2,  6.4,  6.6,  6.8,\n",
       "        7. ,  7.2,  7.4,  7.6,  7.8,  8. ,  8.2,  8.4,  8.6,  8.8,  9. ,\n",
       "        9.2,  9.4,  9.6,  9.8, 10. , 10.2, 10.4])"
      ]
     },
     "execution_count": 6,
     "metadata": {},
     "output_type": "execute_result"
    }
   ],
   "source": [
    "np.arange(0.4,10.5,0.2) # 0.2 is stepsize"
   ]
  },
  {
   "cell_type": "code",
   "execution_count": 8,
   "id": "05a3d5a0-278a-45cc-9311-34afb52f057c",
   "metadata": {},
   "outputs": [
    {
     "data": {
      "text/plain": [
       "[0.4,\n",
       " 0.6000000000000001,\n",
       " 0.8000000000000002,\n",
       " 1.0000000000000002,\n",
       " 1.2000000000000002,\n",
       " 1.4000000000000004,\n",
       " 1.6000000000000005,\n",
       " 1.8000000000000003,\n",
       " 2.0000000000000004,\n",
       " 2.2000000000000006,\n",
       " 2.400000000000001,\n",
       " 2.6000000000000005,\n",
       " 2.8000000000000007,\n",
       " 3.000000000000001,\n",
       " 3.2000000000000006,\n",
       " 3.400000000000001,\n",
       " 3.600000000000001,\n",
       " 3.800000000000001,\n",
       " 4.000000000000002,\n",
       " 4.200000000000001,\n",
       " 4.400000000000002,\n",
       " 4.600000000000001,\n",
       " 4.800000000000002,\n",
       " 5.000000000000002,\n",
       " 5.200000000000002,\n",
       " 5.400000000000002,\n",
       " 5.600000000000002,\n",
       " 5.8000000000000025,\n",
       " 6.000000000000002,\n",
       " 6.200000000000002,\n",
       " 6.400000000000002,\n",
       " 6.600000000000002,\n",
       " 6.8000000000000025,\n",
       " 7.000000000000003,\n",
       " 7.200000000000003,\n",
       " 7.400000000000003,\n",
       " 7.600000000000003,\n",
       " 7.8000000000000025,\n",
       " 8.000000000000002,\n",
       " 8.200000000000003,\n",
       " 8.400000000000004,\n",
       " 8.600000000000003,\n",
       " 8.800000000000002,\n",
       " 9.000000000000004,\n",
       " 9.200000000000003,\n",
       " 9.400000000000004,\n",
       " 9.600000000000003,\n",
       " 9.800000000000004,\n",
       " 10.000000000000004,\n",
       " 10.200000000000003,\n",
       " 10.400000000000004]"
      ]
     },
     "execution_count": 8,
     "metadata": {},
     "output_type": "execute_result"
    }
   ],
   "source": [
    "list(np.arange(0.4,10.5,0.2))"
   ]
  },
  {
   "cell_type": "code",
   "execution_count": 9,
   "id": "6f3932a8-28c5-4173-98ac-8066a8e0e234",
   "metadata": {},
   "outputs": [
    {
     "data": {
      "text/plain": [
       "array([0.        , 0.26315789, 0.52631579, 0.78947368, 1.05263158,\n",
       "       1.31578947, 1.57894737, 1.84210526, 2.10526316, 2.36842105,\n",
       "       2.63157895, 2.89473684, 3.15789474, 3.42105263, 3.68421053,\n",
       "       3.94736842, 4.21052632, 4.47368421, 4.73684211, 5.        ])"
      ]
     },
     "execution_count": 9,
     "metadata": {},
     "output_type": "execute_result"
    }
   ],
   "source": [
    "np.linspace(0,5,20) # will generate 20 data between 0 and 5"
   ]
  },
  {
   "cell_type": "code",
   "execution_count": 10,
   "id": "5b8ed5e8-6e86-478d-9b4f-ae2e4e10c2e0",
   "metadata": {},
   "outputs": [
    {
     "data": {
      "text/plain": [
       "array([1.00000000e+00, 1.83298071e+00, 3.35981829e+00, 6.15848211e+00,\n",
       "       1.12883789e+01, 2.06913808e+01, 3.79269019e+01, 6.95192796e+01,\n",
       "       1.27427499e+02, 2.33572147e+02, 4.28133240e+02, 7.84759970e+02,\n",
       "       1.43844989e+03, 2.63665090e+03, 4.83293024e+03, 8.85866790e+03,\n",
       "       1.62377674e+04, 2.97635144e+04, 5.45559478e+04, 1.00000000e+05])"
      ]
     },
     "execution_count": 10,
     "metadata": {},
     "output_type": "execute_result"
    }
   ],
   "source": [
    "np.logspace(0,5,20) # will give 20 logarithmic data"
   ]
  },
  {
   "cell_type": "code",
   "execution_count": 11,
   "id": "4efa90be-0c42-4c87-957e-ffcd3c451499",
   "metadata": {},
   "outputs": [
    {
     "data": {
      "text/plain": [
       "array([ 1.        ,  1.20010272,  1.44024654,  1.72844379,  2.07431009,\n",
       "        2.48938518,  2.98751792,  3.58532838,  4.30276234,  5.16375679,\n",
       "        6.19703857,  7.43708284,  8.92526334, 10.71123281, 12.85457963,\n",
       "       15.42681597, 18.5137638 , 22.21841828, 26.6643842 , 32.        ])"
      ]
     },
     "execution_count": 11,
     "metadata": {},
     "output_type": "execute_result"
    }
   ],
   "source": [
    "np.logspace(0,5,20,base=2) "
   ]
  },
  {
   "cell_type": "code",
   "execution_count": 12,
   "id": "a16e1806-a174-4e8b-8981-3feca24bf86e",
   "metadata": {},
   "outputs": [
    {
     "data": {
      "text/plain": [
       "array([0., 0., 0., 0., 0.])"
      ]
     },
     "execution_count": 12,
     "metadata": {},
     "output_type": "execute_result"
    }
   ],
   "source": [
    "np.zeros(5)"
   ]
  },
  {
   "cell_type": "code",
   "execution_count": 14,
   "id": "2744347d-a263-4645-a6a6-75aa427ea37f",
   "metadata": {},
   "outputs": [
    {
     "data": {
      "text/plain": [
       "array([[0., 0., 0.],\n",
       "       [0., 0., 0.],\n",
       "       [0., 0., 0.]])"
      ]
     },
     "execution_count": 14,
     "metadata": {},
     "output_type": "execute_result"
    }
   ],
   "source": [
    "np.zeros((3,3))"
   ]
  },
  {
   "cell_type": "code",
   "execution_count": 15,
   "id": "8673ff0e-422d-4cc9-b7ab-305964d05795",
   "metadata": {},
   "outputs": [
    {
     "data": {
      "text/plain": [
       "array([[[0., 0.],\n",
       "        [0., 0.],\n",
       "        [0., 0.],\n",
       "        [0., 0.]],\n",
       "\n",
       "       [[0., 0.],\n",
       "        [0., 0.],\n",
       "        [0., 0.],\n",
       "        [0., 0.]],\n",
       "\n",
       "       [[0., 0.],\n",
       "        [0., 0.],\n",
       "        [0., 0.],\n",
       "        [0., 0.]]])"
      ]
     },
     "execution_count": 15,
     "metadata": {},
     "output_type": "execute_result"
    }
   ],
   "source": [
    "np.zeros((3,4,2)) # 3 matricesof 3 dimension made of 4 rows and 2 columns"
   ]
  },
  {
   "cell_type": "code",
   "execution_count": 18,
   "id": "9f54b9f3-83ec-4e22-853e-1871de20fc29",
   "metadata": {},
   "outputs": [
    {
     "data": {
      "text/plain": [
       "array([[[[0., 0., 0., 0., 0.],\n",
       "         [0., 0., 0., 0., 0.]],\n",
       "\n",
       "        [[0., 0., 0., 0., 0.],\n",
       "         [0., 0., 0., 0., 0.]],\n",
       "\n",
       "        [[0., 0., 0., 0., 0.],\n",
       "         [0., 0., 0., 0., 0.]],\n",
       "\n",
       "        [[0., 0., 0., 0., 0.],\n",
       "         [0., 0., 0., 0., 0.]]],\n",
       "\n",
       "\n",
       "       [[[0., 0., 0., 0., 0.],\n",
       "         [0., 0., 0., 0., 0.]],\n",
       "\n",
       "        [[0., 0., 0., 0., 0.],\n",
       "         [0., 0., 0., 0., 0.]],\n",
       "\n",
       "        [[0., 0., 0., 0., 0.],\n",
       "         [0., 0., 0., 0., 0.]],\n",
       "\n",
       "        [[0., 0., 0., 0., 0.],\n",
       "         [0., 0., 0., 0., 0.]]],\n",
       "\n",
       "\n",
       "       [[[0., 0., 0., 0., 0.],\n",
       "         [0., 0., 0., 0., 0.]],\n",
       "\n",
       "        [[0., 0., 0., 0., 0.],\n",
       "         [0., 0., 0., 0., 0.]],\n",
       "\n",
       "        [[0., 0., 0., 0., 0.],\n",
       "         [0., 0., 0., 0., 0.]],\n",
       "\n",
       "        [[0., 0., 0., 0., 0.],\n",
       "         [0., 0., 0., 0., 0.]]]])"
      ]
     },
     "execution_count": 18,
     "metadata": {},
     "output_type": "execute_result"
    }
   ],
   "source": [
    "np.zeros((3,4,2,5))"
   ]
  },
  {
   "cell_type": "code",
   "execution_count": 19,
   "id": "7a07d893-7051-4520-98c0-0cbc3840ff8a",
   "metadata": {},
   "outputs": [
    {
     "data": {
      "text/plain": [
       "array([1., 1., 1., 1., 1.])"
      ]
     },
     "execution_count": 19,
     "metadata": {},
     "output_type": "execute_result"
    }
   ],
   "source": [
    "np.ones(5)"
   ]
  },
  {
   "cell_type": "code",
   "execution_count": 20,
   "id": "2de68796-d0be-4c10-b812-69a606095ab4",
   "metadata": {},
   "outputs": [
    {
     "data": {
      "text/plain": [
       "array([[1., 1., 1., 1.],\n",
       "       [1., 1., 1., 1.],\n",
       "       [1., 1., 1., 1.]])"
      ]
     },
     "execution_count": 20,
     "metadata": {},
     "output_type": "execute_result"
    }
   ],
   "source": [
    "np.ones((3,4))"
   ]
  },
  {
   "cell_type": "code",
   "execution_count": 21,
   "id": "d5081686-10a0-4171-9c9b-1642dcbb1510",
   "metadata": {},
   "outputs": [],
   "source": [
    "arr=np.ones((3,4))"
   ]
  },
  {
   "cell_type": "code",
   "execution_count": 22,
   "id": "818e4018-aa00-4ff8-bb67-28c39ba300b9",
   "metadata": {},
   "outputs": [
    {
     "data": {
      "text/plain": [
       "array([[6., 6., 6., 6.],\n",
       "       [6., 6., 6., 6.],\n",
       "       [6., 6., 6., 6.]])"
      ]
     },
     "execution_count": 22,
     "metadata": {},
     "output_type": "execute_result"
    }
   ],
   "source": [
    "arr+5"
   ]
  },
  {
   "cell_type": "code",
   "execution_count": 23,
   "id": "aa7cfbc8-ed7c-4b04-b6f4-fb22e36d4003",
   "metadata": {},
   "outputs": [
    {
     "data": {
      "text/plain": [
       "array([[5., 5., 5., 5.],\n",
       "       [5., 5., 5., 5.],\n",
       "       [5., 5., 5., 5.]])"
      ]
     },
     "execution_count": 23,
     "metadata": {},
     "output_type": "execute_result"
    }
   ],
   "source": [
    "arr*5"
   ]
  },
  {
   "cell_type": "code",
   "execution_count": 24,
   "id": "1b3596ea-b44e-49de-a7c0-f968d8be7311",
   "metadata": {},
   "outputs": [
    {
     "data": {
      "text/plain": [
       "array([[5., 5., 5., 5.],\n",
       "       [5., 5., 5., 5.],\n",
       "       [5., 5., 5., 5.]])"
      ]
     },
     "execution_count": 24,
     "metadata": {},
     "output_type": "execute_result"
    }
   ],
   "source": [
    "np.empty((3,4))"
   ]
  },
  {
   "cell_type": "code",
   "execution_count": 25,
   "id": "2f0410ba-f225-44d2-a4dd-93c8fdb51dc3",
   "metadata": {},
   "outputs": [
    {
     "data": {
      "text/plain": [
       "array([[1., 0., 0., 0., 0.],\n",
       "       [0., 1., 0., 0., 0.],\n",
       "       [0., 0., 1., 0., 0.],\n",
       "       [0., 0., 0., 1., 0.],\n",
       "       [0., 0., 0., 0., 1.]])"
      ]
     },
     "execution_count": 25,
     "metadata": {},
     "output_type": "execute_result"
    }
   ],
   "source": [
    "np.eye(5) # 1 in diagnol"
   ]
  },
  {
   "cell_type": "code",
   "execution_count": 26,
   "id": "6f636b56-b1d9-4fa8-8cba-4264de3fa417",
   "metadata": {},
   "outputs": [],
   "source": [
    "import pandas as pd"
   ]
  },
  {
   "cell_type": "code",
   "execution_count": 27,
   "id": "4df1da32-b486-447c-ac62-b12fa427d50e",
   "metadata": {},
   "outputs": [],
   "source": [
    "arr1=np.eye(5)"
   ]
  },
  {
   "cell_type": "code",
   "execution_count": 28,
   "id": "8016cff7-ca0b-4c61-afad-d21f38c98e52",
   "metadata": {},
   "outputs": [
    {
     "data": {
      "text/html": [
       "<div>\n",
       "<style scoped>\n",
       "    .dataframe tbody tr th:only-of-type {\n",
       "        vertical-align: middle;\n",
       "    }\n",
       "\n",
       "    .dataframe tbody tr th {\n",
       "        vertical-align: top;\n",
       "    }\n",
       "\n",
       "    .dataframe thead th {\n",
       "        text-align: right;\n",
       "    }\n",
       "</style>\n",
       "<table border=\"1\" class=\"dataframe\">\n",
       "  <thead>\n",
       "    <tr style=\"text-align: right;\">\n",
       "      <th></th>\n",
       "      <th>0</th>\n",
       "      <th>1</th>\n",
       "      <th>2</th>\n",
       "      <th>3</th>\n",
       "      <th>4</th>\n",
       "    </tr>\n",
       "  </thead>\n",
       "  <tbody>\n",
       "    <tr>\n",
       "      <th>0</th>\n",
       "      <td>1.0</td>\n",
       "      <td>0.0</td>\n",
       "      <td>0.0</td>\n",
       "      <td>0.0</td>\n",
       "      <td>0.0</td>\n",
       "    </tr>\n",
       "    <tr>\n",
       "      <th>1</th>\n",
       "      <td>0.0</td>\n",
       "      <td>1.0</td>\n",
       "      <td>0.0</td>\n",
       "      <td>0.0</td>\n",
       "      <td>0.0</td>\n",
       "    </tr>\n",
       "    <tr>\n",
       "      <th>2</th>\n",
       "      <td>0.0</td>\n",
       "      <td>0.0</td>\n",
       "      <td>1.0</td>\n",
       "      <td>0.0</td>\n",
       "      <td>0.0</td>\n",
       "    </tr>\n",
       "    <tr>\n",
       "      <th>3</th>\n",
       "      <td>0.0</td>\n",
       "      <td>0.0</td>\n",
       "      <td>0.0</td>\n",
       "      <td>1.0</td>\n",
       "      <td>0.0</td>\n",
       "    </tr>\n",
       "    <tr>\n",
       "      <th>4</th>\n",
       "      <td>0.0</td>\n",
       "      <td>0.0</td>\n",
       "      <td>0.0</td>\n",
       "      <td>0.0</td>\n",
       "      <td>1.0</td>\n",
       "    </tr>\n",
       "  </tbody>\n",
       "</table>\n",
       "</div>"
      ],
      "text/plain": [
       "     0    1    2    3    4\n",
       "0  1.0  0.0  0.0  0.0  0.0\n",
       "1  0.0  1.0  0.0  0.0  0.0\n",
       "2  0.0  0.0  1.0  0.0  0.0\n",
       "3  0.0  0.0  0.0  1.0  0.0\n",
       "4  0.0  0.0  0.0  0.0  1.0"
      ]
     },
     "execution_count": 28,
     "metadata": {},
     "output_type": "execute_result"
    }
   ],
   "source": [
    "pd.DataFrame(arr1)"
   ]
  },
  {
   "cell_type": "code",
   "execution_count": 29,
   "id": "a647e9df-a8a0-4f66-b860-646ca76f75c9",
   "metadata": {},
   "outputs": [
    {
     "data": {
      "text/plain": [
       "array([[0.3139893 , 0.53310183, 0.67398759],\n",
       "       [0.35645009, 0.05479569, 0.30073534]])"
      ]
     },
     "execution_count": 29,
     "metadata": {},
     "output_type": "execute_result"
    }
   ],
   "source": [
    "np.random.rand(2,3)"
   ]
  },
  {
   "cell_type": "code",
   "execution_count": 30,
   "id": "777bf1ac-4f18-40c5-b4dc-7cf874dbd042",
   "metadata": {},
   "outputs": [
    {
     "data": {
      "text/plain": [
       "array([[ 0.20824911, -1.00098813, -1.79497664],\n",
       "       [-1.29493929,  1.88115304,  0.84359308]])"
      ]
     },
     "execution_count": 30,
     "metadata": {},
     "output_type": "execute_result"
    }
   ],
   "source": [
    "np.random.randn(2,3)"
   ]
  },
  {
   "cell_type": "code",
   "execution_count": 32,
   "id": "65e231ad-f38e-449f-b861-d8ab7113db90",
   "metadata": {},
   "outputs": [
    {
     "data": {
      "text/plain": [
       "array([[1, 6, 7, 7],\n",
       "       [6, 7, 1, 2],\n",
       "       [2, 9, 4, 7]])"
      ]
     },
     "execution_count": 32,
     "metadata": {},
     "output_type": "execute_result"
    }
   ],
   "source": [
    "np.random.randint(0,10,(3,4)) #random data between 0 to 10 in 3 rows and 4 columns"
   ]
  },
  {
   "cell_type": "code",
   "execution_count": 37,
   "id": "b3ecb080-eb5c-4085-afc8-18700c48be9e",
   "metadata": {},
   "outputs": [],
   "source": [
    "arr2=np.random.randint(0,10,(3,4))"
   ]
  },
  {
   "cell_type": "code",
   "execution_count": 38,
   "id": "5e1c9689-10b0-4237-9113-8f847b73d03a",
   "metadata": {},
   "outputs": [
    {
     "data": {
      "text/plain": [
       "array([[6, 6, 9, 0],\n",
       "       [3, 4, 2, 8],\n",
       "       [9, 4, 4, 2]])"
      ]
     },
     "execution_count": 38,
     "metadata": {},
     "output_type": "execute_result"
    }
   ],
   "source": [
    "arr2"
   ]
  },
  {
   "cell_type": "code",
   "execution_count": 35,
   "id": "7dcc4430-7e33-4598-8b91-a3a0e99b4b3d",
   "metadata": {},
   "outputs": [
    {
     "data": {
      "text/plain": [
       "12"
      ]
     },
     "execution_count": 35,
     "metadata": {},
     "output_type": "execute_result"
    }
   ],
   "source": [
    "arr2.size"
   ]
  },
  {
   "cell_type": "code",
   "execution_count": 34,
   "id": "dc126080-0dc1-40ba-9953-18f5bb9bbc51",
   "metadata": {},
   "outputs": [
    {
     "data": {
      "text/plain": [
       "(3, 4)"
      ]
     },
     "execution_count": 34,
     "metadata": {},
     "output_type": "execute_result"
    }
   ],
   "source": [
    "arr2.shape"
   ]
  },
  {
   "cell_type": "code",
   "execution_count": 39,
   "id": "21f784c0-df19-4c48-ab73-965b4770bbb8",
   "metadata": {},
   "outputs": [
    {
     "data": {
      "text/plain": [
       "array([[6, 6],\n",
       "       [9, 0],\n",
       "       [3, 4],\n",
       "       [2, 8],\n",
       "       [9, 4],\n",
       "       [4, 2]])"
      ]
     },
     "execution_count": 39,
     "metadata": {},
     "output_type": "execute_result"
    }
   ],
   "source": [
    "arr2.reshape(6,2) # values will not change...same values will be reshaped in different pattern"
   ]
  },
  {
   "cell_type": "code",
   "execution_count": 40,
   "id": "e4b70c8e-c1f4-46c0-ad9d-c5724a8e2687",
   "metadata": {},
   "outputs": [
    {
     "ename": "ValueError",
     "evalue": "cannot reshape array of size 12 into shape (6,3)",
     "output_type": "error",
     "traceback": [
      "\u001b[0;31m---------------------------------------------------------------------------\u001b[0m",
      "\u001b[0;31mValueError\u001b[0m                                Traceback (most recent call last)",
      "Cell \u001b[0;32mIn[40], line 1\u001b[0m\n\u001b[0;32m----> 1\u001b[0m \u001b[43marr2\u001b[49m\u001b[38;5;241;43m.\u001b[39;49m\u001b[43mreshape\u001b[49m\u001b[43m(\u001b[49m\u001b[38;5;241;43m6\u001b[39;49m\u001b[43m,\u001b[49m\u001b[38;5;241;43m3\u001b[39;49m\u001b[43m)\u001b[49m\n",
      "\u001b[0;31mValueError\u001b[0m: cannot reshape array of size 12 into shape (6,3)"
     ]
    }
   ],
   "source": [
    "arr2.reshape(6,3) # it will require dataset of 18 howver arr2 has only 12"
   ]
  },
  {
   "cell_type": "code",
   "execution_count": 41,
   "id": "619b9bdb-3618-418b-915f-3fcbb47c0da9",
   "metadata": {},
   "outputs": [
    {
     "data": {
      "text/plain": [
       "array([[6, 6, 9, 0, 3, 4],\n",
       "       [2, 8, 9, 4, 4, 2]])"
      ]
     },
     "execution_count": 41,
     "metadata": {},
     "output_type": "execute_result"
    }
   ],
   "source": [
    "arr2.reshape(2,6)"
   ]
  },
  {
   "cell_type": "code",
   "execution_count": 42,
   "id": "397466f3-05dd-435a-84e7-18cd502ed791",
   "metadata": {},
   "outputs": [
    {
     "data": {
      "text/plain": [
       "array([[6, 6, 9],\n",
       "       [0, 3, 4],\n",
       "       [2, 8, 9],\n",
       "       [4, 4, 2]])"
      ]
     },
     "execution_count": 42,
     "metadata": {},
     "output_type": "execute_result"
    }
   ],
   "source": [
    "arr2.reshape(4,3)"
   ]
  },
  {
   "cell_type": "code",
   "execution_count": 43,
   "id": "aaa7c9a1-403c-4173-ae0c-b997062d761c",
   "metadata": {},
   "outputs": [
    {
     "data": {
      "text/plain": [
       "array([[6, 6, 9],\n",
       "       [0, 3, 4],\n",
       "       [2, 8, 9],\n",
       "       [4, 4, 2]])"
      ]
     },
     "execution_count": 43,
     "metadata": {},
     "output_type": "execute_result"
    }
   ],
   "source": [
    "arr2.reshape(4,-1)"
   ]
  },
  {
   "cell_type": "code",
   "execution_count": 44,
   "id": "100840e4-131c-488f-9c08-7e089e31eee9",
   "metadata": {},
   "outputs": [
    {
     "data": {
      "text/plain": [
       "array([[[6, 6, 9],\n",
       "        [0, 3, 4]],\n",
       "\n",
       "       [[2, 8, 9],\n",
       "        [4, 4, 2]]])"
      ]
     },
     "execution_count": 44,
     "metadata": {},
     "output_type": "execute_result"
    }
   ],
   "source": [
    "arr2.reshape(2,2,3)# same data set can be reshaped into 3d dataset"
   ]
  },
  {
   "cell_type": "code",
   "execution_count": 45,
   "id": "c3d6e973-d84e-4236-9b96-ea9815a811ab",
   "metadata": {},
   "outputs": [],
   "source": [
    "arr3=np.random.randint(1,10,(5,6))"
   ]
  },
  {
   "cell_type": "code",
   "execution_count": 46,
   "id": "e014724a-f457-46b8-a0ea-d2af84d62311",
   "metadata": {},
   "outputs": [
    {
     "data": {
      "text/plain": [
       "array([[1, 9, 9, 6, 9, 6],\n",
       "       [9, 8, 3, 2, 2, 9],\n",
       "       [6, 7, 7, 2, 4, 1],\n",
       "       [7, 7, 7, 7, 7, 6],\n",
       "       [9, 1, 9, 6, 9, 2]])"
      ]
     },
     "execution_count": 46,
     "metadata": {},
     "output_type": "execute_result"
    }
   ],
   "source": [
    "arr3"
   ]
  },
  {
   "cell_type": "code",
   "execution_count": 48,
   "id": "6658af64-d173-43d0-b0a5-cb4fca8aa1fb",
   "metadata": {},
   "outputs": [
    {
     "data": {
      "text/plain": [
       "array([[False,  True,  True, False,  True, False],\n",
       "       [ True, False, False, False, False,  True],\n",
       "       [False, False, False, False, False, False],\n",
       "       [False, False, False, False, False, False],\n",
       "       [ True, False,  True, False,  True, False]])"
      ]
     },
     "execution_count": 48,
     "metadata": {},
     "output_type": "execute_result"
    }
   ],
   "source": [
    "arr3>8"
   ]
  },
  {
   "cell_type": "code",
   "execution_count": 49,
   "id": "7a867c6f-3366-42d2-93d8-b2ec95fa0ef2",
   "metadata": {},
   "outputs": [
    {
     "data": {
      "text/plain": [
       "array([9, 9, 9, 9, 9, 9, 9, 9])"
      ]
     },
     "execution_count": 49,
     "metadata": {},
     "output_type": "execute_result"
    }
   ],
   "source": [
    "arr3[arr3>8] # will give only dataset greater than 8"
   ]
  },
  {
   "cell_type": "code",
   "execution_count": 50,
   "id": "06690f3b-f5c5-4ed1-9ecb-5cd9dd935c72",
   "metadata": {},
   "outputs": [
    {
     "data": {
      "text/plain": [
       "array([1, 9, 9, 6, 9, 6])"
      ]
     },
     "execution_count": 50,
     "metadata": {},
     "output_type": "execute_result"
    }
   ],
   "source": [
    "arr3[0] #will give row 0"
   ]
  },
  {
   "cell_type": "code",
   "execution_count": 51,
   "id": "d0ba7a7d-8c59-40ba-888d-466d9114da59",
   "metadata": {},
   "outputs": [
    {
     "data": {
      "text/plain": [
       "array([1, 9])"
      ]
     },
     "execution_count": 51,
     "metadata": {},
     "output_type": "execute_result"
    }
   ],
   "source": [
    "arr3[0,[0,1]] #exctract first 2 data"
   ]
  },
  {
   "cell_type": "code",
   "execution_count": 54,
   "id": "029e6d1e-af25-4bde-975f-f6c22174f489",
   "metadata": {},
   "outputs": [
    {
     "data": {
      "text/plain": [
       "array([[7, 2],\n",
       "       [7, 7]])"
      ]
     },
     "execution_count": 54,
     "metadata": {},
     "output_type": "execute_result"
    }
   ],
   "source": [
    "arr3[2:4,[2,3]] #2:4 2nd to 4th row and[2,3] is 2nd and 3rd column"
   ]
  },
  {
   "cell_type": "code",
   "execution_count": 60,
   "id": "737f391b-e680-4ea1-9231-469a85db89f1",
   "metadata": {},
   "outputs": [],
   "source": [
    "arr4=np.random.randint(1,3,(3,3))"
   ]
  },
  {
   "cell_type": "code",
   "execution_count": 57,
   "id": "bc015bbe-c584-471a-b2c8-06bccc55c539",
   "metadata": {},
   "outputs": [
    {
     "data": {
      "text/plain": [
       "array([[1, 1, 1],\n",
       "       [2, 1, 1],\n",
       "       [1, 2, 1]])"
      ]
     },
     "execution_count": 57,
     "metadata": {},
     "output_type": "execute_result"
    }
   ],
   "source": [
    "arr4"
   ]
  },
  {
   "cell_type": "code",
   "execution_count": 59,
   "id": "bd50d386-dd9d-4cfe-8390-03392d1be16e",
   "metadata": {},
   "outputs": [],
   "source": [
    "arr5=np.random.randint(1,3,(3,3))"
   ]
  },
  {
   "cell_type": "code",
   "execution_count": 61,
   "id": "4aff10ad-9292-48db-aff0-4f40e048e3cc",
   "metadata": {},
   "outputs": [
    {
     "data": {
      "text/plain": [
       "array([[1, 1, 1],\n",
       "       [2, 2, 1],\n",
       "       [2, 1, 1]])"
      ]
     },
     "execution_count": 61,
     "metadata": {},
     "output_type": "execute_result"
    }
   ],
   "source": [
    "arr5"
   ]
  },
  {
   "cell_type": "code",
   "execution_count": 62,
   "id": "ed1886f4-dc96-457c-be6e-5d95d9b85642",
   "metadata": {},
   "outputs": [
    {
     "data": {
      "text/plain": [
       "array([[3, 2, 3],\n",
       "       [4, 4, 2],\n",
       "       [4, 2, 3]])"
      ]
     },
     "execution_count": 62,
     "metadata": {},
     "output_type": "execute_result"
    }
   ],
   "source": [
    "arr4+arr5"
   ]
  },
  {
   "cell_type": "code",
   "execution_count": 63,
   "id": "4fb79272-cdb9-465f-bde5-13534643a832",
   "metadata": {},
   "outputs": [
    {
     "data": {
      "text/plain": [
       "array([[2, 1, 2],\n",
       "       [4, 4, 1],\n",
       "       [4, 1, 2]])"
      ]
     },
     "execution_count": 63,
     "metadata": {},
     "output_type": "execute_result"
    }
   ],
   "source": [
    "arr4*arr5 #multiplies values and not matrix multiplication"
   ]
  },
  {
   "cell_type": "code",
   "execution_count": 64,
   "id": "c86f933f-1c94-4c21-b8b9-aa069d138b6c",
   "metadata": {},
   "outputs": [
    {
     "data": {
      "text/plain": [
       "array([[8, 6, 5],\n",
       "       [8, 7, 5],\n",
       "       [8, 6, 5]])"
      ]
     },
     "execution_count": 64,
     "metadata": {},
     "output_type": "execute_result"
    }
   ],
   "source": [
    "#matrix multiplication\n",
    "arr4@arr5"
   ]
  },
  {
   "cell_type": "code",
   "execution_count": 74,
   "id": "94832c82-8e1b-48ed-8bef-31bc0827ef27",
   "metadata": {},
   "outputs": [],
   "source": [
    "#numpy broadcasting\n",
    "arr6=np.zeros((3,4))"
   ]
  },
  {
   "cell_type": "code",
   "execution_count": 75,
   "id": "757841af-d9a8-44ad-9c07-fce52b9fb4a5",
   "metadata": {},
   "outputs": [
    {
     "data": {
      "text/plain": [
       "array([[0., 0., 0., 0.],\n",
       "       [0., 0., 0., 0.],\n",
       "       [0., 0., 0., 0.]])"
      ]
     },
     "execution_count": 75,
     "metadata": {},
     "output_type": "execute_result"
    }
   ],
   "source": [
    "arr6"
   ]
  },
  {
   "cell_type": "code",
   "execution_count": 76,
   "id": "caa6e060-ac48-436c-bfaa-8e126f0dd382",
   "metadata": {},
   "outputs": [
    {
     "data": {
      "text/plain": [
       "array([[5., 5., 5., 5.],\n",
       "       [5., 5., 5., 5.],\n",
       "       [5., 5., 5., 5.]])"
      ]
     },
     "execution_count": 76,
     "metadata": {},
     "output_type": "execute_result"
    }
   ],
   "source": [
    "arr6+5 #this is broadcasting"
   ]
  },
  {
   "cell_type": "code",
   "execution_count": 79,
   "id": "6eb83b68-b2a7-48af-affd-c55187a700d3",
   "metadata": {},
   "outputs": [],
   "source": [
    "a=np.array([1,2,3,4])"
   ]
  },
  {
   "cell_type": "code",
   "execution_count": 80,
   "id": "5e295273-6d74-4b07-aed0-73a84fb67165",
   "metadata": {},
   "outputs": [
    {
     "data": {
      "text/plain": [
       "array([[1., 2., 3., 4.],\n",
       "       [1., 2., 3., 4.],\n",
       "       [1., 2., 3., 4.]])"
      ]
     },
     "execution_count": 80,
     "metadata": {},
     "output_type": "execute_result"
    }
   ],
   "source": [
    "arr6+a # since all values in arr6 are 0..it adds the values row wise"
   ]
  },
  {
   "cell_type": "code",
   "execution_count": 81,
   "id": "a92aaa56-9354-4bb6-a999-38e8c76706ae",
   "metadata": {},
   "outputs": [],
   "source": [
    "b=np.array([2,3,4])# to add values column wise"
   ]
  },
  {
   "cell_type": "code",
   "execution_count": 82,
   "id": "78f94bdf-de36-45c3-9e19-1980b45a9f81",
   "metadata": {},
   "outputs": [
    {
     "ename": "ValueError",
     "evalue": "operands could not be broadcast together with shapes (3,4) (3,) ",
     "output_type": "error",
     "traceback": [
      "\u001b[0;31m---------------------------------------------------------------------------\u001b[0m",
      "\u001b[0;31mValueError\u001b[0m                                Traceback (most recent call last)",
      "Cell \u001b[0;32mIn[82], line 1\u001b[0m\n\u001b[0;32m----> 1\u001b[0m \u001b[43marr6\u001b[49m\u001b[38;5;241;43m+\u001b[39;49m\u001b[43mb\u001b[49m\n",
      "\u001b[0;31mValueError\u001b[0m: operands could not be broadcast together with shapes (3,4) (3,) "
     ]
    }
   ],
   "source": [
    "arr6+b # will show error.therefore need to rotate the array to perform operation row wise"
   ]
  },
  {
   "cell_type": "code",
   "execution_count": 83,
   "id": "02961ce0-12c7-4ba9-949f-2ecac62dcb47",
   "metadata": {},
   "outputs": [],
   "source": [
    "b=np.array([[2,3,4]])"
   ]
  },
  {
   "cell_type": "code",
   "execution_count": 86,
   "id": "c11413d5-7e55-4c11-97f0-7e8f00bd6902",
   "metadata": {},
   "outputs": [
    {
     "data": {
      "text/plain": [
       "array([[2],\n",
       "       [3],\n",
       "       [4]])"
      ]
     },
     "execution_count": 86,
     "metadata": {},
     "output_type": "execute_result"
    }
   ],
   "source": [
    "b.T"
   ]
  },
  {
   "cell_type": "code",
   "execution_count": 85,
   "id": "bafbffaa-2c68-4cc2-bdc6-bbaa6f94ee90",
   "metadata": {},
   "outputs": [
    {
     "data": {
      "text/plain": [
       "array([[2., 2., 2., 2.],\n",
       "       [3., 3., 3., 3.],\n",
       "       [4., 4., 4., 4.]])"
      ]
     },
     "execution_count": 85,
     "metadata": {},
     "output_type": "execute_result"
    }
   ],
   "source": [
    "arr6+b.T"
   ]
  },
  {
   "cell_type": "code",
   "execution_count": 93,
   "id": "b2703ba2-adc1-4a1d-915e-f5e270a1c204",
   "metadata": {},
   "outputs": [],
   "source": [
    "arr7=arr6+b.T"
   ]
  },
  {
   "cell_type": "code",
   "execution_count": 94,
   "id": "31ab2d6d-ea0b-4921-89c0-fa6847d0fd18",
   "metadata": {},
   "outputs": [
    {
     "data": {
      "text/plain": [
       "array([[1.41421356, 1.41421356, 1.41421356, 1.41421356],\n",
       "       [1.73205081, 1.73205081, 1.73205081, 1.73205081],\n",
       "       [2.        , 2.        , 2.        , 2.        ]])"
      ]
     },
     "execution_count": 94,
     "metadata": {},
     "output_type": "execute_result"
    }
   ],
   "source": [
    "np.sqrt(arr7) #square root"
   ]
  },
  {
   "cell_type": "code",
   "execution_count": 95,
   "id": "8d0e1264-613c-4bdd-bb1d-55491382742e",
   "metadata": {},
   "outputs": [
    {
     "data": {
      "text/plain": [
       "array([[0.30103   , 0.30103   , 0.30103   , 0.30103   ],\n",
       "       [0.47712125, 0.47712125, 0.47712125, 0.47712125],\n",
       "       [0.60205999, 0.60205999, 0.60205999, 0.60205999]])"
      ]
     },
     "execution_count": 95,
     "metadata": {},
     "output_type": "execute_result"
    }
   ],
   "source": [
    "np.log10(arr7)"
   ]
  },
  {
   "cell_type": "code",
   "execution_count": 96,
   "id": "dfe07619-efde-4345-89a2-311c2bf51373",
   "metadata": {},
   "outputs": [
    {
     "data": {
      "text/plain": [
       "array([[ 7.3890561 ,  7.3890561 ,  7.3890561 ,  7.3890561 ],\n",
       "       [20.08553692, 20.08553692, 20.08553692, 20.08553692],\n",
       "       [54.59815003, 54.59815003, 54.59815003, 54.59815003]])"
      ]
     },
     "execution_count": 96,
     "metadata": {},
     "output_type": "execute_result"
    }
   ],
   "source": [
    "np.exp(arr7)"
   ]
  },
  {
   "cell_type": "code",
   "execution_count": 97,
   "id": "8a70495c-c03c-47b2-8a37-df425c95065c",
   "metadata": {},
   "outputs": [
    {
     "data": {
      "text/plain": [
       "2.0"
      ]
     },
     "execution_count": 97,
     "metadata": {},
     "output_type": "execute_result"
    }
   ],
   "source": [
    "np.min(arr7)"
   ]
  },
  {
   "cell_type": "code",
   "execution_count": 1,
   "id": "95a7cb47-e859-4107-8877-fa8d35c4144e",
   "metadata": {},
   "outputs": [],
   "source": [
    "#part 3\n",
    "import numpy as np"
   ]
  },
  {
   "cell_type": "code",
   "execution_count": 3,
   "id": "0594a0e7-ae0b-4539-af78-bfb9a660ef2b",
   "metadata": {},
   "outputs": [],
   "source": [
    "# array manipulation\n",
    "arr8=np.random.randint(1,10,(4,4))"
   ]
  },
  {
   "cell_type": "code",
   "execution_count": 4,
   "id": "59e86997-93d7-455e-acfc-90bb9273d2b8",
   "metadata": {},
   "outputs": [
    {
     "data": {
      "text/plain": [
       "array([[9, 1],\n",
       "       [4, 8],\n",
       "       [4, 4],\n",
       "       [9, 4],\n",
       "       [1, 1],\n",
       "       [2, 4],\n",
       "       [4, 9],\n",
       "       [8, 3]])"
      ]
     },
     "execution_count": 4,
     "metadata": {},
     "output_type": "execute_result"
    }
   ],
   "source": [
    "arr8.reshape(8,2)"
   ]
  },
  {
   "cell_type": "code",
   "execution_count": 5,
   "id": "7e111c0b-0afb-4e77-8998-b44ac0f61b48",
   "metadata": {},
   "outputs": [
    {
     "data": {
      "text/plain": [
       "array([[9, 4, 1, 4],\n",
       "       [1, 4, 1, 9],\n",
       "       [4, 9, 2, 8],\n",
       "       [8, 4, 4, 3]])"
      ]
     },
     "execution_count": 5,
     "metadata": {},
     "output_type": "execute_result"
    }
   ],
   "source": [
    "arr8.T"
   ]
  },
  {
   "cell_type": "code",
   "execution_count": 7,
   "id": "dde7bd2a-c9e3-474c-8fcc-32133b0186d0",
   "metadata": {},
   "outputs": [
    {
     "data": {
      "text/plain": [
       "array([9, 1, 4, 8, 4, 4, 9, 4, 1, 1, 2, 4, 4, 9, 8, 3])"
      ]
     },
     "execution_count": 7,
     "metadata": {},
     "output_type": "execute_result"
    }
   ],
   "source": [
    "arr8.flatten()"
   ]
  },
  {
   "cell_type": "code",
   "execution_count": 10,
   "id": "7209fc40-f256-4ce6-9a0e-f5b1b8f7f22d",
   "metadata": {},
   "outputs": [
    {
     "data": {
      "text/plain": [
       "array([[9, 1, 4, 8],\n",
       "       [4, 4, 9, 4],\n",
       "       [1, 1, 2, 4],\n",
       "       [4, 9, 8, 3]])"
      ]
     },
     "execution_count": 10,
     "metadata": {},
     "output_type": "execute_result"
    }
   ],
   "source": [
    "arr8"
   ]
  },
  {
   "cell_type": "code",
   "execution_count": 9,
   "id": "92ada658-dd55-48e3-812b-6428c7103e95",
   "metadata": {},
   "outputs": [
    {
     "data": {
      "text/plain": [
       "array([[[9, 1, 4, 8]],\n",
       "\n",
       "       [[4, 4, 9, 4]],\n",
       "\n",
       "       [[1, 1, 2, 4]],\n",
       "\n",
       "       [[4, 9, 8, 3]]])"
      ]
     },
     "execution_count": 9,
     "metadata": {},
     "output_type": "execute_result"
    }
   ],
   "source": [
    "np.expand_dims(arr8,axis=1) # will expand dimension"
   ]
  },
  {
   "cell_type": "code",
   "execution_count": 11,
   "id": "e14cee10-eee3-419b-91cf-2984619d6abb",
   "metadata": {},
   "outputs": [
    {
     "data": {
      "text/plain": [
       "array([[[9, 1, 4, 8],\n",
       "        [4, 4, 9, 4],\n",
       "        [1, 1, 2, 4],\n",
       "        [4, 9, 8, 3]]])"
      ]
     },
     "execution_count": 11,
     "metadata": {},
     "output_type": "execute_result"
    }
   ],
   "source": [
    "np.expand_dims(arr8,axis=0)"
   ]
  },
  {
   "cell_type": "code",
   "execution_count": 12,
   "id": "062a7eb6-7f70-4ebb-85e4-e4baa87baf49",
   "metadata": {},
   "outputs": [],
   "source": [
    "data=np.array([[1],[2],[3]]) "
   ]
  },
  {
   "cell_type": "code",
   "execution_count": 13,
   "id": "80348ec4-2bba-41b0-b8d7-6b281a7b5672",
   "metadata": {},
   "outputs": [
    {
     "data": {
      "text/plain": [
       "array([1, 2, 3])"
      ]
     },
     "execution_count": 13,
     "metadata": {},
     "output_type": "execute_result"
    }
   ],
   "source": [
    "np.squeeze(data)# will reduce dimension "
   ]
  },
  {
   "cell_type": "code",
   "execution_count": 15,
   "id": "83be0ee5-b42f-4ef8-9945-8c836b0e1be3",
   "metadata": {},
   "outputs": [
    {
     "data": {
      "text/plain": [
       "array([1, 1, 2, 2, 3, 3])"
      ]
     },
     "execution_count": 15,
     "metadata": {},
     "output_type": "execute_result"
    }
   ],
   "source": [
    "np.repeat(data,2) # will repeat data twice"
   ]
  },
  {
   "cell_type": "code",
   "execution_count": 16,
   "id": "cfc9ec82-78f3-416a-b75d-3126a6bbf3fe",
   "metadata": {},
   "outputs": [
    {
     "data": {
      "text/plain": [
       "array([1, 1, 1, 1, 2, 2, 2, 2, 3, 3, 3, 3])"
      ]
     },
     "execution_count": 16,
     "metadata": {},
     "output_type": "execute_result"
    }
   ],
   "source": [
    "np.repeat(data,4) "
   ]
  },
  {
   "cell_type": "code",
   "execution_count": 20,
   "id": "a397c47a-4cd3-46f3-aca2-fe2a44a80854",
   "metadata": {},
   "outputs": [
    {
     "data": {
      "text/plain": [
       "array([[3],\n",
       "       [1],\n",
       "       [2]])"
      ]
     },
     "execution_count": 20,
     "metadata": {},
     "output_type": "execute_result"
    }
   ],
   "source": [
    "np.roll(data,1) # rolls or rotates data"
   ]
  },
  {
   "cell_type": "code",
   "execution_count": 18,
   "id": "3c1b5904-4686-4d38-9acf-d9054bad1461",
   "metadata": {},
   "outputs": [
    {
     "data": {
      "text/plain": [
       "array([[2],\n",
       "       [3],\n",
       "       [1]])"
      ]
     },
     "execution_count": 18,
     "metadata": {},
     "output_type": "execute_result"
    }
   ],
   "source": [
    "np.roll(data,2) "
   ]
  },
  {
   "cell_type": "code",
   "execution_count": 21,
   "id": "882f1245-2ff2-4f23-ab3e-bf19d29d5976",
   "metadata": {},
   "outputs": [
    {
     "data": {
      "text/plain": [
       "array([[1],\n",
       "       [2],\n",
       "       [3]])"
      ]
     },
     "execution_count": 21,
     "metadata": {},
     "output_type": "execute_result"
    }
   ],
   "source": [
    "np.roll(data,3) "
   ]
  },
  {
   "cell_type": "code",
   "execution_count": 22,
   "id": "f7655470-a16b-4614-a5cb-d533389c08ae",
   "metadata": {},
   "outputs": [
    {
     "data": {
      "text/plain": [
       "array([[1, 0, 0, 0],\n",
       "       [0, 2, 0, 0],\n",
       "       [0, 0, 3, 0],\n",
       "       [0, 0, 0, 4]])"
      ]
     },
     "execution_count": 22,
     "metadata": {},
     "output_type": "execute_result"
    }
   ],
   "source": [
    "np.diag(np.array([1,2,3,4]))"
   ]
  },
  {
   "cell_type": "code",
   "execution_count": 24,
   "id": "e8f7cd4b-2853-400f-af23-2839b3e62984",
   "metadata": {},
   "outputs": [],
   "source": [
    "# binary operations\n",
    "arr9=np.random.randint(1,10,(3,4))\n",
    "arr10=np.random.randint(1,10,(3,4))"
   ]
  },
  {
   "cell_type": "code",
   "execution_count": 25,
   "id": "5c28eb1e-d980-49a1-a1e9-532f7f674245",
   "metadata": {},
   "outputs": [
    {
     "data": {
      "text/plain": [
       "array([[1, 3, 2, 7],\n",
       "       [9, 8, 3, 4],\n",
       "       [9, 4, 7, 9]])"
      ]
     },
     "execution_count": 25,
     "metadata": {},
     "output_type": "execute_result"
    }
   ],
   "source": [
    "arr9"
   ]
  },
  {
   "cell_type": "code",
   "execution_count": 26,
   "id": "9bf6d37a-42f0-4f92-ac87-b5ce0005b32c",
   "metadata": {},
   "outputs": [
    {
     "data": {
      "text/plain": [
       "array([[3, 6, 6, 2],\n",
       "       [6, 5, 3, 8],\n",
       "       [5, 5, 9, 5]])"
      ]
     },
     "execution_count": 26,
     "metadata": {},
     "output_type": "execute_result"
    }
   ],
   "source": [
    "arr10"
   ]
  },
  {
   "cell_type": "code",
   "execution_count": 27,
   "id": "36cc14ba-2f40-41aa-8d9c-f0a1bed87de1",
   "metadata": {},
   "outputs": [
    {
     "data": {
      "text/plain": [
       "array([[ 4,  9,  8,  9],\n",
       "       [15, 13,  6, 12],\n",
       "       [14,  9, 16, 14]])"
      ]
     },
     "execution_count": 27,
     "metadata": {},
     "output_type": "execute_result"
    }
   ],
   "source": [
    "arr9+arr10"
   ]
  },
  {
   "cell_type": "code",
   "execution_count": 28,
   "id": "28d9208c-c58c-403d-84a2-f306347579fb",
   "metadata": {},
   "outputs": [
    {
     "data": {
      "text/plain": [
       "array([[ 3, 18, 12, 14],\n",
       "       [54, 40,  9, 32],\n",
       "       [45, 20, 63, 45]])"
      ]
     },
     "execution_count": 28,
     "metadata": {},
     "output_type": "execute_result"
    }
   ],
   "source": [
    "arr9*arr10"
   ]
  },
  {
   "cell_type": "code",
   "execution_count": 29,
   "id": "3c4ce862-d052-4e23-a248-9f21a9db336e",
   "metadata": {},
   "outputs": [
    {
     "data": {
      "text/plain": [
       "array([[       1,      729,       64,       49],\n",
       "       [  531441,    32768,       27,    65536],\n",
       "       [   59049,     1024, 40353607,    59049]])"
      ]
     },
     "execution_count": 29,
     "metadata": {},
     "output_type": "execute_result"
    }
   ],
   "source": [
    "arr9**arr10"
   ]
  },
  {
   "cell_type": "code",
   "execution_count": 30,
   "id": "be74bac7-ed87-41a6-bad8-0bd3ca27ac94",
   "metadata": {},
   "outputs": [
    {
     "data": {
      "text/plain": [
       "array([[-1, -3, -2, -7],\n",
       "       [-9, -8, -3, -4],\n",
       "       [-9, -4, -7, -9]])"
      ]
     },
     "execution_count": 30,
     "metadata": {},
     "output_type": "execute_result"
    }
   ],
   "source": [
    "-arr9"
   ]
  },
  {
   "cell_type": "code",
   "execution_count": 31,
   "id": "6e4270e6-f656-4394-b1e6-9712274e5d38",
   "metadata": {},
   "outputs": [
    {
     "data": {
      "text/plain": [
       "array([[False, False, False,  True],\n",
       "       [ True,  True, False, False],\n",
       "       [ True, False, False,  True]])"
      ]
     },
     "execution_count": 31,
     "metadata": {},
     "output_type": "execute_result"
    }
   ],
   "source": [
    "arr9>arr10"
   ]
  },
  {
   "cell_type": "code",
   "execution_count": 37,
   "id": "d7ed6371-60e8-48ec-b218-8717bfcb8019",
   "metadata": {},
   "outputs": [],
   "source": [
    "# string functions\n",
    "arr11=np.array(['nik','hil','bhanu','shali'])"
   ]
  },
  {
   "cell_type": "code",
   "execution_count": 38,
   "id": "5425b84b-6884-425a-8042-39253a5f2a98",
   "metadata": {},
   "outputs": [
    {
     "data": {
      "text/plain": [
       "array(['nik', 'hil', 'bhanu', 'shali'], dtype='<U5')"
      ]
     },
     "execution_count": 38,
     "metadata": {},
     "output_type": "execute_result"
    }
   ],
   "source": [
    "arr11"
   ]
  },
  {
   "cell_type": "code",
   "execution_count": 39,
   "id": "944bf709-7563-4ff8-99a7-93e6b9eb214c",
   "metadata": {},
   "outputs": [
    {
     "data": {
      "text/plain": [
       "array(['NIK', 'HIL', 'BHANU', 'SHALI'], dtype='<U5')"
      ]
     },
     "execution_count": 39,
     "metadata": {},
     "output_type": "execute_result"
    }
   ],
   "source": [
    "np.char.upper(arr11) # string functions are within char class"
   ]
  },
  {
   "cell_type": "code",
   "execution_count": 40,
   "id": "c0d9b502-a31b-4c6c-a2ad-7684dfdc9301",
   "metadata": {},
   "outputs": [
    {
     "data": {
      "text/plain": [
       "array(['Nik', 'Hil', 'Bhanu', 'Shali'], dtype='<U5')"
      ]
     },
     "execution_count": 40,
     "metadata": {},
     "output_type": "execute_result"
    }
   ],
   "source": [
    "np.char.capitalize(arr11) # capitalise first alphabet"
   ]
  },
  {
   "cell_type": "code",
   "execution_count": 41,
   "id": "31f6cb42-c401-4217-9b1e-cf8545c0bdae",
   "metadata": {},
   "outputs": [
    {
     "data": {
      "text/plain": [
       "array(['Nik', 'Hil', 'Bhanu', 'Shali'], dtype='<U5')"
      ]
     },
     "execution_count": 41,
     "metadata": {},
     "output_type": "execute_result"
    }
   ],
   "source": [
    "np.char.title(arr11) # capitalise first alphabet too"
   ]
  },
  {
   "cell_type": "code",
   "execution_count": 42,
   "id": "9e111d60-afd2-4919-8564-924076c28694",
   "metadata": {},
   "outputs": [
    {
     "data": {
      "text/plain": [
       "array([[3, 6, 6, 2],\n",
       "       [6, 5, 3, 8],\n",
       "       [5, 5, 9, 5]])"
      ]
     },
     "execution_count": 42,
     "metadata": {},
     "output_type": "execute_result"
    }
   ],
   "source": [
    "#mathematical functions\n",
    "arr10"
   ]
  },
  {
   "cell_type": "code",
   "execution_count": 43,
   "id": "318cc99e-c383-4487-85f9-9af054df753a",
   "metadata": {},
   "outputs": [
    {
     "data": {
      "text/plain": [
       "array([[ 0.14112001, -0.2794155 , -0.2794155 ,  0.90929743],\n",
       "       [-0.2794155 , -0.95892427,  0.14112001,  0.98935825],\n",
       "       [-0.95892427, -0.95892427,  0.41211849, -0.95892427]])"
      ]
     },
     "execution_count": 43,
     "metadata": {},
     "output_type": "execute_result"
    }
   ],
   "source": [
    "np.sin(arr10) # sin values"
   ]
  },
  {
   "cell_type": "code",
   "execution_count": 44,
   "id": "cbd30893-3c52-420b-b2c5-22469943a7df",
   "metadata": {},
   "outputs": [
    {
     "data": {
      "text/plain": [
       "array([[-0.9899925 ,  0.96017029,  0.96017029, -0.41614684],\n",
       "       [ 0.96017029,  0.28366219, -0.9899925 , -0.14550003],\n",
       "       [ 0.28366219,  0.28366219, -0.91113026,  0.28366219]])"
      ]
     },
     "execution_count": 44,
     "metadata": {},
     "output_type": "execute_result"
    }
   ],
   "source": [
    "np.cos(arr10)"
   ]
  },
  {
   "cell_type": "code",
   "execution_count": 45,
   "id": "5ff16e32-ae81-4fb6-afca-c2a2c720635b",
   "metadata": {},
   "outputs": [
    {
     "data": {
      "text/plain": [
       "array([[-0.14254654, -0.29100619, -0.29100619, -2.18503986],\n",
       "       [-0.29100619, -3.38051501, -0.14254654, -6.79971146],\n",
       "       [-3.38051501, -3.38051501, -0.45231566, -3.38051501]])"
      ]
     },
     "execution_count": 45,
     "metadata": {},
     "output_type": "execute_result"
    }
   ],
   "source": [
    "np.tan(arr10)"
   ]
  },
  {
   "cell_type": "code",
   "execution_count": 46,
   "id": "250af98e-01b2-40b6-871c-0b3519845928",
   "metadata": {},
   "outputs": [
    {
     "data": {
      "text/plain": [
       "array([[0.47712125, 0.77815125, 0.77815125, 0.30103   ],\n",
       "       [0.77815125, 0.69897   , 0.47712125, 0.90308999],\n",
       "       [0.69897   , 0.69897   , 0.95424251, 0.69897   ]])"
      ]
     },
     "execution_count": 46,
     "metadata": {},
     "output_type": "execute_result"
    }
   ],
   "source": [
    "np.log10(arr10)"
   ]
  },
  {
   "cell_type": "code",
   "execution_count": 47,
   "id": "43c896f4-93b6-4209-8c84-46edf6c7b10b",
   "metadata": {},
   "outputs": [
    {
     "data": {
      "text/plain": [
       "array([[2.00855369e+01, 4.03428793e+02, 4.03428793e+02, 7.38905610e+00],\n",
       "       [4.03428793e+02, 1.48413159e+02, 2.00855369e+01, 2.98095799e+03],\n",
       "       [1.48413159e+02, 1.48413159e+02, 8.10308393e+03, 1.48413159e+02]])"
      ]
     },
     "execution_count": 47,
     "metadata": {},
     "output_type": "execute_result"
    }
   ],
   "source": [
    "np.exp(arr10)"
   ]
  },
  {
   "cell_type": "code",
   "execution_count": 48,
   "id": "be08bb92-f2ca-4673-8112-10a3fc1c6dbf",
   "metadata": {},
   "outputs": [
    {
     "data": {
      "text/plain": [
       "array([[ 9, 36, 36,  4],\n",
       "       [36, 25,  9, 64],\n",
       "       [25, 25, 81, 25]])"
      ]
     },
     "execution_count": 48,
     "metadata": {},
     "output_type": "execute_result"
    }
   ],
   "source": [
    "np.power(arr10,2) # power 2 willcalculate square"
   ]
  },
  {
   "cell_type": "code",
   "execution_count": 49,
   "id": "40c74ce8-ecfc-4407-80b4-2f4e2ce21fdc",
   "metadata": {},
   "outputs": [
    {
     "data": {
      "text/plain": [
       "5.25"
      ]
     },
     "execution_count": 49,
     "metadata": {},
     "output_type": "execute_result"
    }
   ],
   "source": [
    "np.mean(arr10)"
   ]
  },
  {
   "cell_type": "code",
   "execution_count": 50,
   "id": "863caf67-2370-4911-b5e8-ae237c91a8a3",
   "metadata": {},
   "outputs": [
    {
     "data": {
      "text/plain": [
       "5.0"
      ]
     },
     "execution_count": 50,
     "metadata": {},
     "output_type": "execute_result"
    }
   ],
   "source": [
    "np.median(arr10)"
   ]
  },
  {
   "cell_type": "code",
   "execution_count": 51,
   "id": "ecab8408-591c-40d0-aa5f-41db7128e09c",
   "metadata": {},
   "outputs": [
    {
     "data": {
      "text/plain": [
       "1.920286436967152"
      ]
     },
     "execution_count": 51,
     "metadata": {},
     "output_type": "execute_result"
    }
   ],
   "source": [
    "np.std(arr10)# standard deviation"
   ]
  },
  {
   "cell_type": "code",
   "execution_count": 52,
   "id": "25ab0a2f-7520-4c3c-b96f-c4b1b4eafe4a",
   "metadata": {},
   "outputs": [
    {
     "data": {
      "text/plain": [
       "3.6875"
      ]
     },
     "execution_count": 52,
     "metadata": {},
     "output_type": "execute_result"
    }
   ],
   "source": [
    "np.var(arr10) # variance"
   ]
  },
  {
   "cell_type": "code",
   "execution_count": 53,
   "id": "8ea624c8-8d7d-48a0-b9d2-397022506290",
   "metadata": {},
   "outputs": [
    {
     "data": {
      "text/plain": [
       "2"
      ]
     },
     "execution_count": 53,
     "metadata": {},
     "output_type": "execute_result"
    }
   ],
   "source": [
    "np.min(arr10)"
   ]
  },
  {
   "cell_type": "code",
   "execution_count": 54,
   "id": "a0bebc24-e683-408f-8e18-c82f0166811a",
   "metadata": {},
   "outputs": [
    {
     "data": {
      "text/plain": [
       "9"
      ]
     },
     "execution_count": 54,
     "metadata": {},
     "output_type": "execute_result"
    }
   ],
   "source": [
    "np.max(arr10)"
   ]
  },
  {
   "cell_type": "code",
   "execution_count": 56,
   "id": "578236f4-90c2-4ac8-b454-3f2e700ee614",
   "metadata": {},
   "outputs": [
    {
     "data": {
      "text/plain": [
       "array([[1, 3, 2, 7],\n",
       "       [9, 8, 3, 4],\n",
       "       [9, 4, 7, 9]])"
      ]
     },
     "execution_count": 56,
     "metadata": {},
     "output_type": "execute_result"
    }
   ],
   "source": [
    "# arithmatic operation\n",
    "arr9"
   ]
  },
  {
   "cell_type": "code",
   "execution_count": 57,
   "id": "b511ad1e-b29c-4fcf-9411-77e1809a767c",
   "metadata": {},
   "outputs": [
    {
     "data": {
      "text/plain": [
       "array([[3, 6, 6, 2],\n",
       "       [6, 5, 3, 8],\n",
       "       [5, 5, 9, 5]])"
      ]
     },
     "execution_count": 57,
     "metadata": {},
     "output_type": "execute_result"
    }
   ],
   "source": [
    "arr10"
   ]
  },
  {
   "cell_type": "code",
   "execution_count": 59,
   "id": "cb737870-5746-481a-94a2-6ef7fe56905a",
   "metadata": {},
   "outputs": [
    {
     "data": {
      "text/plain": [
       "array([[-2, -3, -4,  5],\n",
       "       [ 3,  3,  0, -4],\n",
       "       [ 4, -1, -2,  4]])"
      ]
     },
     "execution_count": 59,
     "metadata": {},
     "output_type": "execute_result"
    }
   ],
   "source": [
    "arr9-arr10"
   ]
  },
  {
   "cell_type": "code",
   "execution_count": 62,
   "id": "0715f730-e74a-4c26-a1dd-2ca93eeed513",
   "metadata": {},
   "outputs": [
    {
     "data": {
      "text/plain": [
       "array([[-2, -3, -4,  5],\n",
       "       [ 3,  3,  0, -4],\n",
       "       [ 4, -1, -2,  4]])"
      ]
     },
     "execution_count": 62,
     "metadata": {},
     "output_type": "execute_result"
    }
   ],
   "source": [
    "np.subtract(arr9,arr10) # will perform same function"
   ]
  },
  {
   "cell_type": "code",
   "execution_count": 63,
   "id": "56db5b86-5733-4535-8b27-7f3033933844",
   "metadata": {},
   "outputs": [
    {
     "data": {
      "text/plain": [
       "array([[ 3, 18, 12, 14],\n",
       "       [54, 40,  9, 32],\n",
       "       [45, 20, 63, 45]])"
      ]
     },
     "execution_count": 63,
     "metadata": {},
     "output_type": "execute_result"
    }
   ],
   "source": [
    "np.multiply(arr9,arr10)"
   ]
  },
  {
   "cell_type": "code",
   "execution_count": 64,
   "id": "91362a66-0c81-4f8d-a6e2-a48b62fe9310",
   "metadata": {},
   "outputs": [
    {
     "data": {
      "text/plain": [
       "array([[1, 3, 2, 1],\n",
       "       [3, 3, 0, 4],\n",
       "       [4, 4, 7, 4]])"
      ]
     },
     "execution_count": 64,
     "metadata": {},
     "output_type": "execute_result"
    }
   ],
   "source": [
    "np.mod(arr9,arr10) # will give remainder"
   ]
  },
  {
   "cell_type": "code",
   "execution_count": 65,
   "id": "4e0ac33c-8552-477d-93a5-3405622dcd9d",
   "metadata": {},
   "outputs": [
    {
     "data": {
      "text/plain": [
       "array([[       1,      729,       64,       49],\n",
       "       [  531441,    32768,       27,    65536],\n",
       "       [   59049,     1024, 40353607,    59049]])"
      ]
     },
     "execution_count": 65,
     "metadata": {},
     "output_type": "execute_result"
    }
   ],
   "source": [
    "np.power(arr9,arr10)"
   ]
  },
  {
   "cell_type": "code",
   "execution_count": 66,
   "id": "d02485ac-dfbe-4900-874b-6b804e036b48",
   "metadata": {},
   "outputs": [
    {
     "data": {
      "text/plain": [
       "array([[1.        , 1.73205081, 1.41421356, 2.64575131],\n",
       "       [3.        , 2.82842712, 1.73205081, 2.        ],\n",
       "       [3.        , 2.        , 2.64575131, 3.        ]])"
      ]
     },
     "execution_count": 66,
     "metadata": {},
     "output_type": "execute_result"
    }
   ],
   "source": [
    "np.sqrt(arr9)"
   ]
  },
  {
   "cell_type": "code",
   "execution_count": 67,
   "id": "3d7dc014-70be-4def-909e-404746be4f19",
   "metadata": {},
   "outputs": [
    {
     "data": {
      "text/plain": [
       "5.5"
      ]
     },
     "execution_count": 67,
     "metadata": {},
     "output_type": "execute_result"
    }
   ],
   "source": [
    "#statistical function\n",
    "np.mean(arr9)"
   ]
  },
  {
   "cell_type": "code",
   "execution_count": 7,
   "id": "9999099c-03e2-4f0a-aefe-90db9d3f635b",
   "metadata": {},
   "outputs": [],
   "source": [
    "#part 4\n",
    "#sort,search and counting functions\n",
    "import numpy as np\n",
    "arr12=np.array([12,14,3,5,16])"
   ]
  },
  {
   "cell_type": "code",
   "execution_count": 8,
   "id": "50f27b1b-0c58-4975-8321-809b0356fc80",
   "metadata": {},
   "outputs": [
    {
     "data": {
      "text/plain": [
       "array([ 3,  5, 12, 14, 16])"
      ]
     },
     "execution_count": 8,
     "metadata": {},
     "output_type": "execute_result"
    }
   ],
   "source": [
    "np.sort(arr12)"
   ]
  },
  {
   "cell_type": "code",
   "execution_count": 10,
   "id": "ff3695c8-da3c-412a-ba4d-0cde8e937af2",
   "metadata": {},
   "outputs": [
    {
     "data": {
      "text/plain": [
       "4"
      ]
     },
     "execution_count": 10,
     "metadata": {},
     "output_type": "execute_result"
    }
   ],
   "source": [
    "np.searchsorted(arr12,6) #gives the index where element is to be inserted to maintain order"
   ]
  },
  {
   "cell_type": "code",
   "execution_count": 13,
   "id": "77b9dca7-d58f-4ce9-8a68-a13e7d1f99e9",
   "metadata": {},
   "outputs": [],
   "source": [
    "arr13=np.array([324,454,54,67,90,9,76,5,0])"
   ]
  },
  {
   "cell_type": "code",
   "execution_count": 14,
   "id": "3e843260-c417-4a7e-aaae-69b178681613",
   "metadata": {},
   "outputs": [
    {
     "data": {
      "text/plain": [
       "8"
      ]
     },
     "execution_count": 14,
     "metadata": {},
     "output_type": "execute_result"
    }
   ],
   "source": [
    "np.count_nonzero(arr13)"
   ]
  },
  {
   "cell_type": "code",
   "execution_count": 21,
   "id": "edaa4f39-03c6-48f5-ab03-d82877647274",
   "metadata": {},
   "outputs": [
    {
     "data": {
      "text/plain": [
       "(array([0, 1, 2, 3, 4, 5, 6, 7]),)"
      ]
     },
     "execution_count": 21,
     "metadata": {},
     "output_type": "execute_result"
    }
   ],
   "source": [
    "np.where(arr13>0) # gives index position where data is greater than 0"
   ]
  },
  {
   "cell_type": "code",
   "execution_count": 19,
   "id": "5c4f122b-1377-4179-b8e7-0e1ee9953f53",
   "metadata": {},
   "outputs": [
    {
     "data": {
      "text/plain": [
       "array([324, 454,  54,  67,  90,  76])"
      ]
     },
     "execution_count": 19,
     "metadata": {},
     "output_type": "execute_result"
    }
   ],
   "source": [
    "np.extract(arr13 > 50,arr13)"
   ]
  },
  {
   "cell_type": "code",
   "execution_count": 20,
   "id": "a93212bc-78ab-4c32-81e9-f51838f7a522",
   "metadata": {},
   "outputs": [
    {
     "data": {
      "text/plain": [
       "array([324, 454,  54,  67,  90,   9,  76,   5,   0])"
      ]
     },
     "execution_count": 20,
     "metadata": {},
     "output_type": "execute_result"
    }
   ],
   "source": [
    "# byte swapping\n",
    "arr13"
   ]
  },
  {
   "cell_type": "code",
   "execution_count": 22,
   "id": "fb47ef3b-1a20-404b-a86e-1c04cae76c04",
   "metadata": {},
   "outputs": [
    {
     "data": {
      "text/plain": [
       "array([ 4900197869555810304, -4179058979223109632,  3891110078048108544,\n",
       "        4827858800541171712,  6485183463413514240,   648518346341351424,\n",
       "        5476377146882523136,   360287970189639680,                    0])"
      ]
     },
     "execution_count": 22,
     "metadata": {},
     "output_type": "execute_result"
    }
   ],
   "source": [
    "arr13.byteswap()"
   ]
  },
  {
   "cell_type": "code",
   "execution_count": 23,
   "id": "450c9512-e109-4ff3-b0d4-887790a004e6",
   "metadata": {},
   "outputs": [],
   "source": [
    "#copy and views\n",
    "a=np.copy(arr13) # create deep copy ie create seperate memory location with variable a"
   ]
  },
  {
   "cell_type": "code",
   "execution_count": 26,
   "id": "e34e85b1-8f8d-4405-bfaa-3ad918ccbc68",
   "metadata": {},
   "outputs": [],
   "source": [
    "a[0]=234"
   ]
  },
  {
   "cell_type": "code",
   "execution_count": 27,
   "id": "6baf946f-0005-40de-a8d6-2104a35aa8ea",
   "metadata": {},
   "outputs": [
    {
     "data": {
      "text/plain": [
       "array([234, 454,  54,  67,  90,   9,  76,   5,   0])"
      ]
     },
     "execution_count": 27,
     "metadata": {},
     "output_type": "execute_result"
    }
   ],
   "source": [
    "a"
   ]
  },
  {
   "cell_type": "code",
   "execution_count": 28,
   "id": "290b9adf-59ec-4ad7-819d-303c76bb46f9",
   "metadata": {},
   "outputs": [
    {
     "data": {
      "text/plain": [
       "array([324, 454,  54,  67,  90,   9,  76,   5,   0])"
      ]
     },
     "execution_count": 28,
     "metadata": {},
     "output_type": "execute_result"
    }
   ],
   "source": [
    "arr13"
   ]
  },
  {
   "cell_type": "code",
   "execution_count": 24,
   "id": "830572cf-8f14-4b1e-8c81-1faa734cae34",
   "metadata": {},
   "outputs": [],
   "source": [
    "b=arr13.view() # doesnt create deep copy...creates variable pointing to same memory location"
   ]
  },
  {
   "cell_type": "code",
   "execution_count": 25,
   "id": "b4bb3c4c-0097-4e36-a37b-6047aa05a8a0",
   "metadata": {},
   "outputs": [
    {
     "data": {
      "text/plain": [
       "array([324, 454,  54,  67,  90,   9,  76,   5,   0])"
      ]
     },
     "execution_count": 25,
     "metadata": {},
     "output_type": "execute_result"
    }
   ],
   "source": [
    "b"
   ]
  },
  {
   "cell_type": "code",
   "execution_count": 29,
   "id": "35173063-f85d-42e4-b073-20b13670c116",
   "metadata": {},
   "outputs": [],
   "source": [
    "b[0]=500"
   ]
  },
  {
   "cell_type": "code",
   "execution_count": 30,
   "id": "dc0a2028-1769-4462-b869-a53351d88e01",
   "metadata": {},
   "outputs": [
    {
     "data": {
      "text/plain": [
       "array([500, 454,  54,  67,  90,   9,  76,   5,   0])"
      ]
     },
     "execution_count": 30,
     "metadata": {},
     "output_type": "execute_result"
    }
   ],
   "source": [
    "b"
   ]
  },
  {
   "cell_type": "code",
   "execution_count": 31,
   "id": "bc444a91-946e-4e8f-a0c5-d0877d0819f2",
   "metadata": {},
   "outputs": [
    {
     "data": {
      "text/plain": [
       "array([500, 454,  54,  67,  90,   9,  76,   5,   0])"
      ]
     },
     "execution_count": 31,
     "metadata": {},
     "output_type": "execute_result"
    }
   ],
   "source": [
    "arr13"
   ]
  },
  {
   "cell_type": "code",
   "execution_count": 32,
   "id": "6e32d8e8-edb6-42a4-8202-ef7a5c78b618",
   "metadata": {},
   "outputs": [],
   "source": [
    "# matrix library\n",
    "import numpy.matlib as nm"
   ]
  },
  {
   "cell_type": "code",
   "execution_count": 33,
   "id": "4d903ce0-078e-4b6a-92d1-03f9d6746eb4",
   "metadata": {},
   "outputs": [
    {
     "data": {
      "text/plain": [
       "matrix([[0., 0., 0., 0., 0.]])"
      ]
     },
     "execution_count": 33,
     "metadata": {},
     "output_type": "execute_result"
    }
   ],
   "source": [
    "nm.zeros(5)"
   ]
  },
  {
   "cell_type": "code",
   "execution_count": 35,
   "id": "0fd073b6-2b59-4571-b742-88c4e57bf887",
   "metadata": {},
   "outputs": [
    {
     "data": {
      "text/plain": [
       "matrix([[1., 1., 1., 1.],\n",
       "        [1., 1., 1., 1.],\n",
       "        [1., 1., 1., 1.]])"
      ]
     },
     "execution_count": 35,
     "metadata": {},
     "output_type": "execute_result"
    }
   ],
   "source": [
    "nm.ones((3,4))"
   ]
  },
  {
   "cell_type": "code",
   "execution_count": 36,
   "id": "4df800cd-35cf-4bff-a9e1-5ba2e7e1316d",
   "metadata": {},
   "outputs": [
    {
     "data": {
      "text/plain": [
       "matrix([[1., 0., 0., 0.],\n",
       "        [0., 1., 0., 0.],\n",
       "        [0., 0., 1., 0.],\n",
       "        [0., 0., 0., 1.]])"
      ]
     },
     "execution_count": 36,
     "metadata": {},
     "output_type": "execute_result"
    }
   ],
   "source": [
    "nm.eye(4)"
   ]
  },
  {
   "cell_type": "code",
   "execution_count": 37,
   "id": "623851df-1f42-4f9f-8e73-dd06088c101c",
   "metadata": {},
   "outputs": [],
   "source": [
    "# linear algebra"
   ]
  },
  {
   "cell_type": "code",
   "execution_count": 38,
   "id": "feb6cd98-0071-4e9d-b922-758b209c6756",
   "metadata": {},
   "outputs": [],
   "source": [
    "arr14=np.random.randint([[2,3],[4,5]])"
   ]
  },
  {
   "cell_type": "code",
   "execution_count": 39,
   "id": "173aa03e-d992-4354-b1e3-d40dd762bf3a",
   "metadata": {},
   "outputs": [],
   "source": [
    "arr15=np.random.randint([[5,3],[2,5]])"
   ]
  },
  {
   "cell_type": "code",
   "execution_count": 40,
   "id": "ca210f52-7ff2-4fb1-8337-1e9e86535c66",
   "metadata": {},
   "outputs": [
    {
     "data": {
      "text/plain": [
       "array([[0, 2],\n",
       "       [3, 4]])"
      ]
     },
     "execution_count": 40,
     "metadata": {},
     "output_type": "execute_result"
    }
   ],
   "source": [
    "arr14"
   ]
  },
  {
   "cell_type": "code",
   "execution_count": 41,
   "id": "c15e5cc1-1b7f-4022-a0f0-6801e252872c",
   "metadata": {},
   "outputs": [
    {
     "data": {
      "text/plain": [
       "array([[0, 2],\n",
       "       [1, 3]])"
      ]
     },
     "execution_count": 41,
     "metadata": {},
     "output_type": "execute_result"
    }
   ],
   "source": [
    "arr15"
   ]
  },
  {
   "cell_type": "code",
   "execution_count": 42,
   "id": "02a2ccea-6017-4275-a780-5438546cbfe8",
   "metadata": {},
   "outputs": [
    {
     "data": {
      "text/plain": [
       "array([[ 2,  6],\n",
       "       [ 4, 18]])"
      ]
     },
     "execution_count": 42,
     "metadata": {},
     "output_type": "execute_result"
    }
   ],
   "source": [
    "np.dot(arr14,arr15)"
   ]
  },
  {
   "cell_type": "code",
   "execution_count": 43,
   "id": "c3a1b31c-d2b6-41c7-8c18-c21c0dc3b9aa",
   "metadata": {},
   "outputs": [
    {
     "data": {
      "text/plain": [
       "array([[ 2,  6],\n",
       "       [ 4, 18]])"
      ]
     },
     "execution_count": 43,
     "metadata": {},
     "output_type": "execute_result"
    }
   ],
   "source": [
    "arr14@arr15 #same result....ie matrix multiplication"
   ]
  },
  {
   "cell_type": "code",
   "execution_count": null,
   "id": "2542a0aa-c5d7-4b9a-b367-cc0e2024b122",
   "metadata": {},
   "outputs": [],
   "source": []
  }
 ],
 "metadata": {
  "kernelspec": {
   "display_name": "Python 3 (ipykernel)",
   "language": "python",
   "name": "python3"
  },
  "language_info": {
   "codemirror_mode": {
    "name": "ipython",
    "version": 3
   },
   "file_extension": ".py",
   "mimetype": "text/x-python",
   "name": "python",
   "nbconvert_exporter": "python",
   "pygments_lexer": "ipython3",
   "version": "3.10.8"
  }
 },
 "nbformat": 4,
 "nbformat_minor": 5
}
