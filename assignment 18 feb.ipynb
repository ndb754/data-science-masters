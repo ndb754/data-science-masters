{
 "cells": [
  {
   "cell_type": "code",
   "execution_count": null,
   "id": "d8a04900-c740-4b28-8bea-622f65742c78",
   "metadata": {},
   "outputs": [],
   "source": [
    "'''Q1. What is an API? Give an example, where an API is used in real life.\n",
    "API is the acronym for application programming interface — a software intermediary that allows two applications to talk to each other. APIs are an accessible way to extract and share data within and across organizations.\n",
    "APIs are all around us. Every time we use a rideshare app, send a mobile payment,they connect to the Internet and send data to a server. The server then retrieves that data, interprets it, performs the necessary actions, and sends it back to your phone. The application then interprets that data and presents you with the information you wanted in a readable way. "
   ]
  },
  {
   "cell_type": "code",
   "execution_count": null,
   "id": "f56e109e-c984-41e0-9a69-9dae129377b3",
   "metadata": {},
   "outputs": [],
   "source": [
    "'''Q2. Give advantages and disadvantages of using API.\n",
    "advantages of API\n",
    "Applications: \n",
    "Access to APIs ensures more flexibility in information-transfer processes.\n",
    "Reach:\n",
    "APIs let you create layers in apps in order to distribute information to different audiences.\n",
    "Customization: \n",
    "Furthermore, it can serve as a solution to create different experiences for users, letting protocols, functions, and commands be adapted according to specific demands.\n",
    "Efficiency:\n",
    "When you have content that is automatically published and made available on different channels simultaneously, APIs allow for more efficient data distribution.\n",
    "Adaptability:\n",
    "One of the greatest benefits of APIs is the ability it has to adapt to changes through data migration and flexibility of services.\n",
    "\n",
    "disadvantages of API\n",
    " As a single point of entry, an API is a gateway and can become a hacker's primary target. Once the API is compromised, all other applications and systems become vulnerable.\n",
    "  APIs are vulnerable to man-in-the-middle attacks, CSRF attacks, XSS attacks, SQL injection, and DDoS attacks."
   ]
  },
  {
   "cell_type": "code",
   "execution_count": null,
   "id": "82988ebf-73da-43af-8ea3-2423b55dd792",
   "metadata": {},
   "outputs": [],
   "source": [
    "'''Q3. What is a Web API? Differentiate between API and Web API.\n",
    "A web API is an application programming interface (API) for either a web server or a web browser. As a web development concept, it can be related to a web application's client side (including any web frameworks being used). A server-side web API consists of one or more publicly exposed endpoints to a defined request–response message system, typically expressed in JSON or XML by means of an HTTP-based web server\n",
    "\n",
    "API                                                                                 webAPI\n",
    "created using tcp,smtp,http protocol                  It is subset of api created using http protocol\n"
   ]
  },
  {
   "cell_type": "code",
   "execution_count": null,
   "id": "4d2b0143-5fce-465b-8a7f-2c29151b7a2b",
   "metadata": {},
   "outputs": [],
   "source": [
    "'''Q4. Explain REST and SOAP Architecture. Mention shortcomings of SOAP.\n",
    "\n",
    "REST and SOAP are 2 different approaches to build application programming interfaces (APIs)\n",
    "             REST                                                        SOAP\n",
    "representational state transfer                                 simple object access protocol\n",
    "uses http protocol                                              uses tcp/ip or smtp protocol\n",
    "uses functions like get,put,post,delete                         uses xml and wsdl language\n",
    "known for its simplicity,scalability and flexibility            known for its security\n",
    "\n",
    "shortcomings of soap:complex,less scalable and flexible"
   ]
  },
  {
   "cell_type": "code",
   "execution_count": null,
   "id": "fdaeb8b7-23dd-4cfa-8aba-a5b48bf83e7d",
   "metadata": {},
   "outputs": [],
   "source": []
  }
 ],
 "metadata": {
  "kernelspec": {
   "display_name": "Python 3 (ipykernel)",
   "language": "python",
   "name": "python3"
  },
  "language_info": {
   "codemirror_mode": {
    "name": "ipython",
    "version": 3
   },
   "file_extension": ".py",
   "mimetype": "text/x-python",
   "name": "python",
   "nbconvert_exporter": "python",
   "pygments_lexer": "ipython3",
   "version": "3.10.8"
  }
 },
 "nbformat": 4,
 "nbformat_minor": 5
}
