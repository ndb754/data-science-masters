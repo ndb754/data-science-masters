{
 "cells": [
  {
   "cell_type": "code",
   "execution_count": 3,
   "id": "7379b272-b152-4671-98ad-26fe9660d2c3",
   "metadata": {},
   "outputs": [],
   "source": [
    "#Q1, Create a vehicle class with an init method having instance variables as name_of_vehicle, max_speed\n",
    "#and average_of_vehicle.\n",
    "class vehicle:\n",
    "    def __init__(self,name_of_vehicle,max_speed,average):\n",
    "        self.name_of_vehicle=name_of_vehicle\n",
    "        self.max_speed=max_speed\n",
    "        self.average=average\n",
    "    def returnvehicle(self):\n",
    "        return self.name_of_vehicle,self.max_speed,self.average"
   ]
  },
  {
   "cell_type": "code",
   "execution_count": 4,
   "id": "da9953fd-f717-465f-93d0-57d564d4670c",
   "metadata": {},
   "outputs": [],
   "source": [
    "v=vehicle('maruti',200,25)"
   ]
  },
  {
   "cell_type": "code",
   "execution_count": 5,
   "id": "d99e05f5-ed8d-4e4d-aac4-01af99bd2b3f",
   "metadata": {},
   "outputs": [
    {
     "data": {
      "text/plain": [
       "('maruti', 200, 25)"
      ]
     },
     "execution_count": 5,
     "metadata": {},
     "output_type": "execute_result"
    }
   ],
   "source": [
    "v.returnvehicle()"
   ]
  },
  {
   "cell_type": "code",
   "execution_count": 11,
   "id": "43903307-92d2-4551-8277-3aa09d994bfb",
   "metadata": {},
   "outputs": [],
   "source": [
    "#Q2. Create a child class car from the vehicle class created in Que 1, which will inherit the vehicle class.\n",
    "#Create a method named seating_capacity which takes capacity as an argument and returns the name of\n",
    "#the vehicle and its seating capacity.\n",
    "class car(vehicle):\n",
    "    def seating_capacity(self,capacity):\n",
    "        return self.name_of_vehicle,capacity"
   ]
  },
  {
   "cell_type": "code",
   "execution_count": 13,
   "id": "6068bf13-edff-435e-8bbd-2240a2135f60",
   "metadata": {},
   "outputs": [],
   "source": [
    "c=car('ford',220,20)"
   ]
  },
  {
   "cell_type": "code",
   "execution_count": 14,
   "id": "5d0935dd-6b1b-4058-9d35-a4e975cd978f",
   "metadata": {},
   "outputs": [
    {
     "data": {
      "text/plain": [
       "('ford', 4)"
      ]
     },
     "execution_count": 14,
     "metadata": {},
     "output_type": "execute_result"
    }
   ],
   "source": [
    "c.seating_capacity(4)"
   ]
  },
  {
   "cell_type": "code",
   "execution_count": 15,
   "id": "436741ce-8680-4a9d-ab74-50b93ddca2dd",
   "metadata": {},
   "outputs": [],
   "source": [
    "#Q3. What is multiple inheritance? Write a python code to demonstrate multiple inheritance.\n",
    "# multiple inheritance is the inheritance in which the child class inherits attributes and fucntions of 2 or more parent class"
   ]
  },
  {
   "cell_type": "code",
   "execution_count": 18,
   "id": "694e71fb-9502-4a30-96e8-0173d4b8009f",
   "metadata": {},
   "outputs": [
    {
     "name": "stdout",
     "output_type": "stream",
     "text": [
      "this is parent1 class\n",
      "this is parent2 class\n"
     ]
    }
   ],
   "source": [
    "class parent1:\n",
    "    def test_parent1(self):\n",
    "        print('this is parent1 class')\n",
    "class parent2:\n",
    "    def test_parent2(self):\n",
    "        print('this is parent2 class')\n",
    "class child(parent1,parent2):\n",
    "    pass\n",
    "c=child()\n",
    "c.test_parent1()\n",
    "c.test_parent2()\n",
    "    "
   ]
  },
  {
   "cell_type": "code",
   "execution_count": 17,
   "id": "b4c526b6-f2ac-4240-a717-2e7ab6e54f96",
   "metadata": {},
   "outputs": [],
   "source": [
    "#Q4. What are getter and setter in python? Create a class and create a getter and a setter method in this\n",
    "#class.\n",
    "# getter and setter are the property decorators to access and modify the private variables\n",
    "class pwskills:\n",
    "    def __init__(self,name,phone):\n",
    "        self.name=name\n",
    "        self.__phone=phone\n",
    "    @property\n",
    "    def getphone(self):      #getter\n",
    "        return self.__phone\n",
    "    \n",
    "    @getphone.setter         #setter\n",
    "    def setphone(self,phone1):\n",
    "        self.__phone=phone1"
   ]
  },
  {
   "cell_type": "code",
   "execution_count": 10,
   "id": "bc3e600e-fc3a-4c11-afb4-c85d87b71e67",
   "metadata": {},
   "outputs": [],
   "source": [
    "pw=pwskills('nikhil',9565461)"
   ]
  },
  {
   "cell_type": "code",
   "execution_count": 11,
   "id": "558bdd23-e565-45c0-bc62-a43c705cebff",
   "metadata": {},
   "outputs": [
    {
     "data": {
      "text/plain": [
       "'nikhil'"
      ]
     },
     "execution_count": 11,
     "metadata": {},
     "output_type": "execute_result"
    }
   ],
   "source": [
    "pw.name"
   ]
  },
  {
   "cell_type": "code",
   "execution_count": 12,
   "id": "4d4d1e4a-5be6-492a-add0-24c37a5e37c0",
   "metadata": {},
   "outputs": [
    {
     "ename": "AttributeError",
     "evalue": "'pwskills' object has no attribute '__phone'",
     "output_type": "error",
     "traceback": [
      "\u001b[0;31m---------------------------------------------------------------------------\u001b[0m",
      "\u001b[0;31mAttributeError\u001b[0m                            Traceback (most recent call last)",
      "Cell \u001b[0;32mIn[12], line 1\u001b[0m\n\u001b[0;32m----> 1\u001b[0m \u001b[43mpw\u001b[49m\u001b[38;5;241;43m.\u001b[39;49m\u001b[43m__phone\u001b[49m \u001b[38;5;66;03m# will show error\u001b[39;00m\n",
      "\u001b[0;31mAttributeError\u001b[0m: 'pwskills' object has no attribute '__phone'"
     ]
    }
   ],
   "source": [
    "pw.__phone # will show error"
   ]
  },
  {
   "cell_type": "code",
   "execution_count": 14,
   "id": "70974a51-4606-42cb-a5cf-732abf965ec1",
   "metadata": {},
   "outputs": [
    {
     "data": {
      "text/plain": [
       "9565461"
      ]
     },
     "execution_count": 14,
     "metadata": {},
     "output_type": "execute_result"
    }
   ],
   "source": [
    "pw.getphone"
   ]
  },
  {
   "cell_type": "code",
   "execution_count": 19,
   "id": "4d1eba0e-f6ff-4a43-a37f-e6dc07d9eb3f",
   "metadata": {},
   "outputs": [],
   "source": [
    "pw.setphone=642336565 # setting phone no"
   ]
  },
  {
   "cell_type": "code",
   "execution_count": 20,
   "id": "e42db9b2-00de-44df-8ef5-68ecbe7ecc62",
   "metadata": {},
   "outputs": [
    {
     "data": {
      "text/plain": [
       "642336565"
      ]
     },
     "execution_count": 20,
     "metadata": {},
     "output_type": "execute_result"
    }
   ],
   "source": [
    "pw.setphone"
   ]
  },
  {
   "cell_type": "code",
   "execution_count": 21,
   "id": "6e2dc9f8-9fa6-47c9-89c2-3e2a78df0e12",
   "metadata": {},
   "outputs": [],
   "source": [
    "#Q5.What is method overriding in python? Write a python code to demonstrate method overriding.\n",
    "# method overriding is a feature in oops programming in which function in parent class is overrided by function with same name in child class if called through object of child class\n",
    "class parent:\n",
    "    def __init__(self):\n",
    "        self.value=\"this is parent class\"\n",
    "    def printvalue(self):\n",
    "        print(self.value)\n",
    "class child:\n",
    "    def __init__(self):\n",
    "        self.value=\"this is child class\"\n",
    "    def printvalue(self):\n",
    "        print(self.value)\n",
    "    "
   ]
  },
  {
   "cell_type": "code",
   "execution_count": 22,
   "id": "3dd28898-7d01-49b7-9654-a9c0286e01f3",
   "metadata": {},
   "outputs": [],
   "source": [
    "c=child()"
   ]
  },
  {
   "cell_type": "code",
   "execution_count": 23,
   "id": "ea6bd9a5-0ab4-4c02-92fa-665ab6d32cfb",
   "metadata": {},
   "outputs": [
    {
     "name": "stdout",
     "output_type": "stream",
     "text": [
      "this is child class\n"
     ]
    }
   ],
   "source": [
    "c.printvalue() #will override print value function of parent class"
   ]
  },
  {
   "cell_type": "code",
   "execution_count": null,
   "id": "83797967-0f9e-4e47-93c1-37d8ca09c27e",
   "metadata": {},
   "outputs": [],
   "source": []
  }
 ],
 "metadata": {
  "kernelspec": {
   "display_name": "Python 3 (ipykernel)",
   "language": "python",
   "name": "python3"
  },
  "language_info": {
   "codemirror_mode": {
    "name": "ipython",
    "version": 3
   },
   "file_extension": ".py",
   "mimetype": "text/x-python",
   "name": "python",
   "nbconvert_exporter": "python",
   "pygments_lexer": "ipython3",
   "version": "3.10.8"
  }
 },
 "nbformat": 4,
 "nbformat_minor": 5
}
