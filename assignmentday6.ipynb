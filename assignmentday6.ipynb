{
 "cells": [
  {
   "cell_type": "code",
   "execution_count": 11,
   "id": "27ca712b-543c-44c8-bd8f-c46a78304dd4",
   "metadata": {},
   "outputs": [],
   "source": [
    "#q1 def keyword is used to create function\n",
    "def test():\n",
    "    n=[]\n",
    "    for i in range(0,25):\n",
    "        if i%2!=0:\n",
    "            n.append(i)\n",
    "    return n"
   ]
  },
  {
   "cell_type": "code",
   "execution_count": 12,
   "id": "123d7757-5dd9-4cd6-bc76-c54941a25225",
   "metadata": {},
   "outputs": [
    {
     "data": {
      "text/plain": [
       "[1, 3, 5, 7, 9, 11, 13, 15, 17, 19, 21, 23]"
      ]
     },
     "execution_count": 12,
     "metadata": {},
     "output_type": "execute_result"
    }
   ],
   "source": [
    "test()"
   ]
  },
  {
   "cell_type": "code",
   "execution_count": 24,
   "id": "b4fb2779-46e5-4c56-b426-d1a95f2e7c3a",
   "metadata": {},
   "outputs": [],
   "source": [
    "#q2\n",
    "#*args are used in function to accept indefinite number of arguments\n",
    "def test1(a,b,c,d):\n",
    "    pass\n",
    "    "
   ]
  },
  {
   "cell_type": "code",
   "execution_count": 25,
   "id": "cb61acbe-0f24-4f51-a2b8-ab6e453af398",
   "metadata": {},
   "outputs": [
    {
     "ename": "TypeError",
     "evalue": "test1() takes 4 positional arguments but 5 were given",
     "output_type": "error",
     "traceback": [
      "\u001b[0;31m---------------------------------------------------------------------------\u001b[0m",
      "\u001b[0;31mTypeError\u001b[0m                                 Traceback (most recent call last)",
      "Cell \u001b[0;32mIn[25], line 1\u001b[0m\n\u001b[0;32m----> 1\u001b[0m \u001b[43mtest1\u001b[49m\u001b[43m(\u001b[49m\u001b[38;5;241;43m1\u001b[39;49m\u001b[43m,\u001b[49m\u001b[38;5;241;43m2\u001b[39;49m\u001b[43m,\u001b[49m\u001b[38;5;241;43m3\u001b[39;49m\u001b[43m,\u001b[49m\u001b[38;5;241;43m4\u001b[39;49m\u001b[43m,\u001b[49m\u001b[38;5;241;43m5\u001b[39;49m\u001b[43m)\u001b[49m\n",
      "\u001b[0;31mTypeError\u001b[0m: test1() takes 4 positional arguments but 5 were given"
     ]
    }
   ],
   "source": [
    "test1(1,2,3,4,5)"
   ]
  },
  {
   "cell_type": "code",
   "execution_count": 26,
   "id": "90431b3d-2ba8-4b65-916c-b26beebc1105",
   "metadata": {},
   "outputs": [],
   "source": [
    "def test1(*args):\n",
    "    return args"
   ]
  },
  {
   "cell_type": "code",
   "execution_count": 27,
   "id": "6f9fa3e7-7b62-4b07-a407-2315173288e2",
   "metadata": {},
   "outputs": [
    {
     "data": {
      "text/plain": [
       "(1, 2, 3, 4, 5, 'nikhil', [1, 2, 3])"
      ]
     },
     "execution_count": 27,
     "metadata": {},
     "output_type": "execute_result"
    }
   ],
   "source": [
    "test1(1,2,3,4,5,'nikhil',[1,2,3])"
   ]
  },
  {
   "cell_type": "code",
   "execution_count": 31,
   "id": "2f4f2822-f5e4-4fa1-9b3a-17beed4ccea0",
   "metadata": {},
   "outputs": [],
   "source": [
    "# **kwargs is used to accept data in dictionary form that is row value type as argument\n",
    "def test2(**kwargs):\n",
    "    return kwargs"
   ]
  },
  {
   "cell_type": "code",
   "execution_count": 30,
   "id": "14ed3881-2b1f-48a2-acbf-274689e84700",
   "metadata": {},
   "outputs": [
    {
     "data": {
      "text/plain": [
       "{'name': 'nikhil', 'age': 31}"
      ]
     },
     "execution_count": 30,
     "metadata": {},
     "output_type": "execute_result"
    }
   ],
   "source": [
    "test2(name='nikhil',age=31,)"
   ]
  },
  {
   "cell_type": "code",
   "execution_count": 10,
   "id": "4c2d9209-6da7-4e60-b050-fca63fa0793b",
   "metadata": {},
   "outputs": [],
   "source": [
    "#q4\n",
    "# generator functions are used to prevent unnecessary memory consumption\n",
    "# yield keyword is used in generator functions in place of return to print the result on output\n",
    "# range is a generator function\n",
    "def generatorfun():\n",
    "    yield 1           \n",
    "    yield 2           \n",
    "    yield 3"
   ]
  },
  {
   "cell_type": "code",
   "execution_count": 11,
   "id": "07a97c24-2722-48ab-8be1-b26f7883a0e1",
   "metadata": {},
   "outputs": [
    {
     "name": "stdout",
     "output_type": "stream",
     "text": [
      "1\n",
      "2\n",
      "3\n"
     ]
    }
   ],
   "source": [
    "for i in generatorfun():\n",
    "    print(i)"
   ]
  },
  {
   "cell_type": "code",
   "execution_count": 11,
   "id": "58ae9b6c-c7e7-45da-a4dd-863426500988",
   "metadata": {},
   "outputs": [],
   "source": [
    "#q5 Create a generator function for prime numbers less than 1000. Use the next() method to print the\n",
    "#first 20 prime numbers.\n",
    "def generatorprime():\n",
    "    for i in range(2,1000):\n",
    "        if i%2!=0 and i%3!=0 and i%5!=0:\n",
    "            yield i\n",
    "            \n",
    "                \n",
    "            \n",
    "           \n",
    "            "
   ]
  },
  {
   "cell_type": "code",
   "execution_count": 12,
   "id": "cb32dfc8-49dd-47f1-9987-896549b071cb",
   "metadata": {},
   "outputs": [],
   "source": [
    "x=generatorprime()"
   ]
  },
  {
   "cell_type": "code",
   "execution_count": 13,
   "id": "a5aeb0a9-79c0-41f7-a1af-29471900976a",
   "metadata": {},
   "outputs": [
    {
     "name": "stdout",
     "output_type": "stream",
     "text": [
      "7\n",
      "11\n",
      "13\n",
      "17\n",
      "19\n",
      "23\n",
      "29\n",
      "31\n",
      "37\n",
      "41\n",
      "43\n",
      "47\n",
      "49\n",
      "53\n",
      "59\n",
      "61\n",
      "67\n",
      "71\n",
      "73\n",
      "77\n"
     ]
    }
   ],
   "source": [
    "for i in range(0,20):\n",
    "    print(next(x))"
   ]
  },
  {
   "cell_type": "code",
   "execution_count": 14,
   "id": "39a7bc03-6e24-44bc-9ac8-f3976ce8b434",
   "metadata": {},
   "outputs": [
    {
     "name": "stdout",
     "output_type": "stream",
     "text": [
      "2\n",
      "4\n",
      "6\n",
      "8\n",
      "10\n"
     ]
    }
   ],
   "source": [
    "#q3 iterator is an object such as strings,tuples,list,set,dictionary which contains countable number of values\n",
    "# itertor object is initialised using iter() and iterated using next()\n",
    "list=[2,4,6,8,10,12,14,16,18,20]\n",
    "x=iter(list)\n",
    "for i in range(5):\n",
    "    print(next(x))"
   ]
  },
  {
   "cell_type": "code",
   "execution_count": null,
   "id": "1fe61aab-5a2c-4b19-8bea-28481e65e889",
   "metadata": {},
   "outputs": [],
   "source": []
  }
 ],
 "metadata": {
  "kernelspec": {
   "display_name": "Python 3 (ipykernel)",
   "language": "python",
   "name": "python3"
  },
  "language_info": {
   "codemirror_mode": {
    "name": "ipython",
    "version": 3
   },
   "file_extension": ".py",
   "mimetype": "text/x-python",
   "name": "python",
   "nbconvert_exporter": "python",
   "pygments_lexer": "ipython3",
   "version": "3.10.8"
  }
 },
 "nbformat": 4,
 "nbformat_minor": 5
}
