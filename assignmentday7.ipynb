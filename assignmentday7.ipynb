{
 "cells": [
  {
   "cell_type": "code",
   "execution_count": 4,
   "id": "c4319ae1-a622-43c6-b838-977e901f50d8",
   "metadata": {},
   "outputs": [],
   "source": [
    "#q1 sort list using integer value through lambda function\n",
    "lst=[('ST',34357),('RP',27483),('JK',25534),('VK',24936)]"
   ]
  },
  {
   "cell_type": "code",
   "execution_count": 5,
   "id": "0dedd1e7-6c41-4cbc-8400-763c4b19e7c7",
   "metadata": {},
   "outputs": [],
   "source": [
    "f=sorted(lst,key=lambda x:x[1])"
   ]
  },
  {
   "cell_type": "code",
   "execution_count": 6,
   "id": "e9faa365-58ed-4d2d-8d3c-553087684110",
   "metadata": {},
   "outputs": [
    {
     "data": {
      "text/plain": [
       "[('VK', 24936), ('JK', 25534), ('RP', 27483), ('ST', 34357)]"
      ]
     },
     "execution_count": 6,
     "metadata": {},
     "output_type": "execute_result"
    }
   ],
   "source": [
    "f"
   ]
  },
  {
   "cell_type": "code",
   "execution_count": 7,
   "id": "7aee65f9-4e04-4547-8b2e-023da11e4d33",
   "metadata": {},
   "outputs": [],
   "source": [
    "lst=[('ST',34357),('RP',27483),('JK',25534),('VK',24936)]\n",
    "lst.sort(key=lambda x:x[1])"
   ]
  },
  {
   "cell_type": "code",
   "execution_count": 8,
   "id": "73e105ac-279b-4c1c-b944-4c837122caad",
   "metadata": {},
   "outputs": [
    {
     "data": {
      "text/plain": [
       "[('VK', 24936), ('JK', 25534), ('RP', 27483), ('ST', 34357)]"
      ]
     },
     "execution_count": 8,
     "metadata": {},
     "output_type": "execute_result"
    }
   ],
   "source": [
    "lst"
   ]
  },
  {
   "cell_type": "code",
   "execution_count": 1,
   "id": "48db3a4f-c059-4165-a63e-00b44a21caa4",
   "metadata": {},
   "outputs": [
    {
     "data": {
      "text/plain": [
       "<map at 0x7fcbb5e72470>"
      ]
     },
     "execution_count": 1,
     "metadata": {},
     "output_type": "execute_result"
    }
   ],
   "source": [
    "#q2 find square of values in list using map and lambda\n",
    "l=[1,2,3,4,5,6,7,8,9,10]\n",
    "map(lambda x:x**2,l)"
   ]
  },
  {
   "cell_type": "code",
   "execution_count": 2,
   "id": "83a9625b-56dc-4c81-a318-64ff8aadc318",
   "metadata": {},
   "outputs": [
    {
     "data": {
      "text/plain": [
       "[1, 4, 9, 16, 25, 36, 49, 64, 81, 100]"
      ]
     },
     "execution_count": 2,
     "metadata": {},
     "output_type": "execute_result"
    }
   ],
   "source": [
    "list(map(lambda x:x**2,l))"
   ]
  },
  {
   "cell_type": "code",
   "execution_count": 11,
   "id": "1385e706-b435-4f9c-b4ad-d1c4be8205a8",
   "metadata": {},
   "outputs": [
    {
     "data": {
      "text/plain": [
       "['1', '2', '3', '4', '5', '6', '7', '8', '9', '10']"
      ]
     },
     "execution_count": 11,
     "metadata": {},
     "output_type": "execute_result"
    }
   ],
   "source": [
    "#q3 convert integer in list into string using map and lambda\n",
    "l=[1,2,3,4,5,6,7,8,9,10]\n",
    "list(map(lambda x:str(x),l))"
   ]
  },
  {
   "cell_type": "code",
   "execution_count": 12,
   "id": "44360994-3369-4b2c-9d16-530d42fa3e64",
   "metadata": {},
   "outputs": [
    {
     "data": {
      "text/plain": [
       "3628800"
      ]
     },
     "execution_count": 12,
     "metadata": {},
     "output_type": "execute_result"
    }
   ],
   "source": [
    "#q4 compute product of all vaalues in list using reduce function\n",
    "from functools import reduce\n",
    "reduce(lambda x,y:x*y,l)"
   ]
  },
  {
   "cell_type": "code",
   "execution_count": 13,
   "id": "f23c4cba-b6a4-4c0a-be98-ed34bc288cf0",
   "metadata": {},
   "outputs": [
    {
     "data": {
      "text/plain": [
       "[2, 3, 6, 9, 27, 60, 90, 120, 46]"
      ]
     },
     "execution_count": 13,
     "metadata": {},
     "output_type": "execute_result"
    }
   ],
   "source": [
    "#q5 filter numbers in list divisible by 2 and 3 using filter()\n",
    "l1=[2,3,6,9,27,60,90,120,55,46]\n",
    "list(filter(lambda x:x%2==0 or x%3==0,l1))"
   ]
  },
  {
   "cell_type": "code",
   "execution_count": 15,
   "id": "212e89b5-60bb-4928-8b9d-36fd84a661b4",
   "metadata": {},
   "outputs": [
    {
     "data": {
      "text/plain": [
       "['php', 'aba', 'radar', 'level']"
      ]
     },
     "execution_count": 15,
     "metadata": {},
     "output_type": "execute_result"
    }
   ],
   "source": [
    "#q6 find palindromes in list of strings using lambda and filter\n",
    "strin=['php','python','aba','radar','level']\n",
    "list(filter(lambda s:s==s[::-1],strin ))\n"
   ]
  },
  {
   "cell_type": "code",
   "execution_count": null,
   "id": "30975520-590e-4060-9d00-2954674c4641",
   "metadata": {},
   "outputs": [],
   "source": []
  }
 ],
 "metadata": {
  "kernelspec": {
   "display_name": "Python 3 (ipykernel)",
   "language": "python",
   "name": "python3"
  },
  "language_info": {
   "codemirror_mode": {
    "name": "ipython",
    "version": 3
   },
   "file_extension": ".py",
   "mimetype": "text/x-python",
   "name": "python",
   "nbconvert_exporter": "python",
   "pygments_lexer": "ipython3",
   "version": "3.10.8"
  }
 },
 "nbformat": 4,
 "nbformat_minor": 5
}
