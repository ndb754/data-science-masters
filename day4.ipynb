{
 "cells": [
  {
   "cell_type": "code",
   "execution_count": 1,
   "id": "8ec8ca2a-9f67-48f2-bc93-d34a8dd58a87",
   "metadata": {},
   "outputs": [],
   "source": [
    "# string continue"
   ]
  },
  {
   "cell_type": "code",
   "execution_count": 4,
   "id": "8d942304-420e-43a1-ae93-360321fe7fc7",
   "metadata": {},
   "outputs": [
    {
     "data": {
      "text/plain": [
       "'Data science masters'"
      ]
     },
     "execution_count": 4,
     "metadata": {},
     "output_type": "execute_result"
    }
   ],
   "source": [
    "course=\"Data Science Masters\"\n",
    "course.capitalize() #only first alphabet will be capital others will be small"
   ]
  },
  {
   "cell_type": "code",
   "execution_count": 6,
   "id": "88a993c1-9c23-487f-b250-00298980c205",
   "metadata": {},
   "outputs": [
    {
     "data": {
      "text/plain": [
       "'sretsaM ecneicS ataD'"
      ]
     },
     "execution_count": 6,
     "metadata": {},
     "output_type": "execute_result"
    }
   ],
   "source": [
    "course[::-1]"
   ]
  },
  {
   "cell_type": "code",
   "execution_count": 8,
   "id": "2c042550-f370-4728-b568-aa4629a14434",
   "metadata": {},
   "outputs": [
    {
     "data": {
      "text/plain": [
       "<reversed at 0x7fa1fc741db0>"
      ]
     },
     "execution_count": 8,
     "metadata": {},
     "output_type": "execute_result"
    }
   ],
   "source": [
    "reversed(course)"
   ]
  },
  {
   "cell_type": "code",
   "execution_count": 13,
   "id": "dc455b25-3d3e-42ff-84d6-3576a727e8b8",
   "metadata": {},
   "outputs": [
    {
     "data": {
      "text/plain": [
       "'D a t a   S c i e n c e   M a s t e r s'"
      ]
     },
     "execution_count": 13,
     "metadata": {},
     "output_type": "execute_result"
    }
   ],
   "source": [
    "\" \".join(course) # after every reverse alphabet space will come"
   ]
  },
  {
   "cell_type": "code",
   "execution_count": 18,
   "id": "4c77fac3-44ed-47ea-9ef1-89c90c4fa4af",
   "metadata": {},
   "outputs": [
    {
     "data": {
      "text/plain": [
       "'n i k h i l'"
      ]
     },
     "execution_count": 18,
     "metadata": {},
     "output_type": "execute_result"
    }
   ],
   "source": [
    "\" \".join(\"nikhil\")"
   ]
  },
  {
   "cell_type": "code",
   "execution_count": 14,
   "id": "aa77a618-7522-4a04-bcd4-6700b2188f69",
   "metadata": {},
   "outputs": [
    {
     "data": {
      "text/plain": [
       "'s r e t s a M   e c n e i c S   a t a D'"
      ]
     },
     "execution_count": 14,
     "metadata": {},
     "output_type": "execute_result"
    }
   ],
   "source": [
    "' '.join(reversed(course))"
   ]
  },
  {
   "cell_type": "code",
   "execution_count": 19,
   "id": "b71a8a47-b32f-4a6f-8eb6-0ecf6968d0aa",
   "metadata": {},
   "outputs": [
    {
     "data": {
      "text/plain": [
       "'l i h k i n'"
      ]
     },
     "execution_count": 19,
     "metadata": {},
     "output_type": "execute_result"
    }
   ],
   "source": [
    "' '.join(reversed(\"nikhil\"))"
   ]
  },
  {
   "cell_type": "code",
   "execution_count": 12,
   "id": "3e0de5de-c0d7-42f5-a6f9-f23288983848",
   "metadata": {},
   "outputs": [
    {
     "data": {
      "text/plain": [
       "'bnikhilhnikhilanikhilnnikhilunikhilsnikhilhnikhilanikhillnikhili'"
      ]
     },
     "execution_count": 12,
     "metadata": {},
     "output_type": "execute_result"
    }
   ],
   "source": [
    "\"nikhil\".join(\"bhanushali\") #after every alphabet nikhil will come"
   ]
  },
  {
   "cell_type": "code",
   "execution_count": 15,
   "id": "342ccd15-c924-40f1-848a-84672ec67396",
   "metadata": {},
   "outputs": [
    {
     "data": {
      "text/plain": [
       "'b'"
      ]
     },
     "execution_count": 15,
     "metadata": {},
     "output_type": "execute_result"
    }
   ],
   "source": [
    "\"nikhil\".join(\"b\")"
   ]
  },
  {
   "cell_type": "code",
   "execution_count": 16,
   "id": "7b41a4ef-3338-4451-ab4d-c1d54f588bc6",
   "metadata": {},
   "outputs": [
    {
     "data": {
      "text/plain": [
       "'bnikhilh'"
      ]
     },
     "execution_count": 16,
     "metadata": {},
     "output_type": "execute_result"
    }
   ],
   "source": [
    "\"nikhil\".join(\"bh\")"
   ]
  },
  {
   "cell_type": "code",
   "execution_count": 21,
   "id": "56089b47-8c8d-410a-b314-eab8ec7b48d8",
   "metadata": {},
   "outputs": [
    {
     "data": {
      "text/plain": [
       "'b nikhil h nikhil a'"
      ]
     },
     "execution_count": 21,
     "metadata": {},
     "output_type": "execute_result"
    }
   ],
   "source": [
    "\" nikhil \".join(\"bha\")"
   ]
  },
  {
   "cell_type": "code",
   "execution_count": 24,
   "id": "11d7f56d-60db-43a7-8360-6d002a96aa97",
   "metadata": {},
   "outputs": [
    {
     "data": {
      "text/plain": [
       "['l', 'i', 'h', 'k', 'i', 'n']"
      ]
     },
     "execution_count": 24,
     "metadata": {},
     "output_type": "execute_result"
    }
   ],
   "source": [
    "list(reversed(\"nikhil\")) #typecasting ie converting string into list"
   ]
  },
  {
   "cell_type": "code",
   "execution_count": 25,
   "id": "7962171d-99cf-4c19-ace9-bd917195a97c",
   "metadata": {},
   "outputs": [
    {
     "data": {
      "text/plain": [
       "['s',\n",
       " 'r',\n",
       " 'e',\n",
       " 't',\n",
       " 's',\n",
       " 'a',\n",
       " 'M',\n",
       " ' ',\n",
       " 'e',\n",
       " 'c',\n",
       " 'n',\n",
       " 'e',\n",
       " 'i',\n",
       " 'c',\n",
       " 'S',\n",
       " ' ',\n",
       " 'a',\n",
       " 't',\n",
       " 'a',\n",
       " 'D']"
      ]
     },
     "execution_count": 25,
     "metadata": {},
     "output_type": "execute_result"
    }
   ],
   "source": [
    "list(reversed(course))"
   ]
  },
  {
   "cell_type": "code",
   "execution_count": 26,
   "id": "17c7c31d-097e-4a12-aa4a-94a9a5811782",
   "metadata": {},
   "outputs": [],
   "source": [
    "# removing characters from string"
   ]
  },
  {
   "cell_type": "code",
   "execution_count": 32,
   "id": "ab8e3438-ec4c-4b9c-8ddd-7aab30f29a7f",
   "metadata": {},
   "outputs": [],
   "source": [
    "string_a=\" pw skills \""
   ]
  },
  {
   "cell_type": "code",
   "execution_count": 33,
   "id": "9ee3d44d-1f29-45d4-8600-fd3b87938ce1",
   "metadata": {},
   "outputs": [
    {
     "data": {
      "text/plain": [
       "'pw skills'"
      ]
     },
     "execution_count": 33,
     "metadata": {},
     "output_type": "execute_result"
    }
   ],
   "source": [
    "string_a.strip(\" \") # will remove spaces at end"
   ]
  },
  {
   "cell_type": "code",
   "execution_count": 34,
   "id": "b7e4d30e-b974-4e05-9af5-d228305dc1fb",
   "metadata": {},
   "outputs": [
    {
     "data": {
      "text/plain": [
       "'pw skills '"
      ]
     },
     "execution_count": 34,
     "metadata": {},
     "output_type": "execute_result"
    }
   ],
   "source": [
    "string_a.lstrip(\" \") # removes left most space"
   ]
  },
  {
   "cell_type": "code",
   "execution_count": 35,
   "id": "f84c323a-3035-44d4-bd73-ea4c254bf92a",
   "metadata": {},
   "outputs": [
    {
     "data": {
      "text/plain": [
       "' pw skills'"
      ]
     },
     "execution_count": 35,
     "metadata": {},
     "output_type": "execute_result"
    }
   ],
   "source": [
    "string_a.rstrip(\" \") # removes right most space"
   ]
  },
  {
   "cell_type": "code",
   "execution_count": 42,
   "id": "1a7eb875-2e14-4d26-be8e-a425650e2dfd",
   "metadata": {},
   "outputs": [
    {
     "data": {
      "text/plain": [
       "' ineuron skills '"
      ]
     },
     "execution_count": 42,
     "metadata": {},
     "output_type": "execute_result"
    }
   ],
   "source": [
    "string_a.replace(\"pw\",\"ineuron\") #replace substring pw with ineuron"
   ]
  },
  {
   "cell_type": "code",
   "execution_count": 44,
   "id": "2d7436c9-a494-47af-a166-bb516083f890",
   "metadata": {},
   "outputs": [
    {
     "ename": "TypeError",
     "evalue": "'str' object does not support item assignment",
     "output_type": "error",
     "traceback": [
      "\u001b[0;31m---------------------------------------------------------------------------\u001b[0m",
      "\u001b[0;31mTypeError\u001b[0m                                 Traceback (most recent call last)",
      "Cell \u001b[0;32mIn[44], line 2\u001b[0m\n\u001b[1;32m      1\u001b[0m string_a1\u001b[38;5;241m=\u001b[39m\u001b[38;5;124m\"\u001b[39m\u001b[38;5;124mgreeting to pw skills\u001b[39m\u001b[38;5;124m\"\u001b[39m\n\u001b[0;32m----> 2\u001b[0m \u001b[43mstring_a1\u001b[49m\u001b[43m[\u001b[49m\u001b[38;5;241;43m2\u001b[39;49m\u001b[43m]\u001b[49m\u001b[38;5;241m=\u001b[39m\u001b[38;5;124m\"\u001b[39m\u001b[38;5;124mn\u001b[39m\u001b[38;5;124m\"\u001b[39m \u001b[38;5;66;03m# strings are immutable and single alphabet cannot be replace but a substring can be replaced\u001b[39;00m\n",
      "\u001b[0;31mTypeError\u001b[0m: 'str' object does not support item assignment"
     ]
    }
   ],
   "source": [
    "string_a1=\"greeting to pw skills\"\n",
    "string_a1[2]=\"n\" # strings are immutable and single alphabet cannot be replace but a substring can be replaced"
   ]
  },
  {
   "cell_type": "code",
   "execution_count": 47,
   "id": "8a80820c-1dbc-44aa-8ef5-8cbe7b6fa3ec",
   "metadata": {},
   "outputs": [
    {
     "data": {
      "text/plain": [
       "'grnnting to pw skills'"
      ]
     },
     "execution_count": 47,
     "metadata": {},
     "output_type": "execute_result"
    }
   ],
   "source": [
    "string_a1.replace(\"e\",\"n\") # here it is not replacing actual string but generating copy of string with modifications"
   ]
  },
  {
   "cell_type": "code",
   "execution_count": 48,
   "id": "1c8a65a2-3a9d-4b5e-95bc-5f9a8c78028e",
   "metadata": {},
   "outputs": [
    {
     "data": {
      "text/plain": [
       "'greeting to pw skills'"
      ]
     },
     "execution_count": 48,
     "metadata": {},
     "output_type": "execute_result"
    }
   ],
   "source": [
    "string_a1 # actual string remains unharmed after replace function"
   ]
  },
  {
   "cell_type": "code",
   "execution_count": 3,
   "id": "25e26bfc-751e-4d41-8933-49c4f5b055b6",
   "metadata": {},
   "outputs": [
    {
     "name": "stdout",
     "output_type": "stream",
     "text": [
      "grnnting to pw skills\n"
     ]
    }
   ],
   "source": [
    "string_a1=\"greeting to pw skills\"\n",
    "var1=string_a1.replace(\"e\",\"n\") \n",
    "print(var1)"
   ]
  },
  {
   "cell_type": "code",
   "execution_count": 5,
   "id": "26278d8b-e1c7-488e-9c16-1894b498f48e",
   "metadata": {},
   "outputs": [
    {
     "name": "stdout",
     "output_type": "stream",
     "text": [
      "140341355379520\n",
      "140340788888160\n"
     ]
    }
   ],
   "source": [
    "print(id(var1))\n",
    "print(id(string_a1))"
   ]
  },
  {
   "cell_type": "code",
   "execution_count": 6,
   "id": "1378bef4-d049-4099-b1e5-c8706a589231",
   "metadata": {},
   "outputs": [
    {
     "data": {
      "text/plain": [
       "'hello world'"
      ]
     },
     "execution_count": 6,
     "metadata": {},
     "output_type": "execute_result"
    }
   ],
   "source": [
    "'hello world'"
   ]
  },
  {
   "cell_type": "code",
   "execution_count": 7,
   "id": "ef25844f-f6d1-4012-ac60-0af493151fd4",
   "metadata": {},
   "outputs": [
    {
     "data": {
      "text/plain": [
       "'hello\\n world'"
      ]
     },
     "execution_count": 7,
     "metadata": {},
     "output_type": "execute_result"
    }
   ],
   "source": [
    "'hello\\n world' #\\n is being considerd as part of string"
   ]
  },
  {
   "cell_type": "code",
   "execution_count": 10,
   "id": "c3b8aba7-d081-471a-be7c-c2f312c04f87",
   "metadata": {},
   "outputs": [
    {
     "data": {
      "text/plain": [
       "'hello\\t world'"
      ]
     },
     "execution_count": 10,
     "metadata": {},
     "output_type": "execute_result"
    }
   ],
   "source": [
    "'hello\\t world'"
   ]
  },
  {
   "cell_type": "code",
   "execution_count": 9,
   "id": "3e53d876-ca9c-4ef7-a1ac-80d8f9ec0f67",
   "metadata": {},
   "outputs": [
    {
     "data": {
      "text/plain": [
       "'hello    world'"
      ]
     },
     "execution_count": 9,
     "metadata": {},
     "output_type": "execute_result"
    }
   ],
   "source": [
    "'hello\\t world'.expandtabs()"
   ]
  },
  {
   "cell_type": "code",
   "execution_count": 25,
   "id": "f2f6aa09-c1fb-46fb-b232-869c74863c7a",
   "metadata": {},
   "outputs": [
    {
     "name": "stdout",
     "output_type": "stream",
     "text": [
      "welcome to pwskills master.welcome to data cience\n"
     ]
    }
   ],
   "source": [
    "str1=\"welcome to pwskills master.welcome to dat cience\"\n",
    "var=str1.replace(\"dat\",\"data\")\n",
    "print(var)"
   ]
  },
  {
   "cell_type": "code",
   "execution_count": 26,
   "id": "8fd45190-008c-4673-81e2-1e1acb491ae5",
   "metadata": {},
   "outputs": [
    {
     "name": "stdout",
     "output_type": "stream",
     "text": [
      "welcome to pwskills master.welcome to data science\n"
     ]
    }
   ],
   "source": [
    "var1=var.replace(\"cience\",\"science\")\n",
    "print(var1)"
   ]
  },
  {
   "cell_type": "code",
   "execution_count": 28,
   "id": "d86db943-99af-4f94-aaf6-7cb4cc526986",
   "metadata": {},
   "outputs": [
    {
     "data": {
      "text/plain": [
       "'welcome to pwskills master.welcome to data science'"
      ]
     },
     "execution_count": 28,
     "metadata": {},
     "output_type": "execute_result"
    }
   ],
   "source": [
    "str1.replace(\"dat\",\"data\").replace(\"cience\",\"science\") # shortcut for double modifications"
   ]
  },
  {
   "cell_type": "code",
   "execution_count": 29,
   "id": "9691a568-162b-4970-9cd4-981d3ff5ae47",
   "metadata": {},
   "outputs": [
    {
     "name": "stdout",
     "output_type": "stream",
     "text": [
      "welcome to pwskills master.welcome to dat cience\n"
     ]
    }
   ],
   "source": [
    "print(str1)"
   ]
  },
  {
   "cell_type": "code",
   "execution_count": 31,
   "id": "dbb2c315-5dd3-432b-bcde-ac24648bec96",
   "metadata": {},
   "outputs": [
    {
     "data": {
      "text/plain": [
       "False"
      ]
     },
     "execution_count": 31,
     "metadata": {},
     "output_type": "execute_result"
    }
   ],
   "source": [
    "str1.isupper() #checks if string is uppercase or not"
   ]
  },
  {
   "cell_type": "code",
   "execution_count": 32,
   "id": "44936f42-cbf2-4dfd-84d9-5afca435c51a",
   "metadata": {},
   "outputs": [
    {
     "data": {
      "text/plain": [
       "True"
      ]
     },
     "execution_count": 32,
     "metadata": {},
     "output_type": "execute_result"
    }
   ],
   "source": [
    "str=\"NIKHIL\"\n",
    "str.isupper()"
   ]
  },
  {
   "cell_type": "code",
   "execution_count": 33,
   "id": "0dea627f-ccf2-43f0-83c4-57a00ea66e01",
   "metadata": {},
   "outputs": [
    {
     "data": {
      "text/plain": [
       "False"
      ]
     },
     "execution_count": 33,
     "metadata": {},
     "output_type": "execute_result"
    }
   ],
   "source": [
    "str.isspace() # checks if string is empty or not"
   ]
  },
  {
   "cell_type": "code",
   "execution_count": 35,
   "id": "e333f071-5984-487a-aeec-d191d560188c",
   "metadata": {},
   "outputs": [
    {
     "data": {
      "text/plain": [
       "True"
      ]
     },
     "execution_count": 35,
     "metadata": {},
     "output_type": "execute_result"
    }
   ],
   "source": [
    "\" \".isspace() # empty string therefor returned true"
   ]
  },
  {
   "cell_type": "code",
   "execution_count": 38,
   "id": "764b811c-301f-4a11-9a04-081ccfab0665",
   "metadata": {},
   "outputs": [],
   "source": [
    "if str.isspace():\n",
    "    print(\"hello\")"
   ]
  },
  {
   "cell_type": "code",
   "execution_count": 39,
   "id": "e25a1f71-84a9-48d1-a38d-a8c483572157",
   "metadata": {},
   "outputs": [
    {
     "name": "stdout",
     "output_type": "stream",
     "text": [
      "hello\n"
     ]
    }
   ],
   "source": [
    "if str.isspace()==False:\n",
    "    print(\"hello\")"
   ]
  },
  {
   "cell_type": "code",
   "execution_count": 40,
   "id": "3ea8ef91-f3d4-4cd6-b731-582ee0a13fea",
   "metadata": {},
   "outputs": [
    {
     "name": "stdout",
     "output_type": "stream",
     "text": [
      "hello\n"
     ]
    }
   ],
   "source": [
    "if \" \".isspace():\n",
    "    print(\"hello\")"
   ]
  },
  {
   "cell_type": "code",
   "execution_count": 42,
   "id": "650fdd35-c9d4-4a6e-bd58-2f0560996530",
   "metadata": {},
   "outputs": [
    {
     "data": {
      "text/plain": [
       "True"
      ]
     },
     "execution_count": 42,
     "metadata": {},
     "output_type": "execute_result"
    }
   ],
   "source": [
    "str=\"pw skills\"\n",
    "str.endswith(\"s\")"
   ]
  },
  {
   "cell_type": "code",
   "execution_count": 43,
   "id": "48ce9f16-619e-4d83-9b75-086b45f87a5c",
   "metadata": {},
   "outputs": [
    {
     "data": {
      "text/plain": [
       "True"
      ]
     },
     "execution_count": 43,
     "metadata": {},
     "output_type": "execute_result"
    }
   ],
   "source": [
    "str.startswith(\"p\")"
   ]
  },
  {
   "cell_type": "code",
   "execution_count": 49,
   "id": "6e7fe604-de41-4a9a-ac1a-6d5ba0b463d7",
   "metadata": {},
   "outputs": [
    {
     "data": {
      "text/plain": [
       "False"
      ]
     },
     "execution_count": 49,
     "metadata": {},
     "output_type": "execute_result"
    }
   ],
   "source": [
    "str=\"pw skills123\"\n",
    "str.isalnum()"
   ]
  },
  {
   "cell_type": "code",
   "execution_count": 51,
   "id": "73cdb2e0-b797-4b7c-98f8-96dfa278a2bd",
   "metadata": {},
   "outputs": [
    {
     "data": {
      "text/plain": [
       "True"
      ]
     },
     "execution_count": 51,
     "metadata": {},
     "output_type": "execute_result"
    }
   ],
   "source": [
    "str=\"pwskills123\" #checks alphanumerice\n",
    "str.isalnum()"
   ]
  },
  {
   "cell_type": "code",
   "execution_count": 16,
   "id": "6385a52b-e266-43e9-940a-741c1e85835b",
   "metadata": {},
   "outputs": [
    {
     "name": "stdout",
     "output_type": "stream",
     "text": [
      "11\n"
     ]
    }
   ],
   "source": [
    "str=\"pwskills123\"\n",
    "count=0           # to count length of string\n",
    "for i in str:\n",
    "    count=count+1\n",
    "print(count)"
   ]
  },
  {
   "cell_type": "code",
   "execution_count": 17,
   "id": "6014adb2-fffb-4dc3-b5a0-d5d9d4405470",
   "metadata": {},
   "outputs": [
    {
     "name": "stdout",
     "output_type": "stream",
     "text": [
      "1\n",
      "2\n",
      "3\n",
      "4\n",
      "5\n",
      "6\n",
      "7\n",
      "8\n",
      "9\n",
      "10\n",
      "11\n"
     ]
    }
   ],
   "source": [
    "str=\"pwskills123\"\n",
    "count=0           # to count length of string\n",
    "for i in str:\n",
    "    count=count+1\n",
    "    print(count)"
   ]
  },
  {
   "cell_type": "code",
   "execution_count": 11,
   "id": "ddc43570-ab26-442a-b1d0-363aba33e4d8",
   "metadata": {},
   "outputs": [
    {
     "data": {
      "text/plain": [
       "11"
      ]
     },
     "execution_count": 11,
     "metadata": {},
     "output_type": "execute_result"
    }
   ],
   "source": [
    "len(str)  #shortcut to count length"
   ]
  },
  {
   "cell_type": "code",
   "execution_count": 59,
   "id": "27f0b9c1-58ea-443a-860a-98401b332e08",
   "metadata": {},
   "outputs": [
    {
     "data": {
      "text/plain": [
       "'pwskills123'"
      ]
     },
     "execution_count": 59,
     "metadata": {},
     "output_type": "execute_result"
    }
   ],
   "source": [
    "str"
   ]
  },
  {
   "cell_type": "code",
   "execution_count": 71,
   "id": "649e2d07-efb0-417b-bef3-b69f48feefb2",
   "metadata": {},
   "outputs": [
    {
     "name": "stdout",
     "output_type": "stream",
     "text": [
      "p\n",
      "w\n",
      "s\n",
      "k\n",
      "i\n",
      "l\n",
      "l\n",
      "s\n",
      "1\n",
      "2\n",
      "3\n"
     ]
    }
   ],
   "source": [
    "for i in str:\n",
    "    print(i) # to print in line"
   ]
  },
  {
   "cell_type": "code",
   "execution_count": 62,
   "id": "d05d92ce-08ca-46f0-b7c4-597d1266e0bc",
   "metadata": {},
   "outputs": [
    {
     "data": {
      "text/plain": [
       "range(0, 11)"
      ]
     },
     "execution_count": 62,
     "metadata": {},
     "output_type": "execute_result"
    }
   ],
   "source": [
    "range(len(str))"
   ]
  },
  {
   "cell_type": "code",
   "execution_count": 69,
   "id": "51b744c9-2d4a-45da-9b01-5731b28e5af0",
   "metadata": {},
   "outputs": [
    {
     "name": "stdout",
     "output_type": "stream",
     "text": [
      "p\n",
      "w\n",
      "s\n",
      "k\n",
      "i\n",
      "l\n",
      "l\n",
      "s\n",
      "1\n",
      "2\n",
      "3\n"
     ]
    }
   ],
   "source": [
    "for i in range(len(str)):\n",
    "    print(str[i])\n",
    "    "
   ]
  },
  {
   "cell_type": "code",
   "execution_count": 67,
   "id": "7cf5de5b-8ffd-4292-aa46-5bd1e4a6f5b5",
   "metadata": {},
   "outputs": [
    {
     "name": "stdout",
     "output_type": "stream",
     "text": [
      "0 = p\n",
      "1 = w\n",
      "2 = s\n",
      "3 = k\n",
      "4 = i\n",
      "5 = l\n",
      "6 = l\n",
      "7 = s\n",
      "8 = 1\n",
      "9 = 2\n",
      "10 = 3\n"
     ]
    }
   ],
   "source": [
    "for i in range(len(str)):\n",
    "    print(i,\"=\",str[i])"
   ]
  },
  {
   "cell_type": "code",
   "execution_count": 33,
   "id": "1e263765-5d04-47bf-aef7-4e369a2cfac6",
   "metadata": {},
   "outputs": [
    {
     "data": {
      "text/plain": [
       "10"
      ]
     },
     "execution_count": 33,
     "metadata": {},
     "output_type": "execute_result"
    }
   ],
   "source": [
    "len(str)-1"
   ]
  },
  {
   "cell_type": "code",
   "execution_count": null,
   "id": "06438e40-b789-43e1-94a4-2cdc0d27c43b",
   "metadata": {},
   "outputs": [
    {
     "data": {
      "text/plain": [
       "'p'"
      ]
     },
     "execution_count": 38,
     "metadata": {},
     "output_type": "execute_result"
    }
   ],
   "source": [
    "str[0]"
   ]
  },
  {
   "cell_type": "code",
   "execution_count": 47,
   "id": "066b01c2-91af-4e06-9ab1-c89139920104",
   "metadata": {},
   "outputs": [
    {
     "data": {
      "text/plain": [
       "'3'"
      ]
     },
     "execution_count": 47,
     "metadata": {},
     "output_type": "execute_result"
    }
   ],
   "source": [
    "str[10]"
   ]
  },
  {
   "cell_type": "code",
   "execution_count": 66,
   "id": "3a4752c8-ab30-4d6a-90c2-ac1bda7ff90a",
   "metadata": {},
   "outputs": [
    {
     "data": {
      "text/plain": [
       "range(10, -1, -1)"
      ]
     },
     "execution_count": 66,
     "metadata": {},
     "output_type": "execute_result"
    }
   ],
   "source": [
    "range(len(str)-1,-1,-1)"
   ]
  },
  {
   "cell_type": "code",
   "execution_count": 63,
   "id": "a2bb7993-3eb5-46fd-8526-4bd38603d7c1",
   "metadata": {},
   "outputs": [
    {
     "name": "stdout",
     "output_type": "stream",
     "text": [
      "3\n",
      "2\n",
      "1\n",
      "s\n",
      "l\n",
      "l\n",
      "i\n",
      "k\n",
      "s\n",
      "w\n",
      "p\n"
     ]
    }
   ],
   "source": [
    "# use index to iterate string in reverse direction\n",
    "for i in range(len(str)-1,-1,-1): #len(str)-1 = last index ie str[10],-1= value of j which is 'p'   ,-1=reverse\n",
    "    print(str[i])                  #value of j starts from 9 which is 1 less than i\n"
   ]
  },
  {
   "cell_type": "code",
   "execution_count": 67,
   "id": "fe7e22bd-26d1-410f-841e-45f4ce59dc5e",
   "metadata": {},
   "outputs": [
    {
     "name": "stdout",
     "output_type": "stream",
     "text": [
      "3\n",
      "2\n",
      "1\n",
      "s\n",
      "l\n",
      "l\n",
      "i\n",
      "k\n",
      "s\n",
      "w\n",
      "p\n",
      "3\n",
      "2\n",
      "1\n",
      "s\n"
     ]
    }
   ],
   "source": [
    "for i in range(len(str)-1,-5,-1):\n",
    "    print(str[i])\n"
   ]
  },
  {
   "cell_type": "code",
   "execution_count": 69,
   "id": "602acc81-4b5c-485e-a963-03e0104fa744",
   "metadata": {},
   "outputs": [
    {
     "name": "stdout",
     "output_type": "stream",
     "text": [
      "3\n",
      "2\n",
      "1\n",
      "s\n",
      "l\n",
      "l\n",
      "i\n"
     ]
    }
   ],
   "source": [
    "for i in range(len(str)-1,3,-1):\n",
    "    print(str[i])"
   ]
  },
  {
   "cell_type": "code",
   "execution_count": 3,
   "id": "eedd418c-e831-4e71-91dc-07963b2c6e6b",
   "metadata": {},
   "outputs": [
    {
     "name": "stdout",
     "output_type": "stream",
     "text": [
      "s\n",
      "l\n",
      "l\n",
      "i\n",
      "k\n",
      "s\n",
      "w\n",
      "p\n"
     ]
    }
   ],
   "source": [
    "# code to print string in reverse order\n",
    "string=\"pwskills\"\n",
    "ch=len(string)-1\n",
    "while ch>=0:\n",
    "    print(string[ch])\n",
    "    ch=ch-1"
   ]
  },
  {
   "cell_type": "code",
   "execution_count": 9,
   "id": "3de37666-af19-4f52-acfe-1894ea44d711",
   "metadata": {},
   "outputs": [
    {
     "name": "stdout",
     "output_type": "stream",
     "text": [
      "sllikswp"
     ]
    }
   ],
   "source": [
    "string=\"pwskills\"\n",
    "ch=len(string)-1\n",
    "while ch>=0:\n",
    "    print(string[ch],end=\"\")\n",
    "    ch=ch-1"
   ]
  },
  {
   "cell_type": "code",
   "execution_count": 8,
   "id": "abef2a64-d561-477c-b8aa-5fadb11bad8b",
   "metadata": {},
   "outputs": [
    {
     "data": {
      "text/plain": [
       "'sllikswp'"
      ]
     },
     "execution_count": 8,
     "metadata": {},
     "output_type": "execute_result"
    }
   ],
   "source": [
    "string[::-1]"
   ]
  },
  {
   "cell_type": "code",
   "execution_count": 18,
   "id": "06e18787-ce4b-400b-a62f-057dbcc8ae02",
   "metadata": {},
   "outputs": [
    {
     "name": "stdout",
     "output_type": "stream",
     "text": [
      "p is not vowel\n",
      "w is not vowel\n",
      "s is not vowel\n",
      "k is not vowel\n",
      "i is vowel\n",
      "l is not vowel\n",
      "l is not vowel\n",
      "s is not vowel\n"
     ]
    }
   ],
   "source": [
    "name=\"pwskills\"  # to identify if character is a vowel\n",
    "vowels=\"AeIiOoUu\"\n",
    "for ch in name:\n",
    "    if ch in vowels:\n",
    "        print(f\"{ch} is vowel\")\n",
    "    else:\n",
    "        print(f\"{ch} is not vowel\")\n"
   ]
  },
  {
   "cell_type": "markdown",
   "id": "79f2946a-9e86-4677-826a-dccdd087da12",
   "metadata": {},
   "source": [
    "## list"
   ]
  },
  {
   "cell_type": "code",
   "execution_count": 19,
   "id": "816a6770-f484-4f17-a88b-d873ae325c75",
   "metadata": {},
   "outputs": [
    {
     "data": {
      "text/plain": [
       "list"
      ]
     },
     "execution_count": 19,
     "metadata": {},
     "output_type": "execute_result"
    }
   ],
   "source": [
    "type([])"
   ]
  },
  {
   "cell_type": "code",
   "execution_count": 20,
   "id": "06aee153-715d-4306-9285-dfbf88d2ce7f",
   "metadata": {},
   "outputs": [
    {
     "data": {
      "text/plain": [
       "['nikhil', 'bhanu', 'pwskills', 32]"
      ]
     },
     "execution_count": 20,
     "metadata": {},
     "output_type": "execute_result"
    }
   ],
   "source": [
    "[\"nikhil\",\"bhanu\",\"pwskills\",32]"
   ]
  },
  {
   "cell_type": "code",
   "execution_count": 21,
   "id": "69ecb71c-79f4-45c3-9b24-8de5821d5065",
   "metadata": {},
   "outputs": [
    {
     "data": {
      "text/plain": [
       "['p', 'w', 's', 'k', 'i', 'l', 'l', 's']"
      ]
     },
     "execution_count": 21,
     "metadata": {},
     "output_type": "execute_result"
    }
   ],
   "source": [
    "list(string) #converting string into list"
   ]
  },
  {
   "cell_type": "code",
   "execution_count": 25,
   "id": "9ef1ac17-9a93-45a6-9943-a4a962aa92cf",
   "metadata": {},
   "outputs": [
    {
     "data": {
      "text/plain": [
       "['p',\n",
       " 'w',\n",
       " ' ',\n",
       " 's',\n",
       " 'k',\n",
       " 'i',\n",
       " 'l',\n",
       " 'l',\n",
       " 's',\n",
       " ' ',\n",
       " 'd',\n",
       " 'a',\n",
       " 't',\n",
       " 'a',\n",
       " ' ',\n",
       " 's',\n",
       " 'c',\n",
       " 'i',\n",
       " 'e',\n",
       " 'n',\n",
       " 'c',\n",
       " 'e',\n",
       " ' ',\n",
       " 'm',\n",
       " 'a',\n",
       " 's',\n",
       " 't',\n",
       " 'e',\n",
       " 'r']"
      ]
     },
     "execution_count": 25,
     "metadata": {},
     "output_type": "execute_result"
    }
   ],
   "source": [
    "list(str1)"
   ]
  },
  {
   "cell_type": "code",
   "execution_count": 24,
   "id": "20410bf1-6817-40c7-b875-b4f7491203f5",
   "metadata": {},
   "outputs": [
    {
     "data": {
      "text/plain": [
       "['pw', 'skills', 'data', 'science', 'master']"
      ]
     },
     "execution_count": 24,
     "metadata": {},
     "output_type": "execute_result"
    }
   ],
   "source": [
    "str1=\"pw skills data science master\"        #list is an ordered collection of elements\n",
    "list(str1.split(\" \"))"
   ]
  },
  {
   "cell_type": "code",
   "execution_count": 27,
   "id": "c267968f-b5c6-4508-acf5-be74739d73a5",
   "metadata": {},
   "outputs": [
    {
     "data": {
      "text/plain": [
       "['pw', 'skills', 'data', 'science', 'master']"
      ]
     },
     "execution_count": 27,
     "metadata": {},
     "output_type": "execute_result"
    }
   ],
   "source": [
    "str1.split(\" \") #split function also returns list by default"
   ]
  },
  {
   "cell_type": "code",
   "execution_count": 30,
   "id": "85e2cd98-f44c-4595-a5ab-e22032ef30db",
   "metadata": {},
   "outputs": [],
   "source": [
    "list1=str1.split(\" \") "
   ]
  },
  {
   "cell_type": "code",
   "execution_count": 31,
   "id": "2357acd3-773a-44fd-bae0-a578583d40c4",
   "metadata": {},
   "outputs": [
    {
     "data": {
      "text/plain": [
       "['pw', 'skills', 'data', 'science', 'master']"
      ]
     },
     "execution_count": 31,
     "metadata": {},
     "output_type": "execute_result"
    }
   ],
   "source": [
    "list1"
   ]
  },
  {
   "cell_type": "code",
   "execution_count": 32,
   "id": "79daa6c7-ad8e-4ff4-ad03-25677281bd0d",
   "metadata": {},
   "outputs": [
    {
     "data": {
      "text/plain": [
       "'skills'"
      ]
     },
     "execution_count": 32,
     "metadata": {},
     "output_type": "execute_result"
    }
   ],
   "source": [
    "list1[1]"
   ]
  },
  {
   "cell_type": "code",
   "execution_count": 33,
   "id": "6c36fb3b-e1d5-4dfa-a0e1-cb6b231a51c6",
   "metadata": {},
   "outputs": [
    {
     "data": {
      "text/plain": [
       "['skills', 'data', 'science', 'master']"
      ]
     },
     "execution_count": 33,
     "metadata": {},
     "output_type": "execute_result"
    }
   ],
   "source": [
    "list1[1:]"
   ]
  },
  {
   "cell_type": "code",
   "execution_count": 34,
   "id": "a7efa8ce-3995-49b4-95db-9ae4054d8c81",
   "metadata": {},
   "outputs": [],
   "source": [
    "list1[1]=\"DATA\" # list is mutable"
   ]
  },
  {
   "cell_type": "code",
   "execution_count": 35,
   "id": "345112f9-88ae-455a-ac23-ea49e5d9c85c",
   "metadata": {},
   "outputs": [
    {
     "data": {
      "text/plain": [
       "['pw', 'DATA', 'data', 'science', 'master']"
      ]
     },
     "execution_count": 35,
     "metadata": {},
     "output_type": "execute_result"
    }
   ],
   "source": [
    "list1"
   ]
  },
  {
   "cell_type": "code",
   "execution_count": 37,
   "id": "9389faf2-d942-4f2d-83ce-4b9ea5685656",
   "metadata": {},
   "outputs": [
    {
     "data": {
      "text/plain": [
       "'science'"
      ]
     },
     "execution_count": 37,
     "metadata": {},
     "output_type": "execute_result"
    }
   ],
   "source": [
    "list1[-2]"
   ]
  },
  {
   "cell_type": "code",
   "execution_count": 38,
   "id": "a36ffb2a-d479-4750-ab76-f66ec4f571fb",
   "metadata": {},
   "outputs": [
    {
     "data": {
      "text/plain": [
       "'pw'"
      ]
     },
     "execution_count": 38,
     "metadata": {},
     "output_type": "execute_result"
    }
   ],
   "source": [
    "list1[0]"
   ]
  },
  {
   "cell_type": "code",
   "execution_count": 40,
   "id": "64f3af64-9aab-458c-9cd0-029956944149",
   "metadata": {},
   "outputs": [
    {
     "data": {
      "text/plain": [
       "['master', 'data', 'pw']"
      ]
     },
     "execution_count": 40,
     "metadata": {},
     "output_type": "execute_result"
    }
   ],
   "source": [
    "list1[::-2]"
   ]
  },
  {
   "cell_type": "code",
   "execution_count": 44,
   "id": "22cecd12-eff0-4fb2-9976-8922d7f36195",
   "metadata": {},
   "outputs": [
    {
     "data": {
      "text/plain": [
       "['DATA', 'pw']"
      ]
     },
     "execution_count": 44,
     "metadata": {},
     "output_type": "execute_result"
    }
   ],
   "source": [
    "list1[-4::-1]"
   ]
  },
  {
   "cell_type": "code",
   "execution_count": 45,
   "id": "5372bb20-530c-48a4-80ef-4fbceb6732ca",
   "metadata": {},
   "outputs": [
    {
     "data": {
      "text/plain": [
       "['DATA']"
      ]
     },
     "execution_count": 45,
     "metadata": {},
     "output_type": "execute_result"
    }
   ],
   "source": [
    "list1[-4::-2]"
   ]
  },
  {
   "cell_type": "code",
   "execution_count": 46,
   "id": "ce6a0691-af59-4c72-85be-f14db77733d9",
   "metadata": {},
   "outputs": [
    {
     "data": {
      "text/plain": [
       "['data', 'pw']"
      ]
     },
     "execution_count": 46,
     "metadata": {},
     "output_type": "execute_result"
    }
   ],
   "source": [
    "list1[-3::-2]"
   ]
  },
  {
   "cell_type": "code",
   "execution_count": 47,
   "id": "a4726ae0-528e-4c5a-97c1-a573acc64f73",
   "metadata": {},
   "outputs": [
    {
     "data": {
      "text/plain": [
       "['pw']"
      ]
     },
     "execution_count": 47,
     "metadata": {},
     "output_type": "execute_result"
    }
   ],
   "source": [
    "list1[-5::-2]"
   ]
  },
  {
   "cell_type": "code",
   "execution_count": 48,
   "id": "cc502dbf-f7ef-4887-a2f2-c22da8836d25",
   "metadata": {},
   "outputs": [
    {
     "data": {
      "text/plain": [
       "[]"
      ]
     },
     "execution_count": 48,
     "metadata": {},
     "output_type": "execute_result"
    }
   ],
   "source": [
    "list1[-5:3:-2]"
   ]
  },
  {
   "cell_type": "code",
   "execution_count": 49,
   "id": "b5d05e08-da99-43a2-9ac7-fdd4577e16c4",
   "metadata": {},
   "outputs": [
    {
     "data": {
      "text/plain": [
       "['data']"
      ]
     },
     "execution_count": 49,
     "metadata": {},
     "output_type": "execute_result"
    }
   ],
   "source": [
    "list1[-3:-5:-2]"
   ]
  },
  {
   "cell_type": "code",
   "execution_count": 50,
   "id": "c5f1ee7c-4952-4fad-9ea6-4bd72a7aff36",
   "metadata": {},
   "outputs": [
    {
     "data": {
      "text/plain": [
       "[]"
      ]
     },
     "execution_count": 50,
     "metadata": {},
     "output_type": "execute_result"
    }
   ],
   "source": [
    "list1[-5:-3:-2]"
   ]
  },
  {
   "cell_type": "code",
   "execution_count": 1,
   "id": "c2d2c34e-4a37-47ba-b478-36d450faad60",
   "metadata": {},
   "outputs": [],
   "source": [
    "# concatenation operation\n"
   ]
  },
  {
   "cell_type": "code",
   "execution_count": 4,
   "id": "6aea02c7-3fe6-45b7-869b-14c749f6a834",
   "metadata": {},
   "outputs": [],
   "source": [
    "list1=[\"pw\",\"skills\",\"data\",\"science\",\"master\"]"
   ]
  },
  {
   "cell_type": "code",
   "execution_count": 5,
   "id": "b1165c68-fe12-46d5-88a5-f3220604cb5f",
   "metadata": {},
   "outputs": [
    {
     "data": {
      "text/plain": [
       "['pw', 'skills', 'data', 'science', 'master', 'new element', 3]"
      ]
     },
     "execution_count": 5,
     "metadata": {},
     "output_type": "execute_result"
    }
   ],
   "source": [
    "list1+[\"new element\",3]"
   ]
  },
  {
   "cell_type": "code",
   "execution_count": 9,
   "id": "71cde65d-f711-44b0-9e27-96a76a06a064",
   "metadata": {},
   "outputs": [
    {
     "data": {
      "text/plain": [
       "['pw', 'skills', 'data', 'science', 'master', ['new element', 3]]"
      ]
     },
     "execution_count": 9,
     "metadata": {},
     "output_type": "execute_result"
    }
   ],
   "source": [
    "list1+[[\"new element\",3]] # multiconcatenated list"
   ]
  },
  {
   "cell_type": "code",
   "execution_count": 10,
   "id": "783b18fc-10ac-43ce-b8b8-9f3d39405b3a",
   "metadata": {},
   "outputs": [],
   "source": [
    "list2=list1+[[\"new element\",3]]"
   ]
  },
  {
   "cell_type": "code",
   "execution_count": 23,
   "id": "1108a571-e3e1-42a5-83e9-1753e9f97d02",
   "metadata": {},
   "outputs": [
    {
     "data": {
      "text/plain": [
       "['new element', 3]"
      ]
     },
     "execution_count": 23,
     "metadata": {},
     "output_type": "execute_result"
    }
   ],
   "source": [
    "list2[-1]"
   ]
  },
  {
   "cell_type": "code",
   "execution_count": 25,
   "id": "c5e9fe44-a5af-41d6-8158-c3b759d501c8",
   "metadata": {},
   "outputs": [
    {
     "data": {
      "text/plain": [
       "'new element'"
      ]
     },
     "execution_count": 25,
     "metadata": {},
     "output_type": "execute_result"
    }
   ],
   "source": [
    "list2[-1][0] # 0 stands for new element inside -1 which is nested list"
   ]
  },
  {
   "cell_type": "code",
   "execution_count": 24,
   "id": "ddfabd64-f8e9-41dd-849d-83876b9b4c09",
   "metadata": {},
   "outputs": [
    {
     "data": {
      "text/plain": [
       "'master'"
      ]
     },
     "execution_count": 24,
     "metadata": {},
     "output_type": "execute_result"
    }
   ],
   "source": [
    "list2[-2]"
   ]
  },
  {
   "cell_type": "code",
   "execution_count": 22,
   "id": "d4c2fd41-81ce-475b-99fc-7b6be5dadb2e",
   "metadata": {},
   "outputs": [
    {
     "data": {
      "text/plain": [
       "'k'"
      ]
     },
     "execution_count": 22,
     "metadata": {},
     "output_type": "execute_result"
    }
   ],
   "source": [
    "list2[1][1]"
   ]
  },
  {
   "cell_type": "code",
   "execution_count": 26,
   "id": "b9d2b509-8afa-4cff-a9a6-244816ce5829",
   "metadata": {},
   "outputs": [
    {
     "data": {
      "text/plain": [
       "['pw',\n",
       " 'skills',\n",
       " 'data',\n",
       " 'science',\n",
       " 'master',\n",
       " 'pw',\n",
       " 'skills',\n",
       " 'data',\n",
       " 'science',\n",
       " 'master']"
      ]
     },
     "execution_count": 26,
     "metadata": {},
     "output_type": "execute_result"
    }
   ],
   "source": [
    "list1 * 2"
   ]
  },
  {
   "cell_type": "code",
   "execution_count": 42,
   "id": "77ba079e-7830-4b43-8d61-f621e9932849",
   "metadata": {},
   "outputs": [
    {
     "name": "stdout",
     "output_type": "stream",
     "text": [
      "there is no science in list\n",
      "there is no science in list\n",
      "there is no science in list\n",
      "there is science in list\n",
      "there is no science in list\n"
     ]
    }
   ],
   "source": [
    "for i in list1:\n",
    "    if i=='science':\n",
    "        print(\"there is science in list\")\n",
    "    else:\n",
    "        print(\"there is no science in list\")"
   ]
  },
  {
   "cell_type": "code",
   "execution_count": 41,
   "id": "f387da14-b8e5-4aa7-8671-6d85792ebf7a",
   "metadata": {},
   "outputs": [
    {
     "name": "stdout",
     "output_type": "stream",
     "text": [
      "there is science in list\n"
     ]
    }
   ],
   "source": [
    "for i in list1:\n",
    "    while i!='science':\n",
    "        break\n",
    "    else:\n",
    "        print(\"there is science in list\")"
   ]
  },
  {
   "cell_type": "code",
   "execution_count": 31,
   "id": "d3728fce-a478-4729-b829-274641dcca9b",
   "metadata": {},
   "outputs": [
    {
     "name": "stdout",
     "output_type": "stream",
     "text": [
      "pw\n",
      "skills\n",
      "data\n",
      "science\n",
      "master\n"
     ]
    }
   ],
   "source": [
    "for i in list1:\n",
    "    print(i)"
   ]
  },
  {
   "cell_type": "code",
   "execution_count": 37,
   "id": "b81ac1ca-7020-4dcc-8c1e-ac1d8ed20aa5",
   "metadata": {},
   "outputs": [
    {
     "name": "stdout",
     "output_type": "stream",
     "text": [
      "present\n"
     ]
    }
   ],
   "source": [
    "if \"science\" in list1:\n",
    "    print(\"present\")"
   ]
  },
  {
   "cell_type": "code",
   "execution_count": 43,
   "id": "874d6884-858f-4996-93bf-60909c03e564",
   "metadata": {},
   "outputs": [
    {
     "name": "stdout",
     "output_type": "stream",
     "text": [
      "science\n"
     ]
    }
   ],
   "source": [
    "for i in list1:\n",
    "    if i==\"science\":\n",
    "        print(\"science\")\n",
    "        break"
   ]
  },
  {
   "cell_type": "code",
   "execution_count": 44,
   "id": "ae09f6c4-869e-4fbc-9c95-969f21dfd7cc",
   "metadata": {},
   "outputs": [
    {
     "data": {
      "text/plain": [
       "True"
      ]
     },
     "execution_count": 44,
     "metadata": {},
     "output_type": "execute_result"
    }
   ],
   "source": [
    "# check element in list\n",
    "'science' in list1"
   ]
  },
  {
   "cell_type": "code",
   "execution_count": 45,
   "id": "8f9c80a5-3239-4c33-9614-89b7b02d08cc",
   "metadata": {},
   "outputs": [
    {
     "data": {
      "text/plain": [
       "True"
      ]
     },
     "execution_count": 45,
     "metadata": {},
     "output_type": "execute_result"
    }
   ],
   "source": [
    "list=[1,2,3,4,5]\n",
    "4 in list"
   ]
  },
  {
   "cell_type": "code",
   "execution_count": 46,
   "id": "f31c5052-a78a-433f-94e1-40335e1d2567",
   "metadata": {},
   "outputs": [
    {
     "name": "stdout",
     "output_type": "stream",
     "text": [
      "zebra\n"
     ]
    }
   ],
   "source": [
    "list1=[\"donkey\",'monkey','zebra','lion']\n",
    "list2=[5,6,4,6,7,3,9] \n",
    "print(max(list1)) # gives output whose ASCII value of initial letter is high"
   ]
  },
  {
   "cell_type": "code",
   "execution_count": 3,
   "id": "dfba40b6-b49a-46c9-b79e-2bdea7ef9972",
   "metadata": {},
   "outputs": [
    {
     "name": "stdout",
     "output_type": "stream",
     "text": [
      "monkey\n"
     ]
    }
   ],
   "source": [
    "list1=[\"donkey\",'monkey','lion','Zebra']\n",
    "list2=[5,6,4,6,7,3,9] # ascii value is different for capital and small letters too\n",
    "print(max(list1))"
   ]
  },
  {
   "cell_type": "code",
   "execution_count": 4,
   "id": "5a0463dc-ff3c-47d3-a485-633c3d1fe8ab",
   "metadata": {},
   "outputs": [
    {
     "data": {
      "text/plain": [
       "9"
      ]
     },
     "execution_count": 4,
     "metadata": {},
     "output_type": "execute_result"
    }
   ],
   "source": [
    "max(list2)"
   ]
  },
  {
   "cell_type": "code",
   "execution_count": 5,
   "id": "3de0da7b-9a35-43d3-a6ae-a21d632e1efe",
   "metadata": {},
   "outputs": [
    {
     "data": {
      "text/plain": [
       "'Zebra'"
      ]
     },
     "execution_count": 5,
     "metadata": {},
     "output_type": "execute_result"
    }
   ],
   "source": [
    "min(list1)"
   ]
  },
  {
   "cell_type": "code",
   "execution_count": 6,
   "id": "59ba913b-d5e9-4e99-8d0e-d18b13a36959",
   "metadata": {},
   "outputs": [
    {
     "data": {
      "text/plain": [
       "3"
      ]
     },
     "execution_count": 6,
     "metadata": {},
     "output_type": "execute_result"
    }
   ],
   "source": [
    "min(list2)"
   ]
  },
  {
   "cell_type": "code",
   "execution_count": 7,
   "id": "570f58a8-3195-4d0e-af2f-d98554749ba4",
   "metadata": {},
   "outputs": [],
   "source": [
    "# append function"
   ]
  },
  {
   "cell_type": "code",
   "execution_count": 67,
   "id": "ac1fe26c-7767-4a85-a972-f621f40f2b3e",
   "metadata": {},
   "outputs": [],
   "source": [
    "list1=[\"donkey\",'monkey','lion','Zebra']\n",
    "list1.append(\"python\")"
   ]
  },
  {
   "cell_type": "code",
   "execution_count": 35,
   "id": "8d2a18f5-2ee8-4472-abbe-e96e222b631f",
   "metadata": {},
   "outputs": [
    {
     "data": {
      "text/plain": [
       "['donkey', 'monkey', 'lion', 'Zebra', 'python']"
      ]
     },
     "execution_count": 35,
     "metadata": {},
     "output_type": "execute_result"
    }
   ],
   "source": [
    "list1"
   ]
  },
  {
   "cell_type": "code",
   "execution_count": 68,
   "id": "7bf4e08a-5d4e-4678-b4ae-a8d11d2c3c4b",
   "metadata": {},
   "outputs": [],
   "source": [
    "list1.append(['data','science','masters']) # will give mested list"
   ]
  },
  {
   "cell_type": "code",
   "execution_count": 69,
   "id": "4fc5f821-ccec-405b-b033-53ee50624b57",
   "metadata": {},
   "outputs": [
    {
     "data": {
      "text/plain": [
       "['donkey', 'monkey', 'lion', 'Zebra', 'python', ['data', 'science', 'masters']]"
      ]
     },
     "execution_count": 69,
     "metadata": {},
     "output_type": "execute_result"
    }
   ],
   "source": [
    "list1"
   ]
  },
  {
   "cell_type": "code",
   "execution_count": 72,
   "id": "7f681da7-5f2b-43c6-8706-329e3728d355",
   "metadata": {},
   "outputs": [],
   "source": [
    "list1.extend([\"data\",'science','masters']) # extends existing list...append creates nested list"
   ]
  },
  {
   "cell_type": "code",
   "execution_count": 71,
   "id": "52a178cb-c87d-4854-a556-102e79037f56",
   "metadata": {},
   "outputs": [
    {
     "data": {
      "text/plain": [
       "['donkey',\n",
       " 'monkey',\n",
       " 'lion',\n",
       " 'Zebra',\n",
       " 'python',\n",
       " ['data', 'science', 'masters'],\n",
       " 'data',\n",
       " 'science',\n",
       " 'masters']"
      ]
     },
     "execution_count": 71,
     "metadata": {},
     "output_type": "execute_result"
    }
   ],
   "source": [
    "list1"
   ]
  },
  {
   "cell_type": "code",
   "execution_count": 38,
   "id": "d55321e7-d8d0-4ee3-b6f4-a02c6ba16727",
   "metadata": {},
   "outputs": [
    {
     "data": {
      "text/plain": [
       "['data', 'science', 'masters']"
      ]
     },
     "execution_count": 38,
     "metadata": {},
     "output_type": "execute_result"
    }
   ],
   "source": [
    "list1.pop() # will remove last element from list permanently"
   ]
  },
  {
   "cell_type": "code",
   "execution_count": 39,
   "id": "616b119e-6887-4803-a2c7-f89fde36d27f",
   "metadata": {},
   "outputs": [
    {
     "data": {
      "text/plain": [
       "['donkey', 'monkey', 'lion', 'Zebra', 'python']"
      ]
     },
     "execution_count": 39,
     "metadata": {},
     "output_type": "execute_result"
    }
   ],
   "source": [
    "list1"
   ]
  },
  {
   "cell_type": "code",
   "execution_count": 40,
   "id": "bc071d85-7909-4c6f-b85f-ae798a15122c",
   "metadata": {},
   "outputs": [
    {
     "data": {
      "text/plain": [
       "'python'"
      ]
     },
     "execution_count": 40,
     "metadata": {},
     "output_type": "execute_result"
    }
   ],
   "source": [
    "list1.pop()"
   ]
  },
  {
   "cell_type": "code",
   "execution_count": 41,
   "id": "6d6e04cb-4192-493e-8b5b-525324bc8902",
   "metadata": {},
   "outputs": [
    {
     "data": {
      "text/plain": [
       "['donkey', 'monkey', 'lion', 'Zebra']"
      ]
     },
     "execution_count": 41,
     "metadata": {},
     "output_type": "execute_result"
    }
   ],
   "source": [
    "list1"
   ]
  },
  {
   "cell_type": "code",
   "execution_count": 42,
   "id": "c09c6bc6-0680-4bee-8e9d-c6aa05fcec9d",
   "metadata": {},
   "outputs": [
    {
     "data": {
      "text/plain": [
       "'lion'"
      ]
     },
     "execution_count": 42,
     "metadata": {},
     "output_type": "execute_result"
    }
   ],
   "source": [
    "list1.pop(2) #will remove lion at index 2"
   ]
  },
  {
   "cell_type": "code",
   "execution_count": 43,
   "id": "2bd0411b-ec1f-4bbf-9840-50ab3657b868",
   "metadata": {},
   "outputs": [
    {
     "data": {
      "text/plain": [
       "['donkey', 'monkey', 'Zebra']"
      ]
     },
     "execution_count": 43,
     "metadata": {},
     "output_type": "execute_result"
    }
   ],
   "source": [
    "list1"
   ]
  },
  {
   "cell_type": "code",
   "execution_count": 48,
   "id": "775f2f24-4411-43b0-8d8c-cd3f2b973ba1",
   "metadata": {},
   "outputs": [],
   "source": [
    "removed_element=list1.pop(1) # storing removed element in another variable"
   ]
  },
  {
   "cell_type": "code",
   "execution_count": 49,
   "id": "dc776b01-92b8-4bc4-970b-4594dae87734",
   "metadata": {},
   "outputs": [
    {
     "data": {
      "text/plain": [
       "['donkey']"
      ]
     },
     "execution_count": 49,
     "metadata": {},
     "output_type": "execute_result"
    }
   ],
   "source": [
    "list1"
   ]
  },
  {
   "cell_type": "code",
   "execution_count": 50,
   "id": "9dbba9e8-7862-4186-bae7-6b943492b178",
   "metadata": {},
   "outputs": [
    {
     "data": {
      "text/plain": [
       "'monkey'"
      ]
     },
     "execution_count": 50,
     "metadata": {},
     "output_type": "execute_result"
    }
   ],
   "source": [
    "removed_element"
   ]
  },
  {
   "cell_type": "code",
   "execution_count": 51,
   "id": "ec7bb970-b97e-45f4-8053-0b891a7e811a",
   "metadata": {},
   "outputs": [],
   "source": [
    "# sorting and reverse method in list"
   ]
  },
  {
   "cell_type": "code",
   "execution_count": 52,
   "id": "babe7180-b9f0-45c5-8ea9-be0a960a3770",
   "metadata": {},
   "outputs": [],
   "source": [
    "list=['q','e','f','s','t','u']"
   ]
  },
  {
   "cell_type": "code",
   "execution_count": 53,
   "id": "86fa3cfa-26e3-4752-bea3-7393f9f64666",
   "metadata": {},
   "outputs": [
    {
     "data": {
      "text/plain": [
       "['u', 't', 's', 'f', 'e', 'q']"
      ]
     },
     "execution_count": 53,
     "metadata": {},
     "output_type": "execute_result"
    }
   ],
   "source": [
    "list[::-1] # reverse"
   ]
  },
  {
   "cell_type": "code",
   "execution_count": 54,
   "id": "c85c494c-c778-40da-8851-76003d453b76",
   "metadata": {},
   "outputs": [
    {
     "data": {
      "text/plain": [
       "['q', 'e', 'f', 's', 't', 'u']"
      ]
     },
     "execution_count": 54,
     "metadata": {},
     "output_type": "execute_result"
    }
   ],
   "source": [
    "list"
   ]
  },
  {
   "cell_type": "code",
   "execution_count": 55,
   "id": "392ef42b-635c-4118-8a77-e36a5d868eca",
   "metadata": {},
   "outputs": [],
   "source": [
    "list.reverse() ## this is an inplace operation...list modified permanently"
   ]
  },
  {
   "cell_type": "code",
   "execution_count": 56,
   "id": "ca293eef-43ea-46f0-95cc-98e96f0f4cd2",
   "metadata": {},
   "outputs": [
    {
     "data": {
      "text/plain": [
       "['u', 't', 's', 'f', 'e', 'q']"
      ]
     },
     "execution_count": 56,
     "metadata": {},
     "output_type": "execute_result"
    }
   ],
   "source": [
    "list"
   ]
  },
  {
   "cell_type": "code",
   "execution_count": 57,
   "id": "52e02528-1f85-4dab-93a5-ae33ce5d776c",
   "metadata": {},
   "outputs": [],
   "source": [
    "list.sort() #also inplace operation"
   ]
  },
  {
   "cell_type": "code",
   "execution_count": 58,
   "id": "1fc44ff0-b45b-4bf2-a847-7048bb4f2868",
   "metadata": {},
   "outputs": [
    {
     "data": {
      "text/plain": [
       "['e', 'f', 'q', 's', 't', 'u']"
      ]
     },
     "execution_count": 58,
     "metadata": {},
     "output_type": "execute_result"
    }
   ],
   "source": [
    "list"
   ]
  },
  {
   "cell_type": "code",
   "execution_count": 61,
   "id": "44e62208-3ea7-4115-a06c-0e7bc3618652",
   "metadata": {},
   "outputs": [],
   "source": [
    "list.sort(reverse=True) # sort it and then reverse it"
   ]
  },
  {
   "cell_type": "code",
   "execution_count": 62,
   "id": "cb122351-4f90-4829-b0e6-aeef68c741fb",
   "metadata": {},
   "outputs": [
    {
     "data": {
      "text/plain": [
       "['u', 't', 's', 'q', 'f', 'e']"
      ]
     },
     "execution_count": 62,
     "metadata": {},
     "output_type": "execute_result"
    }
   ],
   "source": [
    "list"
   ]
  },
  {
   "cell_type": "markdown",
   "id": "f0c0c50a-a87f-4255-a368-bd8c843f9190",
   "metadata": {},
   "source": [
    "## nested list"
   ]
  },
  {
   "cell_type": "code",
   "execution_count": 73,
   "id": "299b3a71-448a-4a59-8436-5332fcef9ab7",
   "metadata": {},
   "outputs": [],
   "source": [
    "list1=[1,2,3]\n",
    "list2=[4,5,6]\n",
    "list3=[7,8,9]"
   ]
  },
  {
   "cell_type": "code",
   "execution_count": 74,
   "id": "df4781b5-f91f-47f6-910e-872591467d35",
   "metadata": {},
   "outputs": [],
   "source": [
    "matrix=[list1,list2,list3] # creating matrix"
   ]
  },
  {
   "cell_type": "code",
   "execution_count": 75,
   "id": "900415cc-4954-47db-9726-81a9af642052",
   "metadata": {},
   "outputs": [
    {
     "data": {
      "text/plain": [
       "[[1, 2, 3], [4, 5, 6], [7, 8, 9]]"
      ]
     },
     "execution_count": 75,
     "metadata": {},
     "output_type": "execute_result"
    }
   ],
   "source": [
    "matrix"
   ]
  },
  {
   "cell_type": "code",
   "execution_count": 77,
   "id": "caed3418-191a-4ff5-a997-d0dc55ee4e5b",
   "metadata": {},
   "outputs": [
    {
     "data": {
      "text/plain": [
       "6"
      ]
     },
     "execution_count": 77,
     "metadata": {},
     "output_type": "execute_result"
    }
   ],
   "source": [
    "matrix[1][2]"
   ]
  },
  {
   "cell_type": "code",
   "execution_count": 80,
   "id": "12b1d430-a844-4b12-be82-5d4ad3e4a813",
   "metadata": {},
   "outputs": [
    {
     "data": {
      "text/plain": [
       "[8, 9]"
      ]
     },
     "execution_count": 80,
     "metadata": {},
     "output_type": "execute_result"
    }
   ],
   "source": [
    "matrix[2][1:]"
   ]
  },
  {
   "cell_type": "code",
   "execution_count": 85,
   "id": "e1da2335-0fca-4e15-b0e4-15bc0b9c44d6",
   "metadata": {},
   "outputs": [
    {
     "data": {
      "text/plain": [
       "[0, 1, 2, 3, 4, 5, 6, 7, 8, 9, 10, 11, 12, 13, 14, 15, 16, 17, 18, 19]"
      ]
     },
     "execution_count": 85,
     "metadata": {},
     "output_type": "execute_result"
    }
   ],
   "source": [
    "# list comprehension\n",
    "[i for i in range(20)] #creating a list i with range 0 to 20"
   ]
  },
  {
   "cell_type": "code",
   "execution_count": 93,
   "id": "6c2efa75-10e3-4fb4-926e-9968299b8b12",
   "metadata": {},
   "outputs": [
    {
     "data": {
      "text/plain": [
       "[0, 1, 2, 3, 4, 5, 6, 7, 8, 9, 10, 11, 12, 13, 14, 15, 16, 17, 18, 19]"
      ]
     },
     "execution_count": 93,
     "metadata": {},
     "output_type": "execute_result"
    }
   ],
   "source": [
    "[i for i in range(0,20)] "
   ]
  },
  {
   "cell_type": "code",
   "execution_count": 94,
   "id": "06688cdf-c450-48a5-9855-671a26fda49d",
   "metadata": {},
   "outputs": [
    {
     "data": {
      "text/plain": [
       "[0, '', 2, '', 4, '', 6, '', 8, '', 10, '', 12, '', 14, '', 16, '', 18, '']"
      ]
     },
     "execution_count": 94,
     "metadata": {},
     "output_type": "execute_result"
    }
   ],
   "source": [
    "# get even numbers through list comprehension\n",
    "[i if i%2==0 else \"\" for i in range(20)]"
   ]
  },
  {
   "cell_type": "code",
   "execution_count": 95,
   "id": "a2d2cf1d-246f-458c-afd0-e8747921d973",
   "metadata": {},
   "outputs": [
    {
     "data": {
      "text/plain": [
       "[0,\n",
       " 'odd',\n",
       " 2,\n",
       " 'odd',\n",
       " 4,\n",
       " 'odd',\n",
       " 6,\n",
       " 'odd',\n",
       " 8,\n",
       " 'odd',\n",
       " 10,\n",
       " 'odd',\n",
       " 12,\n",
       " 'odd',\n",
       " 14,\n",
       " 'odd',\n",
       " 16,\n",
       " 'odd',\n",
       " 18,\n",
       " 'odd']"
      ]
     },
     "execution_count": 95,
     "metadata": {},
     "output_type": "execute_result"
    }
   ],
   "source": [
    "[i if i%2==0 else \"odd\" for i in range(20)]"
   ]
  },
  {
   "cell_type": "code",
   "execution_count": 96,
   "id": "1c7386c0-ecfe-4a92-b88a-b102fa6e47a5",
   "metadata": {},
   "outputs": [],
   "source": [
    "#assignment\n",
    "##sum of even numbers and off numbers\n",
    "list=[1,2,3,4,5,6,7,8]"
   ]
  },
  {
   "cell_type": "code",
   "execution_count": 100,
   "id": "bfdc3640-cd20-4b43-85b8-dd3479fb75df",
   "metadata": {},
   "outputs": [
    {
     "name": "stdout",
     "output_type": "stream",
     "text": [
      "20\n",
      "16\n"
     ]
    }
   ],
   "source": [
    "evensum=0\n",
    "oddsum=0\n",
    "for i in list:\n",
    "    if i%2==0:\n",
    "        evensum=evensum+i\n",
    "        \n",
    "    else:\n",
    "        oddsum=oddsum+i\n",
    "print(evensum)\n",
    "print(oddsum)\n",
    "        "
   ]
  },
  {
   "cell_type": "code",
   "execution_count": 102,
   "id": "c1d9ea50-1e69-4e77-bd1e-932a6c12d883",
   "metadata": {},
   "outputs": [
    {
     "data": {
      "text/plain": [
       "[1, 2, 3, 4, 5, 6, 7, 8]"
      ]
     },
     "execution_count": 102,
     "metadata": {},
     "output_type": "execute_result"
    }
   ],
   "source": [
    "##sum of even numbers and off numbers using list comprehension\n",
    "[num for num in list]"
   ]
  },
  {
   "cell_type": "code",
   "execution_count": 103,
   "id": "926eb7c4-0da4-416d-844c-1d3b9bef4295",
   "metadata": {},
   "outputs": [
    {
     "data": {
      "text/plain": [
       "[2, 4, 6, 8]"
      ]
     },
     "execution_count": 103,
     "metadata": {},
     "output_type": "execute_result"
    }
   ],
   "source": [
    "[num for num in list if num%2==0]"
   ]
  },
  {
   "cell_type": "code",
   "execution_count": 108,
   "id": "0ec2f54e-b5d3-49ee-a41b-a85d12d5449b",
   "metadata": {},
   "outputs": [],
   "source": [
    "evensum=sum([num for num in list if num%2==0]) #using sum function"
   ]
  },
  {
   "cell_type": "code",
   "execution_count": 107,
   "id": "698cab56-a14b-4e1d-abf5-6d37b0b75a27",
   "metadata": {},
   "outputs": [
    {
     "data": {
      "text/plain": [
       "20"
      ]
     },
     "execution_count": 107,
     "metadata": {},
     "output_type": "execute_result"
    }
   ],
   "source": [
    "evensum"
   ]
  },
  {
   "cell_type": "code",
   "execution_count": 109,
   "id": "68e3aa32-7f5d-4962-89be-10f091367cb5",
   "metadata": {},
   "outputs": [
    {
     "data": {
      "text/plain": [
       "[1, 3, 5, 7]"
      ]
     },
     "execution_count": 109,
     "metadata": {},
     "output_type": "execute_result"
    }
   ],
   "source": [
    "[num for num in list if num%2!=0]"
   ]
  },
  {
   "cell_type": "code",
   "execution_count": 110,
   "id": "a6f1a68d-e29e-42d4-851a-077ce4839104",
   "metadata": {},
   "outputs": [],
   "source": [
    "oddsum=sum([num for num in list if num%2!=0])"
   ]
  },
  {
   "cell_type": "code",
   "execution_count": 111,
   "id": "dcebca98-b6fb-48d4-bcbe-8640f5252406",
   "metadata": {},
   "outputs": [
    {
     "data": {
      "text/plain": [
       "16"
      ]
     },
     "execution_count": 111,
     "metadata": {},
     "output_type": "execute_result"
    }
   ],
   "source": [
    "oddsum"
   ]
  },
  {
   "cell_type": "code",
   "execution_count": 4,
   "id": "462dbe96-deb4-4f44-9c8e-a0ecfaf008c1",
   "metadata": {},
   "outputs": [],
   "source": [
    "# square of numbers\n",
    "list=[1,2,3,4,5,6,7,8,9,10] "
   ]
  },
  {
   "cell_type": "code",
   "execution_count": 5,
   "id": "12d5d340-23e3-49ec-aa7d-87d1930d9a71",
   "metadata": {},
   "outputs": [
    {
     "data": {
      "text/plain": [
       "[1, 4, 9, 16, 25, 36, 49, 64, 81, 100]"
      ]
     },
     "execution_count": 5,
     "metadata": {},
     "output_type": "execute_result"
    }
   ],
   "source": [
    "[num**2 for num in list]"
   ]
  },
  {
   "cell_type": "code",
   "execution_count": 13,
   "id": "e995f1f2-05f5-489e-a9e3-fe08dd3d6d98",
   "metadata": {},
   "outputs": [
    {
     "data": {
      "text/plain": [
       "[2, 3, 5, 6]"
      ]
     },
     "execution_count": 13,
     "metadata": {},
     "output_type": "execute_result"
    }
   ],
   "source": [
    "# create a list of only positive numbers from list\n",
    "list=[-9,-8,2,3,-4,5,6,0]\n",
    "[num for num in list if num>0]"
   ]
  },
  {
   "cell_type": "code",
   "execution_count": 14,
   "id": "8170de45-86d2-4e47-9692-5c27693dc0c1",
   "metadata": {},
   "outputs": [],
   "source": [
    "# create list of only first letters in the words in the list\n",
    "list=['apple','banana','cherry','date']"
   ]
  },
  {
   "cell_type": "code",
   "execution_count": 19,
   "id": "b1bdae17-9064-48f2-b8e5-67ee806654d4",
   "metadata": {},
   "outputs": [
    {
     "data": {
      "text/plain": [
       "['a', 'b', 'c', 'd']"
      ]
     },
     "execution_count": 19,
     "metadata": {},
     "output_type": "execute_result"
    }
   ],
   "source": [
    "[i[0] for i in list]"
   ]
  },
  {
   "cell_type": "code",
   "execution_count": 20,
   "id": "f3788d7c-4712-443b-ad4f-588a882ae8ce",
   "metadata": {},
   "outputs": [],
   "source": [
    "# convert temperatures from list into fahreneit f=(9/5)*temp+32"
   ]
  },
  {
   "cell_type": "code",
   "execution_count": 21,
   "id": "1790dc76-aebb-4864-9000-a11b5ac27f03",
   "metadata": {},
   "outputs": [],
   "source": [
    "celsius_temp=[0,10,20,30,40,50]"
   ]
  },
  {
   "cell_type": "code",
   "execution_count": 22,
   "id": "3ae4da39-9d07-4712-b953-0b2634d89b39",
   "metadata": {},
   "outputs": [
    {
     "data": {
      "text/plain": [
       "[32.0, 50.0, 68.0, 86.0, 104.0, 122.0]"
      ]
     },
     "execution_count": 22,
     "metadata": {},
     "output_type": "execute_result"
    }
   ],
   "source": [
    "[i*9/5+32 for i in celsius_temp]"
   ]
  },
  {
   "cell_type": "code",
   "execution_count": 23,
   "id": "7cdf82be-6870-42ea-8ee6-227c43f389da",
   "metadata": {},
   "outputs": [],
   "source": [
    "# flatten a list of lists into single list\n",
    "list=[[1,2,3],[4,5,6],[7,8,9]]"
   ]
  },
  {
   "cell_type": "code",
   "execution_count": 24,
   "id": "8382898c-9a5f-4339-a5d4-38246d7a60de",
   "metadata": {},
   "outputs": [],
   "source": [
    "list1=[i for i in list] "
   ]
  },
  {
   "cell_type": "code",
   "execution_count": 25,
   "id": "6ec30064-c91d-419d-a257-b1b95f2e7b1b",
   "metadata": {},
   "outputs": [
    {
     "data": {
      "text/plain": [
       "[[1, 2, 3], [4, 5, 6], [7, 8, 9]]"
      ]
     },
     "execution_count": 25,
     "metadata": {},
     "output_type": "execute_result"
    }
   ],
   "source": [
    "list1"
   ]
  },
  {
   "cell_type": "code",
   "execution_count": 30,
   "id": "4b4311b9-c0a6-4f87-b4f0-5f7e83bd4040",
   "metadata": {},
   "outputs": [
    {
     "data": {
      "text/plain": [
       "[1, 2, 3, 4, 5, 6, 7, 8, 9]"
      ]
     },
     "execution_count": 30,
     "metadata": {},
     "output_type": "execute_result"
    }
   ],
   "source": [
    "[i for num in list for i in num ] # using 2 for loops in list comprehension"
   ]
  },
  {
   "cell_type": "code",
   "execution_count": 65,
   "id": "667a92e6-5d7f-4d7e-9641-a4c7115e3685",
   "metadata": {},
   "outputs": [
    {
     "data": {
      "text/plain": [
       "[1, 5, 7, 11, 13, 19, 23, 29, 31]"
      ]
     },
     "execution_count": 65,
     "metadata": {},
     "output_type": "execute_result"
    }
   ],
   "source": [
    "##assignment1\n",
    "# create list of prime number using both code and list comprehension\n",
    "numbers=[1,2,3,4,5,6,7,8,9,10,11,13,15,19,20,23,29,33,31,39]\n",
    "[i for i in numbers  if i%2!=0 and i%3!=0 ]"
   ]
  },
  {
   "cell_type": "code",
   "execution_count": 66,
   "id": "4cd0ca76-5cbe-425b-aad0-20f2a98b46be",
   "metadata": {},
   "outputs": [
    {
     "name": "stdout",
     "output_type": "stream",
     "text": [
      "1\n",
      "5\n",
      "7\n",
      "11\n",
      "13\n",
      "19\n",
      "23\n",
      "29\n",
      "31\n"
     ]
    }
   ],
   "source": [
    "numbers=[1,2,3,4,5,6,7,8,9,10,11,13,15,19,20,23,29,33,31,39]\n",
    "prime=[2,3,5,7]\n",
    "for i in numbers:\n",
    "    if i%2!=0 and i%3!=0:\n",
    "        print(i)\n",
    " "
   ]
  },
  {
   "cell_type": "code",
   "execution_count": 68,
   "id": "a9a122a8-a3b5-47a4-9249-fc29ee59a572",
   "metadata": {},
   "outputs": [],
   "source": []
  },
  {
   "cell_type": "code",
   "execution_count": null,
   "id": "391e2eec-acd7-4cf3-bcda-3ca9e15b444e",
   "metadata": {},
   "outputs": [],
   "source": []
  }
 ],
 "metadata": {
  "kernelspec": {
   "display_name": "Python 3 (ipykernel)",
   "language": "python",
   "name": "python3"
  },
  "language_info": {
   "codemirror_mode": {
    "name": "ipython",
    "version": 3
   },
   "file_extension": ".py",
   "mimetype": "text/x-python",
   "name": "python",
   "nbconvert_exporter": "python",
   "pygments_lexer": "ipython3",
   "version": "3.10.8"
  }
 },
 "nbformat": 4,
 "nbformat_minor": 5
}
