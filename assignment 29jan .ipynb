{
 "cells": [
  {
   "cell_type": "code",
   "execution_count": 1,
   "id": "0c872de1-1cca-4241-b1e1-31b86495abdd",
   "metadata": {},
   "outputs": [],
   "source": [
    "# guido van rossum developed python language"
   ]
  },
  {
   "cell_type": "code",
   "execution_count": 2,
   "id": "ba6a2b8c-153c-4ec8-873a-4e06a458a990",
   "metadata": {},
   "outputs": [],
   "source": [
    "# python support object oriented programming"
   ]
  },
  {
   "cell_type": "code",
   "execution_count": 3,
   "id": "4b8696f7-984a-4974-ad26-e99fa50c82f1",
   "metadata": {},
   "outputs": [],
   "source": [
    "# yes identifiers in python are case sensitive"
   ]
  },
  {
   "cell_type": "code",
   "execution_count": 4,
   "id": "447910a7-2e22-4bcf-aaae-57f20f8b0417",
   "metadata": {},
   "outputs": [],
   "source": [
    "# .py is the extension of python files"
   ]
  },
  {
   "cell_type": "code",
   "execution_count": 5,
   "id": "f340c336-b1bf-4dc3-8916-c769e714bbe0",
   "metadata": {},
   "outputs": [],
   "source": [
    "#python is an interpreted language in which instructions are not directly executed by the target machine, but instead, read and executed by virtual machine"
   ]
  },
  {
   "cell_type": "code",
   "execution_count": 6,
   "id": "6cc4e5b4-a6da-49de-b68a-548e201505ca",
   "metadata": {},
   "outputs": [],
   "source": [
    "# blocks of code used to define in python language are module,function,class etc"
   ]
  },
  {
   "cell_type": "code",
   "execution_count": 7,
   "id": "3cb0e02b-d13e-450e-acd6-e4246a0ff162",
   "metadata": {},
   "outputs": [],
   "source": [
    "# charcter '#' is used for single line comments"
   ]
  },
  {
   "cell_type": "code",
   "execution_count": 9,
   "id": "202fd047-7d5f-40e4-bb20-3fd03f385369",
   "metadata": {},
   "outputs": [
    {
     "name": "stdout",
     "output_type": "stream",
     "text": [
      "3.10.8 | packaged by conda-forge | (main, Nov 22 2022, 08:26:04) [GCC 10.4.0]\n"
     ]
    }
   ],
   "source": [
    "# to check python version\n",
    "import sys\n",
    "print(sys.version)"
   ]
  },
  {
   "cell_type": "code",
   "execution_count": 10,
   "id": "2bf965e4-31d7-4017-bb49-2defd6471508",
   "metadata": {},
   "outputs": [],
   "source": [
    "# python uses lambda function to create anonymous function"
   ]
  },
  {
   "cell_type": "code",
   "execution_count": 11,
   "id": "d7749014-454f-4d96-a130-969bcca0ddd2",
   "metadata": {},
   "outputs": [],
   "source": [
    "# pip stands for \"pip install packages\" which is package manager of python to download python libraries"
   ]
  },
  {
   "cell_type": "code",
   "execution_count": 12,
   "id": "8671489d-8f23-48eb-9ba1-ce34cd32b7b4",
   "metadata": {},
   "outputs": [],
   "source": [
    "# builtin functions in python print(),range(),map(),reduce(),filter() etc"
   ]
  },
  {
   "cell_type": "code",
   "execution_count": 13,
   "id": "83761b2f-f47b-4d0e-9c3b-eff7d1273b95",
   "metadata": {},
   "outputs": [],
   "source": [
    "# maximum length of identifiers=79characters"
   ]
  },
  {
   "cell_type": "code",
   "execution_count": null,
   "id": "9a947a83-1dc5-4efe-8983-6ff8e5d30fb5",
   "metadata": {},
   "outputs": [],
   "source": [
    "#benefits of python\n",
    "'''Finance and trading\n",
    "Scientific and mathematical computing\n",
    "Web development\n",
    "System automation and administration\n",
    "Computer graphics\n",
    "Basic game development\n",
    "Security and penetration testing\n",
    "General and application-specific scripting\n",
    "Mapping and geography (GIS software)"
   ]
  },
  {
   "cell_type": "code",
   "execution_count": 14,
   "id": "12c911c5-d347-49b3-9ab8-a67b6c35e851",
   "metadata": {},
   "outputs": [],
   "source": [
    "# memory in python is managed by private heap space"
   ]
  },
  {
   "cell_type": "code",
   "execution_count": 16,
   "id": "6082cf06-bda6-4269-bc17-888afb5e5290",
   "metadata": {},
   "outputs": [
    {
     "data": {
      "text/plain": [
       "'The complete path of python.exe can be added by:\\nRight-clicking This PC and going to Properties.\\nClicking on the Advanced system settings in the menu on the left.\\nClicking on the Environment Variables button o\\u200bn the bottom right.\\nIn the System variables section, selecting the Path variable and clicking on Edit. \\nThe next screen will show all the directories that are currently a part of the PATH variable.\\nClicking on New and entering Python’s install directory.\\nPython can now be used directly from the command prompt without having to write its location.'"
      ]
     },
     "execution_count": 16,
     "metadata": {},
     "output_type": "execute_result"
    }
   ],
   "source": [
    "#install python on windows and set path variable\n",
    "'''The complete path of python.exe can be added by:\n",
    "Right-clicking This PC and going to Properties.\n",
    "Clicking on the Advanced system settings in the menu on the left.\n",
    "Clicking on the Environment Variables button o​n the bottom right.\n",
    "In the System variables section, selecting the Path variable and clicking on Edit. \n",
    "The next screen will show all the directories that are currently a part of the PATH variable.\n",
    "Clicking on New and entering Python’s install directory.\n",
    "Python can now be used directly from the command prompt without having to write its location.'''"
   ]
  },
  {
   "cell_type": "code",
   "execution_count": null,
   "id": "2ae584de-38f0-4174-b6e6-da834fd7b561",
   "metadata": {},
   "outputs": [],
   "source": [
    "# yes indentation is required in python"
   ]
  }
 ],
 "metadata": {
  "kernelspec": {
   "display_name": "Python 3 (ipykernel)",
   "language": "python",
   "name": "python3"
  },
  "language_info": {
   "codemirror_mode": {
    "name": "ipython",
    "version": 3
   },
   "file_extension": ".py",
   "mimetype": "text/x-python",
   "name": "python",
   "nbconvert_exporter": "python",
   "pygments_lexer": "ipython3",
   "version": "3.10.8"
  }
 },
 "nbformat": 4,
 "nbformat_minor": 5
}
