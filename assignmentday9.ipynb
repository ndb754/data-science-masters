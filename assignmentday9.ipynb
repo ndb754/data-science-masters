{
 "cells": [
  {
   "cell_type": "code",
   "execution_count": 1,
   "id": "970d5592-a115-47d2-b962-9480a1f2fc68",
   "metadata": {},
   "outputs": [],
   "source": [
    "#Q1. Create a function which will take a list as an argument and return the product of all the numbers\n",
    "#after creating a flat list.\n",
    "#Use the below-given list as an argument for your function.\n",
    "list1 = [1,2,3,4, [44,55,66, True], False, (34,56,78,89,34), {1,2,3,3,2,1}, {1:34, \"key2\": [55, 67, 78, 89], 4: (45,\n",
    "22, 61, 34)}, [56, 'data science'], 'Machine Learning']"
   ]
  },
  {
   "cell_type": "code",
   "execution_count": 62,
   "id": "de3d49f0-4fd4-4c08-aee5-40175f66303e",
   "metadata": {},
   "outputs": [],
   "source": [
    "def funct(l):\n",
    "    l1=[]\n",
    "    for i in l:\n",
    "        if type(i)==int:\n",
    "            l1.append(i)\n",
    "        elif type(i)==list:\n",
    "            for j in i:\n",
    "                if type(j)==int:\n",
    "                    l1.append(j)\n",
    "        elif type(i)==tuple:\n",
    "            for j in i:\n",
    "                if type(j)==int:\n",
    "                    l1.append(j)\n",
    "        elif type(i)==set:\n",
    "            for j in i:\n",
    "                if type(j)==int:\n",
    "                    l1.append(j)\n",
    "        elif type(i)==dict:\n",
    "            for j in i.keys():\n",
    "                if type(j)==int:\n",
    "                    l1.append(j)\n",
    "            for j in i.values():\n",
    "                if type(j)==int:\n",
    "                    l1.append(j)\n",
    "    return l1\n",
    "            "
   ]
  },
  {
   "cell_type": "code",
   "execution_count": 66,
   "id": "68bff3fa-d525-416a-aa0c-7ce8036f64e8",
   "metadata": {},
   "outputs": [],
   "source": [
    "l1=funct(list1)"
   ]
  },
  {
   "cell_type": "code",
   "execution_count": 67,
   "id": "7ed31ecf-15a0-4a25-b611-cf36ff4a1c16",
   "metadata": {},
   "outputs": [
    {
     "data": {
      "text/plain": [
       "[1, 2, 3, 4, 44, 55, 66, 34, 56, 78, 89, 34, 1, 2, 3, 1, 4, 34, 56]"
      ]
     },
     "execution_count": 67,
     "metadata": {},
     "output_type": "execute_result"
    }
   ],
   "source": [
    "l1"
   ]
  },
  {
   "cell_type": "code",
   "execution_count": 68,
   "id": "fc7b7b12-71ad-4d16-bfb3-5a3cdaf281c6",
   "metadata": {},
   "outputs": [
    {
     "data": {
      "text/plain": [
       "78718933113238978560"
      ]
     },
     "execution_count": 68,
     "metadata": {},
     "output_type": "execute_result"
    }
   ],
   "source": [
    "from functools import reduce\n",
    "reduce(lambda x,y:x*y,l1)"
   ]
  },
  {
   "cell_type": "code",
   "execution_count": 69,
   "id": "cf8ddb49-2eca-4a01-b9b5-dc600ebcfdd6",
   "metadata": {},
   "outputs": [],
   "source": [
    "#Q2. Write a python program for encrypting a message sent to you by your friend. The logic of encryption\n",
    "#should be such that, for a the output should be z. For b, the output should be y. For c, the output should\n",
    "#be x respectively. Also, the whitespace should be replaced with a dollar sign. Keep the punctuation\n",
    "#marks unchanged.\n",
    "#Input Sentence: I want to become a Data Scientist.\n",
    "#Encrypt the above input sentence using the program you just created.\n",
    "#Note: Convert the given input sentence into lowercase before encrypting. The final output should be\n",
    "#lowercase."
   ]
  },
  {
   "cell_type": "code",
   "execution_count": 44,
   "id": "6cbd06a5-c0a3-40ad-ab0d-19ff19198a0c",
   "metadata": {},
   "outputs": [],
   "source": [
    "def function1(s):\n",
    "    x='abcdefghijklmnopqrstuvwxyz ABCDEFGHIJKLMNOPQRSTUVWXYZ'\n",
    "    y='zyxwvutsrqponmlkjihgfedcba$ZYXWVUTSRQPONMLKJIHGFEDCBA'\n",
    "    table=str.maketrans(x,y)\n",
    "    print('target message:',s)\n",
    "    print('encrypted message:',s.translate(table).lower())\n",
    "\n",
    "    "
   ]
  },
  {
   "cell_type": "code",
   "execution_count": 45,
   "id": "7f561692-9ea0-46ea-99e3-2ed3aaaa8ff9",
   "metadata": {},
   "outputs": [
    {
     "name": "stdout",
     "output_type": "stream",
     "text": [
      "{97: 122, 98: 121, 99: 120, 100: 119, 101: 118, 102: 117, 103: 116, 104: 115, 105: 114, 106: 113, 107: 112, 108: 111, 109: 110, 110: 109, 111: 108, 112: 107, 113: 106, 114: 105, 115: 104, 116: 103, 117: 102, 118: 101, 119: 100, 120: 99, 121: 98, 122: 97, 32: 36, 65: 90, 66: 89, 67: 88, 68: 87, 69: 86, 70: 85, 71: 84, 72: 83, 73: 82, 74: 81, 75: 80, 76: 79, 77: 78, 78: 77, 79: 76, 80: 75, 81: 74, 82: 73, 83: 72, 84: 71, 85: 70, 86: 69, 87: 68, 88: 67, 89: 66, 90: 65}\n",
      "target message: I want to become a Data Scientist\n",
      "encrypted message: r$dzmg$gl$yvxlnv$z$wzgz$hxrvmgrhg\n"
     ]
    }
   ],
   "source": [
    "a=function1('I want to become a Data Scientist')"
   ]
  },
  {
   "cell_type": "code",
   "execution_count": null,
   "id": "7bda034a-e7dd-4322-a62f-fe71295c31e0",
   "metadata": {},
   "outputs": [],
   "source": []
  }
 ],
 "metadata": {
  "kernelspec": {
   "display_name": "Python 3 (ipykernel)",
   "language": "python",
   "name": "python3"
  },
  "language_info": {
   "codemirror_mode": {
    "name": "ipython",
    "version": 3
   },
   "file_extension": ".py",
   "mimetype": "text/x-python",
   "name": "python",
   "nbconvert_exporter": "python",
   "pygments_lexer": "ipython3",
   "version": "3.10.8"
  }
 },
 "nbformat": 4,
 "nbformat_minor": 5
}
